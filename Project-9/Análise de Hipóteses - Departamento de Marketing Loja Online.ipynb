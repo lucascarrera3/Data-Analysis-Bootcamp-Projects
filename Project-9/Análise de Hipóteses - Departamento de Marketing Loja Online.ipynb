{
 "cells": [
  {
   "cell_type": "markdown",
   "metadata": {},
   "source": [
    "# Análise de Hipóteses - Departamento de Marketing Loja Online"
   ]
  },
  {
   "cell_type": "markdown",
   "metadata": {},
   "source": [
    "# Conteúdo <a id='back'></a>\n",
    "\n",
    "* [1) Objetivo do Projeto](#projectgoal)\n",
    "* [2) Preparação de Dados](#data_preprocessing)\n",
    "* [3) Parte 1 - Priorizando Hipóteses](#hypoteses)\n",
    "* [4) Parte 2 - Análise de teste A/B](#testA/B)\n",
    "* [5) Conclusão Geral](#end)"
   ]
  },
  {
   "cell_type": "markdown",
   "metadata": {},
   "source": [
    " # Objetivo do projeto\n",
    "\n",
    "Junto ao departamento de marketing, o objetivo desse projeto é compilar uma lista de hipóteses que podem ajudar a aumentar a receita da loja online, priorizando as hipóteses, e lançando um teste A/B com análise dos resultados."
   ]
  },
  {
   "cell_type": "markdown",
   "metadata": {},
   "source": [
    "# Preparação de dados"
   ]
  },
  {
   "cell_type": "code",
   "execution_count": 98,
   "metadata": {},
   "outputs": [],
   "source": [
    "import pandas as pd \n",
    "import numpy as np\n",
    "import seaborn as sns\n",
    "from matplotlib import pyplot as plt\n",
    "from math import factorial\n",
    "import datetime as dt\n",
    "from scipy import stats # Carregando todas as bibliotecas"
   ]
  },
  {
   "cell_type": "code",
   "execution_count": 99,
   "metadata": {},
   "outputs": [],
   "source": [
    "hypotheses_df = pd.read_csv('/datasets/hypotheses_us.csv', sep = ';') # Carregando o arquivo de dados em DataFrame e corrigindo o tipo de dados\n",
    "orders_df = pd.read_csv('/datasets/orders_us.csv', sep = ',')\n",
    "visits_df = pd.read_csv('/datasets/visits_us.csv', sep = ',')"
   ]
  },
  {
   "cell_type": "code",
   "execution_count": 100,
   "metadata": {},
   "outputs": [
    {
     "name": "stdout",
     "output_type": "stream",
     "text": [
      "<class 'pandas.core.frame.DataFrame'>\n",
      "RangeIndex: 9 entries, 0 to 8\n",
      "Data columns (total 5 columns):\n",
      " #   Column      Non-Null Count  Dtype \n",
      "---  ------      --------------  ----- \n",
      " 0   Hypothesis  9 non-null      object\n",
      " 1   Reach       9 non-null      int64 \n",
      " 2   Impact      9 non-null      int64 \n",
      " 3   Confidence  9 non-null      int64 \n",
      " 4   Effort      9 non-null      int64 \n",
      "dtypes: int64(4), object(1)\n",
      "memory usage: 488.0+ bytes\n"
     ]
    }
   ],
   "source": [
    "hypotheses_df.info()"
   ]
  },
  {
   "cell_type": "code",
   "execution_count": 101,
   "metadata": {},
   "outputs": [],
   "source": [
    "hypotheses_df.columns = [col.lower() for col in hypotheses_df.columns] # Renomeando as colunas para letras minúsculas"
   ]
  },
  {
   "cell_type": "code",
   "execution_count": 102,
   "metadata": {},
   "outputs": [
    {
     "data": {
      "text/html": [
       "<div>\n",
       "<style scoped>\n",
       "    .dataframe tbody tr th:only-of-type {\n",
       "        vertical-align: middle;\n",
       "    }\n",
       "\n",
       "    .dataframe tbody tr th {\n",
       "        vertical-align: top;\n",
       "    }\n",
       "\n",
       "    .dataframe thead th {\n",
       "        text-align: right;\n",
       "    }\n",
       "</style>\n",
       "<table border=\"1\" class=\"dataframe\">\n",
       "  <thead>\n",
       "    <tr style=\"text-align: right;\">\n",
       "      <th></th>\n",
       "      <th>hypothesis</th>\n",
       "      <th>reach</th>\n",
       "      <th>impact</th>\n",
       "      <th>confidence</th>\n",
       "      <th>effort</th>\n",
       "    </tr>\n",
       "  </thead>\n",
       "  <tbody>\n",
       "    <tr>\n",
       "      <th>0</th>\n",
       "      <td>Add two new channels for attracting traffic. T...</td>\n",
       "      <td>3</td>\n",
       "      <td>10</td>\n",
       "      <td>8</td>\n",
       "      <td>6</td>\n",
       "    </tr>\n",
       "    <tr>\n",
       "      <th>1</th>\n",
       "      <td>Launch your own delivery service. This will sh...</td>\n",
       "      <td>2</td>\n",
       "      <td>5</td>\n",
       "      <td>4</td>\n",
       "      <td>10</td>\n",
       "    </tr>\n",
       "    <tr>\n",
       "      <th>2</th>\n",
       "      <td>Add product recommendation blocks to the store...</td>\n",
       "      <td>8</td>\n",
       "      <td>3</td>\n",
       "      <td>7</td>\n",
       "      <td>3</td>\n",
       "    </tr>\n",
       "    <tr>\n",
       "      <th>3</th>\n",
       "      <td>Change the category structure. This will incre...</td>\n",
       "      <td>8</td>\n",
       "      <td>3</td>\n",
       "      <td>3</td>\n",
       "      <td>8</td>\n",
       "    </tr>\n",
       "    <tr>\n",
       "      <th>4</th>\n",
       "      <td>Change the background color on the main page. ...</td>\n",
       "      <td>3</td>\n",
       "      <td>1</td>\n",
       "      <td>1</td>\n",
       "      <td>1</td>\n",
       "    </tr>\n",
       "    <tr>\n",
       "      <th>5</th>\n",
       "      <td>Add a customer review page. This will increase...</td>\n",
       "      <td>3</td>\n",
       "      <td>2</td>\n",
       "      <td>2</td>\n",
       "      <td>3</td>\n",
       "    </tr>\n",
       "    <tr>\n",
       "      <th>6</th>\n",
       "      <td>Show banners with current offers and sales on ...</td>\n",
       "      <td>5</td>\n",
       "      <td>3</td>\n",
       "      <td>8</td>\n",
       "      <td>3</td>\n",
       "    </tr>\n",
       "    <tr>\n",
       "      <th>7</th>\n",
       "      <td>Add a subscription form to all the main pages....</td>\n",
       "      <td>10</td>\n",
       "      <td>7</td>\n",
       "      <td>8</td>\n",
       "      <td>5</td>\n",
       "    </tr>\n",
       "    <tr>\n",
       "      <th>8</th>\n",
       "      <td>Launch a promotion that gives users discounts ...</td>\n",
       "      <td>1</td>\n",
       "      <td>9</td>\n",
       "      <td>9</td>\n",
       "      <td>5</td>\n",
       "    </tr>\n",
       "  </tbody>\n",
       "</table>\n",
       "</div>"
      ],
      "text/plain": [
       "                                          hypothesis  reach  impact  \\\n",
       "0  Add two new channels for attracting traffic. T...      3      10   \n",
       "1  Launch your own delivery service. This will sh...      2       5   \n",
       "2  Add product recommendation blocks to the store...      8       3   \n",
       "3  Change the category structure. This will incre...      8       3   \n",
       "4  Change the background color on the main page. ...      3       1   \n",
       "5  Add a customer review page. This will increase...      3       2   \n",
       "6  Show banners with current offers and sales on ...      5       3   \n",
       "7  Add a subscription form to all the main pages....     10       7   \n",
       "8  Launch a promotion that gives users discounts ...      1       9   \n",
       "\n",
       "   confidence  effort  \n",
       "0           8       6  \n",
       "1           4      10  \n",
       "2           7       3  \n",
       "3           3       8  \n",
       "4           1       1  \n",
       "5           2       3  \n",
       "6           8       3  \n",
       "7           8       5  \n",
       "8           9       5  "
      ]
     },
     "execution_count": 102,
     "metadata": {},
     "output_type": "execute_result"
    }
   ],
   "source": [
    "hypotheses_df.head(10)"
   ]
  },
  {
   "cell_type": "code",
   "execution_count": 103,
   "metadata": {},
   "outputs": [
    {
     "name": "stdout",
     "output_type": "stream",
     "text": [
      "<class 'pandas.core.frame.DataFrame'>\n",
      "RangeIndex: 1197 entries, 0 to 1196\n",
      "Data columns (total 5 columns):\n",
      " #   Column         Non-Null Count  Dtype  \n",
      "---  ------         --------------  -----  \n",
      " 0   transactionId  1197 non-null   int64  \n",
      " 1   visitorId      1197 non-null   int64  \n",
      " 2   date           1197 non-null   object \n",
      " 3   revenue        1197 non-null   float64\n",
      " 4   group          1197 non-null   object \n",
      "dtypes: float64(1), int64(2), object(2)\n",
      "memory usage: 46.9+ KB\n"
     ]
    }
   ],
   "source": [
    "orders_df.info()"
   ]
  },
  {
   "cell_type": "code",
   "execution_count": 104,
   "metadata": {},
   "outputs": [
    {
     "name": "stdout",
     "output_type": "stream",
     "text": [
      "Index(['transaction_id', 'visitor_id', 'date', 'revenue', 'group'], dtype='object')\n"
     ]
    }
   ],
   "source": [
    "# Declarando um dicionário com os nomes antigos das colunas como as chaves\n",
    "# e os novos nomes de colunas como os valores\n",
    "columns_new ={\n",
    "    \"transactionId\": \"transaction_id\",\n",
    "    \"visitorId\": \"visitor_id\",\n",
    "    }\n",
    "\n",
    "# Chamando o método rename e passando\n",
    "# o dicionário como um argumento para o parâmetro columns\n",
    "orders_df = orders_df.rename(columns = columns_new)\n",
    "print(orders_df.columns)"
   ]
  },
  {
   "cell_type": "code",
   "execution_count": 105,
   "metadata": {},
   "outputs": [
    {
     "data": {
      "text/html": [
       "<div>\n",
       "<style scoped>\n",
       "    .dataframe tbody tr th:only-of-type {\n",
       "        vertical-align: middle;\n",
       "    }\n",
       "\n",
       "    .dataframe tbody tr th {\n",
       "        vertical-align: top;\n",
       "    }\n",
       "\n",
       "    .dataframe thead th {\n",
       "        text-align: right;\n",
       "    }\n",
       "</style>\n",
       "<table border=\"1\" class=\"dataframe\">\n",
       "  <thead>\n",
       "    <tr style=\"text-align: right;\">\n",
       "      <th></th>\n",
       "      <th>transaction_id</th>\n",
       "      <th>visitor_id</th>\n",
       "      <th>date</th>\n",
       "      <th>revenue</th>\n",
       "      <th>group</th>\n",
       "    </tr>\n",
       "  </thead>\n",
       "  <tbody>\n",
       "    <tr>\n",
       "      <th>0</th>\n",
       "      <td>3667963787</td>\n",
       "      <td>3312258926</td>\n",
       "      <td>2019-08-15</td>\n",
       "      <td>30.4</td>\n",
       "      <td>B</td>\n",
       "    </tr>\n",
       "    <tr>\n",
       "      <th>1</th>\n",
       "      <td>2804400009</td>\n",
       "      <td>3642806036</td>\n",
       "      <td>2019-08-15</td>\n",
       "      <td>15.2</td>\n",
       "      <td>B</td>\n",
       "    </tr>\n",
       "    <tr>\n",
       "      <th>2</th>\n",
       "      <td>2961555356</td>\n",
       "      <td>4069496402</td>\n",
       "      <td>2019-08-15</td>\n",
       "      <td>10.2</td>\n",
       "      <td>A</td>\n",
       "    </tr>\n",
       "    <tr>\n",
       "      <th>3</th>\n",
       "      <td>3797467345</td>\n",
       "      <td>1196621759</td>\n",
       "      <td>2019-08-15</td>\n",
       "      <td>155.1</td>\n",
       "      <td>B</td>\n",
       "    </tr>\n",
       "    <tr>\n",
       "      <th>4</th>\n",
       "      <td>2282983706</td>\n",
       "      <td>2322279887</td>\n",
       "      <td>2019-08-15</td>\n",
       "      <td>40.5</td>\n",
       "      <td>B</td>\n",
       "    </tr>\n",
       "    <tr>\n",
       "      <th>5</th>\n",
       "      <td>182168103</td>\n",
       "      <td>935554773</td>\n",
       "      <td>2019-08-15</td>\n",
       "      <td>35.0</td>\n",
       "      <td>B</td>\n",
       "    </tr>\n",
       "    <tr>\n",
       "      <th>6</th>\n",
       "      <td>398296753</td>\n",
       "      <td>2900797465</td>\n",
       "      <td>2019-08-15</td>\n",
       "      <td>30.6</td>\n",
       "      <td>B</td>\n",
       "    </tr>\n",
       "    <tr>\n",
       "      <th>7</th>\n",
       "      <td>2626614568</td>\n",
       "      <td>78758296</td>\n",
       "      <td>2019-08-15</td>\n",
       "      <td>20.1</td>\n",
       "      <td>A</td>\n",
       "    </tr>\n",
       "    <tr>\n",
       "      <th>8</th>\n",
       "      <td>1576988021</td>\n",
       "      <td>295230930</td>\n",
       "      <td>2019-08-15</td>\n",
       "      <td>215.9</td>\n",
       "      <td>A</td>\n",
       "    </tr>\n",
       "    <tr>\n",
       "      <th>9</th>\n",
       "      <td>1506739906</td>\n",
       "      <td>1882260405</td>\n",
       "      <td>2019-08-15</td>\n",
       "      <td>30.5</td>\n",
       "      <td>B</td>\n",
       "    </tr>\n",
       "  </tbody>\n",
       "</table>\n",
       "</div>"
      ],
      "text/plain": [
       "   transaction_id  visitor_id        date  revenue group\n",
       "0      3667963787  3312258926  2019-08-15     30.4     B\n",
       "1      2804400009  3642806036  2019-08-15     15.2     B\n",
       "2      2961555356  4069496402  2019-08-15     10.2     A\n",
       "3      3797467345  1196621759  2019-08-15    155.1     B\n",
       "4      2282983706  2322279887  2019-08-15     40.5     B\n",
       "5       182168103   935554773  2019-08-15     35.0     B\n",
       "6       398296753  2900797465  2019-08-15     30.6     B\n",
       "7      2626614568    78758296  2019-08-15     20.1     A\n",
       "8      1576988021   295230930  2019-08-15    215.9     A\n",
       "9      1506739906  1882260405  2019-08-15     30.5     B"
      ]
     },
     "execution_count": 105,
     "metadata": {},
     "output_type": "execute_result"
    }
   ],
   "source": [
    "orders_df.head(10)"
   ]
  },
  {
   "cell_type": "code",
   "execution_count": 106,
   "metadata": {},
   "outputs": [
    {
     "name": "stdout",
     "output_type": "stream",
     "text": [
      "<class 'pandas.core.frame.DataFrame'>\n",
      "RangeIndex: 62 entries, 0 to 61\n",
      "Data columns (total 3 columns):\n",
      " #   Column  Non-Null Count  Dtype \n",
      "---  ------  --------------  ----- \n",
      " 0   date    62 non-null     object\n",
      " 1   group   62 non-null     object\n",
      " 2   visits  62 non-null     int64 \n",
      "dtypes: int64(1), object(2)\n",
      "memory usage: 1.6+ KB\n"
     ]
    }
   ],
   "source": [
    "visits_df.info()"
   ]
  },
  {
   "cell_type": "code",
   "execution_count": 107,
   "metadata": {},
   "outputs": [
    {
     "data": {
      "text/html": [
       "<div>\n",
       "<style scoped>\n",
       "    .dataframe tbody tr th:only-of-type {\n",
       "        vertical-align: middle;\n",
       "    }\n",
       "\n",
       "    .dataframe tbody tr th {\n",
       "        vertical-align: top;\n",
       "    }\n",
       "\n",
       "    .dataframe thead th {\n",
       "        text-align: right;\n",
       "    }\n",
       "</style>\n",
       "<table border=\"1\" class=\"dataframe\">\n",
       "  <thead>\n",
       "    <tr style=\"text-align: right;\">\n",
       "      <th></th>\n",
       "      <th>date</th>\n",
       "      <th>group</th>\n",
       "      <th>visits</th>\n",
       "    </tr>\n",
       "  </thead>\n",
       "  <tbody>\n",
       "    <tr>\n",
       "      <th>0</th>\n",
       "      <td>2019-08-01</td>\n",
       "      <td>A</td>\n",
       "      <td>719</td>\n",
       "    </tr>\n",
       "    <tr>\n",
       "      <th>1</th>\n",
       "      <td>2019-08-02</td>\n",
       "      <td>A</td>\n",
       "      <td>619</td>\n",
       "    </tr>\n",
       "    <tr>\n",
       "      <th>2</th>\n",
       "      <td>2019-08-03</td>\n",
       "      <td>A</td>\n",
       "      <td>507</td>\n",
       "    </tr>\n",
       "    <tr>\n",
       "      <th>3</th>\n",
       "      <td>2019-08-04</td>\n",
       "      <td>A</td>\n",
       "      <td>717</td>\n",
       "    </tr>\n",
       "    <tr>\n",
       "      <th>4</th>\n",
       "      <td>2019-08-05</td>\n",
       "      <td>A</td>\n",
       "      <td>756</td>\n",
       "    </tr>\n",
       "    <tr>\n",
       "      <th>5</th>\n",
       "      <td>2019-08-06</td>\n",
       "      <td>A</td>\n",
       "      <td>667</td>\n",
       "    </tr>\n",
       "    <tr>\n",
       "      <th>6</th>\n",
       "      <td>2019-08-07</td>\n",
       "      <td>A</td>\n",
       "      <td>644</td>\n",
       "    </tr>\n",
       "    <tr>\n",
       "      <th>7</th>\n",
       "      <td>2019-08-08</td>\n",
       "      <td>A</td>\n",
       "      <td>610</td>\n",
       "    </tr>\n",
       "    <tr>\n",
       "      <th>8</th>\n",
       "      <td>2019-08-09</td>\n",
       "      <td>A</td>\n",
       "      <td>617</td>\n",
       "    </tr>\n",
       "    <tr>\n",
       "      <th>9</th>\n",
       "      <td>2019-08-10</td>\n",
       "      <td>A</td>\n",
       "      <td>406</td>\n",
       "    </tr>\n",
       "  </tbody>\n",
       "</table>\n",
       "</div>"
      ],
      "text/plain": [
       "         date group  visits\n",
       "0  2019-08-01     A     719\n",
       "1  2019-08-02     A     619\n",
       "2  2019-08-03     A     507\n",
       "3  2019-08-04     A     717\n",
       "4  2019-08-05     A     756\n",
       "5  2019-08-06     A     667\n",
       "6  2019-08-07     A     644\n",
       "7  2019-08-08     A     610\n",
       "8  2019-08-09     A     617\n",
       "9  2019-08-10     A     406"
      ]
     },
     "execution_count": 107,
     "metadata": {},
     "output_type": "execute_result"
    }
   ],
   "source": [
    "visits_df.head(10)"
   ]
  },
  {
   "cell_type": "code",
   "execution_count": 108,
   "metadata": {},
   "outputs": [
    {
     "name": "stdout",
     "output_type": "stream",
     "text": [
      "hypothesis    0\n",
      "reach         0\n",
      "impact        0\n",
      "confidence    0\n",
      "effort        0\n",
      "dtype: int64\n",
      "\n",
      "transaction_id    0\n",
      "visitor_id        0\n",
      "date              0\n",
      "revenue           0\n",
      "group             0\n",
      "dtype: int64\n",
      "\n",
      "date      0\n",
      "group     0\n",
      "visits    0\n",
      "dtype: int64\n"
     ]
    }
   ],
   "source": [
    "print(hypotheses_df.isna().sum()) #calculando o número de valores ausentes de visits_df\n",
    "print()\n",
    "print(orders_df.isna().sum()) #calculando o número de valores ausentes de orders_df\n",
    "print()\n",
    "print(visits_df.isna().sum()) #calculando o número de valores ausentes de costs_df"
   ]
  },
  {
   "cell_type": "code",
   "execution_count": 109,
   "metadata": {},
   "outputs": [
    {
     "name": "stdout",
     "output_type": "stream",
     "text": [
      "0\n",
      "\n",
      "0\n",
      "\n",
      "0\n"
     ]
    }
   ],
   "source": [
    "print(hypotheses_df.duplicated().sum()) #Contando duplicados explícitos de visits_df\n",
    "print()\n",
    "print(orders_df.duplicated().sum()) #Contando duplicados explícitos de orders_df\n",
    "print()\n",
    "print(visits_df.duplicated().sum()) #Contando duplicados explícitos de costs_df"
   ]
  },
  {
   "cell_type": "markdown",
   "metadata": {},
   "source": [
    "Não foram encontrados dados duplicados ou ausentes em nenhum dos 3 DF's, e os tipos dados foram convertidos de acordo com a necessidade. E conforme as boas práticas de estilo, transformamos os nomes das colunas em letras minúsculas para evitar erros do Data Frame \"hypotheses\" \"orders\" e \"visits\", e separando com \"_\" nos nomes das colunas dos mesmos."
   ]
  },
  {
   "cell_type": "markdown",
   "metadata": {},
   "source": [
    "# Parte 1 - Priorizando Hipóteses"
   ]
  },
  {
   "cell_type": "markdown",
   "metadata": {},
   "source": [
    "Vamos começar com a criação de uma lista de hipóteses para aumentar a receita da loja online. Para priorizar as hipóteses, podemos usar um método como o ICE Score, que avalia cada hipótese com base em Impacto (Impact), Confiança (Confidence) e Facilidade (Ease). Cada fator é avaliado em uma escala de 1 a 10."
   ]
  },
  {
   "cell_type": "code",
   "execution_count": 110,
   "metadata": {},
   "outputs": [
    {
     "name": "stdout",
     "output_type": "stream",
     "text": [
      "                                          hypothesis  reach  impact  \\\n",
      "0  Add two new channels for attracting traffic. T...      3      10   \n",
      "1  Launch your own delivery service. This will sh...      2       5   \n",
      "2  Add product recommendation blocks to the store...      8       3   \n",
      "3  Change the category structure. This will incre...      8       3   \n",
      "4  Change the background color on the main page. ...      3       1   \n",
      "5  Add a customer review page. This will increase...      3       2   \n",
      "6  Show banners with current offers and sales on ...      5       3   \n",
      "7  Add a subscription form to all the main pages....     10       7   \n",
      "8  Launch a promotion that gives users discounts ...      1       9   \n",
      "\n",
      "   confidence  effort  \n",
      "0           8       6  \n",
      "1           4      10  \n",
      "2           7       3  \n",
      "3           3       8  \n",
      "4           1       1  \n",
      "5           2       3  \n",
      "6           8       3  \n",
      "7           8       5  \n",
      "8           9       5  \n",
      "                                          hypothesis        ICE\n",
      "8  Launch a promotion that gives users discounts ...  16.200000\n",
      "0  Add two new channels for attracting traffic. T...  13.333333\n",
      "7  Add a subscription form to all the main pages....  11.200000\n",
      "6  Show banners with current offers and sales on ...   8.000000\n",
      "2  Add product recommendation blocks to the store...   7.000000\n",
      "1  Launch your own delivery service. This will sh...   2.000000\n",
      "5  Add a customer review page. This will increase...   1.333333\n",
      "3  Change the category structure. This will incre...   1.125000\n",
      "4  Change the background color on the main page. ...   1.000000\n"
     ]
    }
   ],
   "source": [
    "print(hypotheses_df)\n",
    "\n",
    "hypotheses_df['ICE'] = (hypotheses_df['impact']*hypotheses_df['confidence'])/ hypotheses_df['effort']\n",
    "\n",
    "print(hypotheses_df[['hypothesis', 'ICE']].sort_values(by='ICE', ascending=False))"
   ]
  },
  {
   "cell_type": "markdown",
   "metadata": {},
   "source": [
    "O método ICE dá 8, 0, 7 e 6 como as hipóteses mais promissoras. A hipótese 8 tem a maior pontuação ICE, como \"Launch a promotion that gives users discounts\" e a hipótese 0 , como \"Add two new channels for attracting traffic\", são aquelas que combinam alto impacto e confiança, apesar de exigirem esforço moderado. Vamos verificar uma versão modificada, RICE:"
   ]
  },
  {
   "cell_type": "code",
   "execution_count": 111,
   "metadata": {},
   "outputs": [
    {
     "name": "stdout",
     "output_type": "stream",
     "text": [
      "                                          hypothesis  reach  impact  \\\n",
      "0  Add two new channels for attracting traffic. T...      3      10   \n",
      "1  Launch your own delivery service. This will sh...      2       5   \n",
      "2  Add product recommendation blocks to the store...      8       3   \n",
      "3  Change the category structure. This will incre...      8       3   \n",
      "4  Change the background color on the main page. ...      3       1   \n",
      "5  Add a customer review page. This will increase...      3       2   \n",
      "6  Show banners with current offers and sales on ...      5       3   \n",
      "7  Add a subscription form to all the main pages....     10       7   \n",
      "8  Launch a promotion that gives users discounts ...      1       9   \n",
      "\n",
      "   confidence  effort        ICE  \n",
      "0           8       6  13.333333  \n",
      "1           4      10   2.000000  \n",
      "2           7       3   7.000000  \n",
      "3           3       8   1.125000  \n",
      "4           1       1   1.000000  \n",
      "5           2       3   1.333333  \n",
      "6           8       3   8.000000  \n",
      "7           8       5  11.200000  \n",
      "8           9       5  16.200000  \n",
      "                                          hypothesis   RICE\n",
      "7  Add a subscription form to all the main pages....  112.0\n",
      "2  Add product recommendation blocks to the store...   56.0\n",
      "0  Add two new channels for attracting traffic. T...   40.0\n",
      "6  Show banners with current offers and sales on ...   40.0\n",
      "8  Launch a promotion that gives users discounts ...   16.2\n",
      "3  Change the category structure. This will incre...    9.0\n",
      "1  Launch your own delivery service. This will sh...    4.0\n",
      "5  Add a customer review page. This will increase...    4.0\n",
      "4  Change the background color on the main page. ...    3.0\n"
     ]
    }
   ],
   "source": [
    "print(hypotheses_df)\n",
    "\n",
    "hypotheses_df['RICE'] = (hypotheses_df['reach']*hypotheses_df['impact']*hypotheses_df['confidence'])/ hypotheses_df['effort']\n",
    "\n",
    "print(hypotheses_df[['hypothesis', 'RICE']].sort_values(by='RICE', ascending=False))"
   ]
  },
  {
   "cell_type": "markdown",
   "metadata": {},
   "source": [
    "Aqui, as hipóteses mais promissoras são 7, 2, 0 e 6. No entanto, desta vez, o número 7 ficou em primeiro lugar. As hipóteses com maior pontuação RICE, 7 e 2, são aquelas que combinam alto alcance, impacto e confiança, com esforço relativamente baixo. Já a hipótese 4 têm baixa prioridade devido ao baixo impacto e confiança, mesmo com baixo esforço."
   ]
  },
  {
   "cell_type": "markdown",
   "metadata": {},
   "source": [
    "Para entender como a priorização de hipóteses muda ao usar o método RICE em vez do método ICE, primeiro, vamos comparar as duas listas acima das hipóteses ordenadas pela pontuação de cada método."
   ]
  },
  {
   "cell_type": "code",
   "execution_count": 112,
   "metadata": {},
   "outputs": [
    {
     "name": "stdout",
     "output_type": "stream",
     "text": [
      "                                          hypothesis        ICE\n",
      "8  Launch a promotion that gives users discounts ...  16.200000\n",
      "0  Add two new channels for attracting traffic. T...  13.333333\n",
      "7  Add a subscription form to all the main pages....  11.200000\n",
      "6  Show banners with current offers and sales on ...   8.000000\n",
      "2  Add product recommendation blocks to the store...   7.000000\n",
      "1  Launch your own delivery service. This will sh...   2.000000\n",
      "5  Add a customer review page. This will increase...   1.333333\n",
      "3  Change the category structure. This will incre...   1.125000\n",
      "4  Change the background color on the main page. ...   1.000000\n",
      "\n",
      "                                          hypothesis   RICE\n",
      "7  Add a subscription form to all the main pages....  112.0\n",
      "2  Add product recommendation blocks to the store...   56.0\n",
      "0  Add two new channels for attracting traffic. T...   40.0\n",
      "6  Show banners with current offers and sales on ...   40.0\n",
      "8  Launch a promotion that gives users discounts ...   16.2\n",
      "3  Change the category structure. This will incre...    9.0\n",
      "1  Launch your own delivery service. This will sh...    4.0\n",
      "5  Add a customer review page. This will increase...    4.0\n",
      "4  Change the background color on the main page. ...    3.0\n"
     ]
    }
   ],
   "source": [
    "print(hypotheses_df[['hypothesis', 'ICE']].sort_values(by='ICE', ascending=False))\n",
    "print()\n",
    "print(hypotheses_df[['hypothesis', 'RICE']].sort_values(by='RICE', ascending=False))"
   ]
  },
  {
   "cell_type": "markdown",
   "metadata": {},
   "source": [
    "Por exemplo, a hipótese 8 tem hipótese tem um alto impacto e confiança, mas seu alcance muito baixo diminui sua prioridade no método RICE. Já a hipótese 7, tem o alcance (Reach) muito alto, o que faz sua pontuação RICE disparar. Isso demonstra que adicionar o critério de alcance pode aumentar significativamente a prioridade de hipóteses que afetam muitos usuários. \n",
    "\n",
    "A principal mudança ao usar RICE em vez de ICE é a consideração do alcance, que pode elevar significativamente a prioridade de hipóteses que impactam muitos usuários, mesmo que o esforço e a confiança não sejam os mais altos. Isso destaca a importância de quantificar quantos usuários serão afetados por uma mudança, além de apenas considerar o impacto e a confiança."
   ]
  },
  {
   "cell_type": "markdown",
   "metadata": {},
   "source": [
    "# Parte 2 - Análise de teste A/B"
   ]
  },
  {
   "cell_type": "markdown",
   "metadata": {},
   "source": [
    "Realizou-se um teste A/B e os resultados foram descritos nos DataFrames \"orders\" e \"visits\"."
   ]
  },
  {
   "cell_type": "markdown",
   "metadata": {},
   "source": [
    "* Gráfico da receita acumulada por grupo."
   ]
  },
  {
   "cell_type": "code",
   "execution_count": 113,
   "metadata": {
    "scrolled": false
   },
   "outputs": [
    {
     "data": {
      "image/png": "[encoded data removed]",
      "text/plain": [
       "<Figure size 640x480 with 1 Axes>"
      ]
     },
     "metadata": {},
     "output_type": "display_data"
    }
   ],
   "source": [
    "orders_df['date'] = pd.to_datetime(orders_df['date'], format='%Y-%m-%d')\n",
    "visits_df['date'] = pd.to_datetime(visits_df['date'], format='%Y-%m-%d')\n",
    "    \n",
    "datesGroups = orders_df[['date', 'group']].drop_duplicates() # Criando um DataFrame chamado datesGroups com pares de 'date' unívocos e os valores de 'group' da tabela orders. Eliminando valores duplicados usando o método drop_duplicates()\n",
    "\n",
    "ordersAggregated = datesGroups.apply(\n",
    "    lambda x: orders_df[\n",
    "        np.logical_and(\n",
    "            orders_df['date'] <= x['date'], orders_df['group'] == x['group']\n",
    "        )\n",
    "    ].agg(\n",
    "        {\n",
    "            'date': 'max',\n",
    "            'group': 'max',\n",
    "            'transaction_id': pd.Series.nunique,\n",
    "            'visitor_id': pd.Series.nunique,\n",
    "            'revenue': 'sum',\n",
    "        }\n",
    "    ),\n",
    "    axis=1,\n",
    ").sort_values(by=['date', 'group'])\n",
    "\n",
    "visitsAggregated = datesGroups.apply(\n",
    "    lambda x: visits_df[\n",
    "        np.logical_and(\n",
    "            visits_df['date'] <= x['date'], visits_df['group'] == x['group']\n",
    "        )\n",
    "    ].agg({'date': 'max', 'group': 'max', 'visits': 'sum'}),\n",
    "    axis=1,\n",
    ").sort_values(by=['date', 'group'])\n",
    "\n",
    "cumulativeData = ordersAggregated.merge(\n",
    "    visitsAggregated, left_on=['date', 'group'], right_on=['date', 'group']\n",
    ")\n",
    "cumulativeData.columns = [\n",
    "    'date',\n",
    "    'group',\n",
    "    'orders',\n",
    "    'buyers',\n",
    "    'revenue',\n",
    "    'visits',\n",
    "]\n",
    "\n",
    "# DataFrame com pedidos cumulativos e receita cumulativa por dia, grupo A\n",
    "cumulativeRevenueA = cumulativeData[cumulativeData['group']=='A'][['date','revenue', 'orders']]\n",
    "\n",
    "# DataFrame com pedidos cumulativos e receita cumulativa por dia, grupo B\n",
    "cumulativeRevenueB = cumulativeData[cumulativeData['group']=='B'][['date','revenue', 'orders']]\n",
    "\n",
    "# construindo o gráfico de receita do grupo A \n",
    "plt.plot(cumulativeRevenueA['date'], cumulativeRevenueA['revenue'], label='A')\n",
    "\n",
    "# construindo o gráfico de receita do grupo B \n",
    "plt.plot(cumulativeRevenueB['date'], cumulativeRevenueB['revenue'], label='B')\n",
    "\n",
    "plt.xlabel('Data')\n",
    "plt.ylabel('Pedidos Cumulativos e Receita Cumulativa')\n",
    "plt.title('Pedidos Cumulativos e Receita Cumulativa por Dia dos Grupos A e B')\n",
    "plt.xticks(rotation=45)\n",
    "plt.legend()\n",
    "plt.show()"
   ]
  },
  {
   "cell_type": "markdown",
   "metadata": {},
   "source": [
    "Os dados indicam que o grupo B teve um desempenho significativamente melhor em termos de receita e número de pedidos. É possível que o grupo B tenha sido alvo de uma campanha de marketing ou promoção específica que levou ao aumento significativo em pedidos e receita. Melhorias na experiência do usuário para o grupo B podem ter contribuído para a maior taxa de conversão e, consequentemente, maior receita e número de pedidos."
   ]
  },
  {
   "cell_type": "markdown",
   "metadata": {},
   "source": [
    "* Gráfico do tamanho médio acumulado do pedido por grupo. "
   ]
  },
  {
   "cell_type": "code",
   "execution_count": 114,
   "metadata": {},
   "outputs": [
    {
     "data": {
      "image/png": "[encoded data removed]",
      "text/plain": [
       "<Figure size 640x480 with 1 Axes>"
      ]
     },
     "metadata": {},
     "output_type": "display_data"
    }
   ],
   "source": [
    "plt.plot(cumulativeRevenueA['date'], cumulativeRevenueA['revenue']/cumulativeRevenueA['orders'], label='A')\n",
    "plt.plot(cumulativeRevenueB['date'], cumulativeRevenueB['revenue']/cumulativeRevenueB['orders'], label='B')\n",
    "plt.xlabel('Data')\n",
    "plt.ylabel('Volume Médio Acumulado do pedido')\n",
    "plt.title('Volume Médio Acumulado do Pedido dos Grupos A e B')\n",
    "plt.xticks(rotation=45)\n",
    "plt.legend()\n",
    "plt.show()"
   ]
  },
  {
   "cell_type": "markdown",
   "metadata": {},
   "source": [
    "O valor cumulativo dos volumes médios de compras dos segmentos ainda apresenta flutuações. Ainda é cedo demais para tomar decisões com base nessa métrica. Ou talvez seja necessário analisar os valores atípicos que estão distorcendo os resultados."
   ]
  },
  {
   "cell_type": "markdown",
   "metadata": {},
   "source": [
    "* Gráfico da diferença relativa no volume médio acumulado do pedido para o grupo B em comparação com o grupo A. "
   ]
  },
  {
   "cell_type": "code",
   "execution_count": 115,
   "metadata": {},
   "outputs": [
    {
     "data": {
      "image/png": "[encoded data removed]",
      "text/plain": [
       "<Figure size 640x480 with 1 Axes>"
      ]
     },
     "metadata": {},
     "output_type": "display_data"
    }
   ],
   "source": [
    "# reunindo os dados em um DataFrame\n",
    "mergedCumulativeRevenue = cumulativeRevenueA.merge(cumulativeRevenueB, left_on='date', right_on='date', how='left', suffixes=['A', 'B'])\n",
    "\n",
    "# construindo um gráfico de diferença relativa para os volumes médios de compra\n",
    "plt.plot(mergedCumulativeRevenue['date'], (mergedCumulativeRevenue['revenueB']/mergedCumulativeRevenue['ordersB'])/(mergedCumulativeRevenue['revenueA']/mergedCumulativeRevenue['ordersA'])-1, label='Diferença Relativa')\n",
    "\n",
    "# acrescentando o eixo X\n",
    "plt.axhline(y=0, color='black', linestyle='--')\n",
    "plt.xlabel('Data')\n",
    "plt.ylabel('Volume Médio Acumulado')\n",
    "plt.title('Diferença Relativa no Volume Médio Acumulado do Pedido')\n",
    "plt.xticks(rotation=45)\n",
    "plt.legend()\n",
    "plt.show()"
   ]
  },
  {
   "cell_type": "markdown",
   "metadata": {},
   "source": [
    "Em vários pontos, a diferença entre os segmentos apresenta picos. Isso indica a ocorrência de pedidos grandes e valores atípicos."
   ]
  },
  {
   "cell_type": "markdown",
   "metadata": {},
   "source": [
    "* Gráfico da diferença relativa na conversão cumulativa para o grupo B em comparação com o grupo A."
   ]
  },
  {
   "cell_type": "code",
   "execution_count": 142,
   "metadata": {},
   "outputs": [
    {
     "data": {
      "image/png": "[encoded data removed]",
      "text/plain": [
       "<Figure size 640x480 with 1 Axes>"
      ]
     },
     "metadata": {},
     "output_type": "display_data"
    }
   ],
   "source": [
    "# calculando a conversão cumulativa\n",
    "cumulativeData['conversion'] = cumulativeData['orders']/cumulativeData['visits']\n",
    "\n",
    "# selecionando dados no grupo A\n",
    "cumulativeDataA = cumulativeData[cumulativeData['group'] =='A']\n",
    "\n",
    "# Selecionando dados no grupo B\n",
    "cumulativeDataB = cumulativeData[cumulativeData['group'] =='B']\n",
    "\n",
    "# construindo os gráficos\n",
    "plt.plot(cumulativeDataA['date'].values, cumulativeDataA['conversion'].values, label='A')\n",
    "plt.plot(cumulativeDataB['date'].values, cumulativeDataB['conversion'].values, label='B')\n",
    "plt.legend()\n",
    "\n",
    "# definindo a escala dos eixos\n",
    "\n",
    "ymin = min(cumulativeDataA['conversion'].min(), cumulativeDataB['conversion'].min())*0.95\n",
    "ymax = max(cumulativeDataA['conversion'].max(), cumulativeDataB['conversion'].max())*1.05\n",
    "plt.axis([pd.to_datetime('2019-08-01'), pd.to_datetime('2019-09-01'), ymin, ymax])\n",
    "\n",
    "plt.xlabel('Data')\n",
    "plt.ylabel('Conversão Cumulativa')\n",
    "plt.title('Diferença Relativa na Conversão Cumulativa')\n",
    "plt.xticks(rotation=45)\n",
    "plt.legend()\n",
    "plt.show()"
   ]
  },
  {
   "cell_type": "markdown",
   "metadata": {},
   "source": [
    "De maneira geral, o grupo B apresenta uma conversão cumulativa consistentemente mais alta do que o grupo A ao longo do período observado. Isso sugere que as mudanças implementadas no grupo B tiveram um impacto positivo na taxa de conversão."
   ]
  },
  {
   "cell_type": "markdown",
   "metadata": {},
   "source": [
    " * A taxa de conversão de cada grupo como a proporção de pedidos para o número de visitas para cada dia."
   ]
  },
  {
   "cell_type": "code",
   "execution_count": 137,
   "metadata": {},
   "outputs": [
    {
     "name": "stderr",
     "output_type": "stream",
     "text": [
      "No handles with labels found to put in legend.\n",
      "No handles with labels found to put in legend.\n"
     ]
    },
    {
     "data": {
      "image/png": "[encoded data removed]",
      "text/plain": [
       "<Figure size 640x480 with 1 Axes>"
      ]
     },
     "metadata": {},
     "output_type": "display_data"
    }
   ],
   "source": [
    "mergedCumulativeConversions = cumulativeDataA[['date','conversion']].merge(cumulativeDataB[['date','conversion']], left_on='date', right_on='date', how='left', suffixes=['A', 'B'])\n",
    "\n",
    "plt.plot(mergedCumulativeConversions['date'], mergedCumulativeConversions['conversionB']/mergedCumulativeConversions['conversionA']-1)\n",
    "plt.legend()\n",
    "\n",
    "plt.axhline(y=0, color='black', linestyle='--')\n",
    "plt.axhline(y=0.2, color='grey', linestyle='--')\n",
    "plt.axis([pd.to_datetime('2019-08-01'), pd.to_datetime('2019-09-01'), -0.6, 0.6])\n",
    "plt.xlabel('Data')\n",
    "plt.ylabel('Taxa de Conversão')\n",
    "plt.title('Taxa de Conversão de Pedidos para o Número de Visitas por Dia')\n",
    "plt.xticks(rotation=45)\n",
    "plt.legend()\n",
    "plt.show()"
   ]
  },
  {
   "cell_type": "markdown",
   "metadata": {},
   "source": [
    "A alta variabilidade no início pode ser devida a um número menor de visitas e pedidos no início do período de observação. Conforme mais dados são acumulados, a taxa de conversão tende a se estabilizar em torno de 0.2, sugerindo que aproximadamente 20% das visitas resultam em pedidos, refletindo uma amostra maior e mais representativa."
   ]
  },
  {
   "cell_type": "markdown",
   "metadata": {},
   "source": [
    "* Os percentis 95 e 99 para o número de pedidos por usuário."
   ]
  },
  {
   "cell_type": "code",
   "execution_count": 118,
   "metadata": {},
   "outputs": [
    {
     "name": "stdout",
     "output_type": "stream",
     "text": [
      "      visitor_id  orders\n",
      "1023  4256040402      11\n",
      "591   2458001652      11\n",
      "569   2378935119       9\n",
      "487   2038680547       8\n",
      "44     199603092       5\n",
      "744   3062433592       5\n",
      "55     237748145       5\n",
      "917   3803269165       5\n",
      "299   1230306981       5\n",
      "897   3717692402       5\n",
      "[2. 4.]\n"
     ]
    }
   ],
   "source": [
    "ordersByUsers = (\n",
    "    orders_df.drop(['group', 'revenue', 'date'], axis=1)\n",
    "    .groupby('visitor_id', as_index=False)\n",
    "    .agg({'transaction_id': pd.Series.nunique})\n",
    ")\n",
    "ordersByUsers.columns = ['visitor_id', 'orders']\n",
    "\n",
    "print(ordersByUsers.sort_values(by='orders', ascending=False).head(10))\n",
    "\n",
    "print(np.percentile(ordersByUsers['orders'], [95, 99]))"
   ]
  },
  {
   "cell_type": "markdown",
   "metadata": {},
   "source": [
    "Menos de 5% dos usuários fez mais do que 2 pedidos, e 1% deles fizeram mais do que quatro. \n",
    "\n",
    "Anomalias leves serão os dados que excedem o percentil 95. Esses dados podem ser considerados fora da norma, mas não necessariamente extremos.\n",
    "\n",
    "Anomalias severas serão os dados que excedem o percentil 99. Esses dados são considerados extremos e merecem atenção especial."
   ]
  },
  {
   "cell_type": "code",
   "execution_count": 119,
   "metadata": {},
   "outputs": [
    {
     "name": "stdout",
     "output_type": "stream",
     "text": [
      "Percentis 95 e 99 para o grupo A: [2.   3.98]\n",
      "Percentis 95 e 99 para o grupo B: [2.   3.15]\n"
     ]
    }
   ],
   "source": [
    "# Calculando o número de pedidos por usuário para cada grupo\n",
    "ordersByUsersA = (\n",
    "    orders_df[orders_df['group'] == 'A']\n",
    "    .drop(['group', 'revenue', 'date'], axis=1)\n",
    "    .groupby('visitor_id', as_index=False)\n",
    "    .agg({'transaction_id': pd.Series.nunique})\n",
    ")\n",
    "ordersByUsersA.columns = ['visitor_id', 'orders']\n",
    "\n",
    "ordersByUsersB = (\n",
    "    orders_df[orders_df['group'] == 'B']\n",
    "    .drop(['group', 'revenue', 'date'], axis=1)\n",
    "    .groupby('visitor_id', as_index=False)\n",
    "    .agg({'transaction_id': pd.Series.nunique})\n",
    ")\n",
    "ordersByUsersB.columns = ['visitor_id', 'orders']\n",
    "\n",
    "# Calculando os percentis 95 e 99 para o grupo A\n",
    "percentiles_A = np.percentile(ordersByUsersA['orders'], [95, 99])\n",
    "print(f\"Percentis 95 e 99 para o grupo A: {percentiles_A}\")\n",
    "\n",
    "# Calculando os percentis 95 e 99 para o grupo B\n",
    "percentiles_B = np.percentile(ordersByUsersB['orders'], [95, 99])\n",
    "print(f\"Percentis 95 e 99 para o grupo B: {percentiles_B}\")"
   ]
  },
  {
   "cell_type": "code",
   "execution_count": 120,
   "metadata": {},
   "outputs": [
    {
     "data": {
      "image/png": "[encoded data removed]",
      "text/plain": [
       "<Figure size 1200x600 with 2 Axes>"
      ]
     },
     "metadata": {},
     "output_type": "display_data"
    }
   ],
   "source": [
    "# Plotando os histogramas\n",
    "plt.figure(figsize=(12, 6))\n",
    "\n",
    "# Histograma para o grupo A\n",
    "plt.subplot(1, 2, 1)\n",
    "plt.hist(ordersByUsersA['orders'], bins=range(1, int(ordersByUsersA['orders'].max()) + 1), edgecolor='black')\n",
    "plt.title('Distribuição do Número de Pedidos por Usuário - Grupo A')\n",
    "plt.xlabel('Número de Pedidos')\n",
    "plt.ylabel('Contagem de Usuários')\n",
    "\n",
    "# Histograma para o grupo B\n",
    "plt.subplot(1, 2, 2)\n",
    "plt.hist(ordersByUsersB['orders'], bins=range(1, int(ordersByUsersB['orders'].max()) + 1), edgecolor='black')\n",
    "plt.title('Distribuição do Número de Pedidos por Usuário - Grupo B')\n",
    "plt.xlabel('Número de Pedidos')\n",
    "plt.ylabel('Contagem de Usuários')\n",
    "\n",
    "plt.tight_layout()\n",
    "plt.show()"
   ]
  },
  {
   "cell_type": "markdown",
   "metadata": {},
   "source": [
    "Para 95% dos usuários, o comportamento de compra é muito similar em ambos os grupos, com a maioria fazendo até 2 pedidos. A diferença no percentil 99 sugere que o grupo A tem alguns usuários que fazem um número maior de pedidos (até 4), enquanto no grupo B a maioria dos usuários faz no máximo 3 pedidos. Isso pode indicar a presença de usuários com comportamento de compra mais intensivo no grupo A."
   ]
  },
  {
   "cell_type": "markdown",
   "metadata": {},
   "source": [
    "* Os percentis 95 e 99 dos preços dos pedidos."
   ]
  },
  {
   "cell_type": "code",
   "execution_count": 121,
   "metadata": {},
   "outputs": [
    {
     "name": "stdout",
     "output_type": "stream",
     "text": [
      "[435.54  900.904]\n"
     ]
    }
   ],
   "source": [
    "print(np.percentile(orders_df['revenue'], [95, 99]))"
   ]
  },
  {
   "cell_type": "markdown",
   "metadata": {},
   "source": [
    "A maioria dos pedidos tem um preço relativamente baixo, com 95% deles sendo inferiores a 435,54. Existe uma pequena fração de pedidos (5%) que são significativamente mais caros, mas não ultrapassam 900,904 para 99% dos casos. Os pedidos que estão acima do percentil 99 (> 900,904) são considerados anomalias ou outliers. Eles representam os pedidos de maior valor e são muito raros.\n",
    "\n",
    "* Promoções e Descontos: Pode ser vantajoso focar em promoções para produtos que estão próximos ou abaixo do percentil 95, já que estes são os mais comuns.\n",
    "\n",
    "* Produtos Premium: Considerar uma estratégia específica para produtos que caem acima do percentil 95, pois atendem a um segmento de mercado disposto a gastar mais.\n",
    "\n",
    "* Análise de Outliers: Os pedidos acima do percentil 99 devem ser analisados individualmente para entender o que os torna tão caros e se há uma oportunidade de aumentar essa categoria de pedidos."
   ]
  },
  {
   "cell_type": "code",
   "execution_count": 122,
   "metadata": {},
   "outputs": [
    {
     "name": "stdout",
     "output_type": "stream",
     "text": [
      "Percentis 95 e 99 para o grupo A: [413.48  967.796]\n",
      "Percentis 95 e 99 para o grupo B: [445.825 857.872]\n"
     ]
    }
   ],
   "source": [
    "# Calculando os percentis 95 e 99 para o grupo A\n",
    "percentiles_A = np.percentile(orders_df[orders_df['group'] == 'A']['revenue'], [95, 99])\n",
    "print(f\"Percentis 95 e 99 para o grupo A: {percentiles_A}\")\n",
    "\n",
    "# Calculando os percentis 95 e 99 para o grupo B\n",
    "percentiles_B = np.percentile(orders_df[orders_df['group'] == 'B']['revenue'], [95, 99])\n",
    "print(f\"Percentis 95 e 99 para o grupo B: {percentiles_B}\")"
   ]
  },
  {
   "cell_type": "code",
   "execution_count": 123,
   "metadata": {},
   "outputs": [
    {
     "data": {
      "image/png": "[encoded data removed]",
      "text/plain": [
       "<Figure size 1000x600 with 1 Axes>"
      ]
     },
     "metadata": {},
     "output_type": "display_data"
    }
   ],
   "source": [
    "# Preparando os dados para o boxplot\n",
    "data_to_plot = [orders_df[orders_df['group'] == 'A']['revenue'], orders_df[orders_df['group'] == 'B']['revenue']]\n",
    "\n",
    "# Criando o boxplot\n",
    "plt.figure(figsize=(10, 6))\n",
    "plt.boxplot(data_to_plot, labels=['Grupo A', 'Grupo B'])\n",
    "plt.ylabel('Preço dos Pedidos')\n",
    "plt.title('Distribuição dos Preços dos Pedidos por Grupo')\n",
    "plt.show()"
   ]
  },
  {
   "cell_type": "markdown",
   "metadata": {},
   "source": [
    "Para 95% dos pedidos, os valores no grupo B são ligeiramente mais altos do que no grupo A. A diferença no percentil 99 sugere que há alguns pedidos de valor significativamente mais alto no grupo A em comparação com o grupo B. Isso pode indicar a presença de pedidos excepcionalmente altos no grupo A que não estão presentes no grupo B."
   ]
  },
  {
   "cell_type": "markdown",
   "metadata": {},
   "source": [
    "Continuar comparando outras métricas importantes (como o número de pedidos por usuário e a taxa de conversão) entre os grupos, utilizando os dados filtrados para garantir que as análises não sejam distorcidas por anomalias."
   ]
  },
  {
   "cell_type": "markdown",
   "metadata": {},
   "source": [
    "* Gráfico de dispersão dos preços dos pedidos. "
   ]
  },
  {
   "cell_type": "code",
   "execution_count": 124,
   "metadata": {},
   "outputs": [
    {
     "name": "stdout",
     "output_type": "stream",
     "text": [
      "      transaction_id  visitor_id       date  revenue group\n",
      "425        590470918  1920142716 2019-08-19  19920.4     B\n",
      "1196      3936777065  2108080724 2019-08-15   3120.1     B\n",
      "858        192721366  1316129916 2019-08-27   1450.2     A\n",
      "1136       666610489  1307669133 2019-08-13   1425.8     A\n",
      "744       3668308183   888512513 2019-08-27   1335.6     B\n",
      "662       1811671147  4266935830 2019-08-29   1220.2     A\n",
      "682       1216533772  4266935830 2019-08-29   1220.2     B\n",
      "743       3603576309  4133034833 2019-08-09   1050.0     A\n",
      "1103      1348774318  1164614297 2019-08-12   1025.8     A\n",
      "1099       316924019   148427295 2019-08-12   1015.9     A\n"
     ]
    },
    {
     "data": {
      "image/png": "[encoded data removed]",
      "text/plain": [
       "<Figure size 640x480 with 1 Axes>"
      ]
     },
     "metadata": {},
     "output_type": "display_data"
    },
    {
     "data": {
      "image/png": "[encoded data removed]",
      "text/plain": [
       "<Figure size 1400x700 with 1 Axes>"
      ]
     },
     "metadata": {},
     "output_type": "display_data"
    }
   ],
   "source": [
    "print(orders_df.sort_values(by='revenue',ascending=False).head(10))\n",
    "\n",
    "x_values = pd.Series(range(0,len(orders_df['revenue'])))\n",
    "\n",
    "plt.scatter(x_values, orders_df['revenue'])\n",
    "\n",
    "# Definir percentis 95 e 99\n",
    "percentil_95 = 435.54\n",
    "percentil_99 = 900.904\n",
    "\n",
    "plt.figure(figsize=(14, 7))\n",
    "\n",
    "orders_group_a = orders_df[orders_df['group'] == 'A']\n",
    "plt.hist(orders_group_a['revenue'], bins=30, alpha=0.5, label='Grupo A', color='blue') # Grupo A \n",
    "\n",
    "orders_group_b = orders_df[orders_df['group'] == 'B']\n",
    "plt.hist(orders_group_b['revenue'], bins=30, alpha=0.5, label='Grupo B', color='green') # grupo B\n",
    "\n",
    "# Marcar os percentis 95 e 99\n",
    "plt.axvline(percentil_95, color='r', linestyle='dashed', linewidth=2, label='Percentil 95 (435.54)')\n",
    "plt.axvline(percentil_99, color='b', linestyle='dashed', linewidth=2, label='Percentil 99 (900.904)')\n",
    "\n",
    "plt.xlabel('Preço dos Pedidos')\n",
    "plt.ylabel('Frequência')\n",
    "plt.title('Distribuição dos Preços dos Pedidos por Grupo de Usuários')\n",
    "plt.legend()\n",
    "plt.grid(True)\n",
    "plt.show()"
   ]
  },
  {
   "cell_type": "markdown",
   "metadata": {},
   "source": [
    "O gráfico de distribuição mostra como os preços dos pedidos estão distribuídos. Pedidos acima do percentil 95 são considerados anomalias leve e pedidos acima do percentil 99 são considerados anomalias severas.\n",
    "\n",
    "Pedidos com valores altos podem estar associados a eventos promocionais ou grandes compras feitas durante promoções. Alguns produtos podem ter preços naturalmente altos, resultando em pedidos com valores elevados."
   ]
  },
  {
   "cell_type": "markdown",
   "metadata": {},
   "source": [
    "* A significância estatística da diferença na conversão entre os grupos usando os dados brutos."
   ]
  },
  {
   "cell_type": "code",
   "execution_count": 125,
   "metadata": {
    "scrolled": true
   },
   "outputs": [
    {
     "name": "stdout",
     "output_type": "stream",
     "text": [
      "0.01679\n",
      "0.138\n"
     ]
    }
   ],
   "source": [
    "ordersByUsersA = orders_df[orders_df['group']=='A'].groupby('visitor_id', as_index=False).agg({'transaction_id' : pd.Series.nunique})\n",
    "ordersByUsersA.columns = ['visitor_id', 'orders']\n",
    "\n",
    "ordersByUsersB = orders_df[orders_df['group']=='B'].groupby('visitor_id', as_index=False).agg({'transaction_id' : pd.Series.nunique})\n",
    "ordersByUsersB.columns = ['visitor_id', 'orders']\n",
    "\n",
    "sampleA = pd.concat(\n",
    "    [\n",
    "        ordersByUsersA['orders'],\n",
    "        pd.Series(\n",
    "            0,\n",
    "            index=np.arange(\n",
    "                visits_df[visits_df['group'] == 'A']['visits'].sum()\n",
    "                - len(ordersByUsersA['orders'])\n",
    "            ),\n",
    "            name='orders',\n",
    "        ),\n",
    "    ],\n",
    "    axis=0,\n",
    ")\n",
    "sampleB = pd.concat(\n",
    "    [\n",
    "        ordersByUsersB['orders'],\n",
    "        pd.Series(\n",
    "            0,\n",
    "            index=np.arange(\n",
    "                visits_df[visits_df['group'] == 'B']['visits'].sum()\n",
    "                - len(ordersByUsersB['orders'])\n",
    "            ),\n",
    "            name='orders',\n",
    "        ),\n",
    "    ],\n",
    "    axis=0,\n",
    ")\n",
    "\n",
    "print(\"{0:.5f}\".format(stats.mannwhitneyu(sampleA, sampleB)[1]))\n",
    "\n",
    "print(\"{0:.3f}\".format(sampleB.mean()/sampleA.mean()-1))"
   ]
  },
  {
   "cell_type": "markdown",
   "metadata": {},
   "source": [
    "Para a análise de significância estatística da diferença na conversão entre os grupos, definimos as hipóteses da seguinte maneira:\n",
    "* Hipótese Nula: Não há diferença na taxa de conversão entre os grupos A e B. \n",
    "* Hipótese Alternativa: Há uma diferença na taxa de conversão entre os grupos A e B. \n",
    "\n",
    "Um p-valor de 0.01679 indica que há aproximadamente 1.679% de chance de observar uma diferença na conversão tão extrema quanto a observada, assumindo que a hipótese nula é verdadeira. O ganho de conversão relativo para o grupo B, comparado com o grupo A, é 13.8%. \n",
    "\n",
    "A diferença de 13.8% na conversão é substancial. Dependendo do contexto do seu negócio, isso pode representar um impacto significativo na receita e no sucesso das suas estratégias de marketing ou outras intervenções."
   ]
  },
  {
   "cell_type": "markdown",
   "metadata": {},
   "source": [
    "* A significância estatística da diferença no tamanho médio do pedido entre os grupos usando os dados brutos."
   ]
  },
  {
   "cell_type": "code",
   "execution_count": 126,
   "metadata": {},
   "outputs": [
    {
     "name": "stdout",
     "output_type": "stream",
     "text": [
      "0.692\n",
      "0.252\n"
     ]
    }
   ],
   "source": [
    "print('{0:.3f}'.format(stats.mannwhitneyu(orders_df[orders_df['group']=='A']['revenue'], orders_df[orders_df['group']=='B']['revenue'])[1]))\n",
    "print('{0:.3f}'.format(orders_df[orders_df['group']=='B']['revenue'].mean()/orders_df[orders_df['group']=='A']['revenue'].mean()-1))"
   ]
  },
  {
   "cell_type": "markdown",
   "metadata": {},
   "source": [
    "Neste caso, o p-valor de 0.692 é muito maior que 0.05, indicando que não podemos rejeitar a hipótese nula. Ou seja, não há evidência estatística suficiente para afirmar que existe uma diferença significativa no tamanho médio do pedido entre os grupos.\n",
    "A diferença no tamanho médio do pedido de 0.252 sugere que há uma diferença absoluta de 0.252 unidades monetárias (por exemplo, dólares) no tamanho médio do pedido entre os grupos.\n",
    "\n",
    "Dado que não há uma diferença significativa no tamanho médio do pedido, é importante reavaliar as intervenções ou estratégias aplicadas aos grupos para entender por que não houve um impacto significativo. Podemos considerar a repetição do teste com uma amostra maior ou por um período mais longo para verificar se os resultados são consistentes."
   ]
  },
  {
   "cell_type": "markdown",
   "metadata": {},
   "source": [
    "* A significância estatística da diferença na conversão entre os grupos usando os dados filtrados. "
   ]
  },
  {
   "cell_type": "code",
   "execution_count": 127,
   "metadata": {},
   "outputs": [
    {
     "name": "stdout",
     "output_type": "stream",
     "text": [
      "0.01254\n",
      "0.168\n"
     ]
    }
   ],
   "source": [
    "usersWithManyOrders = pd.concat(\n",
    "    [\n",
    "        ordersByUsersA[ordersByUsersA['orders'] > 2]['visitor_id'],\n",
    "        ordersByUsersB[ordersByUsersB['orders'] > 2]['visitor_id'],\n",
    "    ],\n",
    "    axis=0,\n",
    ")\n",
    "usersWithExpensiveOrders = orders_df[orders_df['revenue'] > 10000]['visitor_id']\n",
    "abnormalUsers = (\n",
    "    pd.concat([usersWithManyOrders, usersWithExpensiveOrders], axis=0)\n",
    "    .drop_duplicates()\n",
    "    .sort_values()\n",
    ")\n",
    "sampleAFiltered = pd.concat([ordersByUsersA[np.logical_not(ordersByUsersA['visitor_id'].isin(abnormalUsers))]['orders'],pd.Series(0, index=np.arange(visits_df[visits_df['group']=='A']['visits'].sum() - len(ordersByUsersA['orders'])),name='orders')],axis=0)\n",
    "\n",
    "sampleBFiltered = pd.concat([ordersByUsersB[np.logical_not(ordersByUsersB['visitor_id'].isin(abnormalUsers))]['orders'],pd.Series(0, index=np.arange(visits_df[visits_df['group']=='B']['visits'].sum() - len(ordersByUsersB['orders'])),name='orders')],axis=0)\n",
    "\n",
    "print(\"{0:.5f}\".format(stats.mannwhitneyu(sampleAFiltered, sampleBFiltered)[1]))\n",
    "print(\"{0:.3f}\".format(sampleBFiltered.mean()/sampleAFiltered.mean()-1))"
   ]
  },
  {
   "cell_type": "markdown",
   "metadata": {},
   "source": [
    "Dado que o p-valor é menor que 0.05, podemos concluir que a diferença na conversão entre os grupos é estatisticamente significativa. Isso significa que a diferença observada não é devida ao acaso e que há uma verdadeira diferença na taxa de conversão entre os grupos.\n",
    "A diferença de 16.8% na conversão é substancial. Dependendo do contexto do seu negócio, isso pode representar um impacto significativo na receita e no sucesso das suas estratégias de marketing ou outras intervenções.\n",
    "\n",
    "Avaliar o impacto da diferença de conversão em termos de KPIs relevantes. É válido repetir o teste A/B ou aplicar outras técnicas de validação para garantir que os resultados são consistentes e reproduzíveis e investigar os fatores que contribuíram para a diferença de conversão."
   ]
  },
  {
   "cell_type": "markdown",
   "metadata": {},
   "source": [
    "* A significância estatística da diferença no tamanho médio do pedido entre os grupos usando os dados filtrados."
   ]
  },
  {
   "cell_type": "code",
   "execution_count": 128,
   "metadata": {},
   "outputs": [
    {
     "name": "stdout",
     "output_type": "stream",
     "text": [
      "18    199603092\n",
      "23    237748145\n",
      "37    249864742\n",
      "68    457167155\n",
      "68    611059232\n",
      "Name: visitor_id, dtype: int64\n",
      "0.670\n",
      "-0.055\n"
     ]
    }
   ],
   "source": [
    "usersWithManyOrders = pd.concat(\n",
    "    [\n",
    "        ordersByUsersA[ordersByUsersA['orders'] > 2]['visitor_id'],\n",
    "        ordersByUsersB[ordersByUsersB['orders'] > 2]['visitor_id'],\n",
    "    ],\n",
    "    axis=0,\n",
    ")\n",
    "usersWithExpensiveOrders = orders_df[orders_df['revenue'] > 10000]['visitor_id']\n",
    "abnormalUsers = (\n",
    "    pd.concat([usersWithManyOrders, usersWithExpensiveOrders], axis=0)\n",
    "    .drop_duplicates()\n",
    "    .sort_values()\n",
    ")\n",
    "print(abnormalUsers.head(5))\n",
    "\n",
    "print('{0:.3f}'.format(stats.mannwhitneyu(\n",
    "    orders_df[np.logical_and(\n",
    "        orders_df['group']=='A',\n",
    "        np.logical_not(orders_df['visitor_id'].isin(abnormalUsers)))]['revenue'],\n",
    "    orders_df[np.logical_and(\n",
    "        orders_df['group']=='B',\n",
    "        np.logical_not(orders_df['visitor_id'].isin(abnormalUsers)))]['revenue'])[1]))\n",
    "\n",
    "print('{0:.3f}'.format(\n",
    "    orders_df[np.logical_and(orders_df['group']=='B',np.logical_not(orders_df['visitor_id'].isin(abnormalUsers)))]['revenue'].mean()/\n",
    "    orders_df[np.logical_and(\n",
    "        orders_df['group']=='A',\n",
    "        np.logical_not(orders_df['visitor_id'].isin(abnormalUsers)))]['revenue'].mean() - 1))"
   ]
  },
  {
   "cell_type": "markdown",
   "metadata": {},
   "source": [
    "Para realizar a análise de significância estatística, formulamos as seguintes hipóteses:\n",
    "* Hipótese Nula (H0): Não há diferença no tamanho médio do pedido entre os grupos A e B. Ou seja, a diferença no tamanho médio do pedido é igual a zero.\n",
    "* Hipótese Alternativa (H1): Há uma diferença no tamanho médio do pedido entre os grupos A e B. Ou seja, a diferença no tamanho médio do pedido não é igual a zero.\n",
    "\n",
    "O p-valor de 0.670 é muito maior que 0.05, indicando que não podemos rejeitar a hipótese nula. Ou seja, não há evidência estatística suficiente para afirmar que existe uma diferença significativa no tamanho médio do pedido entre os grupos.\n",
    "A diferença no tamanho médio do pedido de -0.055 sugere que o tamanho médio do pedido no grupo B é 0.055 unidades monetárias menor (por exemplo, dólares) do que no grupo A. Esta diferença é muito pequena.\n",
    "\n",
    "Dado que não há uma diferença significativa no tamanho médio do pedido, é importante reavaliar as intervenções ou estratégias aplicadas aos grupos para entender por que não houve um impacto significativo."
   ]
  },
  {
   "cell_type": "markdown",
   "metadata": {},
   "source": [
    "# Conclusão Geral"
   ]
  },
  {
   "cell_type": "markdown",
   "metadata": {},
   "source": [
    "Para tomar uma decisão sobre o teste A/B com base nos resultados obtidos, primeiro, precisamos considerar que a diferença na conversão entre os grupos é estatisticamente significativa, com o grupo B apresentando uma conversão significativamente maior que o grupo A. Já a  diferença no tamanho médio do pedido entre os grupos não é estatisticamente significativa, indicando que não há uma diferença relevante no valor médio dos pedidos entre os grupos.\n",
    "\n",
    "Em segundo lugar, existem algumas opções de decisão, como: considerar um dos grupos o líder, que não há diferença entre os grupos, e continuar o teste se eles forem inconclusivos ou se for necessário mais tempo para coletar dados e ter uma decisão mais clara. \n",
    "\n",
    "Com base nos resultados e nas análises acima, a recomendação seria: \n",
    "\n",
    "* Parar o teste e considere o grupo B o líder.\n",
    "\n",
    "O grupo B tem uma taxa de conversão significativamente maior que o grupo A (p-valor de 0.01679 e diferença de 13.8%). Isso é uma métrica crítica e sugere que o grupo B está gerando mais pedidos. Embora não haja diferença significativa no tamanho médio do pedido, a taxa de conversão mais alta no grupo B é um indicador forte de melhor desempenho geral. Continuar o teste quando uma métrica chave já mostrou uma diferença significativa pode não ser a melhor utilização de recursos.\n",
    "\n",
    "Aumentar a conversão pode ter um impacto mais imediato e significativo na receita total do que pequenas variações no tamanho médio do pedido, especialmente quando a diferença no tamanho médio do pedido não é significativa. Portanto, implementar as estratégias usadas no grupo B para toda a população pode potencialmente aumentar as vendas e a receita da empresa.\n"
   ]
  }
 ],
 "metadata": {
  "ExecuteTimeLog": [
   {
    "duration": 4889,
    "start_time": "2024-07-15T16:39:37.517Z"
   },
   {
    "duration": 28,
    "start_time": "2024-07-15T17:02:17.424Z"
   },
   {
    "duration": 399,
    "start_time": "2024-07-15T17:02:27.350Z"
   },
   {
    "duration": 14,
    "start_time": "2024-07-15T17:02:33.002Z"
   },
   {
    "duration": 23,
    "start_time": "2024-07-15T17:02:56.625Z"
   },
   {
    "duration": 9,
    "start_time": "2024-07-15T17:03:05.359Z"
   },
   {
    "duration": 14,
    "start_time": "2024-07-15T17:04:16.209Z"
   },
   {
    "duration": 8,
    "start_time": "2024-07-15T17:04:57.229Z"
   },
   {
    "duration": 17,
    "start_time": "2024-07-15T17:12:54.626Z"
   },
   {
    "duration": 7,
    "start_time": "2024-07-15T17:18:56.898Z"
   },
   {
    "duration": 7,
    "start_time": "2024-07-15T17:22:22.917Z"
   },
   {
    "duration": 24,
    "start_time": "2024-07-15T17:23:38.879Z"
   },
   {
    "duration": 23,
    "start_time": "2024-07-15T17:26:20.978Z"
   },
   {
    "duration": 13,
    "start_time": "2024-07-15T17:26:23.670Z"
   },
   {
    "duration": 17,
    "start_time": "2024-07-15T17:26:31.699Z"
   },
   {
    "duration": 15,
    "start_time": "2024-07-15T17:26:45.203Z"
   },
   {
    "duration": 14,
    "start_time": "2024-07-15T17:28:47.625Z"
   },
   {
    "duration": 14,
    "start_time": "2024-07-15T17:28:49.993Z"
   },
   {
    "duration": 11,
    "start_time": "2024-07-15T17:28:56.685Z"
   },
   {
    "duration": 4,
    "start_time": "2024-07-15T17:31:40.073Z"
   },
   {
    "duration": 11,
    "start_time": "2024-07-15T17:31:40.897Z"
   },
   {
    "duration": 6,
    "start_time": "2024-07-15T17:32:59.838Z"
   },
   {
    "duration": 14,
    "start_time": "2024-07-15T17:33:03.835Z"
   },
   {
    "duration": 14,
    "start_time": "2024-07-15T17:33:10.239Z"
   },
   {
    "duration": 14,
    "start_time": "2024-07-15T17:33:10.542Z"
   },
   {
    "duration": 12,
    "start_time": "2024-07-15T17:37:02.442Z"
   },
   {
    "duration": 11,
    "start_time": "2024-07-15T17:37:49.079Z"
   },
   {
    "duration": 12,
    "start_time": "2024-07-15T17:38:21.086Z"
   },
   {
    "duration": 3,
    "start_time": "2024-07-15T17:41:21.584Z"
   },
   {
    "duration": 16,
    "start_time": "2024-07-15T17:53:06.252Z"
   },
   {
    "duration": 7,
    "start_time": "2024-07-15T17:55:05.996Z"
   },
   {
    "duration": 12,
    "start_time": "2024-07-15T17:56:34.182Z"
   },
   {
    "duration": 16,
    "start_time": "2024-07-15T17:58:48.958Z"
   },
   {
    "duration": 15,
    "start_time": "2024-07-15T17:59:43.917Z"
   },
   {
    "duration": 10,
    "start_time": "2024-07-15T18:33:27.801Z"
   },
   {
    "duration": 9,
    "start_time": "2024-07-15T18:33:34.424Z"
   },
   {
    "duration": 13,
    "start_time": "2024-07-15T18:33:44.262Z"
   },
   {
    "duration": 927,
    "start_time": "2024-07-15T21:10:25.617Z"
   },
   {
    "duration": 4,
    "start_time": "2024-07-15T21:10:41.194Z"
   },
   {
    "duration": 26,
    "start_time": "2024-07-15T21:10:41.201Z"
   },
   {
    "duration": 15,
    "start_time": "2024-07-15T21:10:41.230Z"
   },
   {
    "duration": 4,
    "start_time": "2024-07-15T21:10:41.249Z"
   },
   {
    "duration": 12,
    "start_time": "2024-07-15T21:10:41.255Z"
   },
   {
    "duration": 17,
    "start_time": "2024-07-15T21:10:41.306Z"
   },
   {
    "duration": 7,
    "start_time": "2024-07-15T21:10:41.326Z"
   },
   {
    "duration": 15,
    "start_time": "2024-07-15T21:10:41.336Z"
   },
   {
    "duration": 56,
    "start_time": "2024-07-15T21:10:41.356Z"
   },
   {
    "duration": 13,
    "start_time": "2024-07-15T21:10:41.415Z"
   },
   {
    "duration": 12,
    "start_time": "2024-07-15T21:10:41.431Z"
   },
   {
    "duration": 13,
    "start_time": "2024-07-15T21:10:41.445Z"
   },
   {
    "duration": 81,
    "start_time": "2024-07-15T21:10:41.506Z"
   },
   {
    "duration": 0,
    "start_time": "2024-07-15T21:10:41.591Z"
   },
   {
    "duration": 0,
    "start_time": "2024-07-15T21:10:41.606Z"
   },
   {
    "duration": 0,
    "start_time": "2024-07-15T21:10:41.608Z"
   },
   {
    "duration": 8,
    "start_time": "2024-07-15T21:12:24.625Z"
   },
   {
    "duration": 6,
    "start_time": "2024-07-15T21:14:42.759Z"
   },
   {
    "duration": 26,
    "start_time": "2024-07-15T21:14:42.769Z"
   },
   {
    "duration": 17,
    "start_time": "2024-07-15T21:14:42.798Z"
   },
   {
    "duration": 5,
    "start_time": "2024-07-15T21:14:42.819Z"
   },
   {
    "duration": 12,
    "start_time": "2024-07-15T21:14:42.827Z"
   },
   {
    "duration": 17,
    "start_time": "2024-07-15T21:14:42.842Z"
   },
   {
    "duration": 50,
    "start_time": "2024-07-15T21:14:42.862Z"
   },
   {
    "duration": 14,
    "start_time": "2024-07-15T21:14:42.916Z"
   },
   {
    "duration": 18,
    "start_time": "2024-07-15T21:14:42.933Z"
   },
   {
    "duration": 57,
    "start_time": "2024-07-15T21:14:42.957Z"
   },
   {
    "duration": 13,
    "start_time": "2024-07-15T21:14:43.019Z"
   },
   {
    "duration": 16,
    "start_time": "2024-07-15T21:14:43.037Z"
   },
   {
    "duration": 12,
    "start_time": "2024-07-15T21:14:46.692Z"
   },
   {
    "duration": 15,
    "start_time": "2024-07-15T21:14:46.708Z"
   },
   {
    "duration": 13,
    "start_time": "2024-07-15T21:14:46.727Z"
   },
   {
    "duration": 532,
    "start_time": "2024-07-15T21:14:46.743Z"
   },
   {
    "duration": 381,
    "start_time": "2024-07-15T21:27:02.793Z"
   },
   {
    "duration": 1324,
    "start_time": "2024-07-15T21:28:43.991Z"
   },
   {
    "duration": 193,
    "start_time": "2024-07-15T21:31:38.603Z"
   },
   {
    "duration": 5466,
    "start_time": "2024-07-17T17:29:18.349Z"
   },
   {
    "duration": 42,
    "start_time": "2024-07-17T17:29:23.819Z"
   },
   {
    "duration": 21,
    "start_time": "2024-07-17T17:29:23.864Z"
   },
   {
    "duration": 6,
    "start_time": "2024-07-17T17:29:23.890Z"
   },
   {
    "duration": 33,
    "start_time": "2024-07-17T17:29:23.901Z"
   },
   {
    "duration": 18,
    "start_time": "2024-07-17T17:29:23.940Z"
   },
   {
    "duration": 8,
    "start_time": "2024-07-17T17:29:23.963Z"
   },
   {
    "duration": 56,
    "start_time": "2024-07-17T17:29:23.974Z"
   },
   {
    "duration": 23,
    "start_time": "2024-07-17T17:29:24.034Z"
   },
   {
    "duration": 15,
    "start_time": "2024-07-17T17:29:24.062Z"
   },
   {
    "duration": 56,
    "start_time": "2024-07-17T17:29:24.081Z"
   },
   {
    "duration": 15,
    "start_time": "2024-07-17T17:29:24.140Z"
   },
   {
    "duration": 16,
    "start_time": "2024-07-17T17:29:24.161Z"
   },
   {
    "duration": 49,
    "start_time": "2024-07-17T17:29:24.183Z"
   },
   {
    "duration": 19,
    "start_time": "2024-07-17T17:29:24.236Z"
   },
   {
    "duration": 830,
    "start_time": "2024-07-17T17:29:26.162Z"
   },
   {
    "duration": 5,
    "start_time": "2024-07-17T17:30:32.586Z"
   },
   {
    "duration": 25,
    "start_time": "2024-07-17T17:30:32.596Z"
   },
   {
    "duration": 16,
    "start_time": "2024-07-17T17:30:32.624Z"
   },
   {
    "duration": 5,
    "start_time": "2024-07-17T17:30:32.644Z"
   },
   {
    "duration": 13,
    "start_time": "2024-07-17T17:30:32.653Z"
   },
   {
    "duration": 20,
    "start_time": "2024-07-17T17:30:32.670Z"
   },
   {
    "duration": 40,
    "start_time": "2024-07-17T17:30:32.694Z"
   },
   {
    "duration": 19,
    "start_time": "2024-07-17T17:30:32.738Z"
   },
   {
    "duration": 19,
    "start_time": "2024-07-17T17:30:32.760Z"
   },
   {
    "duration": 46,
    "start_time": "2024-07-17T17:30:32.785Z"
   },
   {
    "duration": 14,
    "start_time": "2024-07-17T17:30:32.836Z"
   },
   {
    "duration": 14,
    "start_time": "2024-07-17T17:30:32.853Z"
   },
   {
    "duration": 15,
    "start_time": "2024-07-17T17:30:32.869Z"
   },
   {
    "duration": 57,
    "start_time": "2024-07-17T17:30:32.888Z"
   },
   {
    "duration": 15,
    "start_time": "2024-07-17T17:30:32.948Z"
   },
   {
    "duration": 111,
    "start_time": "2024-07-17T17:31:20.489Z"
   },
   {
    "duration": 114,
    "start_time": "2024-07-17T17:35:37.499Z"
   },
   {
    "duration": 800,
    "start_time": "2024-07-17T17:39:19.186Z"
   },
   {
    "duration": 289,
    "start_time": "2024-07-17T17:39:48.447Z"
   },
   {
    "duration": 1322,
    "start_time": "2024-07-17T17:40:54.943Z"
   },
   {
    "duration": 5,
    "start_time": "2024-07-17T17:41:57.467Z"
   },
   {
    "duration": 24,
    "start_time": "2024-07-17T17:41:57.477Z"
   },
   {
    "duration": 15,
    "start_time": "2024-07-17T17:41:57.505Z"
   },
   {
    "duration": 6,
    "start_time": "2024-07-17T17:41:57.525Z"
   },
   {
    "duration": 13,
    "start_time": "2024-07-17T17:41:57.535Z"
   },
   {
    "duration": 15,
    "start_time": "2024-07-17T17:41:57.553Z"
   },
   {
    "duration": 7,
    "start_time": "2024-07-17T17:41:57.571Z"
   },
   {
    "duration": 58,
    "start_time": "2024-07-17T17:41:57.581Z"
   },
   {
    "duration": 17,
    "start_time": "2024-07-17T17:41:57.643Z"
   },
   {
    "duration": 12,
    "start_time": "2024-07-17T17:41:57.666Z"
   },
   {
    "duration": 54,
    "start_time": "2024-07-17T17:41:57.682Z"
   },
   {
    "duration": 13,
    "start_time": "2024-07-17T17:41:57.740Z"
   },
   {
    "duration": 16,
    "start_time": "2024-07-17T17:41:57.756Z"
   },
   {
    "duration": 58,
    "start_time": "2024-07-17T17:41:57.775Z"
   },
   {
    "duration": 18,
    "start_time": "2024-07-17T17:41:57.836Z"
   },
   {
    "duration": 439,
    "start_time": "2024-07-17T17:42:05.135Z"
   },
   {
    "duration": 455,
    "start_time": "2024-07-17T17:43:14.947Z"
   },
   {
    "duration": 739,
    "start_time": "2024-07-17T17:43:27.844Z"
   },
   {
    "duration": 733,
    "start_time": "2024-07-17T17:44:03.063Z"
   },
   {
    "duration": 2456,
    "start_time": "2024-07-17T17:46:57.928Z"
   },
   {
    "duration": 883,
    "start_time": "2024-07-17T17:48:28.349Z"
   },
   {
    "duration": 760,
    "start_time": "2024-07-17T17:48:42.976Z"
   },
   {
    "duration": 748,
    "start_time": "2024-07-17T17:48:58.037Z"
   },
   {
    "duration": 751,
    "start_time": "2024-07-17T17:49:08.099Z"
   },
   {
    "duration": 260,
    "start_time": "2024-07-17T17:53:00.970Z"
   },
   {
    "duration": 419,
    "start_time": "2024-07-17T17:54:32.197Z"
   },
   {
    "duration": 445,
    "start_time": "2024-07-17T17:54:58.518Z"
   },
   {
    "duration": 418,
    "start_time": "2024-07-17T17:55:07.997Z"
   },
   {
    "duration": 7,
    "start_time": "2024-07-17T17:57:29.696Z"
   },
   {
    "duration": 701,
    "start_time": "2024-07-17T18:01:19.205Z"
   },
   {
    "duration": 241,
    "start_time": "2024-07-17T18:01:59.201Z"
   },
   {
    "duration": 757,
    "start_time": "2024-07-17T18:17:30.403Z"
   },
   {
    "duration": 275,
    "start_time": "2024-07-17T18:17:31.165Z"
   },
   {
    "duration": 412,
    "start_time": "2024-07-17T18:17:31.443Z"
   },
   {
    "duration": 269,
    "start_time": "2024-07-17T18:17:31.859Z"
   },
   {
    "duration": 375,
    "start_time": "2024-07-17T18:20:59.412Z"
   },
   {
    "duration": 6,
    "start_time": "2024-07-17T18:25:24.066Z"
   },
   {
    "duration": 6,
    "start_time": "2024-07-17T18:25:50.153Z"
   },
   {
    "duration": 7,
    "start_time": "2024-07-17T18:26:18.913Z"
   },
   {
    "duration": 249,
    "start_time": "2024-07-17T18:38:08.243Z"
   },
   {
    "duration": 30,
    "start_time": "2024-07-17T18:45:03.475Z"
   },
   {
    "duration": 38,
    "start_time": "2024-07-17T18:45:20.699Z"
   },
   {
    "duration": 256,
    "start_time": "2024-07-17T18:45:26.923Z"
   },
   {
    "duration": 7,
    "start_time": "2024-07-17T19:00:41.329Z"
   },
   {
    "duration": 231,
    "start_time": "2024-07-17T19:16:52.719Z"
   },
   {
    "duration": 380,
    "start_time": "2024-07-17T19:17:17.472Z"
   },
   {
    "duration": 26,
    "start_time": "2024-07-17T19:17:43.618Z"
   },
   {
    "duration": 106,
    "start_time": "2024-07-17T19:18:10.268Z"
   },
   {
    "duration": 6,
    "start_time": "2024-07-17T19:18:32.594Z"
   },
   {
    "duration": 25,
    "start_time": "2024-07-17T19:18:32.605Z"
   },
   {
    "duration": 16,
    "start_time": "2024-07-17T19:18:32.633Z"
   },
   {
    "duration": 5,
    "start_time": "2024-07-17T19:18:32.654Z"
   },
   {
    "duration": 12,
    "start_time": "2024-07-17T19:18:32.663Z"
   },
   {
    "duration": 60,
    "start_time": "2024-07-17T19:18:32.679Z"
   },
   {
    "duration": 7,
    "start_time": "2024-07-17T19:18:32.743Z"
   },
   {
    "duration": 17,
    "start_time": "2024-07-17T19:18:32.753Z"
   },
   {
    "duration": 16,
    "start_time": "2024-07-17T19:18:32.773Z"
   },
   {
    "duration": 47,
    "start_time": "2024-07-17T19:18:32.795Z"
   },
   {
    "duration": 13,
    "start_time": "2024-07-17T19:18:32.845Z"
   },
   {
    "duration": 14,
    "start_time": "2024-07-17T19:18:32.861Z"
   },
   {
    "duration": 57,
    "start_time": "2024-07-17T19:18:32.878Z"
   },
   {
    "duration": 22,
    "start_time": "2024-07-17T19:18:32.942Z"
   },
   {
    "duration": 16,
    "start_time": "2024-07-17T19:18:32.967Z"
   },
   {
    "duration": 749,
    "start_time": "2024-07-17T19:18:32.986Z"
   },
   {
    "duration": 294,
    "start_time": "2024-07-17T19:18:33.739Z"
   },
   {
    "duration": 389,
    "start_time": "2024-07-17T19:18:34.037Z"
   },
   {
    "duration": 255,
    "start_time": "2024-07-17T19:18:34.434Z"
   },
   {
    "duration": 368,
    "start_time": "2024-07-17T19:18:34.693Z"
   },
   {
    "duration": 253,
    "start_time": "2024-07-17T19:18:35.064Z"
   },
   {
    "duration": 249,
    "start_time": "2024-07-17T19:18:35.320Z"
   },
   {
    "duration": 105,
    "start_time": "2024-07-17T19:18:35.572Z"
   },
   {
    "duration": 6,
    "start_time": "2024-07-17T19:20:00.980Z"
   },
   {
    "duration": 299,
    "start_time": "2024-07-17T19:24:21.761Z"
   },
   {
    "duration": 463,
    "start_time": "2024-07-17T19:24:36.534Z"
   },
   {
    "duration": 14,
    "start_time": "2024-07-17T19:36:35.299Z"
   },
   {
    "duration": 16,
    "start_time": "2024-07-17T19:37:08.352Z"
   },
   {
    "duration": 13,
    "start_time": "2024-07-17T19:37:47.050Z"
   },
   {
    "duration": 14,
    "start_time": "2024-07-17T19:38:34.231Z"
   },
   {
    "duration": 5,
    "start_time": "2024-07-17T19:38:40.936Z"
   },
   {
    "duration": 25,
    "start_time": "2024-07-17T19:38:40.945Z"
   },
   {
    "duration": 16,
    "start_time": "2024-07-17T19:38:40.973Z"
   },
   {
    "duration": 36,
    "start_time": "2024-07-17T19:38:40.995Z"
   },
   {
    "duration": 15,
    "start_time": "2024-07-17T19:38:41.034Z"
   },
   {
    "duration": 16,
    "start_time": "2024-07-17T19:38:41.052Z"
   },
   {
    "duration": 6,
    "start_time": "2024-07-17T19:38:41.072Z"
   },
   {
    "duration": 54,
    "start_time": "2024-07-17T19:38:41.082Z"
   },
   {
    "duration": 14,
    "start_time": "2024-07-17T19:38:41.142Z"
   },
   {
    "duration": 12,
    "start_time": "2024-07-17T19:38:41.159Z"
   },
   {
    "duration": 14,
    "start_time": "2024-07-17T19:38:41.174Z"
   },
   {
    "duration": 12,
    "start_time": "2024-07-17T19:38:41.232Z"
   },
   {
    "duration": 13,
    "start_time": "2024-07-17T19:38:41.248Z"
   },
   {
    "duration": 16,
    "start_time": "2024-07-17T19:38:41.265Z"
   },
   {
    "duration": 51,
    "start_time": "2024-07-17T19:38:41.285Z"
   },
   {
    "duration": 12,
    "start_time": "2024-07-17T19:38:45.729Z"
   },
   {
    "duration": 102,
    "start_time": "2024-07-17T19:39:29.502Z"
   },
   {
    "duration": 707,
    "start_time": "2024-07-17T19:39:53.042Z"
   },
   {
    "duration": 351,
    "start_time": "2024-07-17T19:59:36.810Z"
   },
   {
    "duration": 4,
    "start_time": "2024-07-17T20:01:03.292Z"
   },
   {
    "duration": 28,
    "start_time": "2024-07-17T20:01:03.300Z"
   },
   {
    "duration": 17,
    "start_time": "2024-07-17T20:01:03.330Z"
   },
   {
    "duration": 5,
    "start_time": "2024-07-17T20:01:03.352Z"
   },
   {
    "duration": 22,
    "start_time": "2024-07-17T20:01:03.361Z"
   },
   {
    "duration": 53,
    "start_time": "2024-07-17T20:01:03.388Z"
   },
   {
    "duration": 7,
    "start_time": "2024-07-17T20:01:03.445Z"
   },
   {
    "duration": 17,
    "start_time": "2024-07-17T20:01:03.455Z"
   },
   {
    "duration": 50,
    "start_time": "2024-07-17T20:01:03.482Z"
   },
   {
    "duration": 14,
    "start_time": "2024-07-17T20:01:03.538Z"
   },
   {
    "duration": 14,
    "start_time": "2024-07-17T20:01:03.557Z"
   },
   {
    "duration": 14,
    "start_time": "2024-07-17T20:01:03.576Z"
   },
   {
    "duration": 17,
    "start_time": "2024-07-17T20:01:03.630Z"
   },
   {
    "duration": 15,
    "start_time": "2024-07-17T20:01:03.652Z"
   },
   {
    "duration": 14,
    "start_time": "2024-07-17T20:01:03.670Z"
   },
   {
    "duration": 756,
    "start_time": "2024-07-17T20:01:03.688Z"
   },
   {
    "duration": 302,
    "start_time": "2024-07-17T20:01:04.451Z"
   },
   {
    "duration": 353,
    "start_time": "2024-07-17T20:01:04.756Z"
   },
   {
    "duration": 248,
    "start_time": "2024-07-17T20:01:05.113Z"
   },
   {
    "duration": 396,
    "start_time": "2024-07-17T20:01:05.365Z"
   },
   {
    "duration": 288,
    "start_time": "2024-07-17T20:01:05.768Z"
   },
   {
    "duration": 6,
    "start_time": "2024-07-17T20:01:06.062Z"
   },
   {
    "duration": 499,
    "start_time": "2024-07-17T20:01:06.071Z"
   },
   {
    "duration": 358,
    "start_time": "2024-07-17T20:01:06.577Z"
   },
   {
    "duration": 274,
    "start_time": "2024-07-17T20:02:20.056Z"
   },
   {
    "duration": 15,
    "start_time": "2024-07-17T20:04:50.760Z"
   },
   {
    "duration": 43,
    "start_time": "2024-07-17T20:10:14.462Z"
   },
   {
    "duration": 49,
    "start_time": "2024-07-17T20:10:25.398Z"
   },
   {
    "duration": 26,
    "start_time": "2024-07-17T20:13:53.588Z"
   },
   {
    "duration": 469,
    "start_time": "2024-07-18T15:13:27.447Z"
   },
   {
    "duration": 5581,
    "start_time": "2024-07-18T15:13:49.553Z"
   },
   {
    "duration": 36,
    "start_time": "2024-07-18T15:13:55.137Z"
   },
   {
    "duration": 15,
    "start_time": "2024-07-18T15:13:55.176Z"
   },
   {
    "duration": 4,
    "start_time": "2024-07-18T15:13:55.195Z"
   },
   {
    "duration": 35,
    "start_time": "2024-07-18T15:13:55.202Z"
   },
   {
    "duration": 17,
    "start_time": "2024-07-18T15:13:55.240Z"
   },
   {
    "duration": 9,
    "start_time": "2024-07-18T15:13:55.260Z"
   },
   {
    "duration": 17,
    "start_time": "2024-07-18T15:13:55.272Z"
   },
   {
    "duration": 49,
    "start_time": "2024-07-18T15:13:55.292Z"
   },
   {
    "duration": 12,
    "start_time": "2024-07-18T15:13:55.347Z"
   },
   {
    "duration": 19,
    "start_time": "2024-07-18T15:13:55.362Z"
   },
   {
    "duration": 51,
    "start_time": "2024-07-18T15:13:55.386Z"
   },
   {
    "duration": 20,
    "start_time": "2024-07-18T15:13:55.443Z"
   },
   {
    "duration": 15,
    "start_time": "2024-07-18T15:13:55.466Z"
   },
   {
    "duration": 16,
    "start_time": "2024-07-18T15:13:55.484Z"
   },
   {
    "duration": 810,
    "start_time": "2024-07-18T15:13:55.503Z"
   },
   {
    "duration": 310,
    "start_time": "2024-07-18T15:13:56.316Z"
   },
   {
    "duration": 410,
    "start_time": "2024-07-18T15:13:56.628Z"
   },
   {
    "duration": 290,
    "start_time": "2024-07-18T15:13:57.044Z"
   },
   {
    "duration": 375,
    "start_time": "2024-07-18T15:13:57.339Z"
   },
   {
    "duration": 287,
    "start_time": "2024-07-18T15:13:57.717Z"
   },
   {
    "duration": 20,
    "start_time": "2024-07-18T15:13:58.010Z"
   },
   {
    "duration": 507,
    "start_time": "2024-07-18T15:13:58.032Z"
   },
   {
    "duration": 380,
    "start_time": "2024-07-18T15:13:58.542Z"
   },
   {
    "duration": 21,
    "start_time": "2024-07-18T15:13:58.925Z"
   },
   {
    "duration": 50,
    "start_time": "2024-07-18T15:13:58.949Z"
   },
   {
    "duration": 48,
    "start_time": "2024-07-18T15:13:59.002Z"
   },
   {
    "duration": 463,
    "start_time": "2024-07-18T15:41:20.604Z"
   },
   {
    "duration": 773,
    "start_time": "2024-07-18T15:57:50.461Z"
   },
   {
    "duration": 302,
    "start_time": "2024-07-18T16:00:51.272Z"
   },
   {
    "duration": 321,
    "start_time": "2024-07-18T16:01:14.233Z"
   },
   {
    "duration": 446,
    "start_time": "2024-07-18T16:01:48.798Z"
   },
   {
    "duration": 280,
    "start_time": "2024-07-18T16:03:28.872Z"
   },
   {
    "duration": 442,
    "start_time": "2024-07-18T16:05:01.075Z"
   },
   {
    "duration": 343,
    "start_time": "2024-07-18T16:09:00.603Z"
   },
   {
    "duration": 1285,
    "start_time": "2024-07-18T16:09:09.461Z"
   },
   {
    "duration": 317,
    "start_time": "2024-07-18T16:09:15.939Z"
   },
   {
    "duration": 411,
    "start_time": "2024-07-18T16:09:46.019Z"
   },
   {
    "duration": 693,
    "start_time": "2024-07-18T16:18:47.670Z"
   },
   {
    "duration": 286,
    "start_time": "2024-07-18T16:18:52.296Z"
   },
   {
    "duration": 364,
    "start_time": "2024-07-18T16:18:54.174Z"
   },
   {
    "duration": 316,
    "start_time": "2024-07-18T16:19:01.203Z"
   },
   {
    "duration": 694,
    "start_time": "2024-07-18T16:19:58.130Z"
   },
   {
    "duration": 298,
    "start_time": "2024-07-18T16:20:00.515Z"
   },
   {
    "duration": 414,
    "start_time": "2024-07-18T16:20:01.811Z"
   },
   {
    "duration": 323,
    "start_time": "2024-07-18T16:20:08.723Z"
   },
   {
    "duration": 455,
    "start_time": "2024-07-18T16:20:15.476Z"
   },
   {
    "duration": 273,
    "start_time": "2024-07-18T16:22:58.620Z"
   },
   {
    "duration": 12,
    "start_time": "2024-07-18T16:23:11.933Z"
   },
   {
    "duration": 11,
    "start_time": "2024-07-18T16:23:30.075Z"
   },
   {
    "duration": 154,
    "start_time": "2024-07-18T17:19:10.521Z"
   },
   {
    "duration": 324,
    "start_time": "2024-07-18T20:23:01.516Z"
   },
   {
    "duration": 751,
    "start_time": "2024-07-18T20:23:12.087Z"
   },
   {
    "duration": 257,
    "start_time": "2024-07-18T20:23:48.372Z"
   },
   {
    "duration": 352,
    "start_time": "2024-07-18T20:24:27.385Z"
   },
   {
    "duration": 281,
    "start_time": "2024-07-18T20:27:01.126Z"
   },
   {
    "duration": 419,
    "start_time": "2024-07-18T20:27:35.432Z"
   },
   {
    "duration": 355,
    "start_time": "2024-07-18T20:38:20.379Z"
   },
   {
    "duration": 1576,
    "start_time": "2024-07-18T20:40:20.305Z"
   },
   {
    "duration": 688,
    "start_time": "2024-07-18T20:40:50.717Z"
   },
   {
    "duration": 261,
    "start_time": "2024-07-18T20:41:15.443Z"
   },
   {
    "duration": 15,
    "start_time": "2024-07-18T20:42:43.641Z"
   },
   {
    "duration": 13,
    "start_time": "2024-07-18T20:43:26.600Z"
   },
   {
    "duration": 5,
    "start_time": "2024-07-18T20:44:06.491Z"
   },
   {
    "duration": 20,
    "start_time": "2024-07-18T20:44:06.500Z"
   },
   {
    "duration": 15,
    "start_time": "2024-07-18T20:44:06.523Z"
   },
   {
    "duration": 4,
    "start_time": "2024-07-18T20:44:06.541Z"
   },
   {
    "duration": 12,
    "start_time": "2024-07-18T20:44:06.550Z"
   },
   {
    "duration": 14,
    "start_time": "2024-07-18T20:44:06.565Z"
   },
   {
    "duration": 50,
    "start_time": "2024-07-18T20:44:06.582Z"
   },
   {
    "duration": 15,
    "start_time": "2024-07-18T20:44:06.635Z"
   },
   {
    "duration": 14,
    "start_time": "2024-07-18T20:44:06.654Z"
   },
   {
    "duration": 11,
    "start_time": "2024-07-18T20:44:06.670Z"
   },
   {
    "duration": 11,
    "start_time": "2024-07-18T20:44:06.731Z"
   },
   {
    "duration": 11,
    "start_time": "2024-07-18T20:44:06.745Z"
   },
   {
    "duration": 13,
    "start_time": "2024-07-18T20:44:06.759Z"
   },
   {
    "duration": 55,
    "start_time": "2024-07-18T20:44:06.778Z"
   },
   {
    "duration": 16,
    "start_time": "2024-07-18T20:44:06.837Z"
   },
   {
    "duration": 15,
    "start_time": "2024-07-18T20:44:06.856Z"
   },
   {
    "duration": 0,
    "start_time": "2024-07-18T20:44:06.875Z"
   },
   {
    "duration": 1,
    "start_time": "2024-07-18T20:44:06.882Z"
   },
   {
    "duration": 0,
    "start_time": "2024-07-18T20:44:06.884Z"
   },
   {
    "duration": 0,
    "start_time": "2024-07-18T20:44:06.886Z"
   },
   {
    "duration": 0,
    "start_time": "2024-07-18T20:44:06.930Z"
   },
   {
    "duration": 0,
    "start_time": "2024-07-18T20:44:06.932Z"
   },
   {
    "duration": 0,
    "start_time": "2024-07-18T20:44:06.935Z"
   },
   {
    "duration": 0,
    "start_time": "2024-07-18T20:44:06.936Z"
   },
   {
    "duration": 0,
    "start_time": "2024-07-18T20:44:06.939Z"
   },
   {
    "duration": 0,
    "start_time": "2024-07-18T20:44:06.942Z"
   },
   {
    "duration": 0,
    "start_time": "2024-07-18T20:44:06.944Z"
   },
   {
    "duration": 467,
    "start_time": "2024-07-18T20:44:52.456Z"
   },
   {
    "duration": 298,
    "start_time": "2024-07-18T20:45:29.958Z"
   },
   {
    "duration": 704,
    "start_time": "2024-07-18T20:47:43.572Z"
   },
   {
    "duration": 294,
    "start_time": "2024-07-18T20:48:05.792Z"
   },
   {
    "duration": 393,
    "start_time": "2024-07-18T20:48:16.554Z"
   },
   {
    "duration": 271,
    "start_time": "2024-07-18T20:48:23.195Z"
   },
   {
    "duration": 412,
    "start_time": "2024-07-18T20:49:15.067Z"
   },
   {
    "duration": 400,
    "start_time": "2024-07-18T20:49:55.387Z"
   },
   {
    "duration": 479,
    "start_time": "2024-07-18T20:50:34.787Z"
   },
   {
    "duration": 701,
    "start_time": "2024-07-18T20:52:26.994Z"
   },
   {
    "duration": 270,
    "start_time": "2024-07-18T20:52:34.364Z"
   },
   {
    "duration": 410,
    "start_time": "2024-07-18T20:52:38.809Z"
   },
   {
    "duration": 264,
    "start_time": "2024-07-18T20:53:33.110Z"
   },
   {
    "duration": 503,
    "start_time": "2024-07-18T20:54:01.216Z"
   },
   {
    "duration": 472,
    "start_time": "2024-07-18T20:54:14.585Z"
   },
   {
    "duration": 9,
    "start_time": "2024-07-18T20:55:00.766Z"
   },
   {
    "duration": 365,
    "start_time": "2024-07-18T20:55:05.139Z"
   },
   {
    "duration": 5,
    "start_time": "2024-07-18T20:55:13.576Z"
   },
   {
    "duration": 19,
    "start_time": "2024-07-18T20:55:13.586Z"
   },
   {
    "duration": 16,
    "start_time": "2024-07-18T20:55:13.608Z"
   },
   {
    "duration": 5,
    "start_time": "2024-07-18T20:55:13.629Z"
   },
   {
    "duration": 15,
    "start_time": "2024-07-18T20:55:13.637Z"
   },
   {
    "duration": 17,
    "start_time": "2024-07-18T20:55:13.657Z"
   },
   {
    "duration": 8,
    "start_time": "2024-07-18T20:55:13.677Z"
   },
   {
    "duration": 53,
    "start_time": "2024-07-18T20:55:13.687Z"
   },
   {
    "duration": 15,
    "start_time": "2024-07-18T20:55:13.747Z"
   },
   {
    "duration": 16,
    "start_time": "2024-07-18T20:55:13.765Z"
   },
   {
    "duration": 54,
    "start_time": "2024-07-18T20:55:13.784Z"
   },
   {
    "duration": 19,
    "start_time": "2024-07-18T20:55:13.845Z"
   },
   {
    "duration": 17,
    "start_time": "2024-07-18T20:55:13.867Z"
   },
   {
    "duration": 43,
    "start_time": "2024-07-18T20:55:13.889Z"
   },
   {
    "duration": 14,
    "start_time": "2024-07-18T20:55:13.935Z"
   },
   {
    "duration": 712,
    "start_time": "2024-07-18T20:55:13.952Z"
   },
   {
    "duration": 298,
    "start_time": "2024-07-18T20:55:14.667Z"
   },
   {
    "duration": 374,
    "start_time": "2024-07-18T20:55:14.969Z"
   },
   {
    "duration": 435,
    "start_time": "2024-07-18T20:55:15.347Z"
   },
   {
    "duration": 403,
    "start_time": "2024-07-18T20:55:15.785Z"
   },
   {
    "duration": 223,
    "start_time": "2024-07-18T20:55:28.712Z"
   },
   {
    "duration": 6,
    "start_time": "2024-07-18T20:55:32.533Z"
   },
   {
    "duration": 444,
    "start_time": "2024-07-18T20:55:32.547Z"
   },
   {
    "duration": 263,
    "start_time": "2024-07-18T20:55:32.994Z"
   },
   {
    "duration": 14,
    "start_time": "2024-07-18T20:55:33.260Z"
   },
   {
    "duration": 69,
    "start_time": "2024-07-18T20:55:33.278Z"
   },
   {
    "duration": 25,
    "start_time": "2024-07-18T20:55:33.350Z"
   },
   {
    "duration": 5249,
    "start_time": "2024-07-18T21:17:33.673Z"
   },
   {
    "duration": 25,
    "start_time": "2024-07-18T21:17:38.926Z"
   },
   {
    "duration": 17,
    "start_time": "2024-07-18T21:17:38.953Z"
   },
   {
    "duration": 4,
    "start_time": "2024-07-18T21:17:38.975Z"
   },
   {
    "duration": 16,
    "start_time": "2024-07-18T21:17:39.002Z"
   },
   {
    "duration": 16,
    "start_time": "2024-07-18T21:17:39.021Z"
   },
   {
    "duration": 7,
    "start_time": "2024-07-18T21:17:39.039Z"
   },
   {
    "duration": 54,
    "start_time": "2024-07-18T21:17:39.050Z"
   },
   {
    "duration": 14,
    "start_time": "2024-07-18T21:17:39.107Z"
   },
   {
    "duration": 11,
    "start_time": "2024-07-18T21:17:39.128Z"
   },
   {
    "duration": 12,
    "start_time": "2024-07-18T21:17:39.142Z"
   },
   {
    "duration": 12,
    "start_time": "2024-07-18T21:17:39.201Z"
   },
   {
    "duration": 16,
    "start_time": "2024-07-18T21:17:39.216Z"
   },
   {
    "duration": 17,
    "start_time": "2024-07-18T21:17:39.235Z"
   },
   {
    "duration": 55,
    "start_time": "2024-07-18T21:17:39.256Z"
   },
   {
    "duration": 786,
    "start_time": "2024-07-18T21:17:39.315Z"
   },
   {
    "duration": 299,
    "start_time": "2024-07-18T21:17:40.105Z"
   },
   {
    "duration": 416,
    "start_time": "2024-07-18T21:17:40.407Z"
   },
   {
    "duration": 284,
    "start_time": "2024-07-18T21:17:40.826Z"
   },
   {
    "duration": 461,
    "start_time": "2024-07-18T21:17:41.113Z"
   },
   {
    "duration": 258,
    "start_time": "2024-07-18T21:17:41.577Z"
   },
   {
    "duration": 8,
    "start_time": "2024-07-18T21:17:41.838Z"
   },
   {
    "duration": 494,
    "start_time": "2024-07-18T21:17:41.850Z"
   },
   {
    "duration": 321,
    "start_time": "2024-07-18T21:17:42.347Z"
   },
   {
    "duration": 31,
    "start_time": "2024-07-18T21:17:42.671Z"
   },
   {
    "duration": 50,
    "start_time": "2024-07-18T21:17:42.705Z"
   },
   {
    "duration": 55,
    "start_time": "2024-07-18T21:17:42.759Z"
   },
   {
    "duration": 4900,
    "start_time": "2024-07-18T22:18:33.379Z"
   },
   {
    "duration": 25,
    "start_time": "2024-07-18T22:18:38.282Z"
   },
   {
    "duration": 24,
    "start_time": "2024-07-18T22:18:38.310Z"
   },
   {
    "duration": 5,
    "start_time": "2024-07-18T22:18:38.339Z"
   },
   {
    "duration": 16,
    "start_time": "2024-07-18T22:18:38.347Z"
   },
   {
    "duration": 15,
    "start_time": "2024-07-18T22:18:38.366Z"
   },
   {
    "duration": 48,
    "start_time": "2024-07-18T22:18:38.384Z"
   },
   {
    "duration": 15,
    "start_time": "2024-07-18T22:18:38.435Z"
   },
   {
    "duration": 14,
    "start_time": "2024-07-18T22:18:38.454Z"
   },
   {
    "duration": 11,
    "start_time": "2024-07-18T22:18:38.475Z"
   },
   {
    "duration": 49,
    "start_time": "2024-07-18T22:18:38.489Z"
   },
   {
    "duration": 12,
    "start_time": "2024-07-18T22:18:38.541Z"
   },
   {
    "duration": 16,
    "start_time": "2024-07-18T22:18:38.556Z"
   },
   {
    "duration": 56,
    "start_time": "2024-07-18T22:18:38.575Z"
   },
   {
    "duration": 13,
    "start_time": "2024-07-18T22:18:38.634Z"
   },
   {
    "duration": 763,
    "start_time": "2024-07-18T22:18:38.650Z"
   },
   {
    "duration": 288,
    "start_time": "2024-07-18T22:18:39.415Z"
   },
   {
    "duration": 451,
    "start_time": "2024-07-18T22:18:39.706Z"
   },
   {
    "duration": 269,
    "start_time": "2024-07-18T22:18:40.164Z"
   },
   {
    "duration": 365,
    "start_time": "2024-07-18T22:18:40.436Z"
   },
   {
    "duration": 218,
    "start_time": "2024-07-18T22:18:40.804Z"
   },
   {
    "duration": 12,
    "start_time": "2024-07-18T22:18:41.025Z"
   },
   {
    "duration": 460,
    "start_time": "2024-07-18T22:18:41.040Z"
   },
   {
    "duration": 258,
    "start_time": "2024-07-18T22:18:41.504Z"
   },
   {
    "duration": 15,
    "start_time": "2024-07-18T22:18:41.768Z"
   },
   {
    "duration": 71,
    "start_time": "2024-07-18T22:18:41.785Z"
   },
   {
    "duration": 24,
    "start_time": "2024-07-18T22:18:41.860Z"
   },
   {
    "duration": 696,
    "start_time": "2024-07-18T22:19:17.129Z"
   },
   {
    "duration": 358,
    "start_time": "2024-07-18T22:19:25.079Z"
   },
   {
    "duration": 394,
    "start_time": "2024-07-18T22:19:34.529Z"
   },
   {
    "duration": 256,
    "start_time": "2024-07-18T22:19:40.603Z"
   },
   {
    "duration": 386,
    "start_time": "2024-07-18T22:19:51.811Z"
   },
   {
    "duration": 712,
    "start_time": "2024-07-18T22:20:11.364Z"
   },
   {
    "duration": 331,
    "start_time": "2024-07-19T11:20:22.986Z"
   },
   {
    "duration": 5048,
    "start_time": "2024-07-19T11:20:30.041Z"
   },
   {
    "duration": 23,
    "start_time": "2024-07-19T11:20:35.092Z"
   },
   {
    "duration": 29,
    "start_time": "2024-07-19T11:20:35.118Z"
   },
   {
    "duration": 5,
    "start_time": "2024-07-19T11:20:35.152Z"
   },
   {
    "duration": 16,
    "start_time": "2024-07-19T11:20:35.161Z"
   },
   {
    "duration": 53,
    "start_time": "2024-07-19T11:20:35.180Z"
   },
   {
    "duration": 7,
    "start_time": "2024-07-19T11:20:35.237Z"
   },
   {
    "duration": 14,
    "start_time": "2024-07-19T11:20:35.247Z"
   },
   {
    "duration": 15,
    "start_time": "2024-07-19T11:20:35.265Z"
   },
   {
    "duration": 11,
    "start_time": "2024-07-19T11:20:35.330Z"
   },
   {
    "duration": 12,
    "start_time": "2024-07-19T11:20:35.344Z"
   },
   {
    "duration": 10,
    "start_time": "2024-07-19T11:20:35.360Z"
   },
   {
    "duration": 30,
    "start_time": "2024-07-19T11:20:35.374Z"
   },
   {
    "duration": 16,
    "start_time": "2024-07-19T11:20:35.432Z"
   },
   {
    "duration": 13,
    "start_time": "2024-07-19T11:20:35.451Z"
   },
   {
    "duration": 442,
    "start_time": "2024-07-19T11:20:35.468Z"
   },
   {
    "duration": 0,
    "start_time": "2024-07-19T11:20:35.913Z"
   },
   {
    "duration": 0,
    "start_time": "2024-07-19T11:20:35.915Z"
   },
   {
    "duration": 0,
    "start_time": "2024-07-19T11:20:35.930Z"
   },
   {
    "duration": 0,
    "start_time": "2024-07-19T11:20:35.932Z"
   },
   {
    "duration": 0,
    "start_time": "2024-07-19T11:20:35.934Z"
   },
   {
    "duration": 0,
    "start_time": "2024-07-19T11:20:35.936Z"
   },
   {
    "duration": 0,
    "start_time": "2024-07-19T11:20:35.938Z"
   },
   {
    "duration": 0,
    "start_time": "2024-07-19T11:20:35.940Z"
   },
   {
    "duration": 0,
    "start_time": "2024-07-19T11:20:35.943Z"
   },
   {
    "duration": 0,
    "start_time": "2024-07-19T11:20:35.945Z"
   },
   {
    "duration": 0,
    "start_time": "2024-07-19T11:20:35.947Z"
   },
   {
    "duration": 726,
    "start_time": "2024-07-19T11:24:10.789Z"
   },
   {
    "duration": 282,
    "start_time": "2024-07-19T11:24:18.188Z"
   },
   {
    "duration": 391,
    "start_time": "2024-07-19T11:24:18.474Z"
   },
   {
    "duration": 270,
    "start_time": "2024-07-19T11:24:18.868Z"
   },
   {
    "duration": 364,
    "start_time": "2024-07-19T11:24:19.143Z"
   },
   {
    "duration": 271,
    "start_time": "2024-07-19T11:24:19.510Z"
   },
   {
    "duration": 6,
    "start_time": "2024-07-19T11:24:19.784Z"
   },
   {
    "duration": 485,
    "start_time": "2024-07-19T11:24:19.794Z"
   },
   {
    "duration": 264,
    "start_time": "2024-07-19T11:24:20.281Z"
   },
   {
    "duration": 17,
    "start_time": "2024-07-19T11:24:20.548Z"
   },
   {
    "duration": 75,
    "start_time": "2024-07-19T11:24:20.572Z"
   },
   {
    "duration": 26,
    "start_time": "2024-07-19T11:24:20.650Z"
   },
   {
    "duration": 681,
    "start_time": "2024-07-19T11:36:11.532Z"
   },
   {
    "duration": 858,
    "start_time": "2024-07-19T11:36:41.963Z"
   },
   {
    "duration": 7,
    "start_time": "2024-07-19T11:44:07.777Z"
   },
   {
    "duration": 346,
    "start_time": "2024-07-22T17:59:27.417Z"
   },
   {
    "duration": 5014,
    "start_time": "2024-07-22T17:59:31.746Z"
   },
   {
    "duration": 28,
    "start_time": "2024-07-22T17:59:36.767Z"
   },
   {
    "duration": 17,
    "start_time": "2024-07-22T17:59:36.798Z"
   },
   {
    "duration": 5,
    "start_time": "2024-07-22T17:59:36.818Z"
   },
   {
    "duration": 41,
    "start_time": "2024-07-22T17:59:36.828Z"
   },
   {
    "duration": 17,
    "start_time": "2024-07-22T17:59:36.873Z"
   },
   {
    "duration": 7,
    "start_time": "2024-07-22T17:59:36.893Z"
   },
   {
    "duration": 14,
    "start_time": "2024-07-22T17:59:36.903Z"
   },
   {
    "duration": 55,
    "start_time": "2024-07-22T17:59:36.921Z"
   },
   {
    "duration": 13,
    "start_time": "2024-07-22T17:59:36.978Z"
   },
   {
    "duration": 13,
    "start_time": "2024-07-22T17:59:36.994Z"
   },
   {
    "duration": 60,
    "start_time": "2024-07-22T17:59:37.010Z"
   },
   {
    "duration": 12,
    "start_time": "2024-07-22T17:59:37.073Z"
   },
   {
    "duration": 13,
    "start_time": "2024-07-22T17:59:37.091Z"
   },
   {
    "duration": 14,
    "start_time": "2024-07-22T17:59:37.107Z"
   },
   {
    "duration": 50,
    "start_time": "2024-07-22T17:59:37.124Z"
   },
   {
    "duration": 785,
    "start_time": "2024-07-22T17:59:37.177Z"
   },
   {
    "duration": 283,
    "start_time": "2024-07-22T17:59:37.970Z"
   },
   {
    "duration": 428,
    "start_time": "2024-07-22T17:59:38.256Z"
   },
   {
    "duration": 294,
    "start_time": "2024-07-22T17:59:38.688Z"
   },
   {
    "duration": 358,
    "start_time": "2024-07-22T17:59:38.985Z"
   },
   {
    "duration": 262,
    "start_time": "2024-07-22T17:59:39.347Z"
   },
   {
    "duration": 7,
    "start_time": "2024-07-22T17:59:39.612Z"
   },
   {
    "duration": 869,
    "start_time": "2024-07-22T17:59:39.622Z"
   },
   {
    "duration": 267,
    "start_time": "2024-07-22T17:59:40.494Z"
   },
   {
    "duration": 15,
    "start_time": "2024-07-22T17:59:40.764Z"
   },
   {
    "duration": 45,
    "start_time": "2024-07-22T17:59:40.782Z"
   },
   {
    "duration": 58,
    "start_time": "2024-07-22T17:59:40.830Z"
   },
   {
    "duration": 8,
    "start_time": "2024-07-22T18:00:28.073Z"
   },
   {
    "duration": 240,
    "start_time": "2024-07-22T18:18:34.040Z"
   },
   {
    "duration": 552,
    "start_time": "2024-07-22T18:33:28.785Z"
   },
   {
    "duration": 10,
    "start_time": "2024-07-22T18:44:11.696Z"
   },
   {
    "duration": 233,
    "start_time": "2024-07-22T18:50:07.284Z"
   },
   {
    "duration": 427,
    "start_time": "2024-07-22T19:35:01.384Z"
   },
   {
    "duration": 5,
    "start_time": "2024-07-22T19:35:54.110Z"
   },
   {
    "duration": 21,
    "start_time": "2024-07-22T19:35:54.118Z"
   },
   {
    "duration": 16,
    "start_time": "2024-07-22T19:35:54.143Z"
   },
   {
    "duration": 6,
    "start_time": "2024-07-22T19:35:54.164Z"
   },
   {
    "duration": 12,
    "start_time": "2024-07-22T19:35:54.173Z"
   },
   {
    "duration": 15,
    "start_time": "2024-07-22T19:35:54.188Z"
   },
   {
    "duration": 6,
    "start_time": "2024-07-22T19:35:54.206Z"
   },
   {
    "duration": 60,
    "start_time": "2024-07-22T19:35:54.216Z"
   },
   {
    "duration": 16,
    "start_time": "2024-07-22T19:35:54.284Z"
   },
   {
    "duration": 11,
    "start_time": "2024-07-22T19:35:54.304Z"
   },
   {
    "duration": 54,
    "start_time": "2024-07-22T19:35:54.318Z"
   },
   {
    "duration": 15,
    "start_time": "2024-07-22T19:35:54.377Z"
   },
   {
    "duration": 20,
    "start_time": "2024-07-22T19:35:54.396Z"
   },
   {
    "duration": 50,
    "start_time": "2024-07-22T19:35:54.419Z"
   },
   {
    "duration": 16,
    "start_time": "2024-07-22T19:35:54.474Z"
   },
   {
    "duration": 779,
    "start_time": "2024-07-22T19:35:54.494Z"
   },
   {
    "duration": 332,
    "start_time": "2024-07-22T19:35:55.277Z"
   },
   {
    "duration": 450,
    "start_time": "2024-07-22T19:35:55.612Z"
   },
   {
    "duration": 284,
    "start_time": "2024-07-22T19:35:56.069Z"
   },
   {
    "duration": 404,
    "start_time": "2024-07-22T19:35:56.357Z"
   },
   {
    "duration": 227,
    "start_time": "2024-07-22T19:35:56.772Z"
   },
   {
    "duration": 278,
    "start_time": "2024-07-22T19:35:57.002Z"
   },
   {
    "duration": 587,
    "start_time": "2024-07-22T19:35:57.283Z"
   },
   {
    "duration": 7,
    "start_time": "2024-07-22T19:35:57.882Z"
   },
   {
    "duration": 11,
    "start_time": "2024-07-22T19:35:57.895Z"
   },
   {
    "duration": 325,
    "start_time": "2024-07-22T19:35:57.910Z"
   },
   {
    "duration": 997,
    "start_time": "2024-07-22T19:35:58.240Z"
   },
   {
    "duration": 260,
    "start_time": "2024-07-22T19:35:59.240Z"
   },
   {
    "duration": 15,
    "start_time": "2024-07-22T19:35:59.504Z"
   },
   {
    "duration": 75,
    "start_time": "2024-07-22T19:35:59.523Z"
   },
   {
    "duration": 26,
    "start_time": "2024-07-22T19:35:59.601Z"
   },
   {
    "duration": 4,
    "start_time": "2024-07-22T20:25:25.889Z"
   },
   {
    "duration": 22,
    "start_time": "2024-07-22T20:25:25.897Z"
   },
   {
    "duration": 14,
    "start_time": "2024-07-22T20:25:25.923Z"
   },
   {
    "duration": 5,
    "start_time": "2024-07-22T20:25:25.940Z"
   },
   {
    "duration": 14,
    "start_time": "2024-07-22T20:25:25.968Z"
   },
   {
    "duration": 15,
    "start_time": "2024-07-22T20:25:25.985Z"
   },
   {
    "duration": 6,
    "start_time": "2024-07-22T20:25:26.004Z"
   },
   {
    "duration": 64,
    "start_time": "2024-07-22T20:25:26.013Z"
   },
   {
    "duration": 14,
    "start_time": "2024-07-22T20:25:26.080Z"
   },
   {
    "duration": 11,
    "start_time": "2024-07-22T20:25:26.097Z"
   },
   {
    "duration": 58,
    "start_time": "2024-07-22T20:25:26.114Z"
   },
   {
    "duration": 11,
    "start_time": "2024-07-22T20:25:26.175Z"
   },
   {
    "duration": 13,
    "start_time": "2024-07-22T20:25:26.189Z"
   },
   {
    "duration": 14,
    "start_time": "2024-07-22T20:25:26.205Z"
   },
   {
    "duration": 53,
    "start_time": "2024-07-22T20:25:26.223Z"
   },
   {
    "duration": 721,
    "start_time": "2024-07-22T20:25:26.279Z"
   },
   {
    "duration": 291,
    "start_time": "2024-07-22T20:25:27.002Z"
   },
   {
    "duration": 400,
    "start_time": "2024-07-22T20:25:27.296Z"
   },
   {
    "duration": 313,
    "start_time": "2024-07-22T20:25:27.700Z"
   },
   {
    "duration": 409,
    "start_time": "2024-07-22T20:25:28.018Z"
   },
   {
    "duration": 214,
    "start_time": "2024-07-22T20:25:28.430Z"
   },
   {
    "duration": 247,
    "start_time": "2024-07-22T20:25:28.647Z"
   },
   {
    "duration": 548,
    "start_time": "2024-07-22T20:25:28.897Z"
   },
   {
    "duration": 6,
    "start_time": "2024-07-22T20:25:29.448Z"
   },
   {
    "duration": 12,
    "start_time": "2024-07-22T20:25:29.469Z"
   },
   {
    "duration": 237,
    "start_time": "2024-07-22T20:25:29.487Z"
   },
   {
    "duration": 770,
    "start_time": "2024-07-22T20:25:29.727Z"
   },
   {
    "duration": 259,
    "start_time": "2024-07-22T20:25:30.501Z"
   },
   {
    "duration": 15,
    "start_time": "2024-07-22T20:25:30.770Z"
   },
   {
    "duration": 46,
    "start_time": "2024-07-22T20:25:30.789Z"
   },
   {
    "duration": 33,
    "start_time": "2024-07-22T20:25:30.869Z"
   },
   {
    "duration": 5,
    "start_time": "2024-07-22T20:33:06.867Z"
   },
   {
    "duration": 22,
    "start_time": "2024-07-22T20:33:06.876Z"
   },
   {
    "duration": 16,
    "start_time": "2024-07-22T20:33:06.901Z"
   },
   {
    "duration": 5,
    "start_time": "2024-07-22T20:33:06.920Z"
   },
   {
    "duration": 48,
    "start_time": "2024-07-22T20:33:06.929Z"
   },
   {
    "duration": 15,
    "start_time": "2024-07-22T20:33:06.980Z"
   },
   {
    "duration": 7,
    "start_time": "2024-07-22T20:33:06.998Z"
   },
   {
    "duration": 15,
    "start_time": "2024-07-22T20:33:07.008Z"
   },
   {
    "duration": 15,
    "start_time": "2024-07-22T20:33:07.069Z"
   },
   {
    "duration": 12,
    "start_time": "2024-07-22T20:33:07.088Z"
   },
   {
    "duration": 12,
    "start_time": "2024-07-22T20:33:07.108Z"
   },
   {
    "duration": 13,
    "start_time": "2024-07-22T20:33:07.169Z"
   },
   {
    "duration": 18,
    "start_time": "2024-07-22T20:33:07.186Z"
   },
   {
    "duration": 14,
    "start_time": "2024-07-22T20:33:07.207Z"
   },
   {
    "duration": 54,
    "start_time": "2024-07-22T20:33:07.224Z"
   },
   {
    "duration": 849,
    "start_time": "2024-07-22T20:33:07.281Z"
   },
   {
    "duration": 302,
    "start_time": "2024-07-22T20:33:08.132Z"
   },
   {
    "duration": 440,
    "start_time": "2024-07-22T20:33:08.437Z"
   },
   {
    "duration": 272,
    "start_time": "2024-07-22T20:33:08.884Z"
   },
   {
    "duration": 376,
    "start_time": "2024-07-22T20:33:09.158Z"
   },
   {
    "duration": 219,
    "start_time": "2024-07-22T20:33:09.537Z"
   },
   {
    "duration": 262,
    "start_time": "2024-07-22T20:33:09.759Z"
   },
   {
    "duration": 513,
    "start_time": "2024-07-22T20:33:10.024Z"
   },
   {
    "duration": 6,
    "start_time": "2024-07-22T20:33:10.540Z"
   },
   {
    "duration": 26,
    "start_time": "2024-07-22T20:33:10.549Z"
   },
   {
    "duration": 238,
    "start_time": "2024-07-22T20:33:10.578Z"
   },
   {
    "duration": 773,
    "start_time": "2024-07-22T20:33:10.826Z"
   },
   {
    "duration": 280,
    "start_time": "2024-07-22T20:33:11.602Z"
   },
   {
    "duration": 15,
    "start_time": "2024-07-22T20:33:11.885Z"
   },
   {
    "duration": 70,
    "start_time": "2024-07-22T20:33:11.903Z"
   },
   {
    "duration": 27,
    "start_time": "2024-07-22T20:33:11.976Z"
   },
   {
    "duration": 10,
    "start_time": "2024-07-22T20:34:05.069Z"
   },
   {
    "duration": 8,
    "start_time": "2024-07-22T20:35:46.728Z"
   },
   {
    "duration": 7,
    "start_time": "2024-07-22T20:35:52.857Z"
   },
   {
    "duration": 266,
    "start_time": "2024-07-22T20:36:57.635Z"
   },
   {
    "duration": 261,
    "start_time": "2024-07-22T20:37:15.296Z"
   },
   {
    "duration": 334,
    "start_time": "2024-07-22T20:37:46.670Z"
   },
   {
    "duration": 6,
    "start_time": "2024-07-22T20:40:41.125Z"
   },
   {
    "duration": 375,
    "start_time": "2024-07-22T20:50:03.882Z"
   },
   {
    "duration": 366,
    "start_time": "2024-07-22T20:51:09.790Z"
   },
   {
    "duration": 292,
    "start_time": "2024-07-22T20:54:49.138Z"
   },
   {
    "duration": 308,
    "start_time": "2024-07-22T20:55:14.063Z"
   },
   {
    "duration": 357,
    "start_time": "2024-07-22T20:55:29.520Z"
   },
   {
    "duration": 286,
    "start_time": "2024-07-22T20:55:49.868Z"
   },
   {
    "duration": 301,
    "start_time": "2024-07-22T20:55:58.016Z"
   }
  ],
  "kernelspec": {
   "display_name": "Python 3 (ipykernel)",
   "language": "python",
   "name": "python3"
  },
  "language_info": {
   "codemirror_mode": {
    "name": "ipython",
    "version": 3
   },
   "file_extension": ".py",
   "mimetype": "text/x-python",
   "name": "python",
   "nbconvert_exporter": "python",
   "pygments_lexer": "ipython3",
   "version": "3.9.19"
  },
  "toc": {
   "base_numbering": 1,
   "nav_menu": {},
   "number_sections": true,
   "sideBar": true,
   "skip_h1_title": true,
   "title_cell": "Table of Contents",
   "title_sidebar": "Contents",
   "toc_cell": false,
   "toc_position": {},
   "toc_section_display": true,
   "toc_window_display": false
  }
 },
 "nbformat": 4,
 "nbformat_minor": 2
}
