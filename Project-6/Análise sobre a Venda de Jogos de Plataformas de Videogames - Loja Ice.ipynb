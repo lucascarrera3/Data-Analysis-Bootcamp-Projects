{
 "cells": [
  {
   "cell_type": "markdown",
   "metadata": {},
   "source": [
    "# Análise sobre a Venda de Jogos de Plataformas de Videogames - Loja Ice "
   ]
  },
  {
   "cell_type": "markdown",
   "metadata": {},
   "source": [
    "# Conteúdo <a id='back'></a>\n",
    "\n",
    "* [1) Introdução](#intro)\n",
    "* [2) Objetivo do Projeto](#projectgoal)\n",
    "* [3) Preparação de Dados](#data_preprocessing)\n",
    "* [4) Análise Total de Vendas](#salesanalysis)\n",
    "* [5) Análise das Plataformas](#plataformsanalysis)\n",
    "* [6) A Influência das Avaliações nas Vendas](#salesinfluency)\n",
    "* [7) Os Gêneros Preferidos dos Consumidores](#genrespreference)\n",
    "* [8) Venda das Plataformas por Região (NA, EU, JP)](#salesperregion)\n",
    "* [9) Classificações ERSB (Entertainment Software Rating Board)](#ERSB)\n",
    "* [10) Formulação das Hipóteses](#hypothesesform)\n",
    "* [11) Testando Hipóteses](#hypothesestest)\n",
    "* [12) Conclusão Geral](#end)"
   ]
  },
  {
   "cell_type": "markdown",
   "metadata": {},
   "source": [
    "# Introdução"
   ]
  },
  {
   "cell_type": "markdown",
   "metadata": {},
   "source": [
    "A loja online Ice, vende jogos para plataformas de videogames no mundo todo. Através das avaliações de usuários e especialistas, dados históricos, gêneros, plataformas como Xbox, Playstation, Wii, entre outras, vamos analisar e identificar padrões que determinam se um jogo possíveis sucessos de vendas, possibilitando o planejamento de campanhas publicitárias para os próximos anos."
   ]
  },
  {
   "cell_type": "markdown",
   "metadata": {},
   "source": [
    "# Objetivo do Projeto \n",
    "\n",
    "O objetivo deste projeto será analisar um conjunto de dados de jogos, abordando diversos aspectos das vendas e classificações de jogos em diferentes plataformas e gêneros, com um foco especial nas seguintes áreas:\n",
    "\n",
    "- Variação das vendas de jogos por plataforma;\n",
    "- Identificação das plataformas líderes em diferentes regiões;\n",
    "- Avaliação do impacto das classificações ESRB nas vendas;\n",
    "- Comparação das classificações médias dos usuários entre diferentes gêneros e plataformas;\n",
    "- Análise da influência das classificações dos usuários e críticos nas vendas."
   ]
  },
  {
   "cell_type": "markdown",
   "metadata": {},
   "source": [
    "# Preparação de Dados"
   ]
  },
  {
   "cell_type": "code",
   "execution_count": 1,
   "metadata": {},
   "outputs": [],
   "source": [
    "import pandas as pd \n",
    "import numpy as np\n",
    "import seaborn as sns\n",
    "from matplotlib import pyplot as plt\n",
    "from math import factorial\n",
    "from scipy import stats # Carregando todas as bibliotecas"
   ]
  },
  {
   "cell_type": "code",
   "execution_count": 2,
   "metadata": {},
   "outputs": [],
   "source": [
    "games_df = pd.read_csv('/datasets/games.csv', sep = ',', decimal='.') # Carregando o arquivo de dados em DataFrame"
   ]
  },
  {
   "cell_type": "code",
   "execution_count": 3,
   "metadata": {},
   "outputs": [
    {
     "name": "stdout",
     "output_type": "stream",
     "text": [
      "<class 'pandas.core.frame.DataFrame'>\n",
      "RangeIndex: 16715 entries, 0 to 16714\n",
      "Data columns (total 11 columns):\n",
      " #   Column           Non-Null Count  Dtype  \n",
      "---  ------           --------------  -----  \n",
      " 0   Name             16713 non-null  object \n",
      " 1   Platform         16715 non-null  object \n",
      " 2   Year_of_Release  16446 non-null  float64\n",
      " 3   Genre            16713 non-null  object \n",
      " 4   NA_sales         16715 non-null  float64\n",
      " 5   EU_sales         16715 non-null  float64\n",
      " 6   JP_sales         16715 non-null  float64\n",
      " 7   Other_sales      16715 non-null  float64\n",
      " 8   Critic_Score     8137 non-null   float64\n",
      " 9   User_Score       10014 non-null  object \n",
      " 10  Rating           9949 non-null   object \n",
      "dtypes: float64(6), object(5)\n",
      "memory usage: 1.4+ MB\n"
     ]
    }
   ],
   "source": [
    "games_df.info() # Imprimindo as informações gerais/resumidas sobre o DataFrame de games"
   ]
  },
  {
   "cell_type": "code",
   "execution_count": 4,
   "metadata": {},
   "outputs": [
    {
     "data": {
      "text/html": [
       "<div>\n",
       "<style scoped>\n",
       "    .dataframe tbody tr th:only-of-type {\n",
       "        vertical-align: middle;\n",
       "    }\n",
       "\n",
       "    .dataframe tbody tr th {\n",
       "        vertical-align: top;\n",
       "    }\n",
       "\n",
       "    .dataframe thead th {\n",
       "        text-align: right;\n",
       "    }\n",
       "</style>\n",
       "<table border=\"1\" class=\"dataframe\">\n",
       "  <thead>\n",
       "    <tr style=\"text-align: right;\">\n",
       "      <th></th>\n",
       "      <th>Name</th>\n",
       "      <th>Platform</th>\n",
       "      <th>Year_of_Release</th>\n",
       "      <th>Genre</th>\n",
       "      <th>NA_sales</th>\n",
       "      <th>EU_sales</th>\n",
       "      <th>JP_sales</th>\n",
       "      <th>Other_sales</th>\n",
       "      <th>Critic_Score</th>\n",
       "      <th>User_Score</th>\n",
       "      <th>Rating</th>\n",
       "    </tr>\n",
       "  </thead>\n",
       "  <tbody>\n",
       "    <tr>\n",
       "      <th>0</th>\n",
       "      <td>Wii Sports</td>\n",
       "      <td>Wii</td>\n",
       "      <td>2006.0</td>\n",
       "      <td>Sports</td>\n",
       "      <td>41.36</td>\n",
       "      <td>28.96</td>\n",
       "      <td>3.77</td>\n",
       "      <td>8.45</td>\n",
       "      <td>76.0</td>\n",
       "      <td>8</td>\n",
       "      <td>E</td>\n",
       "    </tr>\n",
       "    <tr>\n",
       "      <th>1</th>\n",
       "      <td>Super Mario Bros.</td>\n",
       "      <td>NES</td>\n",
       "      <td>1985.0</td>\n",
       "      <td>Platform</td>\n",
       "      <td>29.08</td>\n",
       "      <td>3.58</td>\n",
       "      <td>6.81</td>\n",
       "      <td>0.77</td>\n",
       "      <td>NaN</td>\n",
       "      <td>NaN</td>\n",
       "      <td>NaN</td>\n",
       "    </tr>\n",
       "    <tr>\n",
       "      <th>2</th>\n",
       "      <td>Mario Kart Wii</td>\n",
       "      <td>Wii</td>\n",
       "      <td>2008.0</td>\n",
       "      <td>Racing</td>\n",
       "      <td>15.68</td>\n",
       "      <td>12.76</td>\n",
       "      <td>3.79</td>\n",
       "      <td>3.29</td>\n",
       "      <td>82.0</td>\n",
       "      <td>8.3</td>\n",
       "      <td>E</td>\n",
       "    </tr>\n",
       "    <tr>\n",
       "      <th>3</th>\n",
       "      <td>Wii Sports Resort</td>\n",
       "      <td>Wii</td>\n",
       "      <td>2009.0</td>\n",
       "      <td>Sports</td>\n",
       "      <td>15.61</td>\n",
       "      <td>10.93</td>\n",
       "      <td>3.28</td>\n",
       "      <td>2.95</td>\n",
       "      <td>80.0</td>\n",
       "      <td>8</td>\n",
       "      <td>E</td>\n",
       "    </tr>\n",
       "    <tr>\n",
       "      <th>4</th>\n",
       "      <td>Pokemon Red/Pokemon Blue</td>\n",
       "      <td>GB</td>\n",
       "      <td>1996.0</td>\n",
       "      <td>Role-Playing</td>\n",
       "      <td>11.27</td>\n",
       "      <td>8.89</td>\n",
       "      <td>10.22</td>\n",
       "      <td>1.00</td>\n",
       "      <td>NaN</td>\n",
       "      <td>NaN</td>\n",
       "      <td>NaN</td>\n",
       "    </tr>\n",
       "    <tr>\n",
       "      <th>5</th>\n",
       "      <td>Tetris</td>\n",
       "      <td>GB</td>\n",
       "      <td>1989.0</td>\n",
       "      <td>Puzzle</td>\n",
       "      <td>23.20</td>\n",
       "      <td>2.26</td>\n",
       "      <td>4.22</td>\n",
       "      <td>0.58</td>\n",
       "      <td>NaN</td>\n",
       "      <td>NaN</td>\n",
       "      <td>NaN</td>\n",
       "    </tr>\n",
       "    <tr>\n",
       "      <th>6</th>\n",
       "      <td>New Super Mario Bros.</td>\n",
       "      <td>DS</td>\n",
       "      <td>2006.0</td>\n",
       "      <td>Platform</td>\n",
       "      <td>11.28</td>\n",
       "      <td>9.14</td>\n",
       "      <td>6.50</td>\n",
       "      <td>2.88</td>\n",
       "      <td>89.0</td>\n",
       "      <td>8.5</td>\n",
       "      <td>E</td>\n",
       "    </tr>\n",
       "    <tr>\n",
       "      <th>7</th>\n",
       "      <td>Wii Play</td>\n",
       "      <td>Wii</td>\n",
       "      <td>2006.0</td>\n",
       "      <td>Misc</td>\n",
       "      <td>13.96</td>\n",
       "      <td>9.18</td>\n",
       "      <td>2.93</td>\n",
       "      <td>2.84</td>\n",
       "      <td>58.0</td>\n",
       "      <td>6.6</td>\n",
       "      <td>E</td>\n",
       "    </tr>\n",
       "    <tr>\n",
       "      <th>8</th>\n",
       "      <td>New Super Mario Bros. Wii</td>\n",
       "      <td>Wii</td>\n",
       "      <td>2009.0</td>\n",
       "      <td>Platform</td>\n",
       "      <td>14.44</td>\n",
       "      <td>6.94</td>\n",
       "      <td>4.70</td>\n",
       "      <td>2.24</td>\n",
       "      <td>87.0</td>\n",
       "      <td>8.4</td>\n",
       "      <td>E</td>\n",
       "    </tr>\n",
       "    <tr>\n",
       "      <th>9</th>\n",
       "      <td>Duck Hunt</td>\n",
       "      <td>NES</td>\n",
       "      <td>1984.0</td>\n",
       "      <td>Shooter</td>\n",
       "      <td>26.93</td>\n",
       "      <td>0.63</td>\n",
       "      <td>0.28</td>\n",
       "      <td>0.47</td>\n",
       "      <td>NaN</td>\n",
       "      <td>NaN</td>\n",
       "      <td>NaN</td>\n",
       "    </tr>\n",
       "  </tbody>\n",
       "</table>\n",
       "</div>"
      ],
      "text/plain": [
       "                        Name Platform  Year_of_Release         Genre  \\\n",
       "0                 Wii Sports      Wii           2006.0        Sports   \n",
       "1          Super Mario Bros.      NES           1985.0      Platform   \n",
       "2             Mario Kart Wii      Wii           2008.0        Racing   \n",
       "3          Wii Sports Resort      Wii           2009.0        Sports   \n",
       "4   Pokemon Red/Pokemon Blue       GB           1996.0  Role-Playing   \n",
       "5                     Tetris       GB           1989.0        Puzzle   \n",
       "6      New Super Mario Bros.       DS           2006.0      Platform   \n",
       "7                   Wii Play      Wii           2006.0          Misc   \n",
       "8  New Super Mario Bros. Wii      Wii           2009.0      Platform   \n",
       "9                  Duck Hunt      NES           1984.0       Shooter   \n",
       "\n",
       "   NA_sales  EU_sales  JP_sales  Other_sales  Critic_Score User_Score Rating  \n",
       "0     41.36     28.96      3.77         8.45          76.0          8      E  \n",
       "1     29.08      3.58      6.81         0.77           NaN        NaN    NaN  \n",
       "2     15.68     12.76      3.79         3.29          82.0        8.3      E  \n",
       "3     15.61     10.93      3.28         2.95          80.0          8      E  \n",
       "4     11.27      8.89     10.22         1.00           NaN        NaN    NaN  \n",
       "5     23.20      2.26      4.22         0.58           NaN        NaN    NaN  \n",
       "6     11.28      9.14      6.50         2.88          89.0        8.5      E  \n",
       "7     13.96      9.18      2.93         2.84          58.0        6.6      E  \n",
       "8     14.44      6.94      4.70         2.24          87.0        8.4      E  \n",
       "9     26.93      0.63      0.28         0.47           NaN        NaN    NaN  "
      ]
     },
     "execution_count": 4,
     "metadata": {},
     "output_type": "execute_result"
    }
   ],
   "source": [
    "games_df.head(10) # Imprimindo uma amostra de dados dos games"
   ]
  },
  {
   "cell_type": "code",
   "execution_count": 5,
   "metadata": {},
   "outputs": [
    {
     "name": "stdout",
     "output_type": "stream",
     "text": [
      "Index(['Name', 'Platform', 'Year_of_Release', 'Genre', 'NA_sales', 'EU_sales',\n",
      "       'JP_sales', 'Other_sales', 'Critic_Score', 'User_Score', 'Rating'],\n",
      "      dtype='object')\n"
     ]
    }
   ],
   "source": [
    "print(games_df.columns) #Imprimindo os nomes das colunas"
   ]
  },
  {
   "cell_type": "markdown",
   "metadata": {},
   "source": [
    "Conforme as boas práticas de estilo, vamos transformar os nomes das colunas em letras minúsculas para evitar erros."
   ]
  },
  {
   "cell_type": "code",
   "execution_count": 6,
   "metadata": {},
   "outputs": [
    {
     "name": "stdout",
     "output_type": "stream",
     "text": [
      "Index(['name', 'platform', 'year_of_release', 'genre', 'na_sales', 'eu_sales',\n",
      "       'jp_sales', 'other_sales', 'critic_score', 'user_score', 'rating'],\n",
      "      dtype='object')\n"
     ]
    }
   ],
   "source": [
    "new_col_names = []\n",
    "\n",
    "for old_name in games_df.columns:\n",
    "    name_lowered = old_name.lower()\n",
    "    new_col_names.append(name_lowered)\n",
    "    \n",
    "games_df.columns = new_col_names\n",
    "    \n",
    "print(games_df.columns) #Substituindo os nomes das colunas (transformando tudo em minúsculos)"
   ]
  },
  {
   "cell_type": "code",
   "execution_count": 7,
   "metadata": {},
   "outputs": [
    {
     "name": "stdout",
     "output_type": "stream",
     "text": [
      "name                  2\n",
      "platform              0\n",
      "year_of_release     269\n",
      "genre                 2\n",
      "na_sales              0\n",
      "eu_sales              0\n",
      "jp_sales              0\n",
      "other_sales           0\n",
      "critic_score       8578\n",
      "user_score         6701\n",
      "rating             6766\n",
      "dtype: int64\n"
     ]
    }
   ],
   "source": [
    "print(games_df.isna().sum()) #calculando o número de valores ausentes"
   ]
  },
  {
   "cell_type": "markdown",
   "metadata": {},
   "source": [
    "Os valores ausentes estão presentes pelas possíveis razões de desconhecimento dos dados, dados a serem preenchidos ou por falha nos preenchimentos de dados. De qualquer modo, deixaremos os valores ausentes presentes no DataFrame para que não seja introduzido nenhum viés. "
   ]
  },
  {
   "cell_type": "code",
   "execution_count": 8,
   "metadata": {},
   "outputs": [],
   "source": [
    "games_df['year_of_release'].fillna(0, inplace=True)"
   ]
  },
  {
   "cell_type": "code",
   "execution_count": 9,
   "metadata": {},
   "outputs": [],
   "source": [
    "games_df['year_of_release'] = games_df['year_of_release'].astype('int') #Transformando os dados de ano de lançamento para número inteiro.Descreva as colunas onde os tipos de dados foram alterados e por quê. "
   ]
  },
  {
   "cell_type": "code",
   "execution_count": 10,
   "metadata": {},
   "outputs": [
    {
     "data": {
      "text/plain": [
       "dtype('int64')"
      ]
     },
     "execution_count": 10,
     "metadata": {},
     "output_type": "execute_result"
    }
   ],
   "source": [
    "games_df['year_of_release'].dtype"
   ]
  },
  {
   "cell_type": "code",
   "execution_count": 11,
   "metadata": {},
   "outputs": [],
   "source": [
    "games_df['user_score'] = pd.to_numeric(games_df['user_score'], errors='coerce')"
   ]
  },
  {
   "cell_type": "code",
   "execution_count": 12,
   "metadata": {},
   "outputs": [
    {
     "name": "stdout",
     "output_type": "stream",
     "text": [
      "0\n"
     ]
    }
   ],
   "source": [
    "print(games_df.duplicated().sum()) #Contando duplicados explícitos"
   ]
  },
  {
   "cell_type": "markdown",
   "metadata": {},
   "source": [
    "Não há valores duplicados no arquivo de dados."
   ]
  },
  {
   "cell_type": "markdown",
   "metadata": {},
   "source": [
    "# Análise Total de Vendas"
   ]
  },
  {
   "cell_type": "code",
   "execution_count": 13,
   "metadata": {},
   "outputs": [
    {
     "name": "stdout",
     "output_type": "stream",
     "text": [
      "0    82.54\n",
      "1    40.24\n",
      "2    35.52\n",
      "3    32.77\n",
      "4    31.38\n",
      "Name: total_sales, dtype: float64\n"
     ]
    }
   ],
   "source": [
    "games_df['total_sales'] = games_df['na_sales'] + games_df['eu_sales'] + games_df['jp_sales'] + games_df['other_sales']\n",
    "print(games_df['total_sales'].head()) #Calculando o total de vendas (em todas as regiões) para cada jogo e coloque esses valores em uma coluna separada."
   ]
  },
  {
   "cell_type": "code",
   "execution_count": 14,
   "metadata": {},
   "outputs": [
    {
     "name": "stdout",
     "output_type": "stream",
     "text": [
      "0        269\n",
      "1980       9\n",
      "1981      46\n",
      "1982      36\n",
      "1983      17\n",
      "1984      14\n",
      "1985      14\n",
      "1986      21\n",
      "1987      16\n",
      "1988      15\n",
      "1989      17\n",
      "1990      16\n",
      "1991      41\n",
      "1992      43\n",
      "1993      62\n",
      "1994     121\n",
      "1995     219\n",
      "1996     263\n",
      "1997     289\n",
      "1998     379\n",
      "1999     338\n",
      "2000     350\n",
      "2001     482\n",
      "2002     829\n",
      "2003     775\n",
      "2004     762\n",
      "2005     939\n",
      "2006    1006\n",
      "2007    1197\n",
      "2008    1427\n",
      "2009    1426\n",
      "2010    1255\n",
      "2011    1136\n",
      "2012     653\n",
      "2013     544\n",
      "2014     581\n",
      "2015     606\n",
      "2016     502\n",
      "Name: year_of_release, dtype: int64\n"
     ]
    }
   ],
   "source": [
    "yearly_releases = games_df['year_of_release'].value_counts().sort_index()\n",
    "print(yearly_releases)"
   ]
  },
  {
   "cell_type": "markdown",
   "metadata": {},
   "source": [
    "Os dados mostram um aumento significativo no número de jogos lançados a partir da década de 1990, atingindo um pico em 2008. Após isso, há uma ligeira diminuição nos lançamentos anuais até 2016."
   ]
  },
  {
   "cell_type": "code",
   "execution_count": 15,
   "metadata": {},
   "outputs": [
    {
     "data": {
      "image/png": "[encoded data removed]",
      "text/plain": [
       "<Figure size 1200x600 with 1 Axes>"
      ]
     },
     "metadata": {},
     "output_type": "display_data"
    }
   ],
   "source": [
    "plt.figure(figsize=(12, 6))\n",
    "yearly_releases.plot(kind='bar')\n",
    "plt.title('Número de Jogos Lançados por Ano')\n",
    "plt.xlabel('Ano de Lançamento')\n",
    "plt.ylabel('Número de Jogos')\n",
    "plt.grid(axis='y')\n",
    "plt.show() #Plotando a contagem de jogos lançados por ano"
   ]
  },
  {
   "cell_type": "markdown",
   "metadata": {},
   "source": [
    "O gráfico mostra claramente a evolução do número de lançamentos de jogos ao longo dos anos. A partir da década de 1980, observa-se um crescimento gradual, que se acelera na década de 2000, com o seu pico em 2008. Após 2008, há uma queda gradual nos lançamentos até 2016."
   ]
  },
  {
   "cell_type": "code",
   "execution_count": 16,
   "metadata": {},
   "outputs": [],
   "source": [
    "games_df = games_df.dropna(subset=['year_of_release']) #Removendo registros com anos ausentes e filtrar dados relevantes\n",
    "games_df = games_df[(games_df['year_of_release'] >= 2013) & (games_df['year_of_release'] <= 2016)]  #Considerando dados de 2013 até 2016\n"
   ]
  },
  {
   "cell_type": "code",
   "execution_count": 17,
   "metadata": {},
   "outputs": [],
   "source": [
    "yearly_releases = games_df['year_of_release'].value_counts().sort_index() #Contando o número de jogos lançados por ano"
   ]
  },
  {
   "cell_type": "code",
   "execution_count": 18,
   "metadata": {},
   "outputs": [
    {
     "name": "stdout",
     "output_type": "stream",
     "text": [
      "platform\n",
      "PS4     314.14\n",
      "PS3     181.43\n",
      "XOne    159.32\n",
      "3DS     143.25\n",
      "X360    136.80\n",
      "WiiU     64.63\n",
      "PC       39.43\n",
      "PSV      32.99\n",
      "Wii      13.66\n",
      "PSP       3.50\n",
      "DS        1.54\n",
      "Name: total_sales, dtype: float64\n"
     ]
    }
   ],
   "source": [
    "games_df['total_sales'] = games_df[['na_sales', 'eu_sales', 'jp_sales', 'other_sales']].sum(axis=1)\n",
    "platform_sales = games_df.groupby('platform')['total_sales'].sum().sort_values(ascending=False)\n",
    "print(platform_sales)"
   ]
  },
  {
   "cell_type": "markdown",
   "metadata": {},
   "source": [
    "Vendas Totais por Plataforma."
   ]
  },
  {
   "cell_type": "code",
   "execution_count": 19,
   "metadata": {},
   "outputs": [
    {
     "name": "stdout",
     "output_type": "stream",
     "text": [
      "Index(['PS4', 'PS3', 'XOne', '3DS', 'X360'], dtype='object', name='platform')\n"
     ]
    }
   ],
   "source": [
    "top_platforms = platform_sales.head(5).index\n",
    "print(top_platforms)"
   ]
  },
  {
   "cell_type": "markdown",
   "metadata": {},
   "source": [
    "As 5 plataformas com mais vendas."
   ]
  },
  {
   "cell_type": "code",
   "execution_count": 20,
   "metadata": {},
   "outputs": [
    {
     "data": {
      "image/png": "[encoded data removed]",
      "text/plain": [
       "<Figure size 1400x700 with 1 Axes>"
      ]
     },
     "metadata": {},
     "output_type": "display_data"
    }
   ],
   "source": [
    "filtered_data = games_df[games_df['platform'].isin(top_platforms)]\n",
    "\n",
    "plt.figure(figsize=(14, 7))\n",
    "\n",
    "for platform in top_platforms:\n",
    "    platform_data = filtered_data[filtered_data['platform'] == platform]\n",
    "    yearly_sales = platform_data.groupby('year_of_release')['total_sales'].sum()\n",
    "    plt.plot(yearly_sales.index, yearly_sales.values, label=platform)\n",
    "\n",
    "plt.title('Distribuição de Vendas por Ano para as Principais Plataformas')\n",
    "plt.xlabel('Ano de Lançamento')\n",
    "plt.ylabel('Vendas Totais (em milhões)')\n",
    "plt.legend(title='Plataformas')\n",
    "plt.grid(True)\n",
    "plt.show()"
   ]
  },
  {
   "cell_type": "markdown",
   "metadata": {},
   "source": [
    "O gráfico oferece uma visão clara das tendências e padrões de vendas ao longo do tempo para as principais plataformas de jogos. Podemos identificar anos em que cada plataforma teve picos de vendas. Esses picos geralmente coincidem com lançamentos de jogos populares ou novos modelos de hardware. As plataformas também mostram declínios nas vendas após atingirem o pico, o que pode ser devido ao surgimento de novas tecnologias ou à diminuição do interesse dos consumidores."
   ]
  },
  {
   "cell_type": "markdown",
   "metadata": {},
   "source": [
    "# Análise das Plataformas"
   ]
  },
  {
   "cell_type": "code",
   "execution_count": 21,
   "metadata": {},
   "outputs": [
    {
     "name": "stdout",
     "output_type": "stream",
     "text": [
      "platform\n",
      "3DS     2016\n",
      "DS      2013\n",
      "PC      2016\n",
      "PS3     2016\n",
      "PS4     2016\n",
      "PSP     2015\n",
      "PSV     2016\n",
      "Wii     2016\n",
      "WiiU    2016\n",
      "X360    2016\n",
      "XOne    2016\n",
      "Name: year_of_release, dtype: int64\n"
     ]
    }
   ],
   "source": [
    "last_year_sales = games_df.groupby('platform')['year_of_release'].max()\n",
    "inactive_platforms = last_year_sales[last_year_sales >= 2013]\n",
    "\n",
    "print(inactive_platforms) #Identificando quando as plataformas parara de ter novas vendas"
   ]
  },
  {
   "cell_type": "code",
   "execution_count": 22,
   "metadata": {},
   "outputs": [
    {
     "name": "stdout",
     "output_type": "stream",
     "text": [
      "           min   max  lifetime\n",
      "platform                      \n",
      "3DS       2013  2016         3\n",
      "DS        2013  2013         0\n",
      "PC        2013  2016         3\n",
      "PS3       2013  2016         3\n",
      "PS4       2013  2016         3\n",
      "PSP       2013  2015         2\n",
      "PSV       2013  2016         3\n",
      "Wii       2013  2016         3\n",
      "WiiU      2013  2016         3\n",
      "X360      2013  2016         3\n",
      "XOne      2013  2016         3\n"
     ]
    }
   ],
   "source": [
    "platform_lifetime = games_df.groupby('platform')['year_of_release'].agg(['min', 'max'])\n",
    "platform_lifetime['lifetime'] = platform_lifetime['max'] - platform_lifetime['min']\n",
    "\n",
    "print(platform_lifetime) #Calculando a diferença de anos entre o primeiro e o último lançamento para cada plataforma"
   ]
  },
  {
   "cell_type": "markdown",
   "metadata": {},
   "source": [
    "Foi determinado que o período em análise será entre 2013 e 2016, para mapeamento de um modelo para o ano de 2017. "
   ]
  },
  {
   "cell_type": "code",
   "execution_count": 23,
   "metadata": {},
   "outputs": [
    {
     "name": "stdout",
     "output_type": "stream",
     "text": [
      "{'PS4': 1.6644863409003465, 'PS3': -0.9682119205298013, 'XOne': 0.3792194092827019, '3DS': -0.7323669789641154, 'X360': -0.9828403702867465}\n"
     ]
    }
   ],
   "source": [
    "growth_decline = {}\n",
    "for platform in top_platforms:\n",
    "    platform_data = filtered_data[filtered_data['platform'] == platform]\n",
    "    yearly_sales = platform_data.groupby('year_of_release')['total_sales'].sum()\n",
    "    growth_decline[platform] = (yearly_sales.iloc[-1] - yearly_sales.iloc[0]) / yearly_sales.iloc[0]\n",
    "\n",
    "print(growth_decline) #Analisando crescimento ou declínio de vendas por plataforma"
   ]
  },
  {
   "cell_type": "code",
   "execution_count": 24,
   "metadata": {},
   "outputs": [
    {
     "data": {
      "image/png": "[encoded data removed]",
      "text/plain": [
       "<Figure size 1400x700 with 1 Axes>"
      ]
     },
     "metadata": {},
     "output_type": "display_data"
    }
   ],
   "source": [
    "plt.figure(figsize=(14, 7))\n",
    "\n",
    "sns.boxplot(x='platform', y='total_sales', data=games_df)\n",
    "plt.title('Diagrama de Caixa das Vendas Globais por Plataforma')\n",
    "plt.xlabel('Plataforma')\n",
    "plt.ylabel('Vendas Totais (em milhões)')\n",
    "plt.show() #Construindo um diagrama de caixa para as vendas globais de todos os jogos, divididos por plataforma"
   ]
  },
  {
   "cell_type": "markdown",
   "metadata": {},
   "source": [
    "A linha central em cada caixa representa a mediana das vendas globais para cada plataforma. Comparando as medianas entre plataformas, podemos identificar quais plataformas têm, em média, vendas mais altas. A altura da caixa indica a dispersão das vendas. Plataformas com caixas mais altas têm maior variação nas vendas dos jogos.Pontos individuais fora dos bigodes indicam outliers, ou seja, jogos que venderam significativamente mais (ou menos) do que a maioria dos jogos na mesma plataforma.\n",
    "\n",
    "    \n",
    "O console PS3 se destaca com números muito altos, ultrapassando 20 milhões em vendas globais. X360, PS4 e 3DS apresentam números semelhantes de vendas, solidificando a linha Playstation e seus vários modelos ao longo dos anos, que consolidaram a marca junto às maiores plataformas de games. \n",
    "\n"
   ]
  },
  {
   "cell_type": "markdown",
   "metadata": {},
   "source": [
    "# A Influência das Avaliações nas Vendas "
   ]
  },
  {
   "cell_type": "code",
   "execution_count": 25,
   "metadata": {},
   "outputs": [
    {
     "data": {
      "image/png": "[encoded data removed]",
      "text/plain": [
       "<Figure size 1400x700 with 1 Axes>"
      ]
     },
     "metadata": {},
     "output_type": "display_data"
    }
   ],
   "source": [
    "platform = 'PS3'\n",
    "platform_data = games_df[games_df['platform'] == platform]# Escolhendo uma plataforma popular (PS2)\n",
    "\n",
    "\n",
    "plt.figure(figsize=(14, 7))\n",
    "plt.scatter(platform_data['critic_score'], platform_data['total_sales'], alpha=0.5)\n",
    "plt.title('Correlação entre Avaliações de Críticos e Vendas - PS3')\n",
    "plt.xlabel('Pontuação dos Críticos')\n",
    "plt.ylabel('Vendas Totais (em milhões)')\n",
    "plt.grid(True)\n",
    "plt.show() #Construindo um gráfico de dispersão para avaliações de críticos e vendas"
   ]
  },
  {
   "cell_type": "code",
   "execution_count": 26,
   "metadata": {},
   "outputs": [
    {
     "name": "stdout",
     "output_type": "stream",
     "text": [
      "Correlação entre Pontuação dos Críticos e Vendas (PS3): 0.3342853393371919\n"
     ]
    }
   ],
   "source": [
    "correlation_critic = platform_data['critic_score'].corr(platform_data['total_sales'])\n",
    "print(f'Correlação entre Pontuação dos Críticos e Vendas (PS3): {correlation_critic}') #Calculando a correlação entre avaliações de crítcos e vendas"
   ]
  },
  {
   "cell_type": "markdown",
   "metadata": {},
   "source": [
    "A correlação de 0.3342853393371919 entre a pontuação dos críticos e as vendas dos jogos na plataforma PS3 parece ter um impacto moderado nas vendas dos jogos. Isso sugere que, embora não seja o único fator, as avaliações dos críticos influenciam as decisões de compra dos consumidores, possivelmente devido à confiança que os consumidores depositam nesses críticos."
   ]
  },
  {
   "cell_type": "code",
   "execution_count": 27,
   "metadata": {},
   "outputs": [
    {
     "data": {
      "image/png": "[encoded data removed]",
      "text/plain": [
       "<Figure size 1400x700 with 1 Axes>"
      ]
     },
     "metadata": {},
     "output_type": "display_data"
    }
   ],
   "source": [
    "plt.figure(figsize=(14, 7))\n",
    "plt.scatter(platform_data['user_score'], platform_data['total_sales'], alpha=0.5)\n",
    "plt.title('Correlação entre Avaliações de Usuários e Vendas - PS3')\n",
    "plt.xlabel('Pontuação dos Usuários')\n",
    "plt.ylabel('Vendas Totais (em milhões)')\n",
    "plt.grid(True)\n",
    "plt.show() #Construindo um gráfico de dispersão para avaliações de usuários e vendas"
   ]
  },
  {
   "cell_type": "code",
   "execution_count": 28,
   "metadata": {},
   "outputs": [
    {
     "name": "stdout",
     "output_type": "stream",
     "text": [
      "Correlação entre Pontuação dos Usuários e Vendas (PS3): 0.0023944027357566925\n"
     ]
    }
   ],
   "source": [
    "\n",
    "correlation_user = platform_data['user_score'].corr(platform_data['total_sales'])\n",
    "print(f'Correlação entre Pontuação dos Usuários e Vendas (PS3): {correlation_user}') #Calculando a correlação entre avaliações e vendas"
   ]
  },
  {
   "cell_type": "markdown",
   "metadata": {},
   "source": [
    "A correlação de 0.0023944027357566925 entre a pontuação dos usuários e as vendas dos jogos na plataforma PS3 está muito próximo de 0. Isso sugere que não há praticamente nenhuma correlação linear entre a pontuação dos usuários e as vendas dos jogos de PS3. As decisões de compra dos consumidores de jogos de PS3 não são fortemente influenciadas pelas avaliações dos usuários."
   ]
  },
  {
   "cell_type": "code",
   "execution_count": 29,
   "metadata": {},
   "outputs": [
    {
     "name": "stdout",
     "output_type": "stream",
     "text": [
      "platform                                   3DS  DS  PC   PS3   PS4   PSP  \\\n",
      "name                                                                       \n",
      "2014 FIFA World Cup Brazil                 NaN NaN NaN  0.61   NaN   NaN   \n",
      "3rd Super Robot Wars Z Jigoku Hen          NaN NaN NaN  0.23   NaN   NaN   \n",
      "3rd Super Robot Wars Z: Tengoku-Hen        NaN NaN NaN  0.15   NaN   NaN   \n",
      "AKB1/149: Love Election                    NaN NaN NaN  0.08   NaN   NaN   \n",
      "Accel World: Kasoku no Chouten             NaN NaN NaN  0.02   NaN  0.01   \n",
      "...                                        ...  ..  ..   ...   ...   ...   \n",
      "Yakuza Zero: The Place of Oath             NaN NaN NaN  0.25  0.17   NaN   \n",
      "Yakuza: Ishin                              NaN NaN NaN  0.26  0.15   NaN   \n",
      "Yoru no Nai Kuni                           NaN NaN NaN  0.05  0.08   NaN   \n",
      "Young Justice: Legacy                     0.03 NaN NaN  0.09   NaN   NaN   \n",
      "Zillions of Enemy X: Zetsukai no Crusade   NaN NaN NaN  0.02   NaN   NaN   \n",
      "\n",
      "platform                                   PSV   Wii  WiiU  X360  XOne  \n",
      "name                                                                    \n",
      "2014 FIFA World Cup Brazil                 NaN   NaN   NaN  0.43   NaN  \n",
      "3rd Super Robot Wars Z Jigoku Hen         0.19   NaN   NaN   NaN   NaN  \n",
      "3rd Super Robot Wars Z: Tengoku-Hen       0.19   NaN   NaN   NaN   NaN  \n",
      "AKB1/149: Love Election                    NaN   NaN   NaN   NaN   NaN  \n",
      "Accel World: Kasoku no Chouten             NaN   NaN   NaN   NaN   NaN  \n",
      "...                                        ...   ...   ...   ...   ...  \n",
      "Yakuza Zero: The Place of Oath             NaN   NaN   NaN   NaN   NaN  \n",
      "Yakuza: Ishin                              NaN   NaN   NaN   NaN   NaN  \n",
      "Yoru no Nai Kuni                          0.08   NaN   NaN   NaN   NaN  \n",
      "Young Justice: Legacy                      NaN  0.03   NaN  0.01   NaN  \n",
      "Zillions of Enemy X: Zetsukai no Crusade   NaN   NaN   NaN   NaN   NaN  \n",
      "\n",
      "[345 rows x 11 columns]\n"
     ]
    }
   ],
   "source": [
    "\n",
    "same_games = games_df[games_df['name'].isin(platform_data['name'])]\n",
    "comparison = same_games.groupby(['name', 'platform'])['total_sales'].sum().unstack()\n",
    "\n",
    "print(comparison)#Comparando vendas dos mesmos jogos em outras plataformas"
   ]
  },
  {
   "cell_type": "markdown",
   "metadata": {},
   "source": [
    "O dataframe same_games contém as vendas totais de jogos que estão disponíveis em múltiplas plataformas. A variável comparison foi criada agrupando as vendas totais por jogo e plataforma, e depois reorganizada para facilitar a visualização das comparações. A comparação revela como diferentes jogos se comportam em termos de vendas em diversas plataformas. "
   ]
  },
  {
   "cell_type": "markdown",
   "metadata": {},
   "source": [
    "# Os Gêneros Preferidos dos Consumidores"
   ]
  },
  {
   "cell_type": "code",
   "execution_count": 30,
   "metadata": {},
   "outputs": [
    {
     "data": {
      "image/png": "[encoded data removed]",
      "text/plain": [
       "<Figure size 1400x700 with 1 Axes>"
      ]
     },
     "metadata": {},
     "output_type": "display_data"
    },
    {
     "name": "stdout",
     "output_type": "stream",
     "text": [
      "genre\n",
      "Action          321.87\n",
      "Shooter         232.98\n",
      "Sports          150.65\n",
      "Role-Playing    145.89\n",
      "Misc             62.82\n",
      "Platform         42.63\n",
      "Racing           39.89\n",
      "Fighting         35.31\n",
      "Adventure        23.64\n",
      "Simulation       21.76\n",
      "Strategy         10.08\n",
      "Puzzle            3.17\n",
      "Name: total_sales, dtype: float64\n"
     ]
    }
   ],
   "source": [
    "genre_sales = games_df.groupby('genre')['total_sales'].sum().sort_values(ascending=False)\n",
    "\n",
    "plt.figure(figsize=(14, 7))\n",
    "genre_sales.plot(kind='bar')\n",
    "plt.title('Distribuição de Vendas por Gênero')\n",
    "plt.xlabel('Gênero')\n",
    "plt.ylabel('Vendas Totais (em milhões)')\n",
    "plt.grid(True)\n",
    "plt.show()\n",
    "\n",
    "print(genre_sales) #Analisando a distribuição geral de jogos por gênero"
   ]
  },
  {
   "cell_type": "markdown",
   "metadata": {},
   "source": [
    "Jogos de ação lideram as vendas globais, indicando um apelo universal devido à sua jogabilidade intensa e variada. Jogos de tiro continuam a ser uma força dominante no mercado de jogos. Já a presença constante dos jogos de esportes entre os principais gêneros em todas as regiões destaca seu apelo universal, provavelmente pelos títulos futebolísticos (aqui precisaria ter mais dados pra confirmar essa hipótese).E os RPGs mantêm uma forte base de fãs devido às suas histórias ricas e jogabilidade imersiva, com maior popularidade no Japão."
   ]
  },
  {
   "cell_type": "markdown",
   "metadata": {},
   "source": [
    "# Venda das Plataformas por Região (NA, EU, JP)"
   ]
  },
  {
   "cell_type": "code",
   "execution_count": 31,
   "metadata": {},
   "outputs": [
    {
     "name": "stdout",
     "output_type": "stream",
     "text": [
      "platform\n",
      "PS4     108.74\n",
      "XOne     93.12\n",
      "X360     81.66\n",
      "PS3      63.50\n",
      "3DS      38.20\n",
      "Name: na_sales, dtype: float64\n"
     ]
    }
   ],
   "source": [
    "na_sales = games_df.groupby('platform')['na_sales'].sum().sort_values(ascending=False) \n",
    "\n",
    "top_platforms_na = na_sales.head(5)\n",
    "\n",
    "print(top_platforms_na) #Calculando as vendas totais na região NA por plataforma"
   ]
  },
  {
   "cell_type": "code",
   "execution_count": 32,
   "metadata": {},
   "outputs": [
    {
     "name": "stdout",
     "output_type": "stream",
     "text": [
      "platform\n",
      "PS4     141.09\n",
      "PS3      67.81\n",
      "XOne     51.59\n",
      "X360     42.52\n",
      "3DS      30.96\n",
      "Name: eu_sales, dtype: float64\n"
     ]
    }
   ],
   "source": [
    "eu_sales = games_df.groupby('platform')['eu_sales'].sum().sort_values(ascending=False) \n",
    "\n",
    "top_platforms_eu = eu_sales.head(5)\n",
    "\n",
    "print(top_platforms_eu) #Calculando as vendas totais na região EU por plataforma"
   ]
  },
  {
   "cell_type": "code",
   "execution_count": 33,
   "metadata": {},
   "outputs": [
    {
     "name": "stdout",
     "output_type": "stream",
     "text": [
      "platform\n",
      "3DS     67.81\n",
      "PS3     23.35\n",
      "PSV     18.59\n",
      "PS4     15.96\n",
      "WiiU    10.88\n",
      "Name: jp_sales, dtype: float64\n"
     ]
    }
   ],
   "source": [
    "jp_sales = games_df.groupby('platform')['jp_sales'].sum().sort_values(ascending=False) \n",
    "\n",
    "top_platforms_jp = jp_sales.head(5)\n",
    "\n",
    "print(top_platforms_jp) #Calculando as vendas totais na região JP por plataforma"
   ]
  },
  {
   "cell_type": "code",
   "execution_count": 34,
   "metadata": {},
   "outputs": [
    {
     "name": "stdout",
     "output_type": "stream",
     "text": [
      "          na_sales  eu_sales  jp_sales\n",
      "platform                              \n",
      "3DS          38.20     30.96     67.81\n",
      "DS            0.57      0.85      0.00\n",
      "PC           11.11     25.36      0.00\n",
      "PS3          63.50     67.81     23.35\n",
      "PS4         108.74    141.09     15.96\n",
      "PSP           0.00      0.17      3.29\n",
      "PSV           5.04      6.10     18.59\n",
      "Wii           6.56      5.93      0.05\n",
      "WiiU         29.21     19.85     10.88\n",
      "X360         81.66     42.52      0.51\n",
      "XOne         93.12     51.59      0.34\n"
     ]
    }
   ],
   "source": [
    "region_sales = games_df.groupby('platform')[['na_sales', 'eu_sales', 'jp_sales']].sum()\n",
    "print(region_sales) #Calculando as vendas totais por plataforma em cada região"
   ]
  },
  {
   "cell_type": "markdown",
   "metadata": {},
   "source": [
    "Cada região tem suas próprias preferências, com a América do Norte favorecendo o PS4 e Xbox 360, a Europa favorecendo as plataformas PlayStation e XBox em seguida, e o Japão favorecendo os consoles móveis da Nintendo (3DS)."
   ]
  },
  {
   "cell_type": "code",
   "execution_count": 35,
   "metadata": {},
   "outputs": [],
   "source": [
    "region_sales['global_sales'] = region_sales.sum(axis=1) #Calculando as vendas globais para cada plataforma"
   ]
  },
  {
   "cell_type": "code",
   "execution_count": 36,
   "metadata": {},
   "outputs": [],
   "source": [
    "\n",
    "region_sales['na_share'] = region_sales['na_sales'] / region_sales['global_sales']* 100\n",
    "region_sales['eu_share'] = region_sales['eu_sales'] / region_sales['global_sales']* 100\n",
    "region_sales['jp_share'] = region_sales['jp_sales'] / region_sales['global_sales']* 100\n",
    "\n",
    "#Calculando a quota de mercado de cada plataforma em cada região\n"
   ]
  },
  {
   "cell_type": "code",
   "execution_count": 37,
   "metadata": {},
   "outputs": [],
   "source": [
    "region_sales = region_sales.sort_values(by='global_sales', ascending=False).round(2)\n",
    "#Ordenando por vendas globais para ver as plataformas principais"
   ]
  },
  {
   "cell_type": "code",
   "execution_count": 38,
   "metadata": {},
   "outputs": [
    {
     "name": "stdout",
     "output_type": "stream",
     "text": [
      "          na_share  eu_share  jp_share\n",
      "platform                              \n",
      "PS4          40.91     53.08      6.00\n",
      "PS3          41.06     43.84     15.10\n",
      "XOne         64.20     35.57      0.23\n",
      "3DS          27.89     22.60     49.51\n",
      "X360         65.49     34.10      0.41\n",
      "WiiU         48.73     33.12     18.15\n",
      "PC           30.46     69.54      0.00\n",
      "PSV          16.95     20.52     62.53\n",
      "Wii          52.31     47.29      0.40\n",
      "PSP           0.00      4.91     95.09\n",
      "DS           40.14     59.86      0.00\n"
     ]
    }
   ],
   "source": [
    "print(region_sales[['na_share', 'eu_share', 'jp_share']])"
   ]
  },
  {
   "cell_type": "markdown",
   "metadata": {},
   "source": [
    "Essas quotas indicam a proporção das vendas globais que cada plataforma representa em cada região, permitindo comparar a popularidade relativa das plataformas em diferentes mercados."
   ]
  },
  {
   "cell_type": "code",
   "execution_count": 39,
   "metadata": {},
   "outputs": [
    {
     "name": "stdout",
     "output_type": "stream",
     "text": [
      "\n",
      "Top Genres in North America:\n",
      "genre\n",
      "Action          126.05\n",
      "Shooter         109.74\n",
      "Sports           65.27\n",
      "Role-Playing     46.40\n",
      "Misc             27.49\n",
      "Name: na_sales, dtype: float64\n",
      "\n",
      "Top Genres in Europe:\n",
      "genre\n",
      "Action          118.13\n",
      "Shooter          87.86\n",
      "Sports           60.52\n",
      "Role-Playing     36.97\n",
      "Racing           20.19\n",
      "Name: eu_sales, dtype: float64\n",
      "\n",
      "Top Genres in Japan:\n",
      "genre\n",
      "Role-Playing    51.04\n",
      "Action          40.49\n",
      "Misc             9.20\n",
      "Fighting         7.65\n",
      "Shooter          6.61\n",
      "Name: jp_sales, dtype: float64\n"
     ]
    }
   ],
   "source": [
    "\n",
    "region_genre = games_df.groupby('genre')[['na_sales', 'eu_sales', 'jp_sales']].sum()\n",
    "\n",
    "top_genres_na = region_genre['na_sales'].sort_values(ascending=False).head(5)\n",
    "top_genres_eu = region_genre['eu_sales'].sort_values(ascending=False).head(5)\n",
    "top_genres_jp = region_genre['jp_sales'].sort_values(ascending=False).head(5)\n",
    "\n",
    "print(\"\\nTop Genres in North America:\")\n",
    "print(top_genres_na)\n",
    "print(\"\\nTop Genres in Europe:\")\n",
    "print(top_genres_eu)\n",
    "print(\"\\nTop Genres in Japan:\")\n",
    "print(top_genres_jp)#Calculando os 5 principais gêneros em cada região"
   ]
  },
  {
   "cell_type": "markdown",
   "metadata": {},
   "source": [
    "Na América do Norte, se observa a preferência por jogos de tiro e ação. Na Europa, a preferência de gêneros se assemelha as da América do Norte, mas os jogos de esportes conseguem seu destaque também. Por fim, no Japão,os famosos jogos de RPG (Role-Playing Games) são extremamente populares, assim como os de ação, refletindo uma longa tradição de desenvolvimento de jogos nesses gêneros."
   ]
  },
  {
   "cell_type": "markdown",
   "metadata": {},
   "source": [
    "# Classificações ERSB (Entertainment Software Rating Board):"
   ]
  },
  {
   "cell_type": "markdown",
   "metadata": {},
   "source": [
    "\n",
    "\n",
    "Antes de iniciar as análises sobre a relação de vendas e a classificação ESRB para jogos eletrônicos, é importante ter uma ideia sobre o que se trata esta classificação.\n",
    "\n",
    "A classificação ESRB (Entertainment Software Rating Board) é um sistema de classificação de conteúdo para jogos eletrônicos que ajuda os consumidores, especialmente os pais, a fazerem escolhas informadas sobre os jogos que compram para suas famílias. A ESRB atribui classificações que indicam a faixa etária apropriada para um jogo e fornece descrições de conteúdo para explicar os elementos que contribuíram para essa classificação. Aqui estão as principais classificações e como elas funcionam:\n",
    "\n",
    "1 - EC (Early Childhood): Jogos que são apropriados para crianças pequenas e não contêm conteúdo questionável(3 anos ou mais);\n",
    "2 - E (Everyone): Jogos que são adequados para todas as idades. Podem conter pouca violência, humor ou linguagem mínima(6 anos ou mais);\n",
    "3 - E10+: Jogos adequados para crianças de 10 anos ou mais. Podem conter mais violência, temas sugestivos ou humor moderado(10 anos ou mais);\n",
    "4 - T (Teen): Jogos adequados para adolescentes. Podem incluir violência mais intensa, temas sugestivos, humor rude ou linguagem forte(13 anos ou mais);\n",
    "5 - M (Mature): Jogos destinados a adultos. Podem conter violência intensa, sangue, conteúdo sexual explícito ou linguagem muito forte(17 anos ou mais);\n",
    "6 - AO (Adults Only): Jogos destinados apenas a adultos. Contêm conteúdo sexual explícito ou violência extrema(18 anos ou mais);\n",
    "7 - RP (Rating Pending): Jogos que ainda não foram classificados pela ESRB. Geralmente usados em materiais de marketing antes do lançamento do jogo.\n",
    "\n",
    "\n"
   ]
  },
  {
   "cell_type": "code",
   "execution_count": 40,
   "metadata": {},
   "outputs": [
    {
     "data": {
      "image/png": "[encoded data removed]",
      "text/plain": [
       "<Figure size 1200x800 with 1 Axes>"
      ]
     },
     "metadata": {},
     "output_type": "display_data"
    }
   ],
   "source": [
    "rating_sales = games_df.groupby('rating')[['na_sales', 'eu_sales', 'jp_sales']].mean()#Calculando as vendas médias por classificação ESRB em cada região\n",
    "\n",
    "\n",
    "rating_sales.plot(kind='bar', figsize=(12, 8))\n",
    "plt.title('Vendas Médias por Classificação ESRB em Cada Região')\n",
    "plt.xlabel('Classificação ESRB')\n",
    "plt.ylabel('Vendas Médias (em milhões)')\n",
    "plt.legend(title='Região')\n",
    "plt.xticks(rotation=0)\n",
    "plt.show() # Plotando as vendas médias por classificação ESRB em cada região\n"
   ]
  },
  {
   "cell_type": "markdown",
   "metadata": {},
   "source": [
    "O gráfico prova que jogos exclusivos para a idade mais adulta são os mais vendidos, podendo levantar algumas razões para tal feito como por exemplo, jogos de ação e esportes são os gêneros mais vendidos. Os de ação, principalmente, são de classificação *Mature* por seu conteúdo mais violento. Entretanto, jogos com classificação *Everyone* e *Everyone 10+* aparecem logo em seguida, que mostra que crianças e jogos para toda a família possuem forte influência em vendas.  "
   ]
  },
  {
   "cell_type": "code",
   "execution_count": 41,
   "metadata": {},
   "outputs": [],
   "source": [
    "rating_correlation = games_df[['rating', 'na_sales', 'eu_sales', 'jp_sales']].copy() #Calculando a correlação entre as vendas e as classificações do ESRB em cada região\n",
    "rating_correlation['rating'] = rating_correlation['rating'].astype('category').cat.codes  #Convertendo classificações ESRB para códigos numéricos\n",
    "correlations = rating_correlation.corr()"
   ]
  },
  {
   "cell_type": "code",
   "execution_count": 42,
   "metadata": {},
   "outputs": [
    {
     "name": "stdout",
     "output_type": "stream",
     "text": [
      "Correlações entre Classificações do ESRB e Vendas em Regiões Individuais:\n",
      "na_sales    0.131413\n",
      "eu_sales    0.115516\n",
      "jp_sales   -0.066173\n",
      "Name: rating, dtype: float64\n"
     ]
    }
   ],
   "source": [
    "print(\"Correlações entre Classificações do ESRB e Vendas em Regiões Individuais:\")\n",
    "print(correlations.loc['rating', ['na_sales', 'eu_sales', 'jp_sales']])"
   ]
  },
  {
   "cell_type": "markdown",
   "metadata": {},
   "source": [
    "Sabemos que a correlação pode variar entre -1 (relação negativa perfeita) e 1 (relação positiva perfeita), com 0 indicando nenhuma correlação.\n",
    "Na análise acima, percebemos que as correlações são fracas (tanto positivas quanto negativas), e indicam que as classificações ESRB não têm um impacto significativo nas vendas de jogos em nenhuma das regiões."
   ]
  },
  {
   "cell_type": "markdown",
   "metadata": {},
   "source": [
    "# Formulação das Hipóteses"
   ]
  },
  {
   "cell_type": "markdown",
   "metadata": {},
   "source": [
    "Sendo a hipótese nula é uma afirmação de que não há efeito ou diferença, e a hipótese alternativa afirma que existe uma diferença nas classificações médias dos usuários entre jogos de ação e jogos de esportes. Logo, as hipóteses foram formuladas dessa forma: \n",
    "\n",
    "Hipótese Nula (H0): A média das classificações dos usuários para jogos de ação é igual à média das classificações dos usuários para jogos de esportes.\n",
    "\n",
    "Hipótese Alternativa (HA): A média das classificações dos usuários para jogos de ação é igual à média das classificações dos usuários para jogos de esportes."
   ]
  },
  {
   "cell_type": "markdown",
   "metadata": {},
   "source": [
    "Para os critérios escolhidos para testar as hipóteses, foi utilizado o teste t de duas amostras independentes para comparar as médias das classificações dos usuários entre os dois grupos e um nível de significância α=0.05, por ser um padrão comum em testes estatísticos. Isso significa que estamos dispostos a aceitar uma probabilidade de 5% de cometer um erro."
   ]
  },
  {
   "cell_type": "markdown",
   "metadata": {},
   "source": [
    "Se p≤α: Rejeitamos a hipótese nula, e concluímos que há uma diferença estatisticamente significativa entre as classificações médias dos usuários para jogos de ação e jogos de esportes.\n",
    "\n",
    "Se p>α: Não rejeitamos a hipótese nula, e assim não há evidência suficiente para afirmar que existe uma diferença significativa entre as classificações médias dos usuários."
   ]
  },
  {
   "cell_type": "markdown",
   "metadata": {},
   "source": [
    "# Testando Hipóteses"
   ]
  },
  {
   "cell_type": "markdown",
   "metadata": {},
   "source": [
    "Para realizar a análise de significância estatística, precisamos definir um valor de limiar alfa. O valor alfa (\n",
    "𝛼) é a probabilidade de rejeitar a hipótese nula (de que não há diferença) quando ela é verdadeira. Um valor comumente usado para alfa é 0.05 (5%), o que significa que aceitamos uma probabilidade de 5% de cometer um erro tipo I (falso positivo)."
   ]
  },
  {
   "cell_type": "code",
   "execution_count": 43,
   "metadata": {},
   "outputs": [
    {
     "name": "stdout",
     "output_type": "stream",
     "text": [
      "Variância da classificação para a plataforma Xbox One: 1.9069968429360695\n",
      "Variância da classificação para a plataforma PC: 3.035892752408881\n",
      "Classificação Média dos Usuários para Xbox One: 6.521428571428572\n",
      "Classificação Média dos Usuários para PC: 6.269677419354839\n",
      "valor-p:  0.1475959401343032\n",
      "Não podemos rejeitar a hipótese nula.\n"
     ]
    }
   ],
   "source": [
    "games_df = games_df.dropna(subset=['year_of_release'])\n",
    "games_df = games_df[(games_df['year_of_release'] >= 2013) & (games_df['year_of_release'] <= 2016)]\n",
    "\n",
    "xbox_one_ratings = games_df[games_df['platform'] == 'XOne']['user_score'] # Testando as hipóteses\n",
    "pc_ratings = games_df[games_df['platform'] == 'PC']['user_score']\n",
    "\n",
    "# Definir a hipótese nula e alternativa\n",
    "# Hipótese nula: A média das classificações dos usuários para as plataformas XBox One e PC são iguais.\n",
    "# Hipótese alternativa: A média das classificações dos usuários para as plataformas XBox One e PC são diferentes.\n",
    "\n",
    "variance_xbox_one = xbox_one_ratings.var()\n",
    "variance_pc = pc_ratings.var() #Calculando variâncias\n",
    "print(\"Variância da classificação para a plataforma Xbox One:\", variance_xbox_one)\n",
    "print(\"Variância da classificação para a plataforma PC:\", variance_pc)\n",
    "\n",
    "\n",
    "results = stats.ttest_ind(xbox_one_ratings, pc_ratings, nan_policy='omit', equal_var=False) #Realizando o teste t\n",
    "\n",
    "\n",
    "mean_xbox_one = xbox_one_ratings.mean()\n",
    "mean_pc = pc_ratings.mean() # Calculando as classificações médias para confirmação\n",
    "\n",
    "print(f\"Classificação Média dos Usuários para Xbox One: {mean_xbox_one}\")\n",
    "print(f\"Classificação Média dos Usuários para PC: {mean_pc}\")\n",
    "\n",
    "\n",
    "alpha = 0.05\n",
    "\n",
    "\n",
    "print('valor-p: ', results.pvalue) # imprimindo o valor-p resultante\n",
    "\n",
    "if (results.pvalue < alpha):\n",
    "    print('Rejeitamos a hipótese nula.')\n",
    "else:\n",
    "    print('Não podemos rejeitar a hipótese nula.')\n",
    " #Verificando se a diferença é estatisticamente significativa"
   ]
  },
  {
   "cell_type": "markdown",
   "metadata": {},
   "source": [
    "Embora a média das classificações dos usuários para Xbox One seja um pouco maior do que para PC, essa diferença não é estatisticamente significativa ao nível de 0.05. Portanto, não podemos afirmar com confiança que os usuários avaliam jogos de Xbox One de maneira diferente dos jogos de PC com base nas classificações médias dos usuários. Fatores contextuais, como as preferências dos jogadores, a biblioteca de jogos e a experiência de jogo, também desempenham um papel importante na compreensão dessa diferença."
   ]
  },
  {
   "cell_type": "code",
   "execution_count": 44,
   "metadata": {},
   "outputs": [
    {
     "name": "stdout",
     "output_type": "stream",
     "text": [
      "Variância da classificação para o gênero 'Action': 1.7693609042482705\n",
      "Variância da classificação para o gênero 'Sports': 3.180612814465409\n",
      "Classificação Média dos Usuários para jogos de ação: 6.837532133676093\n",
      "Classificação Média dos Usuários para jogos de esportes: 5.238124999999999\n",
      "valor-p:  1.4460039700703482e-20\n",
      "Rejeitamos a hipótese nula.\n"
     ]
    }
   ],
   "source": [
    "games_df = games_df.dropna(subset=['year_of_release'])\n",
    "games_df = games_df[(games_df['year_of_release'] >= 2013) & (games_df['year_of_release'] <= 2016)]\n",
    "\n",
    "\n",
    "action_ratings = games_df[games_df['genre'] == 'Action']['user_score'] # Testando as hipóteses\n",
    "sports_ratings = games_df[games_df['genre'] == 'Sports']['user_score']\n",
    "\n",
    "# Definir a hipótese nula e alternativa\n",
    "# Hipótese nula: A média das classificações dos usuários para os gêneros 'Action' e 'Sports' são iguais.\n",
    "# Hipótese alternativa: A média das classificações dos usuários para os gêneros 'Action' e 'Sports' são diferentes.\n",
    "\n",
    "\n",
    "variance_action = action_ratings.var()\n",
    "variance_sports = sports_ratings.var()# Calcular variâncias\n",
    "print(\"Variância da classificação para o gênero 'Action':\", variance_action)\n",
    "print(\"Variância da classificação para o gênero 'Sports':\", variance_sports)\n",
    "\n",
    "\n",
    "results = stats.ttest_ind(action_ratings, sports_ratings, nan_policy='omit', equal_var=False) #Realizando o teste t\n",
    "\n",
    "action_mean = action_ratings.mean()\n",
    "sports_mean = sports_ratings.mean() # Calculando as classificações médias para confirmação\n",
    "\n",
    "print(f\"Classificação Média dos Usuários para jogos de ação: {action_mean}\")\n",
    "print(f\"Classificação Média dos Usuários para jogos de esportes: {sports_mean}\")\n",
    "\n",
    "\n",
    "alpha = 0.05\n",
    "\n",
    "print('valor-p: ', results.pvalue) # imprimindo o valor-p resultante\n",
    "\n",
    "if (results.pvalue < alpha):\n",
    "    print('Rejeitamos a hipótese nula.')\n",
    "else:\n",
    "    print('Não podemos rejeitar a hipótese nula.') #Verificando se a diferença é estatisticamente significativa"
   ]
  },
  {
   "cell_type": "markdown",
   "metadata": {},
   "source": [
    "Apesar da diferença observada nas classificações médias, onde jogos de ação são melhor avaliados do que jogos de esportes, a análise estatística sugere que essa diferença não é estatisticamente significativa ao nível de 0.05. Isso significa que, com base nos dados disponíveis, não podemos afirmar com confiança que os usuários avaliam jogos de ação de maneira diferente dos jogos de esportes.\n",
    "\n",
    "Sendo assim, o resultado dos testes foram que a diferença nas classificações médias não são estatisticamente significativa, portanto não rejeitamos a hipótese nula."
   ]
  },
  {
   "cell_type": "markdown",
   "metadata": {},
   "source": [
    "# Conclusão Geral\n",
    "\n",
    "As vendas variam significativamente entre plataformas, com algumas plataformas dominando o mercado em regiões específicas, como América do Norte, Europa e Japão. \n",
    "\n",
    "As correlações entre as classificações ESRB e as vendas nas regiões NA, EU e JP foram baixas, indicando que as classificações ESRB têm um impacto limitado nas vendas. As classificações dos usuários e críticos têm um impacto perceptível nas vendas, especialmente para plataformas populares. As correlações e análises de regressão realizadas indicam que melhores classificações geralmente correspondem a maiores vendas.\n",
    "\n",
    "Os resultados deste projeto possui informações e conclusões valiosas para a indústria de jogos eletrônicos que podem ser utilizados para criar estratégias de lançamento e marketing, melhorar a qualidade e o apelo dos jogos com base no feedback dos usuários e críticos, compreender a dinâmica de consumo em cada região, e assim possibilitando que ações estratégicas de vendas sejam aplicada direcionadas para populações diferentes. \n",
    "\n"
   ]
  }
 ],
 "metadata": {
  "ExecuteTimeLog": [
   {
    "duration": 5007,
    "start_time": "2024-06-03T17:29:44.087Z"
   },
   {
    "duration": 64,
    "start_time": "2024-06-03T17:29:49.097Z"
   },
   {
    "duration": 19,
    "start_time": "2024-06-03T17:29:49.164Z"
   },
   {
    "duration": 32,
    "start_time": "2024-06-03T17:29:49.187Z"
   },
   {
    "duration": 32,
    "start_time": "2024-06-03T17:31:36.613Z"
   },
   {
    "duration": 5,
    "start_time": "2024-06-03T17:40:07.416Z"
   },
   {
    "duration": 6,
    "start_time": "2024-06-03T17:48:50.735Z"
   },
   {
    "duration": 1518,
    "start_time": "2024-06-03T17:49:09.489Z"
   },
   {
    "duration": 5,
    "start_time": "2024-06-03T17:54:04.026Z"
   },
   {
    "duration": 11,
    "start_time": "2024-06-03T17:56:24.005Z"
   },
   {
    "duration": 7,
    "start_time": "2024-06-03T18:09:12.896Z"
   },
   {
    "duration": 24,
    "start_time": "2024-06-03T18:09:31.324Z"
   },
   {
    "duration": 11,
    "start_time": "2024-06-03T18:09:38.936Z"
   },
   {
    "duration": 8,
    "start_time": "2024-06-03T18:10:33.158Z"
   },
   {
    "duration": 11,
    "start_time": "2024-06-03T18:10:35.509Z"
   },
   {
    "duration": 9,
    "start_time": "2024-06-03T18:11:27.487Z"
   },
   {
    "duration": 11,
    "start_time": "2024-06-03T18:11:28.058Z"
   },
   {
    "duration": 14,
    "start_time": "2024-06-03T18:15:00.532Z"
   },
   {
    "duration": 11,
    "start_time": "2024-06-03T18:15:03.387Z"
   },
   {
    "duration": 27,
    "start_time": "2024-06-03T18:16:40.422Z"
   },
   {
    "duration": 138,
    "start_time": "2024-06-03T18:16:49.280Z"
   },
   {
    "duration": 28,
    "start_time": "2024-06-03T18:19:19.286Z"
   },
   {
    "duration": 5,
    "start_time": "2024-06-03T18:19:53.109Z"
   },
   {
    "duration": 8,
    "start_time": "2024-06-03T18:24:34.908Z"
   },
   {
    "duration": 12,
    "start_time": "2024-06-03T18:24:35.806Z"
   },
   {
    "duration": 14,
    "start_time": "2024-06-03T18:26:50.168Z"
   },
   {
    "duration": 27,
    "start_time": "2024-06-03T18:27:12.645Z"
   },
   {
    "duration": 21,
    "start_time": "2024-06-03T18:28:18.345Z"
   },
   {
    "duration": 33,
    "start_time": "2024-06-03T18:59:34.065Z"
   },
   {
    "duration": 8,
    "start_time": "2024-06-03T18:59:47.625Z"
   },
   {
    "duration": 560,
    "start_time": "2024-06-03T19:12:51.760Z"
   },
   {
    "duration": 9,
    "start_time": "2024-06-03T19:15:29.054Z"
   },
   {
    "duration": 4,
    "start_time": "2024-06-03T19:16:39.779Z"
   },
   {
    "duration": 41,
    "start_time": "2024-06-03T19:16:39.787Z"
   },
   {
    "duration": 20,
    "start_time": "2024-06-03T19:16:39.832Z"
   },
   {
    "duration": 51,
    "start_time": "2024-06-03T19:16:39.855Z"
   },
   {
    "duration": 5,
    "start_time": "2024-06-03T19:16:39.910Z"
   },
   {
    "duration": 6,
    "start_time": "2024-06-03T19:16:39.919Z"
   },
   {
    "duration": 10,
    "start_time": "2024-06-03T19:16:39.929Z"
   },
   {
    "duration": 6,
    "start_time": "2024-06-03T19:16:39.942Z"
   },
   {
    "duration": 55,
    "start_time": "2024-06-03T19:16:39.952Z"
   },
   {
    "duration": 10,
    "start_time": "2024-06-03T19:16:40.010Z"
   },
   {
    "duration": 8,
    "start_time": "2024-06-03T19:16:40.025Z"
   },
   {
    "duration": 12,
    "start_time": "2024-06-03T19:16:40.040Z"
   },
   {
    "duration": 75,
    "start_time": "2024-06-03T19:16:40.056Z"
   },
   {
    "duration": 22,
    "start_time": "2024-06-03T19:16:40.135Z"
   },
   {
    "duration": 8,
    "start_time": "2024-06-03T19:16:40.160Z"
   },
   {
    "duration": 136,
    "start_time": "2024-06-03T19:16:40.171Z"
   },
   {
    "duration": 1303,
    "start_time": "2024-06-03T19:16:54.485Z"
   },
   {
    "duration": 48,
    "start_time": "2024-06-03T19:16:55.791Z"
   },
   {
    "duration": 20,
    "start_time": "2024-06-03T19:16:55.842Z"
   },
   {
    "duration": 55,
    "start_time": "2024-06-03T19:16:55.867Z"
   },
   {
    "duration": 5,
    "start_time": "2024-06-03T19:16:55.924Z"
   },
   {
    "duration": 5,
    "start_time": "2024-06-03T19:16:55.933Z"
   },
   {
    "duration": 10,
    "start_time": "2024-06-03T19:16:55.942Z"
   },
   {
    "duration": 6,
    "start_time": "2024-06-03T19:16:55.956Z"
   },
   {
    "duration": 11,
    "start_time": "2024-06-03T19:16:56.007Z"
   },
   {
    "duration": 10,
    "start_time": "2024-06-03T19:16:56.024Z"
   },
   {
    "duration": 9,
    "start_time": "2024-06-03T19:16:56.038Z"
   },
   {
    "duration": 12,
    "start_time": "2024-06-03T19:16:56.050Z"
   },
   {
    "duration": 26,
    "start_time": "2024-06-03T19:16:56.108Z"
   },
   {
    "duration": 21,
    "start_time": "2024-06-03T19:16:56.137Z"
   },
   {
    "duration": 9,
    "start_time": "2024-06-03T19:16:56.162Z"
   },
   {
    "duration": 1426,
    "start_time": "2024-06-03T19:16:56.207Z"
   },
   {
    "duration": 730,
    "start_time": "2024-06-03T19:19:49.077Z"
   },
   {
    "duration": 29,
    "start_time": "2024-06-03T19:20:21.537Z"
   },
   {
    "duration": 19,
    "start_time": "2024-06-03T19:20:38.012Z"
   },
   {
    "duration": 4,
    "start_time": "2024-06-03T19:21:05.300Z"
   },
   {
    "duration": 37,
    "start_time": "2024-06-03T19:21:05.308Z"
   },
   {
    "duration": 19,
    "start_time": "2024-06-03T19:21:05.348Z"
   },
   {
    "duration": 39,
    "start_time": "2024-06-03T19:21:05.371Z"
   },
   {
    "duration": 5,
    "start_time": "2024-06-03T19:21:05.413Z"
   },
   {
    "duration": 7,
    "start_time": "2024-06-03T19:21:05.421Z"
   },
   {
    "duration": 10,
    "start_time": "2024-06-03T19:21:05.431Z"
   },
   {
    "duration": 4,
    "start_time": "2024-06-03T19:21:14.022Z"
   },
   {
    "duration": 37,
    "start_time": "2024-06-03T19:21:14.030Z"
   },
   {
    "duration": 19,
    "start_time": "2024-06-03T19:21:14.070Z"
   },
   {
    "duration": 31,
    "start_time": "2024-06-03T19:21:14.092Z"
   },
   {
    "duration": 4,
    "start_time": "2024-06-03T19:21:14.128Z"
   },
   {
    "duration": 6,
    "start_time": "2024-06-03T19:21:14.136Z"
   },
   {
    "duration": 101,
    "start_time": "2024-06-03T19:21:27.213Z"
   },
   {
    "duration": 6,
    "start_time": "2024-06-03T19:21:49.693Z"
   },
   {
    "duration": 217,
    "start_time": "2024-06-03T19:30:21.396Z"
   },
   {
    "duration": 10,
    "start_time": "2024-06-03T19:31:57.058Z"
   },
   {
    "duration": 5,
    "start_time": "2024-06-03T19:32:04.866Z"
   },
   {
    "duration": 5,
    "start_time": "2024-06-03T19:32:14.909Z"
   },
   {
    "duration": 6,
    "start_time": "2024-06-03T19:32:15.884Z"
   },
   {
    "duration": 122,
    "start_time": "2024-06-03T19:32:18.600Z"
   },
   {
    "duration": 1325,
    "start_time": "2024-06-03T19:33:03.025Z"
   },
   {
    "duration": 41,
    "start_time": "2024-06-03T19:33:04.354Z"
   },
   {
    "duration": 22,
    "start_time": "2024-06-03T19:33:04.407Z"
   },
   {
    "duration": 28,
    "start_time": "2024-06-03T19:33:04.432Z"
   },
   {
    "duration": 4,
    "start_time": "2024-06-03T19:33:04.466Z"
   },
   {
    "duration": 8,
    "start_time": "2024-06-03T19:33:04.507Z"
   },
   {
    "duration": 10,
    "start_time": "2024-06-03T19:33:04.519Z"
   },
   {
    "duration": 1745,
    "start_time": "2024-06-03T19:33:04.532Z"
   },
   {
    "duration": 0,
    "start_time": "2024-06-03T19:33:06.281Z"
   },
   {
    "duration": 0,
    "start_time": "2024-06-03T19:33:06.283Z"
   },
   {
    "duration": 0,
    "start_time": "2024-06-03T19:33:06.284Z"
   },
   {
    "duration": 0,
    "start_time": "2024-06-03T19:33:06.286Z"
   },
   {
    "duration": 0,
    "start_time": "2024-06-03T19:33:06.288Z"
   },
   {
    "duration": 0,
    "start_time": "2024-06-03T19:33:06.306Z"
   },
   {
    "duration": 0,
    "start_time": "2024-06-03T19:33:06.308Z"
   },
   {
    "duration": 0,
    "start_time": "2024-06-03T19:33:06.312Z"
   },
   {
    "duration": 0,
    "start_time": "2024-06-03T19:33:06.314Z"
   },
   {
    "duration": 4,
    "start_time": "2024-06-03T19:33:52.139Z"
   },
   {
    "duration": 37,
    "start_time": "2024-06-03T19:33:52.147Z"
   },
   {
    "duration": 18,
    "start_time": "2024-06-03T19:33:52.187Z"
   },
   {
    "duration": 18,
    "start_time": "2024-06-03T19:33:52.210Z"
   },
   {
    "duration": 5,
    "start_time": "2024-06-03T19:33:52.232Z"
   },
   {
    "duration": 9,
    "start_time": "2024-06-03T19:33:52.239Z"
   },
   {
    "duration": 95,
    "start_time": "2024-06-03T19:34:21.517Z"
   },
   {
    "duration": 101,
    "start_time": "2024-06-03T19:34:28.805Z"
   },
   {
    "duration": 11,
    "start_time": "2024-06-03T19:34:34.885Z"
   },
   {
    "duration": 8,
    "start_time": "2024-06-03T19:34:41.001Z"
   },
   {
    "duration": 8,
    "start_time": "2024-06-03T19:34:42.926Z"
   },
   {
    "duration": 13,
    "start_time": "2024-06-03T19:34:45.805Z"
   },
   {
    "duration": 1225,
    "start_time": "2024-06-03T19:35:44.948Z"
   },
   {
    "duration": 47,
    "start_time": "2024-06-03T19:35:46.177Z"
   },
   {
    "duration": 20,
    "start_time": "2024-06-03T19:35:46.226Z"
   },
   {
    "duration": 24,
    "start_time": "2024-06-03T19:35:46.253Z"
   },
   {
    "duration": 5,
    "start_time": "2024-06-03T19:35:46.307Z"
   },
   {
    "duration": 7,
    "start_time": "2024-06-03T19:35:46.316Z"
   },
   {
    "duration": 16,
    "start_time": "2024-06-03T19:35:46.325Z"
   },
   {
    "duration": 8,
    "start_time": "2024-06-03T19:35:46.344Z"
   },
   {
    "duration": 51,
    "start_time": "2024-06-03T19:35:46.356Z"
   },
   {
    "duration": 9,
    "start_time": "2024-06-03T19:35:46.410Z"
   },
   {
    "duration": 9,
    "start_time": "2024-06-03T19:35:46.422Z"
   },
   {
    "duration": 13,
    "start_time": "2024-06-03T19:35:46.434Z"
   },
   {
    "duration": 67,
    "start_time": "2024-06-03T19:35:46.450Z"
   },
   {
    "duration": 20,
    "start_time": "2024-06-03T19:35:46.523Z"
   },
   {
    "duration": 10,
    "start_time": "2024-06-03T19:35:46.545Z"
   },
   {
    "duration": 7,
    "start_time": "2024-06-03T19:35:46.558Z"
   },
   {
    "duration": 319,
    "start_time": "2024-06-05T16:25:41.868Z"
   },
   {
    "duration": 30,
    "start_time": "2024-06-05T16:25:49.812Z"
   },
   {
    "duration": 5221,
    "start_time": "2024-06-05T16:25:57.610Z"
   },
   {
    "duration": 56,
    "start_time": "2024-06-05T16:26:02.835Z"
   },
   {
    "duration": 29,
    "start_time": "2024-06-05T16:26:02.894Z"
   },
   {
    "duration": 30,
    "start_time": "2024-06-05T16:26:02.927Z"
   },
   {
    "duration": 6,
    "start_time": "2024-06-05T16:26:02.961Z"
   },
   {
    "duration": 1025,
    "start_time": "2024-06-05T16:31:08.860Z"
   },
   {
    "duration": 1479,
    "start_time": "2024-06-05T16:31:28.811Z"
   },
   {
    "duration": 58,
    "start_time": "2024-06-05T16:31:30.295Z"
   },
   {
    "duration": 23,
    "start_time": "2024-06-05T16:31:30.357Z"
   },
   {
    "duration": 58,
    "start_time": "2024-06-05T16:31:30.385Z"
   },
   {
    "duration": 6,
    "start_time": "2024-06-05T16:31:30.446Z"
   },
   {
    "duration": 8,
    "start_time": "2024-06-05T16:31:30.456Z"
   },
   {
    "duration": 56,
    "start_time": "2024-06-05T16:31:30.467Z"
   },
   {
    "duration": 10,
    "start_time": "2024-06-05T16:31:30.528Z"
   },
   {
    "duration": 8,
    "start_time": "2024-06-05T16:31:30.541Z"
   },
   {
    "duration": 9,
    "start_time": "2024-06-05T16:31:30.556Z"
   },
   {
    "duration": 1706,
    "start_time": "2024-06-05T16:31:30.568Z"
   },
   {
    "duration": 0,
    "start_time": "2024-06-05T16:31:32.278Z"
   },
   {
    "duration": 0,
    "start_time": "2024-06-05T16:31:32.281Z"
   },
   {
    "duration": 0,
    "start_time": "2024-06-05T16:31:32.283Z"
   },
   {
    "duration": 0,
    "start_time": "2024-06-05T16:31:32.285Z"
   },
   {
    "duration": 0,
    "start_time": "2024-06-05T16:31:32.287Z"
   },
   {
    "duration": 755,
    "start_time": "2024-06-05T16:37:02.186Z"
   },
   {
    "duration": 83,
    "start_time": "2024-06-05T16:44:24.946Z"
   },
   {
    "duration": 8,
    "start_time": "2024-06-05T16:50:38.422Z"
   },
   {
    "duration": 39,
    "start_time": "2024-06-05T16:50:45.305Z"
   },
   {
    "duration": 19,
    "start_time": "2024-06-05T16:50:48.561Z"
   },
   {
    "duration": 29,
    "start_time": "2024-06-05T16:50:52.091Z"
   },
   {
    "duration": 3,
    "start_time": "2024-06-05T16:51:02.730Z"
   },
   {
    "duration": 6,
    "start_time": "2024-06-05T16:51:05.488Z"
   },
   {
    "duration": 13,
    "start_time": "2024-06-05T16:51:06.739Z"
   },
   {
    "duration": 6,
    "start_time": "2024-06-05T16:51:30.410Z"
   },
   {
    "duration": 141,
    "start_time": "2024-06-05T16:51:34.196Z"
   },
   {
    "duration": 40,
    "start_time": "2024-06-05T16:53:08.306Z"
   },
   {
    "duration": 41,
    "start_time": "2024-06-05T16:53:09.475Z"
   },
   {
    "duration": 42,
    "start_time": "2024-06-05T16:53:10.666Z"
   },
   {
    "duration": 41,
    "start_time": "2024-06-05T16:53:11.377Z"
   },
   {
    "duration": 21,
    "start_time": "2024-06-05T16:53:11.783Z"
   },
   {
    "duration": 23,
    "start_time": "2024-06-05T16:53:14.926Z"
   },
   {
    "duration": 6,
    "start_time": "2024-06-05T16:56:07.772Z"
   },
   {
    "duration": 6,
    "start_time": "2024-06-05T16:56:08.469Z"
   },
   {
    "duration": 5,
    "start_time": "2024-06-05T16:56:09.331Z"
   },
   {
    "duration": 6,
    "start_time": "2024-06-05T16:56:14.872Z"
   },
   {
    "duration": 11,
    "start_time": "2024-06-05T16:56:16.030Z"
   },
   {
    "duration": 11,
    "start_time": "2024-06-05T16:56:20.755Z"
   },
   {
    "duration": 6,
    "start_time": "2024-06-05T16:56:22.961Z"
   },
   {
    "duration": 13,
    "start_time": "2024-06-05T16:57:43.082Z"
   },
   {
    "duration": 9,
    "start_time": "2024-06-05T16:57:59.276Z"
   },
   {
    "duration": 9,
    "start_time": "2024-06-05T16:58:00.019Z"
   },
   {
    "duration": 5,
    "start_time": "2024-06-05T16:58:22.248Z"
   },
   {
    "duration": 8,
    "start_time": "2024-06-05T16:58:22.691Z"
   },
   {
    "duration": 7,
    "start_time": "2024-06-05T16:58:23.434Z"
   },
   {
    "duration": 15,
    "start_time": "2024-06-05T16:58:24.180Z"
   },
   {
    "duration": 31,
    "start_time": "2024-06-05T16:58:30.061Z"
   },
   {
    "duration": 20,
    "start_time": "2024-06-05T16:59:40.752Z"
   },
   {
    "duration": 15,
    "start_time": "2024-06-05T16:59:42.613Z"
   },
   {
    "duration": 9,
    "start_time": "2024-06-05T17:00:02.056Z"
   },
   {
    "duration": 9,
    "start_time": "2024-06-05T17:05:18.038Z"
   },
   {
    "duration": 11,
    "start_time": "2024-06-05T17:05:18.522Z"
   },
   {
    "duration": 35,
    "start_time": "2024-06-05T17:05:21.858Z"
   },
   {
    "duration": 538,
    "start_time": "2024-06-05T17:14:44.505Z"
   },
   {
    "duration": 833,
    "start_time": "2024-06-05T18:15:30.400Z"
   },
   {
    "duration": 15,
    "start_time": "2024-06-05T18:15:38.465Z"
   },
   {
    "duration": 16,
    "start_time": "2024-06-05T18:16:02.130Z"
   },
   {
    "duration": 35,
    "start_time": "2024-06-05T18:26:18.427Z"
   },
   {
    "duration": 27,
    "start_time": "2024-06-05T18:26:23.371Z"
   },
   {
    "duration": 17,
    "start_time": "2024-06-05T18:26:33.801Z"
   },
   {
    "duration": 6,
    "start_time": "2024-06-05T18:32:02.497Z"
   },
   {
    "duration": 6,
    "start_time": "2024-06-05T18:32:12.996Z"
   },
   {
    "duration": 6,
    "start_time": "2024-06-05T18:33:11.034Z"
   },
   {
    "duration": 479,
    "start_time": "2024-06-05T18:35:36.944Z"
   },
   {
    "duration": 36,
    "start_time": "2024-06-05T18:36:48.478Z"
   },
   {
    "duration": 427,
    "start_time": "2024-06-05T18:37:05.680Z"
   },
   {
    "duration": 5,
    "start_time": "2024-06-05T18:38:38.094Z"
   },
   {
    "duration": 4,
    "start_time": "2024-06-05T18:38:44.866Z"
   },
   {
    "duration": 519,
    "start_time": "2024-06-05T18:38:46.609Z"
   },
   {
    "duration": 19,
    "start_time": "2024-06-05T19:05:43.180Z"
   },
   {
    "duration": 23,
    "start_time": "2024-06-05T19:08:06.873Z"
   },
   {
    "duration": 369,
    "start_time": "2024-06-05T19:08:34.548Z"
   },
   {
    "duration": 11,
    "start_time": "2024-06-05T19:22:27.195Z"
   },
   {
    "duration": 15,
    "start_time": "2024-06-05T19:22:52.510Z"
   },
   {
    "duration": 6,
    "start_time": "2024-06-05T19:23:02.590Z"
   },
   {
    "duration": 26,
    "start_time": "2024-06-05T19:23:24.391Z"
   },
   {
    "duration": 4,
    "start_time": "2024-06-05T19:23:30.418Z"
   },
   {
    "duration": 26,
    "start_time": "2024-06-05T19:24:47.821Z"
   },
   {
    "duration": 31,
    "start_time": "2024-06-05T19:25:37.387Z"
   },
   {
    "duration": 35,
    "start_time": "2024-06-05T19:26:19.373Z"
   },
   {
    "duration": 7,
    "start_time": "2024-06-05T19:26:42.087Z"
   },
   {
    "duration": 37,
    "start_time": "2024-06-05T19:26:43.146Z"
   },
   {
    "duration": 22,
    "start_time": "2024-06-05T19:26:52.551Z"
   },
   {
    "duration": 358,
    "start_time": "2024-06-05T19:30:45.644Z"
   },
   {
    "duration": 22,
    "start_time": "2024-06-05T19:30:57.154Z"
   },
   {
    "duration": 352,
    "start_time": "2024-06-05T19:31:01.600Z"
   },
   {
    "duration": 479,
    "start_time": "2024-06-05T19:31:34.044Z"
   },
   {
    "duration": 14,
    "start_time": "2024-06-05T19:37:19.850Z"
   },
   {
    "duration": 327,
    "start_time": "2024-06-05T19:37:20.769Z"
   },
   {
    "duration": 28,
    "start_time": "2024-06-05T19:46:10.215Z"
   },
   {
    "duration": 19,
    "start_time": "2024-06-05T19:46:27.791Z"
   },
   {
    "duration": 466,
    "start_time": "2024-06-05T19:47:17.611Z"
   },
   {
    "duration": 14,
    "start_time": "2024-06-05T19:49:38.106Z"
   },
   {
    "duration": 30,
    "start_time": "2024-06-05T19:50:24.429Z"
   },
   {
    "duration": 15,
    "start_time": "2024-06-05T19:50:30.694Z"
   },
   {
    "duration": 12,
    "start_time": "2024-06-05T19:50:39.062Z"
   },
   {
    "duration": 328,
    "start_time": "2024-06-05T19:50:43.405Z"
   },
   {
    "duration": 1288,
    "start_time": "2024-06-05T19:52:53.790Z"
   },
   {
    "duration": 49,
    "start_time": "2024-06-05T19:52:55.082Z"
   },
   {
    "duration": 21,
    "start_time": "2024-06-05T19:52:55.134Z"
   },
   {
    "duration": 26,
    "start_time": "2024-06-05T19:52:55.158Z"
   },
   {
    "duration": 34,
    "start_time": "2024-06-05T19:52:55.190Z"
   },
   {
    "duration": 9,
    "start_time": "2024-06-05T19:52:55.227Z"
   },
   {
    "duration": 12,
    "start_time": "2024-06-05T19:52:55.241Z"
   },
   {
    "duration": 9,
    "start_time": "2024-06-05T19:52:55.257Z"
   },
   {
    "duration": 56,
    "start_time": "2024-06-05T19:52:55.269Z"
   },
   {
    "duration": 13,
    "start_time": "2024-06-05T19:52:55.329Z"
   },
   {
    "duration": 8,
    "start_time": "2024-06-05T19:52:55.346Z"
   },
   {
    "duration": 9,
    "start_time": "2024-06-05T19:52:55.358Z"
   },
   {
    "duration": 52,
    "start_time": "2024-06-05T19:52:55.371Z"
   },
   {
    "duration": 28,
    "start_time": "2024-06-05T19:52:55.430Z"
   },
   {
    "duration": 20,
    "start_time": "2024-06-05T19:52:55.462Z"
   },
   {
    "duration": 45,
    "start_time": "2024-06-05T19:52:55.485Z"
   },
   {
    "duration": 7,
    "start_time": "2024-06-05T19:52:55.533Z"
   },
   {
    "duration": 549,
    "start_time": "2024-06-05T19:52:55.543Z"
   },
   {
    "duration": 28,
    "start_time": "2024-06-05T19:52:56.095Z"
   },
   {
    "duration": 5,
    "start_time": "2024-06-05T19:52:56.126Z"
   },
   {
    "duration": 18,
    "start_time": "2024-06-05T19:52:56.135Z"
   },
   {
    "duration": 15,
    "start_time": "2024-06-05T19:52:56.159Z"
   },
   {
    "duration": 53,
    "start_time": "2024-06-05T19:52:56.176Z"
   },
   {
    "duration": 354,
    "start_time": "2024-06-05T19:52:56.233Z"
   },
   {
    "duration": 24,
    "start_time": "2024-06-05T19:57:20.457Z"
   },
   {
    "duration": 12,
    "start_time": "2024-06-05T19:57:32.856Z"
   },
   {
    "duration": 8,
    "start_time": "2024-06-05T19:58:25.493Z"
   },
   {
    "duration": 14,
    "start_time": "2024-06-05T20:00:01.379Z"
   },
   {
    "duration": 5,
    "start_time": "2024-06-05T20:00:11.964Z"
   },
   {
    "duration": 447,
    "start_time": "2024-06-05T20:01:26.902Z"
   },
   {
    "duration": 400,
    "start_time": "2024-06-05T20:01:53.403Z"
   },
   {
    "duration": 1414,
    "start_time": "2024-06-05T20:07:45.932Z"
   },
   {
    "duration": 48,
    "start_time": "2024-06-05T20:07:47.351Z"
   },
   {
    "duration": 37,
    "start_time": "2024-06-05T20:07:47.404Z"
   },
   {
    "duration": 32,
    "start_time": "2024-06-05T20:07:47.446Z"
   },
   {
    "duration": 6,
    "start_time": "2024-06-05T20:07:47.482Z"
   },
   {
    "duration": 35,
    "start_time": "2024-06-05T20:07:47.491Z"
   },
   {
    "duration": 14,
    "start_time": "2024-06-05T20:07:47.529Z"
   },
   {
    "duration": 9,
    "start_time": "2024-06-05T20:07:47.546Z"
   },
   {
    "duration": 7,
    "start_time": "2024-06-05T20:07:47.558Z"
   },
   {
    "duration": 14,
    "start_time": "2024-06-05T20:07:47.622Z"
   },
   {
    "duration": 10,
    "start_time": "2024-06-05T20:07:47.640Z"
   },
   {
    "duration": 10,
    "start_time": "2024-06-05T20:07:47.654Z"
   },
   {
    "duration": 56,
    "start_time": "2024-06-05T20:07:47.667Z"
   },
   {
    "duration": 35,
    "start_time": "2024-06-05T20:07:47.727Z"
   },
   {
    "duration": 21,
    "start_time": "2024-06-05T20:07:47.765Z"
   },
   {
    "duration": 41,
    "start_time": "2024-06-05T20:07:47.790Z"
   },
   {
    "duration": 11,
    "start_time": "2024-06-05T20:07:47.836Z"
   },
   {
    "duration": 604,
    "start_time": "2024-06-05T20:07:47.854Z"
   },
   {
    "duration": 7,
    "start_time": "2024-06-05T20:07:48.462Z"
   },
   {
    "duration": 0,
    "start_time": "2024-06-05T20:07:48.473Z"
   },
   {
    "duration": 0,
    "start_time": "2024-06-05T20:07:48.476Z"
   },
   {
    "duration": 0,
    "start_time": "2024-06-05T20:07:48.478Z"
   },
   {
    "duration": 0,
    "start_time": "2024-06-05T20:07:48.481Z"
   },
   {
    "duration": 6,
    "start_time": "2024-06-05T20:09:30.862Z"
   },
   {
    "duration": 13,
    "start_time": "2024-06-05T20:10:12.395Z"
   },
   {
    "duration": 1375,
    "start_time": "2024-06-05T20:10:19.899Z"
   },
   {
    "duration": 51,
    "start_time": "2024-06-05T20:10:21.278Z"
   },
   {
    "duration": 22,
    "start_time": "2024-06-05T20:10:21.333Z"
   },
   {
    "duration": 29,
    "start_time": "2024-06-05T20:10:21.358Z"
   },
   {
    "duration": 34,
    "start_time": "2024-06-05T20:10:21.392Z"
   },
   {
    "duration": 10,
    "start_time": "2024-06-05T20:10:21.429Z"
   },
   {
    "duration": 12,
    "start_time": "2024-06-05T20:10:21.442Z"
   },
   {
    "duration": 8,
    "start_time": "2024-06-05T20:10:21.458Z"
   },
   {
    "duration": 7,
    "start_time": "2024-06-05T20:10:21.469Z"
   },
   {
    "duration": 13,
    "start_time": "2024-06-05T20:10:21.524Z"
   },
   {
    "duration": 9,
    "start_time": "2024-06-05T20:10:21.540Z"
   },
   {
    "duration": 9,
    "start_time": "2024-06-05T20:10:21.553Z"
   },
   {
    "duration": 12,
    "start_time": "2024-06-05T20:10:21.565Z"
   },
   {
    "duration": 70,
    "start_time": "2024-06-05T20:10:21.581Z"
   },
   {
    "duration": 20,
    "start_time": "2024-06-05T20:10:21.655Z"
   },
   {
    "duration": 44,
    "start_time": "2024-06-05T20:10:21.679Z"
   },
   {
    "duration": 8,
    "start_time": "2024-06-05T20:10:21.726Z"
   },
   {
    "duration": 553,
    "start_time": "2024-06-05T20:10:21.737Z"
   },
   {
    "duration": 35,
    "start_time": "2024-06-05T20:10:22.293Z"
   },
   {
    "duration": 7,
    "start_time": "2024-06-05T20:10:22.332Z"
   },
   {
    "duration": 16,
    "start_time": "2024-06-05T20:10:22.343Z"
   },
   {
    "duration": 5,
    "start_time": "2024-06-05T20:10:22.363Z"
   },
   {
    "duration": 433,
    "start_time": "2024-06-05T20:10:22.372Z"
   },
   {
    "duration": 5081,
    "start_time": "2024-06-06T18:12:21.561Z"
   },
   {
    "duration": 56,
    "start_time": "2024-06-06T18:12:26.647Z"
   },
   {
    "duration": 19,
    "start_time": "2024-06-06T18:12:26.707Z"
   },
   {
    "duration": 29,
    "start_time": "2024-06-06T18:12:26.729Z"
   },
   {
    "duration": 6,
    "start_time": "2024-06-06T18:12:26.761Z"
   },
   {
    "duration": 7,
    "start_time": "2024-06-06T18:12:26.770Z"
   },
   {
    "duration": 13,
    "start_time": "2024-06-06T18:12:26.779Z"
   },
   {
    "duration": 8,
    "start_time": "2024-06-06T18:12:26.832Z"
   },
   {
    "duration": 7,
    "start_time": "2024-06-06T18:12:26.843Z"
   },
   {
    "duration": 12,
    "start_time": "2024-06-06T18:12:26.856Z"
   },
   {
    "duration": 9,
    "start_time": "2024-06-06T18:12:26.873Z"
   },
   {
    "duration": 8,
    "start_time": "2024-06-06T18:12:26.930Z"
   },
   {
    "duration": 13,
    "start_time": "2024-06-06T18:12:26.940Z"
   },
   {
    "duration": 29,
    "start_time": "2024-06-06T18:12:26.956Z"
   },
   {
    "duration": 53,
    "start_time": "2024-06-06T18:12:26.988Z"
   },
   {
    "duration": 10,
    "start_time": "2024-06-06T18:12:27.045Z"
   },
   {
    "duration": 6,
    "start_time": "2024-06-06T18:12:27.058Z"
   },
   {
    "duration": 570,
    "start_time": "2024-06-06T18:12:27.068Z"
   },
   {
    "duration": 14,
    "start_time": "2024-06-06T18:12:27.641Z"
   },
   {
    "duration": 6,
    "start_time": "2024-06-06T18:12:27.657Z"
   },
   {
    "duration": 13,
    "start_time": "2024-06-06T18:12:27.666Z"
   },
   {
    "duration": 5,
    "start_time": "2024-06-06T18:12:27.683Z"
   },
   {
    "duration": 496,
    "start_time": "2024-06-06T18:12:27.691Z"
   },
   {
    "duration": 9,
    "start_time": "2024-06-06T18:14:55.971Z"
   },
   {
    "duration": 13,
    "start_time": "2024-06-06T18:17:21.335Z"
   },
   {
    "duration": 10,
    "start_time": "2024-06-06T18:28:09.742Z"
   },
   {
    "duration": 22,
    "start_time": "2024-06-06T18:29:21.958Z"
   },
   {
    "duration": 641,
    "start_time": "2024-06-06T18:31:30.090Z"
   },
   {
    "duration": 502,
    "start_time": "2024-06-06T18:32:37.628Z"
   },
   {
    "duration": 333,
    "start_time": "2024-06-06T18:33:07.155Z"
   },
   {
    "duration": 6,
    "start_time": "2024-06-06T18:37:43.098Z"
   },
   {
    "duration": 6,
    "start_time": "2024-06-06T18:37:56.614Z"
   },
   {
    "duration": 299,
    "start_time": "2024-06-06T18:38:15.920Z"
   },
   {
    "duration": 7,
    "start_time": "2024-06-06T18:39:52.019Z"
   },
   {
    "duration": 30,
    "start_time": "2024-06-06T18:41:09.576Z"
   },
   {
    "duration": 423,
    "start_time": "2024-06-06T18:42:33.107Z"
   },
   {
    "duration": 353,
    "start_time": "2024-06-07T16:55:53.284Z"
   },
   {
    "duration": 24,
    "start_time": "2024-06-07T16:56:34.288Z"
   },
   {
    "duration": 5272,
    "start_time": "2024-06-07T16:56:48.773Z"
   },
   {
    "duration": 56,
    "start_time": "2024-06-07T16:56:54.048Z"
   },
   {
    "duration": 20,
    "start_time": "2024-06-07T16:56:54.107Z"
   },
   {
    "duration": 31,
    "start_time": "2024-06-07T16:56:54.135Z"
   },
   {
    "duration": 5,
    "start_time": "2024-06-07T16:56:54.169Z"
   },
   {
    "duration": 7,
    "start_time": "2024-06-07T16:56:54.178Z"
   },
   {
    "duration": 50,
    "start_time": "2024-06-07T16:56:54.187Z"
   },
   {
    "duration": 8,
    "start_time": "2024-06-07T16:56:54.240Z"
   },
   {
    "duration": 7,
    "start_time": "2024-06-07T16:56:54.252Z"
   },
   {
    "duration": 14,
    "start_time": "2024-06-07T16:56:54.266Z"
   },
   {
    "duration": 50,
    "start_time": "2024-06-07T16:56:54.283Z"
   },
   {
    "duration": 9,
    "start_time": "2024-06-07T16:56:54.336Z"
   },
   {
    "duration": 14,
    "start_time": "2024-06-07T16:56:54.349Z"
   },
   {
    "duration": 33,
    "start_time": "2024-06-07T16:56:54.366Z"
   },
   {
    "duration": 19,
    "start_time": "2024-06-07T16:56:54.433Z"
   },
   {
    "duration": 11,
    "start_time": "2024-06-07T16:56:54.455Z"
   },
   {
    "duration": 7,
    "start_time": "2024-06-07T16:56:54.470Z"
   },
   {
    "duration": 580,
    "start_time": "2024-06-07T16:56:54.481Z"
   },
   {
    "duration": 14,
    "start_time": "2024-06-07T16:56:55.065Z"
   },
   {
    "duration": 6,
    "start_time": "2024-06-07T16:56:55.081Z"
   },
   {
    "duration": 43,
    "start_time": "2024-06-07T16:56:55.090Z"
   },
   {
    "duration": 10,
    "start_time": "2024-06-07T16:56:55.136Z"
   },
   {
    "duration": 440,
    "start_time": "2024-06-07T16:56:55.149Z"
   },
   {
    "duration": 12,
    "start_time": "2024-06-07T16:56:55.593Z"
   },
   {
    "duration": 15,
    "start_time": "2024-06-07T16:56:55.608Z"
   },
   {
    "duration": 22,
    "start_time": "2024-06-07T16:56:55.634Z"
   },
   {
    "duration": 755,
    "start_time": "2024-06-07T16:56:55.660Z"
   },
   {
    "duration": 317,
    "start_time": "2024-06-07T16:56:56.434Z"
   },
   {
    "duration": 6,
    "start_time": "2024-06-07T16:56:56.756Z"
   },
   {
    "duration": 348,
    "start_time": "2024-06-07T16:56:56.765Z"
   },
   {
    "duration": 26,
    "start_time": "2024-06-07T16:56:57.116Z"
   },
   {
    "duration": 49,
    "start_time": "2024-06-07T16:56:57.145Z"
   },
   {
    "duration": 399,
    "start_time": "2024-06-07T16:56:57.199Z"
   },
   {
    "duration": 237,
    "start_time": "2024-06-07T16:56:57.601Z"
   },
   {
    "duration": 2258,
    "start_time": "2024-06-07T16:57:15.504Z"
   },
   {
    "duration": 12,
    "start_time": "2024-06-07T17:01:15.948Z"
   },
   {
    "duration": 37,
    "start_time": "2024-06-07T17:01:34.231Z"
   },
   {
    "duration": 10,
    "start_time": "2024-06-07T17:02:10.453Z"
   },
   {
    "duration": 11,
    "start_time": "2024-06-07T17:02:20.272Z"
   },
   {
    "duration": 11,
    "start_time": "2024-06-07T17:02:39.262Z"
   },
   {
    "duration": 34,
    "start_time": "2024-06-07T17:11:56.466Z"
   },
   {
    "duration": 17,
    "start_time": "2024-06-07T17:12:05.391Z"
   },
   {
    "duration": 9,
    "start_time": "2024-06-07T17:12:43.226Z"
   },
   {
    "duration": 326,
    "start_time": "2024-06-08T15:31:58.290Z"
   },
   {
    "duration": 5124,
    "start_time": "2024-06-08T15:32:09.089Z"
   },
   {
    "duration": 61,
    "start_time": "2024-06-08T15:32:14.219Z"
   },
   {
    "duration": 20,
    "start_time": "2024-06-08T15:32:14.283Z"
   },
   {
    "duration": 30,
    "start_time": "2024-06-08T15:32:14.307Z"
   },
   {
    "duration": 5,
    "start_time": "2024-06-08T15:32:14.340Z"
   },
   {
    "duration": 6,
    "start_time": "2024-06-08T15:32:14.348Z"
   },
   {
    "duration": 12,
    "start_time": "2024-06-08T15:32:14.358Z"
   },
   {
    "duration": 51,
    "start_time": "2024-06-08T15:32:14.373Z"
   },
   {
    "duration": 6,
    "start_time": "2024-06-08T15:32:14.428Z"
   },
   {
    "duration": 13,
    "start_time": "2024-06-08T15:32:14.441Z"
   },
   {
    "duration": 9,
    "start_time": "2024-06-08T15:32:14.457Z"
   },
   {
    "duration": 55,
    "start_time": "2024-06-08T15:32:14.471Z"
   },
   {
    "duration": 11,
    "start_time": "2024-06-08T15:32:14.529Z"
   },
   {
    "duration": 29,
    "start_time": "2024-06-08T15:32:14.544Z"
   },
   {
    "duration": 56,
    "start_time": "2024-06-08T15:32:14.578Z"
   },
   {
    "duration": 11,
    "start_time": "2024-06-08T15:32:14.637Z"
   },
   {
    "duration": 8,
    "start_time": "2024-06-08T15:32:14.651Z"
   },
   {
    "duration": 550,
    "start_time": "2024-06-08T15:32:14.662Z"
   },
   {
    "duration": 18,
    "start_time": "2024-06-08T15:32:15.215Z"
   },
   {
    "duration": 6,
    "start_time": "2024-06-08T15:32:15.236Z"
   },
   {
    "duration": 14,
    "start_time": "2024-06-08T15:32:15.246Z"
   },
   {
    "duration": 11,
    "start_time": "2024-06-08T15:32:15.263Z"
   },
   {
    "duration": 466,
    "start_time": "2024-06-08T15:32:15.277Z"
   },
   {
    "duration": 9,
    "start_time": "2024-06-08T15:32:15.747Z"
   },
   {
    "duration": 13,
    "start_time": "2024-06-08T15:32:15.759Z"
   },
   {
    "duration": 22,
    "start_time": "2024-06-08T15:32:15.775Z"
   },
   {
    "duration": 713,
    "start_time": "2024-06-08T15:32:15.799Z"
   },
   {
    "duration": 344,
    "start_time": "2024-06-08T15:32:16.527Z"
   },
   {
    "duration": 8,
    "start_time": "2024-06-08T15:32:16.875Z"
   },
   {
    "duration": 336,
    "start_time": "2024-06-08T15:32:16.887Z"
   },
   {
    "duration": 7,
    "start_time": "2024-06-08T15:32:17.225Z"
   },
   {
    "duration": 26,
    "start_time": "2024-06-08T15:32:17.236Z"
   },
   {
    "duration": 424,
    "start_time": "2024-06-08T15:32:17.265Z"
   },
   {
    "duration": 10,
    "start_time": "2024-06-08T15:32:17.692Z"
   },
   {
    "duration": 10,
    "start_time": "2024-06-08T15:32:17.723Z"
   },
   {
    "duration": 13,
    "start_time": "2024-06-08T15:32:17.736Z"
   },
   {
    "duration": 1174,
    "start_time": "2024-06-08T15:32:17.752Z"
   },
   {
    "duration": 9,
    "start_time": "2024-06-08T15:32:37.778Z"
   },
   {
    "duration": 15,
    "start_time": "2024-06-08T15:33:19.575Z"
   },
   {
    "duration": 8,
    "start_time": "2024-06-08T15:34:21.620Z"
   },
   {
    "duration": 34,
    "start_time": "2024-06-08T15:34:29.650Z"
   },
   {
    "duration": 14,
    "start_time": "2024-06-08T15:34:37.387Z"
   },
   {
    "duration": 6,
    "start_time": "2024-06-08T15:35:11.641Z"
   },
   {
    "duration": 8,
    "start_time": "2024-06-08T15:38:58.942Z"
   },
   {
    "duration": 33,
    "start_time": "2024-06-08T15:40:12.948Z"
   },
   {
    "duration": 5,
    "start_time": "2024-06-08T15:40:18.334Z"
   },
   {
    "duration": 9,
    "start_time": "2024-06-08T15:40:45.444Z"
   },
   {
    "duration": 8,
    "start_time": "2024-06-08T15:41:52.293Z"
   },
   {
    "duration": 5,
    "start_time": "2024-06-08T15:41:52.728Z"
   },
   {
    "duration": 11,
    "start_time": "2024-06-08T15:41:53.273Z"
   },
   {
    "duration": 9,
    "start_time": "2024-06-08T15:42:39.776Z"
   },
   {
    "duration": 4,
    "start_time": "2024-06-08T15:42:40.372Z"
   },
   {
    "duration": 16,
    "start_time": "2024-06-08T15:42:40.876Z"
   },
   {
    "duration": 7,
    "start_time": "2024-06-08T15:43:00.136Z"
   },
   {
    "duration": 5,
    "start_time": "2024-06-08T15:43:00.517Z"
   },
   {
    "duration": 9,
    "start_time": "2024-06-08T15:43:01.249Z"
   },
   {
    "duration": 7,
    "start_time": "2024-06-08T15:43:10.106Z"
   },
   {
    "duration": 8,
    "start_time": "2024-06-08T15:43:20.732Z"
   },
   {
    "duration": 12,
    "start_time": "2024-06-08T15:43:21.050Z"
   },
   {
    "duration": 13,
    "start_time": "2024-06-08T15:50:43.283Z"
   },
   {
    "duration": 36,
    "start_time": "2024-06-08T15:51:12.142Z"
   },
   {
    "duration": 42,
    "start_time": "2024-06-08T15:52:03.806Z"
   },
   {
    "duration": 35,
    "start_time": "2024-06-08T15:52:25.056Z"
   },
   {
    "duration": 39,
    "start_time": "2024-06-08T15:52:32.886Z"
   },
   {
    "duration": 13,
    "start_time": "2024-06-08T15:52:45.331Z"
   },
   {
    "duration": 14,
    "start_time": "2024-06-08T15:53:06.783Z"
   },
   {
    "duration": 32,
    "start_time": "2024-06-08T15:53:27.664Z"
   },
   {
    "duration": 15,
    "start_time": "2024-06-08T15:53:36.196Z"
   },
   {
    "duration": 18,
    "start_time": "2024-06-08T15:58:59.659Z"
   },
   {
    "duration": 14,
    "start_time": "2024-06-08T16:00:17.633Z"
   },
   {
    "duration": 20,
    "start_time": "2024-06-08T16:03:31.540Z"
   },
   {
    "duration": 17,
    "start_time": "2024-06-08T16:04:03.195Z"
   },
   {
    "duration": 388,
    "start_time": "2024-06-08T16:14:08.023Z"
   },
   {
    "duration": 1309,
    "start_time": "2024-06-08T16:15:53.075Z"
   },
   {
    "duration": 50,
    "start_time": "2024-06-08T16:15:54.388Z"
   },
   {
    "duration": 21,
    "start_time": "2024-06-08T16:15:54.441Z"
   },
   {
    "duration": 57,
    "start_time": "2024-06-08T16:15:54.466Z"
   },
   {
    "duration": 6,
    "start_time": "2024-06-08T16:15:54.526Z"
   },
   {
    "duration": 7,
    "start_time": "2024-06-08T16:15:54.536Z"
   },
   {
    "duration": 11,
    "start_time": "2024-06-08T16:15:54.547Z"
   },
   {
    "duration": 7,
    "start_time": "2024-06-08T16:15:54.562Z"
   },
   {
    "duration": 55,
    "start_time": "2024-06-08T16:15:54.573Z"
   },
   {
    "duration": 12,
    "start_time": "2024-06-08T16:15:54.636Z"
   },
   {
    "duration": 8,
    "start_time": "2024-06-08T16:15:54.652Z"
   },
   {
    "duration": 9,
    "start_time": "2024-06-08T16:15:54.664Z"
   },
   {
    "duration": 57,
    "start_time": "2024-06-08T16:15:54.677Z"
   },
   {
    "duration": 31,
    "start_time": "2024-06-08T16:15:54.737Z"
   },
   {
    "duration": 57,
    "start_time": "2024-06-08T16:15:54.771Z"
   },
   {
    "duration": 9,
    "start_time": "2024-06-08T16:15:54.832Z"
   },
   {
    "duration": 8,
    "start_time": "2024-06-08T16:15:54.845Z"
   },
   {
    "duration": 588,
    "start_time": "2024-06-08T16:15:54.857Z"
   },
   {
    "duration": 14,
    "start_time": "2024-06-08T16:15:55.451Z"
   },
   {
    "duration": 10,
    "start_time": "2024-06-08T16:15:55.468Z"
   },
   {
    "duration": 44,
    "start_time": "2024-06-08T16:15:55.481Z"
   },
   {
    "duration": 6,
    "start_time": "2024-06-08T16:15:55.528Z"
   },
   {
    "duration": 523,
    "start_time": "2024-06-08T16:15:55.537Z"
   },
   {
    "duration": 12,
    "start_time": "2024-06-08T16:15:56.063Z"
   },
   {
    "duration": 15,
    "start_time": "2024-06-08T16:15:56.079Z"
   },
   {
    "duration": 43,
    "start_time": "2024-06-08T16:15:56.098Z"
   },
   {
    "duration": 654,
    "start_time": "2024-06-08T16:15:56.144Z"
   },
   {
    "duration": 339,
    "start_time": "2024-06-08T16:15:56.805Z"
   },
   {
    "duration": 7,
    "start_time": "2024-06-08T16:15:57.147Z"
   },
   {
    "duration": 375,
    "start_time": "2024-06-08T16:15:57.158Z"
   },
   {
    "duration": 8,
    "start_time": "2024-06-08T16:15:57.538Z"
   },
   {
    "duration": 40,
    "start_time": "2024-06-08T16:15:57.550Z"
   },
   {
    "duration": 403,
    "start_time": "2024-06-08T16:15:57.625Z"
   },
   {
    "duration": 11,
    "start_time": "2024-06-08T16:15:58.032Z"
   },
   {
    "duration": 12,
    "start_time": "2024-06-08T16:15:58.046Z"
   },
   {
    "duration": 10,
    "start_time": "2024-06-08T16:15:58.063Z"
   },
   {
    "duration": 61,
    "start_time": "2024-06-08T16:15:58.077Z"
   },
   {
    "duration": 9,
    "start_time": "2024-06-08T16:15:58.141Z"
   },
   {
    "duration": 10,
    "start_time": "2024-06-08T16:15:58.153Z"
   },
   {
    "duration": 10,
    "start_time": "2024-06-08T16:15:58.165Z"
   },
   {
    "duration": 54,
    "start_time": "2024-06-08T16:15:58.178Z"
   },
   {
    "duration": 17,
    "start_time": "2024-06-08T16:15:58.236Z"
   },
   {
    "duration": 418,
    "start_time": "2024-06-08T16:15:58.257Z"
   },
   {
    "duration": 11,
    "start_time": "2024-06-08T16:18:04.632Z"
   },
   {
    "duration": 1837,
    "start_time": "2024-06-08T16:18:21.626Z"
   },
   {
    "duration": 7,
    "start_time": "2024-06-08T16:18:45.717Z"
   },
   {
    "duration": 12,
    "start_time": "2024-06-08T16:19:14.349Z"
   },
   {
    "duration": 7,
    "start_time": "2024-06-08T16:19:14.612Z"
   },
   {
    "duration": 12,
    "start_time": "2024-06-08T16:20:02.894Z"
   },
   {
    "duration": 8,
    "start_time": "2024-06-08T16:20:05.591Z"
   },
   {
    "duration": 8,
    "start_time": "2024-06-08T16:30:19.010Z"
   },
   {
    "duration": 360,
    "start_time": "2024-06-08T16:30:19.191Z"
   },
   {
    "duration": 3,
    "start_time": "2024-06-08T16:48:40.373Z"
   },
   {
    "duration": 339,
    "start_time": "2024-06-08T16:52:27.323Z"
   },
   {
    "duration": 61,
    "start_time": "2024-06-08T16:53:19.500Z"
   },
   {
    "duration": 591,
    "start_time": "2024-06-08T17:12:53.166Z"
   },
   {
    "duration": 33,
    "start_time": "2024-06-08T17:13:05.802Z"
   },
   {
    "duration": 13,
    "start_time": "2024-06-08T17:13:11.712Z"
   },
   {
    "duration": 31,
    "start_time": "2024-06-08T17:13:38.672Z"
   },
   {
    "duration": 12,
    "start_time": "2024-06-08T17:13:58.306Z"
   },
   {
    "duration": 5,
    "start_time": "2024-06-08T17:14:33.040Z"
   },
   {
    "duration": 34,
    "start_time": "2024-06-08T17:20:02.450Z"
   },
   {
    "duration": 1317,
    "start_time": "2024-06-08T17:20:41.591Z"
   },
   {
    "duration": 43,
    "start_time": "2024-06-08T17:20:42.912Z"
   },
   {
    "duration": 21,
    "start_time": "2024-06-08T17:20:42.958Z"
   },
   {
    "duration": 52,
    "start_time": "2024-06-08T17:20:42.984Z"
   },
   {
    "duration": 6,
    "start_time": "2024-06-08T17:20:43.039Z"
   },
   {
    "duration": 6,
    "start_time": "2024-06-08T17:20:43.048Z"
   },
   {
    "duration": 13,
    "start_time": "2024-06-08T17:20:43.057Z"
   },
   {
    "duration": 53,
    "start_time": "2024-06-08T17:20:43.073Z"
   },
   {
    "duration": 7,
    "start_time": "2024-06-08T17:20:43.129Z"
   },
   {
    "duration": 13,
    "start_time": "2024-06-08T17:20:43.143Z"
   },
   {
    "duration": 9,
    "start_time": "2024-06-08T17:20:43.160Z"
   },
   {
    "duration": 50,
    "start_time": "2024-06-08T17:20:43.173Z"
   },
   {
    "duration": 11,
    "start_time": "2024-06-08T17:20:43.226Z"
   },
   {
    "duration": 29,
    "start_time": "2024-06-08T17:20:43.241Z"
   },
   {
    "duration": 67,
    "start_time": "2024-06-08T17:20:43.273Z"
   },
   {
    "duration": 10,
    "start_time": "2024-06-08T17:20:43.344Z"
   },
   {
    "duration": 10,
    "start_time": "2024-06-08T17:20:43.359Z"
   },
   {
    "duration": 561,
    "start_time": "2024-06-08T17:20:43.372Z"
   },
   {
    "duration": 14,
    "start_time": "2024-06-08T17:20:43.937Z"
   },
   {
    "duration": 7,
    "start_time": "2024-06-08T17:20:43.954Z"
   },
   {
    "duration": 13,
    "start_time": "2024-06-08T17:20:43.964Z"
   },
   {
    "duration": 47,
    "start_time": "2024-06-08T17:20:43.980Z"
   },
   {
    "duration": 541,
    "start_time": "2024-06-08T17:20:44.031Z"
   },
   {
    "duration": 10,
    "start_time": "2024-06-08T17:20:44.576Z"
   },
   {
    "duration": 14,
    "start_time": "2024-06-08T17:20:44.590Z"
   },
   {
    "duration": 34,
    "start_time": "2024-06-08T17:20:44.607Z"
   },
   {
    "duration": 611,
    "start_time": "2024-06-08T17:20:44.644Z"
   },
   {
    "duration": 324,
    "start_time": "2024-06-08T17:20:45.263Z"
   },
   {
    "duration": 8,
    "start_time": "2024-06-08T17:20:45.591Z"
   },
   {
    "duration": 357,
    "start_time": "2024-06-08T17:20:45.602Z"
   },
   {
    "duration": 6,
    "start_time": "2024-06-08T17:20:45.963Z"
   },
   {
    "duration": 60,
    "start_time": "2024-06-08T17:20:45.972Z"
   },
   {
    "duration": 387,
    "start_time": "2024-06-08T17:20:46.036Z"
   },
   {
    "duration": 11,
    "start_time": "2024-06-08T17:20:46.426Z"
   },
   {
    "duration": 10,
    "start_time": "2024-06-08T17:20:46.442Z"
   },
   {
    "duration": 11,
    "start_time": "2024-06-08T17:20:46.455Z"
   },
   {
    "duration": 59,
    "start_time": "2024-06-08T17:20:46.469Z"
   },
   {
    "duration": 5,
    "start_time": "2024-06-08T17:20:46.532Z"
   },
   {
    "duration": 10,
    "start_time": "2024-06-08T17:20:46.541Z"
   },
   {
    "duration": 10,
    "start_time": "2024-06-08T17:20:46.555Z"
   },
   {
    "duration": 54,
    "start_time": "2024-06-08T17:20:46.568Z"
   },
   {
    "duration": 24,
    "start_time": "2024-06-08T17:20:46.628Z"
   },
   {
    "duration": 415,
    "start_time": "2024-06-08T17:20:46.656Z"
   },
   {
    "duration": 14,
    "start_time": "2024-06-08T17:20:47.074Z"
   },
   {
    "duration": 33,
    "start_time": "2024-06-08T17:20:47.092Z"
   },
   {
    "duration": 13,
    "start_time": "2024-06-08T17:20:47.129Z"
   },
   {
    "duration": 11,
    "start_time": "2024-06-08T17:20:47.145Z"
   },
   {
    "duration": 4,
    "start_time": "2024-06-08T17:31:51.780Z"
   },
   {
    "duration": 12,
    "start_time": "2024-06-08T17:34:20.686Z"
   },
   {
    "duration": 15,
    "start_time": "2024-06-08T17:41:12.656Z"
   },
   {
    "duration": 13,
    "start_time": "2024-06-08T17:49:07.509Z"
   },
   {
    "duration": 5029,
    "start_time": "2024-06-09T15:40:03.962Z"
   },
   {
    "duration": 69,
    "start_time": "2024-06-09T15:40:08.994Z"
   },
   {
    "duration": 23,
    "start_time": "2024-06-09T15:40:09.067Z"
   },
   {
    "duration": 32,
    "start_time": "2024-06-09T15:40:09.094Z"
   },
   {
    "duration": 5,
    "start_time": "2024-06-09T15:40:09.129Z"
   },
   {
    "duration": 7,
    "start_time": "2024-06-09T15:40:09.137Z"
   },
   {
    "duration": 12,
    "start_time": "2024-06-09T15:40:09.147Z"
   },
   {
    "duration": 43,
    "start_time": "2024-06-09T15:40:09.162Z"
   },
   {
    "duration": 7,
    "start_time": "2024-06-09T15:40:09.208Z"
   },
   {
    "duration": 15,
    "start_time": "2024-06-09T15:40:09.221Z"
   },
   {
    "duration": 7,
    "start_time": "2024-06-09T15:40:09.239Z"
   },
   {
    "duration": 52,
    "start_time": "2024-06-09T15:40:09.250Z"
   },
   {
    "duration": 9,
    "start_time": "2024-06-09T15:40:09.306Z"
   },
   {
    "duration": 28,
    "start_time": "2024-06-09T15:40:09.319Z"
   },
   {
    "duration": 52,
    "start_time": "2024-06-09T15:40:09.351Z"
   },
   {
    "duration": 12,
    "start_time": "2024-06-09T15:40:09.405Z"
   },
   {
    "duration": 7,
    "start_time": "2024-06-09T15:40:09.420Z"
   },
   {
    "duration": 552,
    "start_time": "2024-06-09T15:40:09.429Z"
   },
   {
    "duration": 23,
    "start_time": "2024-06-09T15:40:09.984Z"
   },
   {
    "duration": 7,
    "start_time": "2024-06-09T15:40:10.010Z"
   },
   {
    "duration": 12,
    "start_time": "2024-06-09T15:40:10.020Z"
   },
   {
    "duration": 5,
    "start_time": "2024-06-09T15:40:10.035Z"
   },
   {
    "duration": 451,
    "start_time": "2024-06-09T15:40:10.043Z"
   },
   {
    "duration": 10,
    "start_time": "2024-06-09T15:40:10.498Z"
   },
   {
    "duration": 14,
    "start_time": "2024-06-09T15:40:10.512Z"
   },
   {
    "duration": 20,
    "start_time": "2024-06-09T15:40:10.529Z"
   },
   {
    "duration": 701,
    "start_time": "2024-06-09T15:40:10.551Z"
   },
   {
    "duration": 320,
    "start_time": "2024-06-09T15:40:11.260Z"
   },
   {
    "duration": 19,
    "start_time": "2024-06-09T15:40:11.583Z"
   },
   {
    "duration": 319,
    "start_time": "2024-06-09T15:40:11.606Z"
   },
   {
    "duration": 6,
    "start_time": "2024-06-09T15:40:11.929Z"
   },
   {
    "duration": 34,
    "start_time": "2024-06-09T15:40:11.939Z"
   },
   {
    "duration": 379,
    "start_time": "2024-06-09T15:40:12.003Z"
   },
   {
    "duration": 20,
    "start_time": "2024-06-09T15:40:12.386Z"
   },
   {
    "duration": 10,
    "start_time": "2024-06-09T15:40:12.410Z"
   },
   {
    "duration": 11,
    "start_time": "2024-06-09T15:40:12.423Z"
   },
   {
    "duration": 16,
    "start_time": "2024-06-09T15:40:12.437Z"
   },
   {
    "duration": 47,
    "start_time": "2024-06-09T15:40:12.456Z"
   },
   {
    "duration": 11,
    "start_time": "2024-06-09T15:40:12.506Z"
   },
   {
    "duration": 13,
    "start_time": "2024-06-09T15:40:12.521Z"
   },
   {
    "duration": 14,
    "start_time": "2024-06-09T15:40:12.537Z"
   },
   {
    "duration": 49,
    "start_time": "2024-06-09T15:40:12.555Z"
   },
   {
    "duration": 390,
    "start_time": "2024-06-09T15:40:12.614Z"
   },
   {
    "duration": 11,
    "start_time": "2024-06-09T15:40:13.008Z"
   },
   {
    "duration": 7,
    "start_time": "2024-06-09T15:40:13.022Z"
   },
   {
    "duration": 20,
    "start_time": "2024-06-09T15:40:13.032Z"
   },
   {
    "duration": 52,
    "start_time": "2024-06-09T15:40:13.055Z"
   },
   {
    "duration": 19,
    "start_time": "2024-06-09T16:17:09.436Z"
   },
   {
    "duration": 6,
    "start_time": "2024-06-09T16:17:10.129Z"
   },
   {
    "duration": 12,
    "start_time": "2024-06-09T16:17:10.938Z"
   },
   {
    "duration": 1283,
    "start_time": "2024-06-09T16:21:20.880Z"
   },
   {
    "duration": 47,
    "start_time": "2024-06-09T16:21:22.166Z"
   },
   {
    "duration": 20,
    "start_time": "2024-06-09T16:21:22.216Z"
   },
   {
    "duration": 26,
    "start_time": "2024-06-09T16:21:22.240Z"
   },
   {
    "duration": 34,
    "start_time": "2024-06-09T16:21:22.269Z"
   },
   {
    "duration": 6,
    "start_time": "2024-06-09T16:21:22.306Z"
   },
   {
    "duration": 10,
    "start_time": "2024-06-09T16:21:22.316Z"
   },
   {
    "duration": 9,
    "start_time": "2024-06-09T16:21:22.329Z"
   },
   {
    "duration": 7,
    "start_time": "2024-06-09T16:21:22.341Z"
   },
   {
    "duration": 11,
    "start_time": "2024-06-09T16:21:22.402Z"
   },
   {
    "duration": 8,
    "start_time": "2024-06-09T16:21:22.417Z"
   },
   {
    "duration": 9,
    "start_time": "2024-06-09T16:21:22.427Z"
   },
   {
    "duration": 11,
    "start_time": "2024-06-09T16:21:22.438Z"
   },
   {
    "duration": 68,
    "start_time": "2024-06-09T16:21:22.452Z"
   },
   {
    "duration": 18,
    "start_time": "2024-06-09T16:21:22.523Z"
   },
   {
    "duration": 9,
    "start_time": "2024-06-09T16:21:22.544Z"
   },
   {
    "duration": 46,
    "start_time": "2024-06-09T16:21:22.556Z"
   },
   {
    "duration": 516,
    "start_time": "2024-06-09T16:21:22.606Z"
   },
   {
    "duration": 478,
    "start_time": "2024-06-09T16:21:23.125Z"
   },
   {
    "duration": 0,
    "start_time": "2024-06-09T16:21:23.607Z"
   },
   {
    "duration": 0,
    "start_time": "2024-06-09T16:21:23.609Z"
   },
   {
    "duration": 0,
    "start_time": "2024-06-09T16:21:23.611Z"
   },
   {
    "duration": 0,
    "start_time": "2024-06-09T16:21:23.612Z"
   },
   {
    "duration": 0,
    "start_time": "2024-06-09T16:21:23.615Z"
   },
   {
    "duration": 0,
    "start_time": "2024-06-09T16:21:23.617Z"
   },
   {
    "duration": 0,
    "start_time": "2024-06-09T16:21:23.618Z"
   },
   {
    "duration": 0,
    "start_time": "2024-06-09T16:21:23.620Z"
   },
   {
    "duration": 0,
    "start_time": "2024-06-09T16:21:23.622Z"
   },
   {
    "duration": 0,
    "start_time": "2024-06-09T16:21:23.625Z"
   },
   {
    "duration": 0,
    "start_time": "2024-06-09T16:21:23.627Z"
   },
   {
    "duration": 0,
    "start_time": "2024-06-09T16:21:23.629Z"
   },
   {
    "duration": 0,
    "start_time": "2024-06-09T16:21:23.630Z"
   },
   {
    "duration": 0,
    "start_time": "2024-06-09T16:21:23.632Z"
   },
   {
    "duration": 0,
    "start_time": "2024-06-09T16:21:23.634Z"
   },
   {
    "duration": 0,
    "start_time": "2024-06-09T16:21:23.635Z"
   },
   {
    "duration": 0,
    "start_time": "2024-06-09T16:21:23.639Z"
   },
   {
    "duration": 0,
    "start_time": "2024-06-09T16:21:23.641Z"
   },
   {
    "duration": 0,
    "start_time": "2024-06-09T16:21:23.643Z"
   },
   {
    "duration": 0,
    "start_time": "2024-06-09T16:21:23.701Z"
   },
   {
    "duration": 0,
    "start_time": "2024-06-09T16:21:23.704Z"
   },
   {
    "duration": 0,
    "start_time": "2024-06-09T16:21:23.706Z"
   },
   {
    "duration": 0,
    "start_time": "2024-06-09T16:21:23.708Z"
   },
   {
    "duration": 0,
    "start_time": "2024-06-09T16:21:23.710Z"
   },
   {
    "duration": 0,
    "start_time": "2024-06-09T16:21:23.712Z"
   },
   {
    "duration": 0,
    "start_time": "2024-06-09T16:21:23.715Z"
   },
   {
    "duration": 0,
    "start_time": "2024-06-09T16:21:23.717Z"
   },
   {
    "duration": 0,
    "start_time": "2024-06-09T16:21:23.719Z"
   },
   {
    "duration": 1217,
    "start_time": "2024-06-09T16:21:51.657Z"
   },
   {
    "duration": 47,
    "start_time": "2024-06-09T16:21:52.878Z"
   },
   {
    "duration": 20,
    "start_time": "2024-06-09T16:21:52.927Z"
   },
   {
    "duration": 27,
    "start_time": "2024-06-09T16:21:52.954Z"
   },
   {
    "duration": 5,
    "start_time": "2024-06-09T16:21:53.002Z"
   },
   {
    "duration": 6,
    "start_time": "2024-06-09T16:21:53.011Z"
   },
   {
    "duration": 12,
    "start_time": "2024-06-09T16:21:53.020Z"
   },
   {
    "duration": 7,
    "start_time": "2024-06-09T16:21:53.035Z"
   },
   {
    "duration": 57,
    "start_time": "2024-06-09T16:21:53.046Z"
   },
   {
    "duration": 12,
    "start_time": "2024-06-09T16:21:53.110Z"
   },
   {
    "duration": 7,
    "start_time": "2024-06-09T16:21:53.126Z"
   },
   {
    "duration": 8,
    "start_time": "2024-06-09T16:21:53.136Z"
   },
   {
    "duration": 10,
    "start_time": "2024-06-09T16:21:53.147Z"
   },
   {
    "duration": 28,
    "start_time": "2024-06-09T16:21:53.201Z"
   },
   {
    "duration": 18,
    "start_time": "2024-06-09T16:21:53.232Z"
   },
   {
    "duration": 9,
    "start_time": "2024-06-09T16:21:53.253Z"
   },
   {
    "duration": 7,
    "start_time": "2024-06-09T16:21:53.301Z"
   },
   {
    "duration": 524,
    "start_time": "2024-06-09T16:21:53.311Z"
   },
   {
    "duration": 14,
    "start_time": "2024-06-09T16:21:53.838Z"
   },
   {
    "duration": 6,
    "start_time": "2024-06-09T16:21:53.854Z"
   },
   {
    "duration": 41,
    "start_time": "2024-06-09T16:21:53.863Z"
   },
   {
    "duration": 6,
    "start_time": "2024-06-09T16:21:53.907Z"
   },
   {
    "duration": 486,
    "start_time": "2024-06-09T16:21:53.916Z"
   },
   {
    "duration": 10,
    "start_time": "2024-06-09T16:21:54.405Z"
   },
   {
    "duration": 12,
    "start_time": "2024-06-09T16:21:54.418Z"
   },
   {
    "duration": 20,
    "start_time": "2024-06-09T16:21:54.433Z"
   },
   {
    "duration": 617,
    "start_time": "2024-06-09T16:21:54.456Z"
   },
   {
    "duration": 320,
    "start_time": "2024-06-09T16:21:55.081Z"
   },
   {
    "duration": 6,
    "start_time": "2024-06-09T16:21:55.405Z"
   },
   {
    "duration": 319,
    "start_time": "2024-06-09T16:21:55.414Z"
   },
   {
    "duration": 6,
    "start_time": "2024-06-09T16:21:55.735Z"
   },
   {
    "duration": 28,
    "start_time": "2024-06-09T16:21:55.744Z"
   },
   {
    "duration": 391,
    "start_time": "2024-06-09T16:21:55.803Z"
   },
   {
    "duration": 13,
    "start_time": "2024-06-09T16:21:56.197Z"
   },
   {
    "duration": 11,
    "start_time": "2024-06-09T16:21:56.213Z"
   },
   {
    "duration": 10,
    "start_time": "2024-06-09T16:21:56.226Z"
   },
   {
    "duration": 14,
    "start_time": "2024-06-09T16:21:56.239Z"
   },
   {
    "duration": 10,
    "start_time": "2024-06-09T16:21:56.307Z"
   },
   {
    "duration": 10,
    "start_time": "2024-06-09T16:21:56.321Z"
   },
   {
    "duration": 10,
    "start_time": "2024-06-09T16:21:56.335Z"
   },
   {
    "duration": 9,
    "start_time": "2024-06-09T16:21:56.356Z"
   },
   {
    "duration": 41,
    "start_time": "2024-06-09T16:21:56.370Z"
   },
   {
    "duration": 374,
    "start_time": "2024-06-09T16:21:56.414Z"
   },
   {
    "duration": 14,
    "start_time": "2024-06-09T16:21:56.793Z"
   },
   {
    "duration": 7,
    "start_time": "2024-06-09T16:21:56.810Z"
   },
   {
    "duration": 15,
    "start_time": "2024-06-09T16:21:56.821Z"
   },
   {
    "duration": 15,
    "start_time": "2024-06-09T16:21:56.839Z"
   },
   {
    "duration": 5177,
    "start_time": "2024-06-09T19:38:27.761Z"
   },
   {
    "duration": 68,
    "start_time": "2024-06-09T19:38:32.943Z"
   },
   {
    "duration": 34,
    "start_time": "2024-06-09T19:38:33.028Z"
   },
   {
    "duration": 26,
    "start_time": "2024-06-09T19:38:33.066Z"
   },
   {
    "duration": 13,
    "start_time": "2024-06-09T19:38:33.098Z"
   },
   {
    "duration": 12,
    "start_time": "2024-06-09T19:38:33.116Z"
   },
   {
    "duration": 14,
    "start_time": "2024-06-09T19:38:33.132Z"
   },
   {
    "duration": 9,
    "start_time": "2024-06-09T19:38:33.150Z"
   },
   {
    "duration": 8,
    "start_time": "2024-06-09T19:38:33.162Z"
   },
   {
    "duration": 15,
    "start_time": "2024-06-09T19:38:33.220Z"
   },
   {
    "duration": 8,
    "start_time": "2024-06-09T19:38:33.240Z"
   },
   {
    "duration": 9,
    "start_time": "2024-06-09T19:38:33.252Z"
   },
   {
    "duration": 55,
    "start_time": "2024-06-09T19:38:33.265Z"
   },
   {
    "duration": 30,
    "start_time": "2024-06-09T19:38:33.325Z"
   },
   {
    "duration": 47,
    "start_time": "2024-06-09T19:38:33.365Z"
   },
   {
    "duration": 12,
    "start_time": "2024-06-09T19:38:33.421Z"
   },
   {
    "duration": 7,
    "start_time": "2024-06-09T19:38:33.436Z"
   },
   {
    "duration": 592,
    "start_time": "2024-06-09T19:38:33.446Z"
   },
   {
    "duration": 16,
    "start_time": "2024-06-09T19:38:34.042Z"
   },
   {
    "duration": 6,
    "start_time": "2024-06-09T19:38:34.062Z"
   },
   {
    "duration": 47,
    "start_time": "2024-06-09T19:38:34.070Z"
   },
   {
    "duration": 5,
    "start_time": "2024-06-09T19:38:34.120Z"
   },
   {
    "duration": 468,
    "start_time": "2024-06-09T19:38:34.129Z"
   },
   {
    "duration": 12,
    "start_time": "2024-06-09T19:38:34.601Z"
   },
   {
    "duration": 14,
    "start_time": "2024-06-09T19:38:34.619Z"
   },
   {
    "duration": 26,
    "start_time": "2024-06-09T19:38:34.636Z"
   },
   {
    "duration": 770,
    "start_time": "2024-06-09T19:38:34.665Z"
   },
   {
    "duration": 338,
    "start_time": "2024-06-09T19:38:35.445Z"
   },
   {
    "duration": 7,
    "start_time": "2024-06-09T19:38:35.786Z"
   },
   {
    "duration": 364,
    "start_time": "2024-06-09T19:38:35.798Z"
   },
   {
    "duration": 8,
    "start_time": "2024-06-09T19:38:36.166Z"
   },
   {
    "duration": 57,
    "start_time": "2024-06-09T19:38:36.178Z"
   },
   {
    "duration": 387,
    "start_time": "2024-06-09T19:38:36.238Z"
   },
   {
    "duration": 10,
    "start_time": "2024-06-09T19:38:36.630Z"
   },
   {
    "duration": 12,
    "start_time": "2024-06-09T19:38:36.644Z"
   },
   {
    "duration": 10,
    "start_time": "2024-06-09T19:38:36.658Z"
   },
   {
    "duration": 13,
    "start_time": "2024-06-09T19:38:36.714Z"
   },
   {
    "duration": 6,
    "start_time": "2024-06-09T19:38:36.731Z"
   },
   {
    "duration": 12,
    "start_time": "2024-06-09T19:38:36.741Z"
   },
   {
    "duration": 12,
    "start_time": "2024-06-09T19:38:36.756Z"
   },
   {
    "duration": 52,
    "start_time": "2024-06-09T19:38:36.771Z"
   },
   {
    "duration": 25,
    "start_time": "2024-06-09T19:38:36.827Z"
   },
   {
    "duration": 420,
    "start_time": "2024-06-09T19:38:36.855Z"
   },
   {
    "duration": 12,
    "start_time": "2024-06-09T19:38:37.278Z"
   },
   {
    "duration": 7,
    "start_time": "2024-06-09T19:38:37.311Z"
   },
   {
    "duration": 18,
    "start_time": "2024-06-09T19:38:37.321Z"
   },
   {
    "duration": 20,
    "start_time": "2024-06-09T19:38:37.343Z"
   },
   {
    "duration": 311,
    "start_time": "2024-06-10T11:54:23.310Z"
   },
   {
    "duration": 5067,
    "start_time": "2024-06-10T11:54:48.213Z"
   },
   {
    "duration": 59,
    "start_time": "2024-06-10T11:54:53.284Z"
   },
   {
    "duration": 22,
    "start_time": "2024-06-10T11:54:53.345Z"
   },
   {
    "duration": 28,
    "start_time": "2024-06-10T11:54:53.371Z"
   },
   {
    "duration": 6,
    "start_time": "2024-06-10T11:54:53.424Z"
   },
   {
    "duration": 5,
    "start_time": "2024-06-10T11:54:53.434Z"
   },
   {
    "duration": 12,
    "start_time": "2024-06-10T11:54:53.442Z"
   },
   {
    "duration": 8,
    "start_time": "2024-06-10T11:54:53.457Z"
   },
   {
    "duration": 56,
    "start_time": "2024-06-10T11:54:53.469Z"
   },
   {
    "duration": 12,
    "start_time": "2024-06-10T11:54:53.532Z"
   },
   {
    "duration": 8,
    "start_time": "2024-06-10T11:54:53.550Z"
   },
   {
    "duration": 10,
    "start_time": "2024-06-10T11:54:53.560Z"
   },
   {
    "duration": 51,
    "start_time": "2024-06-10T11:54:53.573Z"
   },
   {
    "duration": 30,
    "start_time": "2024-06-10T11:54:53.627Z"
   },
   {
    "duration": 19,
    "start_time": "2024-06-10T11:54:53.660Z"
   },
   {
    "duration": 45,
    "start_time": "2024-06-10T11:54:53.682Z"
   },
   {
    "duration": 9,
    "start_time": "2024-06-10T11:54:53.730Z"
   },
   {
    "duration": 550,
    "start_time": "2024-06-10T11:54:53.742Z"
   },
   {
    "duration": 28,
    "start_time": "2024-06-10T11:54:54.295Z"
   },
   {
    "duration": 6,
    "start_time": "2024-06-10T11:54:54.326Z"
   },
   {
    "duration": 14,
    "start_time": "2024-06-10T11:54:54.335Z"
   },
   {
    "duration": 6,
    "start_time": "2024-06-10T11:54:54.353Z"
   },
   {
    "duration": 477,
    "start_time": "2024-06-10T11:54:54.363Z"
   },
   {
    "duration": 125,
    "start_time": "2024-06-10T11:55:14.086Z"
   },
   {
    "duration": 368,
    "start_time": "2024-06-10T11:55:50.309Z"
   },
   {
    "duration": 11,
    "start_time": "2024-06-10T11:56:16.783Z"
   },
   {
    "duration": 91,
    "start_time": "2024-06-10T11:56:29.520Z"
   },
   {
    "duration": 9,
    "start_time": "2024-06-10T11:56:42.750Z"
   },
   {
    "duration": 10,
    "start_time": "2024-06-10T11:57:29.799Z"
   },
   {
    "duration": 15,
    "start_time": "2024-06-10T11:57:30.346Z"
   },
   {
    "duration": 16,
    "start_time": "2024-06-10T11:57:55.918Z"
   },
   {
    "duration": 6,
    "start_time": "2024-06-10T11:57:56.690Z"
   },
   {
    "duration": 11,
    "start_time": "2024-06-10T11:57:57.293Z"
   },
   {
    "duration": 5,
    "start_time": "2024-06-10T11:58:02.009Z"
   },
   {
    "duration": 386,
    "start_time": "2024-06-10T11:58:04.463Z"
   },
   {
    "duration": 20,
    "start_time": "2024-06-10T12:00:00.965Z"
   },
   {
    "duration": 522,
    "start_time": "2024-06-10T12:00:01.549Z"
   },
   {
    "duration": 275,
    "start_time": "2024-06-10T12:00:28.761Z"
   },
   {
    "duration": 267,
    "start_time": "2024-06-10T12:00:58.193Z"
   },
   {
    "duration": 265,
    "start_time": "2024-06-10T12:01:06.307Z"
   },
   {
    "duration": 8,
    "start_time": "2024-06-10T12:01:14.143Z"
   },
   {
    "duration": 276,
    "start_time": "2024-06-10T12:01:40.515Z"
   },
   {
    "duration": 6,
    "start_time": "2024-06-10T12:01:50.951Z"
   },
   {
    "duration": 9,
    "start_time": "2024-06-10T12:20:43.428Z"
   },
   {
    "duration": 43,
    "start_time": "2024-06-10T15:33:20.666Z"
   },
   {
    "duration": 50,
    "start_time": "2024-06-10T15:34:57.340Z"
   },
   {
    "duration": 47,
    "start_time": "2024-06-10T15:35:30.908Z"
   },
   {
    "duration": 22,
    "start_time": "2024-06-10T15:36:45.081Z"
   },
   {
    "duration": 21,
    "start_time": "2024-06-10T15:38:16.000Z"
   },
   {
    "duration": 23,
    "start_time": "2024-06-10T15:42:51.668Z"
   },
   {
    "duration": 23,
    "start_time": "2024-06-10T15:43:42.817Z"
   },
   {
    "duration": 21,
    "start_time": "2024-06-10T15:45:45.985Z"
   },
   {
    "duration": 24,
    "start_time": "2024-06-10T15:45:51.990Z"
   },
   {
    "duration": 28,
    "start_time": "2024-06-10T15:52:17.219Z"
   },
   {
    "duration": 21,
    "start_time": "2024-06-10T15:52:31.899Z"
   },
   {
    "duration": 21,
    "start_time": "2024-06-10T15:53:08.242Z"
   },
   {
    "duration": 20,
    "start_time": "2024-06-10T16:14:03.861Z"
   },
   {
    "duration": 1461,
    "start_time": "2024-06-10T16:18:48.792Z"
   },
   {
    "duration": 44,
    "start_time": "2024-06-10T16:18:50.256Z"
   },
   {
    "duration": 36,
    "start_time": "2024-06-10T16:18:50.303Z"
   },
   {
    "duration": 27,
    "start_time": "2024-06-10T16:18:50.344Z"
   },
   {
    "duration": 6,
    "start_time": "2024-06-10T16:18:50.374Z"
   },
   {
    "duration": 44,
    "start_time": "2024-06-10T16:18:50.383Z"
   },
   {
    "duration": 14,
    "start_time": "2024-06-10T16:18:50.431Z"
   },
   {
    "duration": 1707,
    "start_time": "2024-06-10T16:18:50.449Z"
   },
   {
    "duration": 0,
    "start_time": "2024-06-10T16:18:52.162Z"
   },
   {
    "duration": 0,
    "start_time": "2024-06-10T16:18:52.165Z"
   },
   {
    "duration": 0,
    "start_time": "2024-06-10T16:18:52.167Z"
   },
   {
    "duration": 0,
    "start_time": "2024-06-10T16:18:52.169Z"
   },
   {
    "duration": 0,
    "start_time": "2024-06-10T16:18:52.172Z"
   },
   {
    "duration": 0,
    "start_time": "2024-06-10T16:18:52.174Z"
   },
   {
    "duration": 1,
    "start_time": "2024-06-10T16:18:52.175Z"
   },
   {
    "duration": 0,
    "start_time": "2024-06-10T16:18:52.177Z"
   },
   {
    "duration": 0,
    "start_time": "2024-06-10T16:18:52.180Z"
   },
   {
    "duration": 0,
    "start_time": "2024-06-10T16:18:52.182Z"
   },
   {
    "duration": 0,
    "start_time": "2024-06-10T16:18:52.185Z"
   },
   {
    "duration": 0,
    "start_time": "2024-06-10T16:18:52.187Z"
   },
   {
    "duration": 0,
    "start_time": "2024-06-10T16:18:52.224Z"
   },
   {
    "duration": 0,
    "start_time": "2024-06-10T16:18:52.227Z"
   },
   {
    "duration": 0,
    "start_time": "2024-06-10T16:18:52.229Z"
   },
   {
    "duration": 0,
    "start_time": "2024-06-10T16:18:52.231Z"
   },
   {
    "duration": 0,
    "start_time": "2024-06-10T16:18:52.235Z"
   },
   {
    "duration": 0,
    "start_time": "2024-06-10T16:18:52.238Z"
   },
   {
    "duration": 0,
    "start_time": "2024-06-10T16:18:52.240Z"
   },
   {
    "duration": 0,
    "start_time": "2024-06-10T16:18:52.243Z"
   },
   {
    "duration": 0,
    "start_time": "2024-06-10T16:18:52.246Z"
   },
   {
    "duration": 0,
    "start_time": "2024-06-10T16:18:52.248Z"
   },
   {
    "duration": 0,
    "start_time": "2024-06-10T16:18:52.250Z"
   },
   {
    "duration": 0,
    "start_time": "2024-06-10T16:18:52.253Z"
   },
   {
    "duration": 0,
    "start_time": "2024-06-10T16:18:52.255Z"
   },
   {
    "duration": 0,
    "start_time": "2024-06-10T16:18:52.258Z"
   },
   {
    "duration": 0,
    "start_time": "2024-06-10T16:18:52.261Z"
   },
   {
    "duration": 0,
    "start_time": "2024-06-10T16:18:52.262Z"
   },
   {
    "duration": 0,
    "start_time": "2024-06-10T16:18:52.263Z"
   },
   {
    "duration": 0,
    "start_time": "2024-06-10T16:18:52.324Z"
   },
   {
    "duration": 0,
    "start_time": "2024-06-10T16:18:52.326Z"
   },
   {
    "duration": 0,
    "start_time": "2024-06-10T16:18:52.329Z"
   },
   {
    "duration": 0,
    "start_time": "2024-06-10T16:18:52.332Z"
   },
   {
    "duration": 0,
    "start_time": "2024-06-10T16:18:52.334Z"
   },
   {
    "duration": 13,
    "start_time": "2024-06-10T16:27:12.317Z"
   },
   {
    "duration": 21,
    "start_time": "2024-06-10T16:27:12.335Z"
   },
   {
    "duration": 20,
    "start_time": "2024-06-10T16:27:12.359Z"
   },
   {
    "duration": 9,
    "start_time": "2024-06-10T16:27:12.422Z"
   },
   {
    "duration": 568,
    "start_time": "2024-06-10T16:27:12.435Z"
   },
   {
    "duration": 24,
    "start_time": "2024-06-10T16:27:13.008Z"
   },
   {
    "duration": 7,
    "start_time": "2024-06-10T16:27:13.035Z"
   },
   {
    "duration": 13,
    "start_time": "2024-06-10T16:27:13.045Z"
   },
   {
    "duration": 6,
    "start_time": "2024-06-10T16:27:13.061Z"
   },
   {
    "duration": 456,
    "start_time": "2024-06-10T16:27:13.124Z"
   },
   {
    "duration": 10,
    "start_time": "2024-06-10T16:27:13.583Z"
   },
   {
    "duration": 33,
    "start_time": "2024-06-10T16:27:13.597Z"
   },
   {
    "duration": 20,
    "start_time": "2024-06-10T16:27:13.634Z"
   },
   {
    "duration": 522,
    "start_time": "2024-06-10T16:27:13.658Z"
   },
   {
    "duration": 334,
    "start_time": "2024-06-10T16:27:14.184Z"
   },
   {
    "duration": 7,
    "start_time": "2024-06-10T16:27:14.521Z"
   },
   {
    "duration": 331,
    "start_time": "2024-06-10T16:27:14.531Z"
   },
   {
    "duration": 6,
    "start_time": "2024-06-10T16:27:14.865Z"
   },
   {
    "duration": 70,
    "start_time": "2024-06-10T16:27:14.875Z"
   },
   {
    "duration": 396,
    "start_time": "2024-06-10T16:27:14.948Z"
   },
   {
    "duration": 9,
    "start_time": "2024-06-10T16:27:15.348Z"
   },
   {
    "duration": 10,
    "start_time": "2024-06-10T16:27:15.360Z"
   },
   {
    "duration": 53,
    "start_time": "2024-06-10T16:27:15.374Z"
   },
   {
    "duration": 15,
    "start_time": "2024-06-10T16:27:15.431Z"
   },
   {
    "duration": 6,
    "start_time": "2024-06-10T16:27:15.450Z"
   },
   {
    "duration": 11,
    "start_time": "2024-06-10T16:27:15.461Z"
   },
   {
    "duration": 55,
    "start_time": "2024-06-10T16:27:15.475Z"
   },
   {
    "duration": 9,
    "start_time": "2024-06-10T16:27:15.539Z"
   },
   {
    "duration": 18,
    "start_time": "2024-06-10T16:27:15.551Z"
   },
   {
    "duration": 379,
    "start_time": "2024-06-10T16:27:15.573Z"
   },
   {
    "duration": 13,
    "start_time": "2024-06-10T16:27:15.956Z"
   },
   {
    "duration": 7,
    "start_time": "2024-06-10T16:27:15.973Z"
   },
   {
    "duration": 82,
    "start_time": "2024-06-10T16:27:15.985Z"
   },
   {
    "duration": 0,
    "start_time": "2024-06-10T16:27:16.071Z"
   },
   {
    "duration": 339,
    "start_time": "2024-06-10T21:48:13.199Z"
   },
   {
    "duration": 4985,
    "start_time": "2024-06-10T21:48:24.943Z"
   },
   {
    "duration": 53,
    "start_time": "2024-06-10T21:48:29.932Z"
   },
   {
    "duration": 24,
    "start_time": "2024-06-10T21:48:29.988Z"
   },
   {
    "duration": 27,
    "start_time": "2024-06-10T21:48:30.016Z"
   },
   {
    "duration": 5,
    "start_time": "2024-06-10T21:48:30.046Z"
   },
   {
    "duration": 7,
    "start_time": "2024-06-10T21:48:30.054Z"
   },
   {
    "duration": 48,
    "start_time": "2024-06-10T21:48:30.064Z"
   },
   {
    "duration": 1525,
    "start_time": "2024-06-10T21:48:30.116Z"
   },
   {
    "duration": 0,
    "start_time": "2024-06-10T21:48:31.646Z"
   },
   {
    "duration": 0,
    "start_time": "2024-06-10T21:48:31.648Z"
   },
   {
    "duration": 0,
    "start_time": "2024-06-10T21:48:31.650Z"
   },
   {
    "duration": 0,
    "start_time": "2024-06-10T21:48:31.653Z"
   },
   {
    "duration": 0,
    "start_time": "2024-06-10T21:48:31.656Z"
   },
   {
    "duration": 0,
    "start_time": "2024-06-10T21:48:31.660Z"
   },
   {
    "duration": 0,
    "start_time": "2024-06-10T21:48:31.661Z"
   },
   {
    "duration": 0,
    "start_time": "2024-06-10T21:48:31.663Z"
   },
   {
    "duration": 0,
    "start_time": "2024-06-10T21:48:31.665Z"
   },
   {
    "duration": 0,
    "start_time": "2024-06-10T21:48:31.667Z"
   },
   {
    "duration": 0,
    "start_time": "2024-06-10T21:48:31.669Z"
   },
   {
    "duration": 0,
    "start_time": "2024-06-10T21:48:31.671Z"
   },
   {
    "duration": 0,
    "start_time": "2024-06-10T21:48:31.713Z"
   },
   {
    "duration": 0,
    "start_time": "2024-06-10T21:48:31.715Z"
   },
   {
    "duration": 0,
    "start_time": "2024-06-10T21:48:31.717Z"
   },
   {
    "duration": 0,
    "start_time": "2024-06-10T21:48:31.720Z"
   },
   {
    "duration": 0,
    "start_time": "2024-06-10T21:48:31.723Z"
   },
   {
    "duration": 0,
    "start_time": "2024-06-10T21:48:31.726Z"
   },
   {
    "duration": 0,
    "start_time": "2024-06-10T21:48:31.729Z"
   },
   {
    "duration": 0,
    "start_time": "2024-06-10T21:48:31.731Z"
   },
   {
    "duration": 0,
    "start_time": "2024-06-10T21:48:31.732Z"
   },
   {
    "duration": 0,
    "start_time": "2024-06-10T21:48:31.734Z"
   },
   {
    "duration": 0,
    "start_time": "2024-06-10T21:48:31.737Z"
   },
   {
    "duration": 0,
    "start_time": "2024-06-10T21:48:31.740Z"
   },
   {
    "duration": 0,
    "start_time": "2024-06-10T21:48:31.742Z"
   },
   {
    "duration": 0,
    "start_time": "2024-06-10T21:48:31.744Z"
   },
   {
    "duration": 0,
    "start_time": "2024-06-10T21:48:31.926Z"
   },
   {
    "duration": 0,
    "start_time": "2024-06-10T21:48:31.929Z"
   },
   {
    "duration": 0,
    "start_time": "2024-06-10T21:48:31.931Z"
   },
   {
    "duration": 0,
    "start_time": "2024-06-10T21:48:31.933Z"
   },
   {
    "duration": 0,
    "start_time": "2024-06-10T21:48:31.936Z"
   },
   {
    "duration": 0,
    "start_time": "2024-06-10T21:48:31.939Z"
   },
   {
    "duration": 0,
    "start_time": "2024-06-10T21:48:31.942Z"
   },
   {
    "duration": 0,
    "start_time": "2024-06-10T21:48:31.945Z"
   },
   {
    "duration": 8,
    "start_time": "2024-06-10T21:49:52.983Z"
   },
   {
    "duration": 42,
    "start_time": "2024-06-10T21:49:52.995Z"
   },
   {
    "duration": 20,
    "start_time": "2024-06-10T21:49:53.043Z"
   },
   {
    "duration": 22,
    "start_time": "2024-06-10T21:49:53.067Z"
   },
   {
    "duration": 23,
    "start_time": "2024-06-10T21:49:53.092Z"
   },
   {
    "duration": 6,
    "start_time": "2024-06-10T21:49:53.127Z"
   },
   {
    "duration": 11,
    "start_time": "2024-06-10T21:49:53.136Z"
   },
   {
    "duration": 140,
    "start_time": "2024-06-10T21:49:53.149Z"
   },
   {
    "duration": 13,
    "start_time": "2024-06-10T21:50:00.056Z"
   },
   {
    "duration": 19,
    "start_time": "2024-06-10T21:50:00.073Z"
   },
   {
    "duration": 17,
    "start_time": "2024-06-10T21:50:00.095Z"
   },
   {
    "duration": 9,
    "start_time": "2024-06-10T21:50:00.117Z"
   },
   {
    "duration": 530,
    "start_time": "2024-06-10T21:50:00.129Z"
   },
   {
    "duration": 12,
    "start_time": "2024-06-10T21:50:00.662Z"
   },
   {
    "duration": 6,
    "start_time": "2024-06-10T21:50:00.676Z"
   },
   {
    "duration": 32,
    "start_time": "2024-06-10T21:50:00.685Z"
   },
   {
    "duration": 5,
    "start_time": "2024-06-10T21:50:00.721Z"
   },
   {
    "duration": 445,
    "start_time": "2024-06-10T21:50:00.732Z"
   },
   {
    "duration": 9,
    "start_time": "2024-06-10T21:50:01.179Z"
   },
   {
    "duration": 25,
    "start_time": "2024-06-10T21:50:01.192Z"
   },
   {
    "duration": 18,
    "start_time": "2024-06-10T21:50:01.220Z"
   },
   {
    "duration": 451,
    "start_time": "2024-06-10T21:50:01.241Z"
   },
   {
    "duration": 281,
    "start_time": "2024-06-10T21:50:01.695Z"
   },
   {
    "duration": 6,
    "start_time": "2024-06-10T21:50:01.978Z"
   },
   {
    "duration": 294,
    "start_time": "2024-06-10T21:50:01.989Z"
   },
   {
    "duration": 6,
    "start_time": "2024-06-10T21:50:02.286Z"
   },
   {
    "duration": 38,
    "start_time": "2024-06-10T21:50:02.294Z"
   },
   {
    "duration": 388,
    "start_time": "2024-06-10T21:50:02.334Z"
   },
   {
    "duration": 10,
    "start_time": "2024-06-10T21:50:02.725Z"
   },
   {
    "duration": 8,
    "start_time": "2024-06-10T21:50:02.739Z"
   },
   {
    "duration": 8,
    "start_time": "2024-06-10T21:50:02.751Z"
   },
   {
    "duration": 55,
    "start_time": "2024-06-10T21:50:02.763Z"
   },
   {
    "duration": 6,
    "start_time": "2024-06-10T21:50:02.820Z"
   },
   {
    "duration": 8,
    "start_time": "2024-06-10T21:50:02.829Z"
   },
   {
    "duration": 8,
    "start_time": "2024-06-10T21:50:02.841Z"
   },
   {
    "duration": 9,
    "start_time": "2024-06-10T21:50:02.857Z"
   },
   {
    "duration": 55,
    "start_time": "2024-06-10T21:50:02.868Z"
   },
   {
    "duration": 364,
    "start_time": "2024-06-10T21:50:02.927Z"
   },
   {
    "duration": 19,
    "start_time": "2024-06-10T21:50:03.295Z"
   },
   {
    "duration": 10,
    "start_time": "2024-06-10T21:50:03.319Z"
   },
   {
    "duration": 82,
    "start_time": "2024-06-10T21:50:03.332Z"
   },
   {
    "duration": 0,
    "start_time": "2024-06-10T21:50:03.418Z"
   },
   {
    "duration": 43,
    "start_time": "2024-06-10T21:50:28.697Z"
   },
   {
    "duration": 19,
    "start_time": "2024-06-10T21:52:08.935Z"
   },
   {
    "duration": 17,
    "start_time": "2024-06-10T21:52:15.482Z"
   },
   {
    "duration": 22,
    "start_time": "2024-06-10T21:52:51.867Z"
   },
   {
    "duration": 4,
    "start_time": "2024-06-10T21:55:59.149Z"
   },
   {
    "duration": 1310,
    "start_time": "2024-06-10T21:56:51.226Z"
   },
   {
    "duration": 41,
    "start_time": "2024-06-10T21:56:52.539Z"
   },
   {
    "duration": 38,
    "start_time": "2024-06-10T21:56:52.582Z"
   },
   {
    "duration": 26,
    "start_time": "2024-06-10T21:56:52.624Z"
   },
   {
    "duration": 5,
    "start_time": "2024-06-10T21:56:52.653Z"
   },
   {
    "duration": 7,
    "start_time": "2024-06-10T21:56:52.661Z"
   },
   {
    "duration": 49,
    "start_time": "2024-06-10T21:56:52.671Z"
   },
   {
    "duration": 5,
    "start_time": "2024-06-10T21:56:52.724Z"
   },
   {
    "duration": 6,
    "start_time": "2024-06-10T21:56:52.732Z"
   },
   {
    "duration": 503,
    "start_time": "2024-06-10T21:56:52.745Z"
   },
   {
    "duration": 0,
    "start_time": "2024-06-10T21:56:53.253Z"
   },
   {
    "duration": 0,
    "start_time": "2024-06-10T21:56:53.254Z"
   },
   {
    "duration": 0,
    "start_time": "2024-06-10T21:56:53.256Z"
   },
   {
    "duration": 0,
    "start_time": "2024-06-10T21:56:53.259Z"
   },
   {
    "duration": 1,
    "start_time": "2024-06-10T21:56:53.260Z"
   },
   {
    "duration": 0,
    "start_time": "2024-06-10T21:56:53.262Z"
   },
   {
    "duration": 0,
    "start_time": "2024-06-10T21:56:53.266Z"
   },
   {
    "duration": 0,
    "start_time": "2024-06-10T21:56:53.267Z"
   },
   {
    "duration": 0,
    "start_time": "2024-06-10T21:56:53.269Z"
   },
   {
    "duration": 1,
    "start_time": "2024-06-10T21:56:53.271Z"
   },
   {
    "duration": 0,
    "start_time": "2024-06-10T21:56:53.274Z"
   },
   {
    "duration": 0,
    "start_time": "2024-06-10T21:56:53.276Z"
   },
   {
    "duration": 0,
    "start_time": "2024-06-10T21:56:53.277Z"
   },
   {
    "duration": 0,
    "start_time": "2024-06-10T21:56:53.278Z"
   },
   {
    "duration": 0,
    "start_time": "2024-06-10T21:56:53.278Z"
   },
   {
    "duration": 0,
    "start_time": "2024-06-10T21:56:53.315Z"
   },
   {
    "duration": 0,
    "start_time": "2024-06-10T21:56:53.317Z"
   },
   {
    "duration": 0,
    "start_time": "2024-06-10T21:56:53.320Z"
   },
   {
    "duration": 0,
    "start_time": "2024-06-10T21:56:53.322Z"
   },
   {
    "duration": 0,
    "start_time": "2024-06-10T21:56:53.329Z"
   },
   {
    "duration": 0,
    "start_time": "2024-06-10T21:56:53.331Z"
   },
   {
    "duration": 0,
    "start_time": "2024-06-10T21:56:53.333Z"
   },
   {
    "duration": 0,
    "start_time": "2024-06-10T21:56:53.336Z"
   },
   {
    "duration": 0,
    "start_time": "2024-06-10T21:56:53.337Z"
   },
   {
    "duration": 0,
    "start_time": "2024-06-10T21:56:53.340Z"
   },
   {
    "duration": 0,
    "start_time": "2024-06-10T21:56:53.342Z"
   },
   {
    "duration": 0,
    "start_time": "2024-06-10T21:56:53.345Z"
   },
   {
    "duration": 0,
    "start_time": "2024-06-10T21:56:53.347Z"
   },
   {
    "duration": 0,
    "start_time": "2024-06-10T21:56:53.350Z"
   },
   {
    "duration": 0,
    "start_time": "2024-06-10T21:56:53.352Z"
   },
   {
    "duration": 0,
    "start_time": "2024-06-10T21:56:53.413Z"
   },
   {
    "duration": 0,
    "start_time": "2024-06-10T21:56:53.415Z"
   },
   {
    "duration": 0,
    "start_time": "2024-06-10T21:56:53.416Z"
   },
   {
    "duration": 0,
    "start_time": "2024-06-10T21:56:53.418Z"
   },
   {
    "duration": 25,
    "start_time": "2024-06-10T21:57:26.936Z"
   },
   {
    "duration": 26,
    "start_time": "2024-06-10T21:57:43.052Z"
   },
   {
    "duration": 23,
    "start_time": "2024-06-10T21:57:47.920Z"
   },
   {
    "duration": 24,
    "start_time": "2024-06-10T21:57:55.859Z"
   },
   {
    "duration": 6,
    "start_time": "2024-06-10T21:58:04.249Z"
   },
   {
    "duration": 7,
    "start_time": "2024-06-10T21:58:25.722Z"
   },
   {
    "duration": 19,
    "start_time": "2024-06-10T21:58:25.732Z"
   },
   {
    "duration": 24,
    "start_time": "2024-06-10T21:58:25.754Z"
   },
   {
    "duration": 9,
    "start_time": "2024-06-10T21:58:25.813Z"
   },
   {
    "duration": 8,
    "start_time": "2024-06-10T21:58:25.826Z"
   },
   {
    "duration": 565,
    "start_time": "2024-06-10T21:58:25.837Z"
   },
   {
    "duration": 19,
    "start_time": "2024-06-10T21:58:26.405Z"
   },
   {
    "duration": 7,
    "start_time": "2024-06-10T21:58:26.427Z"
   },
   {
    "duration": 15,
    "start_time": "2024-06-10T21:58:26.439Z"
   },
   {
    "duration": 8,
    "start_time": "2024-06-10T21:58:26.457Z"
   },
   {
    "duration": 444,
    "start_time": "2024-06-10T21:58:26.512Z"
   },
   {
    "duration": 10,
    "start_time": "2024-06-10T21:58:26.959Z"
   },
   {
    "duration": 13,
    "start_time": "2024-06-10T21:58:26.972Z"
   },
   {
    "duration": 30,
    "start_time": "2024-06-10T21:58:26.989Z"
   },
   {
    "duration": 460,
    "start_time": "2024-06-10T21:58:27.023Z"
   },
   {
    "duration": 292,
    "start_time": "2024-06-10T21:58:27.487Z"
   },
   {
    "duration": 7,
    "start_time": "2024-06-10T21:58:27.782Z"
   },
   {
    "duration": 318,
    "start_time": "2024-06-10T21:58:27.793Z"
   },
   {
    "duration": 7,
    "start_time": "2024-06-10T21:58:28.115Z"
   },
   {
    "duration": 21,
    "start_time": "2024-06-10T21:58:28.129Z"
   },
   {
    "duration": 444,
    "start_time": "2024-06-10T21:58:28.153Z"
   },
   {
    "duration": 16,
    "start_time": "2024-06-10T21:58:28.601Z"
   },
   {
    "duration": 9,
    "start_time": "2024-06-10T21:58:28.621Z"
   },
   {
    "duration": 8,
    "start_time": "2024-06-10T21:58:28.637Z"
   },
   {
    "duration": 12,
    "start_time": "2024-06-10T21:58:28.648Z"
   },
   {
    "duration": 6,
    "start_time": "2024-06-10T21:58:28.662Z"
   },
   {
    "duration": 50,
    "start_time": "2024-06-10T21:58:28.670Z"
   },
   {
    "duration": 9,
    "start_time": "2024-06-10T21:58:28.723Z"
   },
   {
    "duration": 10,
    "start_time": "2024-06-10T21:58:28.736Z"
   },
   {
    "duration": 67,
    "start_time": "2024-06-10T21:58:28.749Z"
   },
   {
    "duration": 321,
    "start_time": "2024-06-10T21:58:28.820Z"
   },
   {
    "duration": 10,
    "start_time": "2024-06-10T21:58:29.144Z"
   },
   {
    "duration": 7,
    "start_time": "2024-06-10T21:58:29.158Z"
   },
   {
    "duration": 52,
    "start_time": "2024-06-10T21:58:29.168Z"
   },
   {
    "duration": 22,
    "start_time": "2024-06-10T21:58:29.225Z"
   },
   {
    "duration": 33,
    "start_time": "2024-06-10T21:59:13.298Z"
   },
   {
    "duration": 50,
    "start_time": "2024-06-10T22:02:25.253Z"
   },
   {
    "duration": 43,
    "start_time": "2024-06-10T22:02:54.361Z"
   },
   {
    "duration": 19,
    "start_time": "2024-06-10T22:03:46.709Z"
   },
   {
    "duration": 21,
    "start_time": "2024-06-10T22:03:52.814Z"
   },
   {
    "duration": 1358,
    "start_time": "2024-06-10T22:07:39.954Z"
   },
   {
    "duration": 41,
    "start_time": "2024-06-10T22:07:41.315Z"
   },
   {
    "duration": 19,
    "start_time": "2024-06-10T22:07:41.363Z"
   },
   {
    "duration": 46,
    "start_time": "2024-06-10T22:07:41.388Z"
   },
   {
    "duration": 5,
    "start_time": "2024-06-10T22:07:41.437Z"
   },
   {
    "duration": 6,
    "start_time": "2024-06-10T22:07:41.446Z"
   },
   {
    "duration": 10,
    "start_time": "2024-06-10T22:07:41.455Z"
   },
   {
    "duration": 49,
    "start_time": "2024-06-10T22:07:41.468Z"
   },
   {
    "duration": 6,
    "start_time": "2024-06-10T22:07:41.521Z"
   },
   {
    "duration": 6,
    "start_time": "2024-06-10T22:07:41.533Z"
   },
   {
    "duration": 13,
    "start_time": "2024-06-10T22:07:41.543Z"
   },
   {
    "duration": 60,
    "start_time": "2024-06-10T22:07:41.559Z"
   },
   {
    "duration": 9,
    "start_time": "2024-06-10T22:07:41.622Z"
   },
   {
    "duration": 7,
    "start_time": "2024-06-10T22:07:41.634Z"
   },
   {
    "duration": 549,
    "start_time": "2024-06-10T22:07:41.644Z"
   },
   {
    "duration": 23,
    "start_time": "2024-06-10T22:07:42.196Z"
   },
   {
    "duration": 6,
    "start_time": "2024-06-10T22:07:42.222Z"
   },
   {
    "duration": 10,
    "start_time": "2024-06-10T22:07:42.232Z"
   },
   {
    "duration": 4,
    "start_time": "2024-06-10T22:07:42.245Z"
   },
   {
    "duration": 437,
    "start_time": "2024-06-10T22:07:42.252Z"
   },
   {
    "duration": 9,
    "start_time": "2024-06-10T22:07:42.693Z"
   },
   {
    "duration": 13,
    "start_time": "2024-06-10T22:07:42.705Z"
   },
   {
    "duration": 18,
    "start_time": "2024-06-10T22:07:42.721Z"
   },
   {
    "duration": 574,
    "start_time": "2024-06-10T22:07:42.742Z"
   },
   {
    "duration": 294,
    "start_time": "2024-06-10T22:07:43.318Z"
   },
   {
    "duration": 8,
    "start_time": "2024-06-10T22:07:43.616Z"
   },
   {
    "duration": 303,
    "start_time": "2024-06-10T22:07:43.627Z"
   },
   {
    "duration": 6,
    "start_time": "2024-06-10T22:07:43.939Z"
   },
   {
    "duration": 19,
    "start_time": "2024-06-10T22:07:43.948Z"
   },
   {
    "duration": 391,
    "start_time": "2024-06-10T22:07:43.970Z"
   },
   {
    "duration": 9,
    "start_time": "2024-06-10T22:07:44.364Z"
   },
   {
    "duration": 36,
    "start_time": "2024-06-10T22:07:44.376Z"
   },
   {
    "duration": 9,
    "start_time": "2024-06-10T22:07:44.416Z"
   },
   {
    "duration": 12,
    "start_time": "2024-06-10T22:07:44.427Z"
   },
   {
    "duration": 6,
    "start_time": "2024-06-10T22:07:44.442Z"
   },
   {
    "duration": 9,
    "start_time": "2024-06-10T22:07:44.452Z"
   },
   {
    "duration": 55,
    "start_time": "2024-06-10T22:07:44.464Z"
   },
   {
    "duration": 14,
    "start_time": "2024-06-10T22:07:44.522Z"
   },
   {
    "duration": 15,
    "start_time": "2024-06-10T22:07:44.541Z"
   },
   {
    "duration": 349,
    "start_time": "2024-06-10T22:07:44.559Z"
   },
   {
    "duration": 10,
    "start_time": "2024-06-10T22:07:44.910Z"
   },
   {
    "duration": 7,
    "start_time": "2024-06-10T22:07:44.922Z"
   },
   {
    "duration": 21,
    "start_time": "2024-06-10T22:07:44.932Z"
   },
   {
    "duration": 65,
    "start_time": "2024-06-10T22:07:44.956Z"
   },
   {
    "duration": 407,
    "start_time": "2024-06-10T22:11:46.473Z"
   },
   {
    "duration": 10,
    "start_time": "2024-06-10T22:11:51.552Z"
   },
   {
    "duration": 12,
    "start_time": "2024-06-10T22:12:04.294Z"
   },
   {
    "duration": 12,
    "start_time": "2024-06-10T22:12:17.621Z"
   },
   {
    "duration": 1297,
    "start_time": "2024-06-10T22:25:35.936Z"
   },
   {
    "duration": 42,
    "start_time": "2024-06-10T22:25:37.236Z"
   },
   {
    "duration": 36,
    "start_time": "2024-06-10T22:25:37.281Z"
   },
   {
    "duration": 26,
    "start_time": "2024-06-10T22:25:37.322Z"
   },
   {
    "duration": 8,
    "start_time": "2024-06-10T22:25:37.352Z"
   },
   {
    "duration": 6,
    "start_time": "2024-06-10T22:25:37.365Z"
   },
   {
    "duration": 45,
    "start_time": "2024-06-10T22:25:37.375Z"
   },
   {
    "duration": 4,
    "start_time": "2024-06-10T22:25:37.423Z"
   },
   {
    "duration": 7,
    "start_time": "2024-06-10T22:25:37.430Z"
   },
   {
    "duration": 7,
    "start_time": "2024-06-10T22:25:37.444Z"
   },
   {
    "duration": 60,
    "start_time": "2024-06-10T22:25:37.454Z"
   },
   {
    "duration": 22,
    "start_time": "2024-06-10T22:25:37.517Z"
   },
   {
    "duration": 11,
    "start_time": "2024-06-10T22:25:37.542Z"
   },
   {
    "duration": 8,
    "start_time": "2024-06-10T22:25:37.556Z"
   },
   {
    "duration": 581,
    "start_time": "2024-06-10T22:25:37.568Z"
   },
   {
    "duration": 14,
    "start_time": "2024-06-10T22:25:38.153Z"
   },
   {
    "duration": 7,
    "start_time": "2024-06-10T22:25:38.170Z"
   },
   {
    "duration": 41,
    "start_time": "2024-06-10T22:25:38.180Z"
   },
   {
    "duration": 5,
    "start_time": "2024-06-10T22:25:38.224Z"
   },
   {
    "duration": 461,
    "start_time": "2024-06-10T22:25:38.232Z"
   },
   {
    "duration": 17,
    "start_time": "2024-06-10T22:25:38.696Z"
   },
   {
    "duration": 13,
    "start_time": "2024-06-10T22:25:38.717Z"
   },
   {
    "duration": 21,
    "start_time": "2024-06-10T22:25:38.734Z"
   },
   {
    "duration": 546,
    "start_time": "2024-06-10T22:25:38.760Z"
   },
   {
    "duration": 281,
    "start_time": "2024-06-10T22:25:39.313Z"
   },
   {
    "duration": 19,
    "start_time": "2024-06-10T22:25:39.597Z"
   },
   {
    "duration": 283,
    "start_time": "2024-06-10T22:25:39.620Z"
   },
   {
    "duration": 6,
    "start_time": "2024-06-10T22:25:39.918Z"
   },
   {
    "duration": 25,
    "start_time": "2024-06-10T22:25:39.927Z"
   },
   {
    "duration": 420,
    "start_time": "2024-06-10T22:25:39.955Z"
   },
   {
    "duration": 10,
    "start_time": "2024-06-10T22:25:40.379Z"
   },
   {
    "duration": 16,
    "start_time": "2024-06-10T22:25:40.411Z"
   },
   {
    "duration": 10,
    "start_time": "2024-06-10T22:25:40.430Z"
   },
   {
    "duration": 12,
    "start_time": "2024-06-10T22:25:40.444Z"
   },
   {
    "duration": 5,
    "start_time": "2024-06-10T22:25:40.461Z"
   },
   {
    "duration": 45,
    "start_time": "2024-06-10T22:25:40.470Z"
   },
   {
    "duration": 11,
    "start_time": "2024-06-10T22:25:40.520Z"
   },
   {
    "duration": 10,
    "start_time": "2024-06-10T22:25:40.535Z"
   },
   {
    "duration": 18,
    "start_time": "2024-06-10T22:25:40.549Z"
   },
   {
    "duration": 380,
    "start_time": "2024-06-10T22:25:40.570Z"
   },
   {
    "duration": 25,
    "start_time": "2024-06-10T22:25:40.956Z"
   },
   {
    "duration": 9,
    "start_time": "2024-06-10T22:25:40.985Z"
   },
   {
    "duration": 37,
    "start_time": "2024-06-10T22:25:40.997Z"
   },
   {
    "duration": 25,
    "start_time": "2024-06-10T22:25:41.037Z"
   },
   {
    "duration": 1331,
    "start_time": "2024-08-13T18:28:50.371Z"
   },
   {
    "duration": 56,
    "start_time": "2024-08-13T18:28:51.707Z"
   },
   {
    "duration": 22,
    "start_time": "2024-08-13T18:28:51.766Z"
   },
   {
    "duration": 47,
    "start_time": "2024-08-13T18:28:51.793Z"
   },
   {
    "duration": 5,
    "start_time": "2024-08-13T18:28:51.843Z"
   },
   {
    "duration": 7,
    "start_time": "2024-08-13T18:28:51.851Z"
   },
   {
    "duration": 12,
    "start_time": "2024-08-13T18:28:51.861Z"
   },
   {
    "duration": 5,
    "start_time": "2024-08-13T18:28:51.876Z"
   },
   {
    "duration": 5,
    "start_time": "2024-08-13T18:28:51.932Z"
   },
   {
    "duration": 7,
    "start_time": "2024-08-13T18:28:51.944Z"
   },
   {
    "duration": 13,
    "start_time": "2024-08-13T18:28:51.954Z"
   },
   {
    "duration": 19,
    "start_time": "2024-08-13T18:28:51.970Z"
   },
   {
    "duration": 14,
    "start_time": "2024-08-13T18:28:52.032Z"
   },
   {
    "duration": 7,
    "start_time": "2024-08-13T18:28:52.051Z"
   },
   {
    "duration": 539,
    "start_time": "2024-08-13T18:28:52.060Z"
   },
   {
    "duration": 33,
    "start_time": "2024-08-13T18:28:52.602Z"
   },
   {
    "duration": 7,
    "start_time": "2024-08-13T18:28:52.639Z"
   },
   {
    "duration": 12,
    "start_time": "2024-08-13T18:28:52.649Z"
   },
   {
    "duration": 5,
    "start_time": "2024-08-13T18:28:52.664Z"
   },
   {
    "duration": 419,
    "start_time": "2024-08-13T18:28:52.671Z"
   },
   {
    "duration": 9,
    "start_time": "2024-08-13T18:28:53.093Z"
   },
   {
    "duration": 27,
    "start_time": "2024-08-13T18:28:53.105Z"
   },
   {
    "duration": 17,
    "start_time": "2024-08-13T18:28:53.135Z"
   },
   {
    "duration": 513,
    "start_time": "2024-08-13T18:28:53.155Z"
   },
   {
    "duration": 339,
    "start_time": "2024-08-13T18:28:53.671Z"
   },
   {
    "duration": 17,
    "start_time": "2024-08-13T18:28:54.013Z"
   },
   {
    "duration": 282,
    "start_time": "2024-08-13T18:28:54.036Z"
   },
   {
    "duration": 6,
    "start_time": "2024-08-13T18:28:54.330Z"
   },
   {
    "duration": 24,
    "start_time": "2024-08-13T18:28:54.338Z"
   },
   {
    "duration": 370,
    "start_time": "2024-08-13T18:28:54.365Z"
   },
   {
    "duration": 8,
    "start_time": "2024-08-13T18:28:54.738Z"
   },
   {
    "duration": 9,
    "start_time": "2024-08-13T18:28:54.749Z"
   },
   {
    "duration": 8,
    "start_time": "2024-08-13T18:28:54.761Z"
   },
   {
    "duration": 12,
    "start_time": "2024-08-13T18:28:54.772Z"
   },
   {
    "duration": 46,
    "start_time": "2024-08-13T18:28:54.786Z"
   },
   {
    "duration": 10,
    "start_time": "2024-08-13T18:28:54.835Z"
   },
   {
    "duration": 11,
    "start_time": "2024-08-13T18:28:54.849Z"
   },
   {
    "duration": 10,
    "start_time": "2024-08-13T18:28:54.867Z"
   },
   {
    "duration": 59,
    "start_time": "2024-08-13T18:28:54.880Z"
   },
   {
    "duration": 331,
    "start_time": "2024-08-13T18:28:54.942Z"
   },
   {
    "duration": 9,
    "start_time": "2024-08-13T18:28:55.276Z"
   },
   {
    "duration": 7,
    "start_time": "2024-08-13T18:28:55.288Z"
   },
   {
    "duration": 40,
    "start_time": "2024-08-13T18:28:55.304Z"
   },
   {
    "duration": 19,
    "start_time": "2024-08-13T18:28:55.347Z"
   }
  ],
  "kernelspec": {
   "display_name": "Python 3 (ipykernel)",
   "language": "python",
   "name": "python3"
  },
  "language_info": {
   "codemirror_mode": {
    "name": "ipython",
    "version": 3
   },
   "file_extension": ".py",
   "mimetype": "text/x-python",
   "name": "python",
   "nbconvert_exporter": "python",
   "pygments_lexer": "ipython3",
   "version": "3.9.19"
  },
  "toc": {
   "base_numbering": 1,
   "nav_menu": {},
   "number_sections": true,
   "sideBar": true,
   "skip_h1_title": true,
   "title_cell": "Table of Contents",
   "title_sidebar": "Contents",
   "toc_cell": false,
   "toc_position": {},
   "toc_section_display": true,
   "toc_window_display": false
  }
 },
 "nbformat": 4,
 "nbformat_minor": 2
}
