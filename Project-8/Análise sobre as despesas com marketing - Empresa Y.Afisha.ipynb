{
 "cells": [
  {
   "cell_type": "markdown",
   "metadata": {},
   "source": [
    "# Análise sobre as despesas com marketing - Empresa Y.Afisha"
   ]
  },
  {
   "cell_type": "markdown",
   "metadata": {},
   "source": [
    "# Conteúdo <a id='back'></a>\n",
    "\n",
    "* [1) Objetivo do Projeto](#projectgoal)\n",
    "* [2) Preparação de Dados](#data_preprocessing)\n",
    "* [3) Cálculo das métricas e relatórios](#metricsandreports)\n",
    "* [4) Vendas](#sales)\n",
    "* [4) Marketing](#marketing)\n",
    "* [5) Conclusões Gerais](#end)"
   ]
  },
  {
   "cell_type": "markdown",
   "metadata": {},
   "source": [
    "# Objetivo do Projeto\n",
    "\n",
    "O objetivo desse projeto é é ajudar a empresa a otimizar suas despesas com marketing, utilizando dados do servidor com os acessos a Y.Afisha de janeiro de 2017 até dezembro de 2018, arquivo de despejo com todos os pedidos feitos durante o período e as estatísticas de despesas com marketing. \n",
    "\n",
    "Será analisado como as pessoas usam o produto e começam a comprar. O dinheiro que cada cliente traz para a empresa e quando as despesas serão cobertas."
   ]
  },
  {
   "cell_type": "markdown",
   "metadata": {},
   "source": [
    "# Preparação de Dados"
   ]
  },
  {
   "cell_type": "code",
   "execution_count": 1,
   "metadata": {},
   "outputs": [],
   "source": [
    "import pandas as pd \n",
    "import numpy as np\n",
    "import seaborn as sns\n",
    "from matplotlib import pyplot as plt\n",
    "from math import factorial\n",
    "from scipy import stats # Carregando todas as bibliotecas"
   ]
  },
  {
   "cell_type": "code",
   "execution_count": 2,
   "metadata": {},
   "outputs": [],
   "source": [
    "visits_df = pd.read_csv('/datasets/visits_log_us.csv', sep = ',',  dtype={'Device': 'category'}, parse_dates=['Start Ts', 'End Ts'],) # Carregando o arquivo de dados em DataFrame e corrigindo o tipo de dados\n",
    "orders_df = pd.read_csv('/datasets/orders_log_us.csv', sep = ',', parse_dates=['Buy Ts'],)\n",
    "costs_df = pd.read_csv('/datasets/costs_us.csv', sep = ',', parse_dates=['dt'],)"
   ]
  },
  {
   "cell_type": "code",
   "execution_count": 3,
   "metadata": {
    "scrolled": true
   },
   "outputs": [
    {
     "name": "stdout",
     "output_type": "stream",
     "text": [
      "<class 'pandas.core.frame.DataFrame'>\n",
      "RangeIndex: 359400 entries, 0 to 359399\n",
      "Data columns (total 5 columns):\n",
      " #   Column     Non-Null Count   Dtype         \n",
      "---  ------     --------------   -----         \n",
      " 0   Device     359400 non-null  category      \n",
      " 1   End Ts     359400 non-null  datetime64[ns]\n",
      " 2   Source Id  359400 non-null  int64         \n",
      " 3   Start Ts   359400 non-null  datetime64[ns]\n",
      " 4   Uid        359400 non-null  uint64        \n",
      "dtypes: category(1), datetime64[ns](2), int64(1), uint64(1)\n",
      "memory usage: 11.3 MB\n"
     ]
    }
   ],
   "source": [
    "visits_df.info()"
   ]
  },
  {
   "cell_type": "code",
   "execution_count": 4,
   "metadata": {
    "scrolled": true
   },
   "outputs": [
    {
     "data": {
      "text/html": [
       "<div>\n",
       "<style scoped>\n",
       "    .dataframe tbody tr th:only-of-type {\n",
       "        vertical-align: middle;\n",
       "    }\n",
       "\n",
       "    .dataframe tbody tr th {\n",
       "        vertical-align: top;\n",
       "    }\n",
       "\n",
       "    .dataframe thead th {\n",
       "        text-align: right;\n",
       "    }\n",
       "</style>\n",
       "<table border=\"1\" class=\"dataframe\">\n",
       "  <thead>\n",
       "    <tr style=\"text-align: right;\">\n",
       "      <th></th>\n",
       "      <th>Device</th>\n",
       "      <th>End Ts</th>\n",
       "      <th>Source Id</th>\n",
       "      <th>Start Ts</th>\n",
       "      <th>Uid</th>\n",
       "    </tr>\n",
       "  </thead>\n",
       "  <tbody>\n",
       "    <tr>\n",
       "      <th>0</th>\n",
       "      <td>touch</td>\n",
       "      <td>2017-12-20 17:38:00</td>\n",
       "      <td>4</td>\n",
       "      <td>2017-12-20 17:20:00</td>\n",
       "      <td>16879256277535980062</td>\n",
       "    </tr>\n",
       "    <tr>\n",
       "      <th>1</th>\n",
       "      <td>desktop</td>\n",
       "      <td>2018-02-19 17:21:00</td>\n",
       "      <td>2</td>\n",
       "      <td>2018-02-19 16:53:00</td>\n",
       "      <td>104060357244891740</td>\n",
       "    </tr>\n",
       "    <tr>\n",
       "      <th>2</th>\n",
       "      <td>touch</td>\n",
       "      <td>2017-07-01 01:54:00</td>\n",
       "      <td>5</td>\n",
       "      <td>2017-07-01 01:54:00</td>\n",
       "      <td>7459035603376831527</td>\n",
       "    </tr>\n",
       "    <tr>\n",
       "      <th>3</th>\n",
       "      <td>desktop</td>\n",
       "      <td>2018-05-20 11:23:00</td>\n",
       "      <td>9</td>\n",
       "      <td>2018-05-20 10:59:00</td>\n",
       "      <td>16174680259334210214</td>\n",
       "    </tr>\n",
       "    <tr>\n",
       "      <th>4</th>\n",
       "      <td>desktop</td>\n",
       "      <td>2017-12-27 14:06:00</td>\n",
       "      <td>3</td>\n",
       "      <td>2017-12-27 14:06:00</td>\n",
       "      <td>9969694820036681168</td>\n",
       "    </tr>\n",
       "    <tr>\n",
       "      <th>5</th>\n",
       "      <td>desktop</td>\n",
       "      <td>2017-09-03 21:36:00</td>\n",
       "      <td>5</td>\n",
       "      <td>2017-09-03 21:35:00</td>\n",
       "      <td>16007536194108375387</td>\n",
       "    </tr>\n",
       "    <tr>\n",
       "      <th>6</th>\n",
       "      <td>desktop</td>\n",
       "      <td>2018-01-30 12:09:00</td>\n",
       "      <td>1</td>\n",
       "      <td>2018-01-30 11:13:00</td>\n",
       "      <td>6661610529277171451</td>\n",
       "    </tr>\n",
       "    <tr>\n",
       "      <th>7</th>\n",
       "      <td>touch</td>\n",
       "      <td>2017-11-05 15:15:00</td>\n",
       "      <td>3</td>\n",
       "      <td>2017-11-05 15:14:00</td>\n",
       "      <td>11423865690854540312</td>\n",
       "    </tr>\n",
       "    <tr>\n",
       "      <th>8</th>\n",
       "      <td>desktop</td>\n",
       "      <td>2017-07-19 10:44:00</td>\n",
       "      <td>3</td>\n",
       "      <td>2017-07-19 10:41:00</td>\n",
       "      <td>2987360259350925644</td>\n",
       "    </tr>\n",
       "    <tr>\n",
       "      <th>9</th>\n",
       "      <td>desktop</td>\n",
       "      <td>2017-11-08 13:43:00</td>\n",
       "      <td>5</td>\n",
       "      <td>2017-11-08 13:42:00</td>\n",
       "      <td>1289240080042562063</td>\n",
       "    </tr>\n",
       "  </tbody>\n",
       "</table>\n",
       "</div>"
      ],
      "text/plain": [
       "    Device              End Ts  Source Id            Start Ts  \\\n",
       "0    touch 2017-12-20 17:38:00          4 2017-12-20 17:20:00   \n",
       "1  desktop 2018-02-19 17:21:00          2 2018-02-19 16:53:00   \n",
       "2    touch 2017-07-01 01:54:00          5 2017-07-01 01:54:00   \n",
       "3  desktop 2018-05-20 11:23:00          9 2018-05-20 10:59:00   \n",
       "4  desktop 2017-12-27 14:06:00          3 2017-12-27 14:06:00   \n",
       "5  desktop 2017-09-03 21:36:00          5 2017-09-03 21:35:00   \n",
       "6  desktop 2018-01-30 12:09:00          1 2018-01-30 11:13:00   \n",
       "7    touch 2017-11-05 15:15:00          3 2017-11-05 15:14:00   \n",
       "8  desktop 2017-07-19 10:44:00          3 2017-07-19 10:41:00   \n",
       "9  desktop 2017-11-08 13:43:00          5 2017-11-08 13:42:00   \n",
       "\n",
       "                    Uid  \n",
       "0  16879256277535980062  \n",
       "1    104060357244891740  \n",
       "2   7459035603376831527  \n",
       "3  16174680259334210214  \n",
       "4   9969694820036681168  \n",
       "5  16007536194108375387  \n",
       "6   6661610529277171451  \n",
       "7  11423865690854540312  \n",
       "8   2987360259350925644  \n",
       "9   1289240080042562063  "
      ]
     },
     "execution_count": 4,
     "metadata": {},
     "output_type": "execute_result"
    }
   ],
   "source": [
    "visits_df.head(10)"
   ]
  },
  {
   "cell_type": "code",
   "execution_count": 5,
   "metadata": {},
   "outputs": [
    {
     "name": "stdout",
     "output_type": "stream",
     "text": [
      "Index(['device', 'end_ts', 'source_id', 'start_ts', 'uid'], dtype='object')\n"
     ]
    }
   ],
   "source": [
    "# Declarando um dicionário com os nomes antigos das colunas como as chaves\n",
    "# e os novos nomes de colunas como os valores\n",
    "columns_new ={\n",
    "    \"Device\": \"device\",\n",
    "    \"End Ts\": \"end_ts\",\n",
    "    \"Source Id\": \"source_id\",\n",
    "    \"Start Ts\": \"start_ts\",\n",
    "    \"Uid\": \"uid\"\n",
    "    }\n",
    "\n",
    "# Chamando o método rename e passando\n",
    "# o dicionário como um argumento para o parâmetro columns\n",
    "visits_df = visits_df.rename(columns = columns_new)\n",
    "print(visits_df.columns)"
   ]
  },
  {
   "cell_type": "code",
   "execution_count": 6,
   "metadata": {},
   "outputs": [
    {
     "name": "stdout",
     "output_type": "stream",
     "text": [
      "<class 'pandas.core.frame.DataFrame'>\n",
      "RangeIndex: 50415 entries, 0 to 50414\n",
      "Data columns (total 3 columns):\n",
      " #   Column   Non-Null Count  Dtype         \n",
      "---  ------   --------------  -----         \n",
      " 0   Buy Ts   50415 non-null  datetime64[ns]\n",
      " 1   Revenue  50415 non-null  float64       \n",
      " 2   Uid      50415 non-null  uint64        \n",
      "dtypes: datetime64[ns](1), float64(1), uint64(1)\n",
      "memory usage: 1.2 MB\n"
     ]
    }
   ],
   "source": [
    "orders_df.info()"
   ]
  },
  {
   "cell_type": "code",
   "execution_count": 7,
   "metadata": {},
   "outputs": [
    {
     "data": {
      "text/html": [
       "<div>\n",
       "<style scoped>\n",
       "    .dataframe tbody tr th:only-of-type {\n",
       "        vertical-align: middle;\n",
       "    }\n",
       "\n",
       "    .dataframe tbody tr th {\n",
       "        vertical-align: top;\n",
       "    }\n",
       "\n",
       "    .dataframe thead th {\n",
       "        text-align: right;\n",
       "    }\n",
       "</style>\n",
       "<table border=\"1\" class=\"dataframe\">\n",
       "  <thead>\n",
       "    <tr style=\"text-align: right;\">\n",
       "      <th></th>\n",
       "      <th>Buy Ts</th>\n",
       "      <th>Revenue</th>\n",
       "      <th>Uid</th>\n",
       "    </tr>\n",
       "  </thead>\n",
       "  <tbody>\n",
       "    <tr>\n",
       "      <th>0</th>\n",
       "      <td>2017-06-01 00:10:00</td>\n",
       "      <td>17.00</td>\n",
       "      <td>10329302124590727494</td>\n",
       "    </tr>\n",
       "    <tr>\n",
       "      <th>1</th>\n",
       "      <td>2017-06-01 00:25:00</td>\n",
       "      <td>0.55</td>\n",
       "      <td>11627257723692907447</td>\n",
       "    </tr>\n",
       "    <tr>\n",
       "      <th>2</th>\n",
       "      <td>2017-06-01 00:27:00</td>\n",
       "      <td>0.37</td>\n",
       "      <td>17903680561304213844</td>\n",
       "    </tr>\n",
       "    <tr>\n",
       "      <th>3</th>\n",
       "      <td>2017-06-01 00:29:00</td>\n",
       "      <td>0.55</td>\n",
       "      <td>16109239769442553005</td>\n",
       "    </tr>\n",
       "    <tr>\n",
       "      <th>4</th>\n",
       "      <td>2017-06-01 07:58:00</td>\n",
       "      <td>0.37</td>\n",
       "      <td>14200605875248379450</td>\n",
       "    </tr>\n",
       "    <tr>\n",
       "      <th>5</th>\n",
       "      <td>2017-06-01 08:43:00</td>\n",
       "      <td>0.18</td>\n",
       "      <td>10402394430196413321</td>\n",
       "    </tr>\n",
       "    <tr>\n",
       "      <th>6</th>\n",
       "      <td>2017-06-01 08:54:00</td>\n",
       "      <td>1.83</td>\n",
       "      <td>12464626743129688638</td>\n",
       "    </tr>\n",
       "    <tr>\n",
       "      <th>7</th>\n",
       "      <td>2017-06-01 09:22:00</td>\n",
       "      <td>1.22</td>\n",
       "      <td>3644482766749211722</td>\n",
       "    </tr>\n",
       "    <tr>\n",
       "      <th>8</th>\n",
       "      <td>2017-06-01 09:22:00</td>\n",
       "      <td>3.30</td>\n",
       "      <td>17542070709969841479</td>\n",
       "    </tr>\n",
       "    <tr>\n",
       "      <th>9</th>\n",
       "      <td>2017-06-01 09:23:00</td>\n",
       "      <td>0.37</td>\n",
       "      <td>1074355127080856382</td>\n",
       "    </tr>\n",
       "  </tbody>\n",
       "</table>\n",
       "</div>"
      ],
      "text/plain": [
       "               Buy Ts  Revenue                   Uid\n",
       "0 2017-06-01 00:10:00    17.00  10329302124590727494\n",
       "1 2017-06-01 00:25:00     0.55  11627257723692907447\n",
       "2 2017-06-01 00:27:00     0.37  17903680561304213844\n",
       "3 2017-06-01 00:29:00     0.55  16109239769442553005\n",
       "4 2017-06-01 07:58:00     0.37  14200605875248379450\n",
       "5 2017-06-01 08:43:00     0.18  10402394430196413321\n",
       "6 2017-06-01 08:54:00     1.83  12464626743129688638\n",
       "7 2017-06-01 09:22:00     1.22   3644482766749211722\n",
       "8 2017-06-01 09:22:00     3.30  17542070709969841479\n",
       "9 2017-06-01 09:23:00     0.37   1074355127080856382"
      ]
     },
     "execution_count": 7,
     "metadata": {},
     "output_type": "execute_result"
    }
   ],
   "source": [
    "orders_df.head(10)"
   ]
  },
  {
   "cell_type": "code",
   "execution_count": 8,
   "metadata": {},
   "outputs": [
    {
     "name": "stdout",
     "output_type": "stream",
     "text": [
      "Index(['buy_ts', 'revenue', 'uid'], dtype='object')\n"
     ]
    }
   ],
   "source": [
    "# Declarando um dicionário com os nomes antigos das colunas como as chaves\n",
    "# e os novos nomes de colunas como os valores\n",
    "columns_new ={\n",
    "    \"Buy Ts\": \"buy_ts\",\n",
    "    \"Revenue\": \"revenue\",\n",
    "    \"Uid\": \"uid\"\n",
    "    }\n",
    "\n",
    "# Chamando o método rename e passando\n",
    "# o dicionário como um argumento para o parâmetro columns\n",
    "orders_df = orders_df.rename(columns = columns_new)\n",
    "print(orders_df.columns)"
   ]
  },
  {
   "cell_type": "code",
   "execution_count": 9,
   "metadata": {},
   "outputs": [
    {
     "name": "stdout",
     "output_type": "stream",
     "text": [
      "<class 'pandas.core.frame.DataFrame'>\n",
      "RangeIndex: 2542 entries, 0 to 2541\n",
      "Data columns (total 3 columns):\n",
      " #   Column     Non-Null Count  Dtype         \n",
      "---  ------     --------------  -----         \n",
      " 0   source_id  2542 non-null   int64         \n",
      " 1   dt         2542 non-null   datetime64[ns]\n",
      " 2   costs      2542 non-null   float64       \n",
      "dtypes: datetime64[ns](1), float64(1), int64(1)\n",
      "memory usage: 59.7 KB\n"
     ]
    }
   ],
   "source": [
    "costs_df.info()"
   ]
  },
  {
   "cell_type": "code",
   "execution_count": 10,
   "metadata": {},
   "outputs": [
    {
     "data": {
      "text/html": [
       "<div>\n",
       "<style scoped>\n",
       "    .dataframe tbody tr th:only-of-type {\n",
       "        vertical-align: middle;\n",
       "    }\n",
       "\n",
       "    .dataframe tbody tr th {\n",
       "        vertical-align: top;\n",
       "    }\n",
       "\n",
       "    .dataframe thead th {\n",
       "        text-align: right;\n",
       "    }\n",
       "</style>\n",
       "<table border=\"1\" class=\"dataframe\">\n",
       "  <thead>\n",
       "    <tr style=\"text-align: right;\">\n",
       "      <th></th>\n",
       "      <th>source_id</th>\n",
       "      <th>dt</th>\n",
       "      <th>costs</th>\n",
       "    </tr>\n",
       "  </thead>\n",
       "  <tbody>\n",
       "    <tr>\n",
       "      <th>0</th>\n",
       "      <td>1</td>\n",
       "      <td>2017-06-01</td>\n",
       "      <td>75.20</td>\n",
       "    </tr>\n",
       "    <tr>\n",
       "      <th>1</th>\n",
       "      <td>1</td>\n",
       "      <td>2017-06-02</td>\n",
       "      <td>62.25</td>\n",
       "    </tr>\n",
       "    <tr>\n",
       "      <th>2</th>\n",
       "      <td>1</td>\n",
       "      <td>2017-06-03</td>\n",
       "      <td>36.53</td>\n",
       "    </tr>\n",
       "    <tr>\n",
       "      <th>3</th>\n",
       "      <td>1</td>\n",
       "      <td>2017-06-04</td>\n",
       "      <td>55.00</td>\n",
       "    </tr>\n",
       "    <tr>\n",
       "      <th>4</th>\n",
       "      <td>1</td>\n",
       "      <td>2017-06-05</td>\n",
       "      <td>57.08</td>\n",
       "    </tr>\n",
       "    <tr>\n",
       "      <th>5</th>\n",
       "      <td>1</td>\n",
       "      <td>2017-06-06</td>\n",
       "      <td>40.39</td>\n",
       "    </tr>\n",
       "    <tr>\n",
       "      <th>6</th>\n",
       "      <td>1</td>\n",
       "      <td>2017-06-07</td>\n",
       "      <td>40.59</td>\n",
       "    </tr>\n",
       "    <tr>\n",
       "      <th>7</th>\n",
       "      <td>1</td>\n",
       "      <td>2017-06-08</td>\n",
       "      <td>56.63</td>\n",
       "    </tr>\n",
       "    <tr>\n",
       "      <th>8</th>\n",
       "      <td>1</td>\n",
       "      <td>2017-06-09</td>\n",
       "      <td>40.16</td>\n",
       "    </tr>\n",
       "    <tr>\n",
       "      <th>9</th>\n",
       "      <td>1</td>\n",
       "      <td>2017-06-10</td>\n",
       "      <td>43.24</td>\n",
       "    </tr>\n",
       "  </tbody>\n",
       "</table>\n",
       "</div>"
      ],
      "text/plain": [
       "   source_id         dt  costs\n",
       "0          1 2017-06-01  75.20\n",
       "1          1 2017-06-02  62.25\n",
       "2          1 2017-06-03  36.53\n",
       "3          1 2017-06-04  55.00\n",
       "4          1 2017-06-05  57.08\n",
       "5          1 2017-06-06  40.39\n",
       "6          1 2017-06-07  40.59\n",
       "7          1 2017-06-08  56.63\n",
       "8          1 2017-06-09  40.16\n",
       "9          1 2017-06-10  43.24"
      ]
     },
     "execution_count": 10,
     "metadata": {},
     "output_type": "execute_result"
    }
   ],
   "source": [
    "costs_df.head(10)"
   ]
  },
  {
   "cell_type": "code",
   "execution_count": 11,
   "metadata": {},
   "outputs": [
    {
     "name": "stdout",
     "output_type": "stream",
     "text": [
      "device       0\n",
      "end_ts       0\n",
      "source_id    0\n",
      "start_ts     0\n",
      "uid          0\n",
      "dtype: int64\n",
      "\n",
      "buy_ts     0\n",
      "revenue    0\n",
      "uid        0\n",
      "dtype: int64\n",
      "\n",
      "source_id    0\n",
      "dt           0\n",
      "costs        0\n",
      "dtype: int64\n"
     ]
    }
   ],
   "source": [
    "print(visits_df.isna().sum()) #calculando o número de valores ausentes de visits_df\n",
    "print()\n",
    "print(orders_df.isna().sum()) #calculando o número de valores ausentes de orders_df\n",
    "print()\n",
    "print(costs_df.isna().sum()) #calculando o número de valores ausentes de costs_df"
   ]
  },
  {
   "cell_type": "code",
   "execution_count": 12,
   "metadata": {},
   "outputs": [
    {
     "name": "stdout",
     "output_type": "stream",
     "text": [
      "0\n",
      "\n",
      "0\n",
      "\n",
      "0\n"
     ]
    }
   ],
   "source": [
    "print(visits_df.duplicated().sum()) #Contando duplicados explícitos de visits_df\n",
    "print()\n",
    "print(orders_df.duplicated().sum()) #Contando duplicados explícitos de orders_df\n",
    "print()\n",
    "print(costs_df.duplicated().sum()) #Contando duplicados explícitos de costs_df"
   ]
  },
  {
   "cell_type": "markdown",
   "metadata": {},
   "source": [
    "Não foram encontrados dados duplicados ou ausentes em nenhum dos 3 DF's, e os tipos dados foram convertidos de acordo com a necessidade. E Conforme as boas práticas de estilo, transformamos os nomes das colunas em letras minúsculas para evitar erros dos Data Frames \"visits\" e \"costs\", e preenchendo \" \" por \"_\" nos nomes das colunas dos mesmos."
   ]
  },
  {
   "cell_type": "markdown",
   "metadata": {},
   "source": [
    "# Cálculo das métricas e relatórios"
   ]
  },
  {
   "cell_type": "markdown",
   "metadata": {},
   "source": [
    "Produto\n",
    " \n",
    "* Quantas pessoas usam-no cada dia, semana e mês?\n",
    "* Quantas sessões ocorrem por dia? (um usuário pode realizar várias sessões).\n",
    "* Que comprimento tem cada sessão?\n",
    "* Com que frequência os usuários voltam?"
   ]
  },
  {
   "cell_type": "code",
   "execution_count": 13,
   "metadata": {},
   "outputs": [
    {
     "name": "stdout",
     "output_type": "stream",
     "text": [
      "date\n",
      "2017-06-01    605\n",
      "2017-06-02    608\n",
      "2017-06-03    445\n",
      "2017-06-04    476\n",
      "2017-06-05    820\n",
      "Name: uid, dtype: int64\n",
      "\n",
      "week\n",
      "2017-05-29    2021\n",
      "2017-06-05    4129\n",
      "2017-06-12    2812\n",
      "2017-06-19    2878\n",
      "2017-06-26    3064\n",
      "Name: uid, dtype: int64\n",
      "\n",
      "month\n",
      "2017-06-01    13259\n",
      "2017-07-01    14183\n",
      "2017-08-01    11631\n",
      "2017-09-01    18975\n",
      "2017-10-01    29692\n",
      "Name: uid, dtype: int64\n"
     ]
    }
   ],
   "source": [
    "# Convertendo colunas de timestamp para datetime\n",
    "visits_df['start_ts'] = pd.to_datetime(visits_df['start_ts'])\n",
    "visits_df['end_ts'] = pd.to_datetime(visits_df['end_ts'])\n",
    "\n",
    "\n",
    "# Adicionando colunas de data para cálculo de métricas diárias, semanais e mensais\n",
    "visits_df['date'] = visits_df['start_ts'].dt.date\n",
    "visits_df['week'] = visits_df['start_ts'].dt.to_period('W').apply(lambda r: r.start_time)\n",
    "visits_df['month'] = visits_df['start_ts'].dt.to_period('M').apply(lambda r: r.start_time)\n",
    "visits_df['year'] = visits_df['start_ts'].dt.year\n",
    "\n",
    "# Calculando o número de usuários únicos por dia, semana e mês\n",
    "daily_users = visits_df.groupby('date')['uid'].nunique()\n",
    "weekly_users = visits_df.groupby('week')['uid'].nunique()\n",
    "monthly_users = visits_df.groupby('month')['uid'].nunique()\n",
    "\n",
    "print(daily_users.head())\n",
    "print()\n",
    "print(weekly_users.head())\n",
    "print()\n",
    "print(monthly_users.head())\n"
   ]
  },
  {
   "cell_type": "code",
   "execution_count": 14,
   "metadata": {
    "scrolled": true
   },
   "outputs": [
    {
     "name": "stdout",
     "output_type": "stream",
     "text": [
      "date\n",
      "2017-06-01     664\n",
      "2017-06-02     658\n",
      "2017-06-03     477\n",
      "2017-06-04     510\n",
      "2017-06-05     893\n",
      "              ... \n",
      "2018-05-27     672\n",
      "2018-05-28    1156\n",
      "2018-05-29    1035\n",
      "2018-05-30    1410\n",
      "2018-05-31    2256\n",
      "Length: 364, dtype: int64\n"
     ]
    }
   ],
   "source": [
    "daily_sessions = visits_df.groupby('date').size()\n",
    "\n",
    "print(daily_sessions)"
   ]
  },
  {
   "cell_type": "code",
   "execution_count": 15,
   "metadata": {},
   "outputs": [
    {
     "data": {
      "image/png": "[encoded data removed]",
      "text/plain": [
       "<Figure size 640x480 with 1 Axes>"
      ]
     },
     "metadata": {},
     "output_type": "display_data"
    }
   ],
   "source": [
    "visits_df['session_duration_sec'] = (visits_df['end_ts'] - visits_df['start_ts']).dt.seconds # Calculando a duração de cada sessão\n",
    "\n",
    "visits_df['session_duration_sec'].plot(kind = 'hist', bins = 50, title = 'Distribuição da Duração de Sessões', xlabel= 'Duração da Sessão (segundos)', ylabel = 'Frequência')\n",
    "\n",
    "plt.show()"
   ]
  },
  {
   "cell_type": "markdown",
   "metadata": {},
   "source": [
    "As durações das sessões não estão distribuídas uniformemente. Portanto, vamos calcular a média das sessões por dia(DAU - Usuários ativos diários), por semana(WAU - Usuários ativos semanais) e por mês(MAU - Usuários ativos mensais). "
   ]
  },
  {
   "cell_type": "code",
   "execution_count": 16,
   "metadata": {},
   "outputs": [
    {
     "name": "stdout",
     "output_type": "stream",
     "text": [
      "Média Diária das Sessões: 907\n",
      "Média Semanal das Sessões: 5716\n",
      "Média Mensal das Sessões: 23228\n"
     ]
    }
   ],
   "source": [
    "dau_total = visits_df.groupby('date').agg({'uid': 'nunique'}).mean()\n",
    "wau_total = visits_df.groupby(['year', 'week']).agg({'uid': 'nunique'}).mean()\n",
    "mau_total = visits_df.groupby(['year', 'month']).agg({'uid': 'nunique'}).mean()\n",
    "\n",
    "print(f'Média Diária das Sessões: {int(dau_total)}')\n",
    "print(f'Média Semanal das Sessões: {int(wau_total)}')\n",
    "print(f'Média Mensal das Sessões: {int(mau_total)}')"
   ]
  },
  {
   "cell_type": "markdown",
   "metadata": {},
   "source": [
    "A taxa de retenção é uma métrica que informa a fidelidade do público – com que frequência eles retornam acessar o nosso site. E por isso, vamos calcular abaixo: "
   ]
  },
  {
   "cell_type": "code",
   "execution_count": 17,
   "metadata": {},
   "outputs": [
    {
     "name": "stdout",
     "output_type": "stream",
     "text": [
      "Taxa de Retenção Semanal: 15%\n",
      "Taxa de Retenção Mensal: 3%\n"
     ]
    }
   ],
   "source": [
    "week_retention = dau_total/wau_total*100\n",
    "month_retention = dau_total/mau_total*100\n",
    "\n",
    "print(f'Taxa de Retenção Semanal: {int(week_retention)}%')\n",
    "print(f'Taxa de Retenção Mensal: {int(month_retention)}%')"
   ]
  },
  {
   "cell_type": "markdown",
   "metadata": {},
   "source": [
    "Apenas 15% dos usuários que visitam o produto em uma semana voltam a usá-lo na semana seguinte. Isso indica que a maioria dos usuários não retorna regularmente de uma semana para outra. A baixa taxa de retenção semanal pode sugerir que os usuários não estão encontrando valor suficiente no produto para retornar regularmente. Há uma grande oportunidade de melhorar o engajamento semanal, talvez através de campanhas de reengajamento, melhorias no produto ou oferecendo incentivos para que os usuários retornem.\n",
    "\n",
    "Apenas 3% dos usuários que visitam o produto em um mês voltam a usá-lo no mês seguinte. Isso indica uma retenção ainda mais baixa a longo prazo, e é um sinal de alerta significativo. Isso pode indicar problemas graves na capacidade do produto de manter os usuários engajados por períodos mais longos. É crucial tomar medidas para entender por que os usuários não estão retornando mensalmente. Isso pode envolver a coleta de feedback dos usuários, análise de dados de uso, e a implementação de melhorias no produto ou na estratégia de marketing."
   ]
  },
  {
   "cell_type": "markdown",
   "metadata": {},
   "source": [
    "# Vendas\n",
    " "
   ]
  },
  {
   "cell_type": "code",
   "execution_count": 18,
   "metadata": {},
   "outputs": [],
   "source": [
    "orders_df['buy_ts'] = pd.to_datetime(orders_df['buy_ts'])# Convertendo colunas de timestamp para datetime\n",
    "\n",
    "\n",
    "visits_df['start_ts'] = pd.to_datetime(visits_df['start_ts'])\n",
    "visits_df['end_ts'] = pd.to_datetime(visits_df['end_ts'])"
   ]
  },
  {
   "cell_type": "code",
   "execution_count": 19,
   "metadata": {},
   "outputs": [
    {
     "name": "stdout",
     "output_type": "stream",
     "text": [
      "               uid        first_access\n",
      "0   11863502262781 2018-03-01 17:27:00\n",
      "1   49537067089222 2018-02-06 15:55:00\n",
      "2  297729379853735 2017-06-07 18:47:00\n",
      "3  313578113262317 2017-09-18 22:49:00\n",
      "4  325320750514679 2017-09-30 14:29:00\n",
      "5  397399764396656 2018-01-18 12:32:00\n",
      "6  407573351275847 2017-06-17 13:40:00\n",
      "7  498809019029702 2018-02-21 22:09:00\n",
      "8  526778907996220 2017-10-21 17:51:00\n",
      "9  577434573913691 2018-01-28 14:15:00\n"
     ]
    }
   ],
   "source": [
    "first_access = visits_df.groupby('uid')['start_ts'].min().reset_index() # Calculando a data do primeiro acesso de cada usuário\n",
    "first_access.columns = ['uid', 'first_access']\n",
    "\n",
    "print(first_access.head(10))"
   ]
  },
  {
   "cell_type": "code",
   "execution_count": 20,
   "metadata": {},
   "outputs": [
    {
     "name": "stdout",
     "output_type": "stream",
     "text": [
      "               buy_ts  revenue                   uid        first_access  \\\n",
      "0 2017-06-01 00:10:00    17.00  10329302124590727494 2017-06-01 00:09:00   \n",
      "1 2017-06-01 00:25:00     0.55  11627257723692907447 2017-06-01 00:14:00   \n",
      "2 2017-06-01 00:27:00     0.37  17903680561304213844 2017-06-01 00:25:00   \n",
      "3 2017-06-01 00:29:00     0.55  16109239769442553005 2017-06-01 00:14:00   \n",
      "4 2017-06-01 07:58:00     0.37  14200605875248379450 2017-06-01 07:31:00   \n",
      "5 2017-06-01 08:43:00     0.18  10402394430196413321 2017-06-01 08:43:00   \n",
      "6 2017-06-01 08:54:00     1.83  12464626743129688638 2017-06-01 08:51:00   \n",
      "7 2017-06-05 14:30:00     7.33  12464626743129688638 2017-06-01 08:51:00   \n",
      "8 2017-06-01 09:22:00     1.22   3644482766749211722 2017-06-01 09:22:00   \n",
      "9 2017-06-02 12:44:00     0.85   3644482766749211722 2017-06-01 09:22:00   \n",
      "\n",
      "   days_to_conversion conversion_category  \n",
      "0                   0                  0d  \n",
      "1                   0                  0d  \n",
      "2                   0                  0d  \n",
      "3                   0                  0d  \n",
      "4                   0                  0d  \n",
      "5                   0                  0d  \n",
      "6                   0                  0d  \n",
      "7                   4                  1w  \n",
      "8                   0                  0d  \n",
      "9                   1                  1d  \n"
     ]
    }
   ],
   "source": [
    "orders_with_first_access = orders_df.merge(first_access, on='uid')# Unindo o DataFrame de compras e o DataFrame de primeiro acesso\n",
    "\n",
    "orders_with_first_access['days_to_conversion'] = (orders_with_first_access['buy_ts'] - orders_with_first_access['first_access']).dt.days # Calculando o intervalo entre o primeiro acesso e a compra\n",
    "\n",
    "orders_with_first_access['conversion_category'] = pd.cut(orders_with_first_access['days_to_conversion'], bins=[-1, 0, 1, 7, 30, 90, 180, 365], labels=['0d', '1d', '1w', '1m', '3m', '6m', '1y']) # Categorizando o intervalo em dias\n",
    "\n",
    "print(orders_with_first_access.head(10))"
   ]
  },
  {
   "cell_type": "markdown",
   "metadata": {},
   "source": [
    "Formamos coortes de usuários com base na primeira data de compra. Também aprendemos que a quantidade de novos consumidores está decaindo com o passar do tempo. Agora, será importante analisar os coortes por mês de compra para determinar quantos pedidos os clientes fazem durante um determinado esse período de tempo."
   ]
  },
  {
   "cell_type": "code",
   "execution_count": 21,
   "metadata": {},
   "outputs": [
    {
     "name": "stdout",
     "output_type": "stream",
     "text": [
      "conversion_category    0d   1d   1w   1m   3m   6m   1y\n",
      "cohort_month                                           \n",
      "2017-06              1804   81  172  196  277  504  635\n",
      "2017-07              1526   74  149  135  283  359  413\n",
      "2017-08              1097   39  100  126  230  237  215\n",
      "2017-09              1966  101  240  305  424  364  215\n",
      "2017-10              3302  164  348  446  534  495  182\n",
      "2017-11              2866  196  384  489  523  420   63\n",
      "2017-12              2992  158  353  318  426  275    0\n",
      "2018-01              2326  121  244  289  283  125    0\n",
      "2018-02              2482  116  278  290  218   63    0\n",
      "2018-03              2369  121  186  212  160    0    0\n",
      "2018-04              1557   82  154  150   68    0    0\n",
      "2018-05              2076   90  124   80    0    0    0\n"
     ]
    }
   ],
   "source": [
    "orders_with_first_access['cohort_month'] = orders_with_first_access['first_access'].dt.to_period('M') # Adicionando colunas de ano e mês do primeiro acesso\n",
    "\n",
    "# Criando a tabela dinâmica\n",
    "cohort_analysis = pd.pivot_table(\n",
    "    orders_with_first_access,\n",
    "    index='cohort_month',\n",
    "    columns='conversion_category',\n",
    "    values='uid',\n",
    "    aggfunc='nunique'\n",
    ").fillna(\"\")\n",
    "\n",
    "# Exibir a tabela dinâmica\n",
    "print(cohort_analysis)"
   ]
  },
  {
   "cell_type": "code",
   "execution_count": 22,
   "metadata": {},
   "outputs": [
    {
     "data": {
      "image/png": "[encoded data removed]",
      "text/plain": [
       "<Figure size 1200x800 with 2 Axes>"
      ]
     },
     "metadata": {},
     "output_type": "display_data"
    }
   ],
   "source": [
    "plt.figure(figsize=(12, 8)) # Criando o heatmap\n",
    "\n",
    "sns.heatmap(cohort_analysis, annot=True, fmt=\".0f\", linewidths=1, linecolor='black')\n",
    "\n",
    "plt.title('Conversão Ao Longo Do Tempo')\n",
    "plt.xlabel('Dias Para Conversão')\n",
    "plt.ylabel('Mês da Coorte')\n",
    "\n",
    "plt.show()"
   ]
  },
  {
   "cell_type": "markdown",
   "metadata": {},
   "source": [
    "Os códigos acima permitem formar coortes de usuários com base na primeira data de compra e analisar o número de pedidos feitos por cada coorte em cada mês subsequente. Com essa análise, podemos determinar padrões de comportamento de compra ao longo do tempo e avaliar a eficiência das estratégias de retenção de clientes."
   ]
  },
  {
   "cell_type": "markdown",
   "metadata": {},
   "source": [
    "O gráfico de calor (heatmap) que você forneceu ilustra a análise de coorte, mostrando quantos usuários de cada mês de coorte converteram ao longo do tempo. \n",
    "\n",
    "A maioria dos usuários que se convertem tendem a fazê-lo no mesmo dia em que acessam o site pela primeira vez. Há um rápido declínio nas conversões após o primeiro dia, com muito poucas conversões ocorrendo após um mês. Certos meses (por exemplo, outubro de 2017) foram mais eficazes em atrair conversões rápidas do que outros, sugerindo que campanhas de marketing ou outros fatores nesses meses foram particularmente bem-sucedidos.\n",
    "\n",
    "Dado que a maioria das conversões ocorre no mesmo dia, investir em estratégias para maximizar a conversão imediata pode ser altamente benéfico."
   ]
  },
  {
   "cell_type": "markdown",
   "metadata": {},
   "source": [
    "Agora, vamos calcular o volume total das compras. "
   ]
  },
  {
   "cell_type": "code",
   "execution_count": 23,
   "metadata": {},
   "outputs": [
    {
     "name": "stdout",
     "output_type": "stream",
     "text": [
      "Volume Total das Compras: 252057.19999999998\n"
     ]
    }
   ],
   "source": [
    "total_order_value = orders_df['revenue'].sum() # Calculando o volume total das compras\n",
    "\n",
    "print(f'Volume Total das Compras: {total_order_value}')"
   ]
  },
  {
   "cell_type": "code",
   "execution_count": 24,
   "metadata": {},
   "outputs": [
    {
     "name": "stdout",
     "output_type": "stream",
     "text": [
      "Número Total de Compras: 50415\n"
     ]
    }
   ],
   "source": [
    "total_orders = orders_df.shape[0] # Calculando o número total de compras\n",
    "\n",
    "print(f'Número Total de Compras: {total_orders}')"
   ]
  },
  {
   "cell_type": "code",
   "execution_count": 25,
   "metadata": {},
   "outputs": [
    {
     "name": "stdout",
     "output_type": "stream",
     "text": [
      "Volume Médio de uma Compra: 4.999646930477041\n"
     ]
    }
   ],
   "source": [
    "average_order_value = total_order_value / total_orders # Calculando a média do volume de uma compra\n",
    "\n",
    "print(f'Volume Médio de uma Compra: {average_order_value}')"
   ]
  },
  {
   "cell_type": "markdown",
   "metadata": {},
   "source": [
    "Com base no volume médio de uma compra de aproximadamente $5.00, podemos tirar várias conclusões importantes sobre o comportamento do consumidor e a eficácia das estratégias de vendas e marketing da empresa. "
   ]
  },
  {
   "cell_type": "markdown",
   "metadata": {},
   "source": [
    "Para finalizar a análise sobre os dados de venda, precisamos calcular o Valor de Tempo de Vida do Cliente (LTV ou CLV, do inglês \"Customer Lifetime Value\"), precisamos considerar várias métricas e parâmetros. O LTV estima o valor total que um cliente traz para a empresa ao longo do seu relacionamento com a empresa. O cálculo básico envolve os seguintes componentes:\n",
    "* Ticket Médio de Compra (AOV - Average Order Value);\n",
    "* Frequência Média de Compra (Purchase Frequency);\n",
    "* Taxa de Retenção (Retention Rate);\n",
    "* Tempo Médio de Vida do Cliente (Customer Lifetime)."
   ]
  },
  {
   "cell_type": "code",
   "execution_count": 26,
   "metadata": {},
   "outputs": [],
   "source": [
    "orders_df['order_date'] = pd.to_datetime(orders_df['buy_ts']) #Convertendo as datas para os tipos de dados corretos e acrescente as colunas do mês da encomenda e da despesa mensal.\n",
    "costs_df['dt'] = pd.to_datetime(costs_df['dt'])\n",
    "\n",
    "orders_df['order_month'] = orders_df['order_date'].astype('datetime64[M]')\n",
    "costs_df['month'] = costs_df['dt'].astype('datetime64[M]')"
   ]
  },
  {
   "cell_type": "code",
   "execution_count": 27,
   "metadata": {},
   "outputs": [
    {
     "name": "stdout",
     "output_type": "stream",
     "text": [
      "  first_order_month  n_buyers\n",
      "0        2017-06-01      2023\n",
      "1        2017-07-01      1923\n",
      "2        2017-08-01      1370\n",
      "3        2017-09-01      2581\n",
      "4        2017-10-01      4340\n"
     ]
    }
   ],
   "source": [
    "#calculando o número de clientes, por mês da primeira compra\n",
    "first_orders = orders_df.groupby('uid').agg({'order_month': 'min'}).reset_index() # Descubrindo o mês em que o primeiro pedido de cada cliente foi feito\n",
    "first_orders.columns = ['uid', 'first_order_month']\n",
    "cohort_sizes = first_orders.groupby('first_order_month').agg({'uid': 'nunique'}).reset_index() # calculando a quantidade de pessoas que fez seu primeiro pedido\n",
    "cohort_sizes.columns = ['first_order_month', 'n_buyers']\n",
    "\n",
    "print(cohort_sizes.head())"
   ]
  },
  {
   "cell_type": "code",
   "execution_count": 28,
   "metadata": {},
   "outputs": [],
   "source": [
    "margin_rate = 0.4\n",
    "\n",
    "orders = pd.merge(orders_df,first_orders, on='uid') # somando o mês da primeira encomenda ao DataFrame com as compras\n",
    "cohorts = orders.groupby(['first_order_month','order_month']).agg({'revenue': 'sum'}).reset_index()# agrupando as encomendas em coortes\n",
    "report = pd.merge(cohort_sizes, cohorts, on='first_order_month')"
   ]
  },
  {
   "cell_type": "code",
   "execution_count": 29,
   "metadata": {},
   "outputs": [
    {
     "name": "stdout",
     "output_type": "stream",
     "text": [
      "age                 0    1    2    3    4    5    6    7    8    9    10   11\n",
      "first_order_month                                                            \n",
      "2017-06-01         2.0  0.0  0.0  0.0  0.0  0.0  0.0  0.0  0.0  0.0  0.0  0.0\n",
      "2017-07-01         2.0  0.0  0.0  0.0  0.0  0.0  0.0  0.0  0.0  0.0  0.0     \n",
      "2017-08-01         2.0  0.0  0.0  0.0  0.0  0.0  0.0  0.0  0.0  0.0          \n",
      "2017-09-01         2.0  0.0  0.0  2.0  0.0  0.0  0.0  0.0  0.0               \n",
      "2017-10-01         2.0  0.0  0.0  0.0  0.0  0.0  0.0  0.0                    \n",
      "2017-11-01         2.0  0.0  0.0  0.0  0.0  0.0  0.0                         \n",
      "2017-12-01         2.0  0.0  0.0  0.0  0.0  0.0                              \n",
      "2018-01-01         2.0  0.0  0.0  0.0  0.0                                   \n",
      "2018-02-01         2.0  0.0  0.0  0.0                                        \n",
      "2018-03-01         2.0  0.0  0.0                                             \n",
      "2018-04-01         2.0  0.0                                                  \n",
      "2018-05-01         2.0                                                       \n",
      "2018-06-01         1.0                                                       \n"
     ]
    }
   ],
   "source": [
    "report['gp'] =  report['revenue'] * margin_rate # calculando o lucro bruto\n",
    "report['age'] = (\n",
    "    report['order_month'] - report['first_order_month']\n",
    ") / np.timedelta64(1, 'M')\n",
    "report['age'] = report['age'].round().astype('int')# descubrindo a idade de cada coorte em meses\n",
    "report['ltv'] = report['gp'] / report['n_buyers'] # calculando o LTV para as coortes\n",
    "\n",
    "result = report.pivot_table(\n",
    "    index='first_order_month', columns='age', values='ltv', aggfunc='mean'\n",
    ").round() # calculando os valores para a tabela dinâmica\n",
    "\n",
    "result = result.fillna('')\n",
    "\n",
    "print(result)"
   ]
  },
  {
   "cell_type": "markdown",
   "metadata": {},
   "source": [
    "Há uma taxa de atrito alta, já que o número de clientes diminui rapidamente com o passar dos meses. Devido à alta taxa de churn, o valor vitalício médio do cliente provavelmente será baixo a moderado. Para aumentar o LTV e garantir a rentabilidade a longo prazo, a empresa deve focar em reduzir o CAC(Custo de Aquisição de Clientes), aumentar o o volume médio por compra, melhorar a retenção de clientes e continuar inovando e oferecendo valor aos clientes. Com essas estratégias, a empresa pode melhorar seu desempenho financeiro e fortalecer sua posição no mercado."
   ]
  },
  {
   "cell_type": "markdown",
   "metadata": {},
   "source": [
    "# Marketing\n"
   ]
  },
  {
   "cell_type": "markdown",
   "metadata": {},
   "source": [
    "Para analisar quanto dinheiro foi gasto em marketing, precisamos examinar os dados de custos de marketing. Especificamente, queremos calcular os custos totais, os custos por origem e os custos ao longo do tempo."
   ]
  },
  {
   "cell_type": "markdown",
   "metadata": {},
   "source": [
    "Essa análise permite que a empresa tome decisões informadas sobre como alocar seu orçamento de marketing de maneira mais eficiente e eficaz, maximizando o retorno sobre o investimento."
   ]
  },
  {
   "cell_type": "markdown",
   "metadata": {},
   "source": [
    "* Custo Total por Origem: Representa o total gasto em marketing para cada origem de anúncio.\n",
    "* Número de Clientes Adquiridos por Origem: Mostra quantos clientes foram adquiridos através de cada origem de anúncio.\n",
    "* CAC por Origem: Calcula o CAC dividindo o custo total pelo número de clientes adquiridos para cada origem."
   ]
  },
  {
   "cell_type": "code",
   "execution_count": 30,
   "metadata": {
    "scrolled": true
   },
   "outputs": [
    {
     "name": "stdout",
     "output_type": "stream",
     "text": [
      "age                  0     1     2     3     4     5     6     7     8     9   \\\n",
      "first_order_month                                                               \n",
      "2017-06-01         1.89  2.08  2.26  2.64  3.05  3.34  3.72  3.96  4.18  4.42   \n",
      "2017-07-01         2.40  2.54  2.79  2.93   3.0  3.06  3.11  3.17  3.23  3.29   \n",
      "2017-08-01         2.11   2.3  2.48  2.64  2.84  2.95  3.03   3.2  3.31  3.39   \n",
      "2017-09-01         2.26   2.7  2.91   4.5  4.66  4.92   5.2   5.3  5.37         \n",
      "2017-10-01         2.00  2.22  2.29  2.36  2.42  2.46   2.5  2.54               \n",
      "2017-11-01         2.06  2.22   2.3  2.43  2.49  2.51  2.56                     \n",
      "2017-12-01         1.90   2.0  2.37   2.8  2.92  3.06                           \n",
      "2018-01-01         1.65  1.77  1.89  1.95  1.98                                 \n",
      "2018-02-01         1.66  1.77  1.81  1.84                                       \n",
      "2018-03-01         1.94  2.06  2.18                                             \n",
      "2018-04-01         1.86  2.08                                                   \n",
      "2018-05-01         1.86                                                         \n",
      "\n",
      "age                  10    11  \n",
      "first_order_month              \n",
      "2017-06-01         4.65  4.75  \n",
      "2017-07-01         3.35        \n",
      "2017-08-01                     \n",
      "2017-09-01                     \n",
      "2017-10-01                     \n",
      "2017-11-01                     \n",
      "2017-12-01                     \n",
      "2018-01-01                     \n",
      "2018-02-01                     \n",
      "2018-03-01                     \n",
      "2018-04-01                     \n",
      "2018-05-01                     \n"
     ]
    }
   ],
   "source": [
    "monthly_costs = costs_df.groupby('month').sum()\n",
    "report_ = pd.merge(\n",
    "    report, monthly_costs, left_on='first_order_month', right_on='month'\n",
    ")\n",
    "report_['cac'] = report_['costs'] / report_['n_buyers']\n",
    "\n",
    "report_['romi'] = report_['ltv'] / report_['cac']\n",
    "result= report_.pivot_table(\n",
    "    index='first_order_month', columns='age', values='ltv', aggfunc='mean'\n",
    ")\n",
    "\n",
    "print(result.cumsum(axis=1).round(2).fillna(''))# imprimindo a tabela dinâmica com o ROMI acumulado calculado"
   ]
  },
  {
   "cell_type": "code",
   "execution_count": 31,
   "metadata": {},
   "outputs": [
    {
     "data": {
      "image/png": "[encoded data removed]",
      "text/plain": [
       "<Figure size 1200x800 with 1 Axes>"
      ]
     },
     "metadata": {},
     "output_type": "display_data"
    }
   ],
   "source": [
    "data = {\n",
    "    'age': [0, 1, 2, 3, 4, 5, 6, 7, 8, 9],\n",
    "    '1': [1.89, 2.08, 2.26, 2.64, 3.05, 3.34, 3.72, 3.96, 4.18, 4.42],\n",
    "    '2': [2.40, 2.54, 2.79, 2.93, 3.0, 3.06, 3.11, 3.17, 3.23, 3.29],\n",
    "    '3': [2.11, 2.3, 2.48, 2.64, 2.84, 2.95, 3.03, 3.2, 3.31, 3.39],\n",
    "    '4': [2.26, 2.7, 2.91, 4.5, 4.66, 4.92, 5.2, 5.3, 5.37, None],\n",
    "    '5': [2.0, 2.22, 2.29, 2.36, 2.42, 2.46, 2.5, 2.54, None, None],\n",
    "    '6': [2.06, 2.22, 2.3, 2.43, 2.49, 2.51, 2.56, None, None, None],\n",
    "    '7': [1.9, 2.0, 2.37, 2.8, 2.92, 3.06, None, None, None, None],\n",
    "    '8': [1.65, 1.77, 1.89, 1.95, 1.98, None, None, None, None, None],\n",
    "    '9': [1.66, 1.77, 1.81, 1.84, None, None, None, None, None, None],\n",
    "    '10': [1.94, 2.06, 2.18, None, None, None, None, None, None, None],\n",
    "    '11': [1.86, 2.08, None, None, None, None, None, None, None, None],\n",
    "    '12': [1.86, None, None, None, None, None, None, None, None, None],\n",
    "}\n",
    "\n",
    "df = pd.DataFrame(data)\n",
    "\n",
    "df.set_index('age', inplace=True)\n",
    "\n",
    "\n",
    "plt.figure(figsize=(12, 8))# Plotando o gráfico de área acumulado por mês\n",
    "for column in df.columns:\n",
    "    plt.plot(df.index, df[column], marker='o', linestyle='-', label=column)\n",
    "\n",
    "plt.title('Acumulado por mês e origem')\n",
    "plt.xlabel('Idade')\n",
    "plt.ylabel('Valor acumulado')\n",
    "plt.xticks(df.index)\n",
    "plt.legend()\n",
    "plt.grid(True)\n",
    "plt.tight_layout()\n",
    "plt.show()"
   ]
  },
  {
   "cell_type": "code",
   "execution_count": 32,
   "metadata": {
    "scrolled": true
   },
   "outputs": [
    {
     "name": "stdout",
     "output_type": "stream",
     "text": [
      "LVT médio aos 6 meses após a primeira encomenda: 3.1876210520829344\n"
     ]
    }
   ],
   "source": [
    "m6_cum_ltv = result.cumsum(axis=1).mean(axis=0)[5] # determinando o LTV acumulado por 6 meses a partir do momento em que o primeiro pedido foi realizado\n",
    "print('LVT médio aos 6 meses após a primeira encomenda:', m6_cum_ltv)"
   ]
  },
  {
   "cell_type": "markdown",
   "metadata": {},
   "source": [
    "Para cobrir os investimentos com marketing, a aquisição de um cliente não pode custar mais do que $3.1876."
   ]
  },
  {
   "cell_type": "code",
   "execution_count": 33,
   "metadata": {},
   "outputs": [],
   "source": [
    "costs_df['dt'] = pd.to_datetime(costs_df['dt'])# Convertendo colunas de timestamp para datetime, se necessário"
   ]
  },
  {
   "cell_type": "code",
   "execution_count": 34,
   "metadata": {},
   "outputs": [
    {
     "name": "stdout",
     "output_type": "stream",
     "text": [
      "Número Total de Clientes Adquiridos: 36523\n"
     ]
    }
   ],
   "source": [
    "total_customers = orders_df['uid'].nunique()# Calculando o número total de clientes adquiridos (únicos)\n",
    "\n",
    "print(f'Número Total de Clientes Adquiridos: {total_customers}')"
   ]
  },
  {
   "cell_type": "code",
   "execution_count": 35,
   "metadata": {},
   "outputs": [
    {
     "name": "stdout",
     "output_type": "stream",
     "text": [
      "Receita Total: $252057.20\n"
     ]
    }
   ],
   "source": [
    "total_revenue = orders_df['revenue'].sum()# Calculando a Receita Total\n",
    "\n",
    "print(f'Receita Total: ${total_revenue:.2f}')"
   ]
  },
  {
   "cell_type": "code",
   "execution_count": 36,
   "metadata": {},
   "outputs": [
    {
     "name": "stdout",
     "output_type": "stream",
     "text": [
      "Custo Total de Marketing: $329131.62\n"
     ]
    }
   ],
   "source": [
    "total_marketing_cost = costs_df['costs'].sum()# Calculando o Custo Total de Marketing\n",
    "\n",
    "print(f'Custo Total de Marketing: ${total_marketing_cost:.2f}')"
   ]
  },
  {
   "cell_type": "code",
   "execution_count": 37,
   "metadata": {},
   "outputs": [
    {
     "name": "stdout",
     "output_type": "stream",
     "text": [
      "Custo de Aquisição de Clientes (CAC) Global: $9.01\n"
     ]
    }
   ],
   "source": [
    "global_cac = total_marketing_cost / total_customers # Calculando o CAC global\n",
    "\n",
    "print(f'Custo de Aquisição de Clientes (CAC) Global: ${global_cac:.2f}')"
   ]
  },
  {
   "cell_type": "code",
   "execution_count": 38,
   "metadata": {},
   "outputs": [
    {
     "name": "stdout",
     "output_type": "stream",
     "text": [
      "\n",
      "Custo por Origem:\n",
      "   source_id      costs\n",
      "0          1   20833.27\n",
      "1          2   42806.04\n",
      "2          3  141321.63\n",
      "3          4   61073.60\n",
      "4          5   51757.10\n",
      "5          9    5517.49\n",
      "6         10    5822.49\n"
     ]
    },
    {
     "data": {
      "image/png": "[encoded data removed]",
      "text/plain": [
       "<Figure size 1000x600 with 1 Axes>"
      ]
     },
     "metadata": {},
     "output_type": "display_data"
    }
   ],
   "source": [
    "cost_by_source = costs_df.groupby('source_id')['costs'].sum().reset_index() # Calculando o Custo por Origem\n",
    "print('\\nCusto por Origem:')\n",
    "print(cost_by_source)\n",
    "\n",
    "plt.figure(figsize=(10, 6))\n",
    "plt.bar(cost_by_source['source_id'], cost_by_source['costs'], color='skyblue')\n",
    "plt.xlabel('Origem (source_id)')\n",
    "plt.ylabel('Custo ($)')\n",
    "plt.title('Custo de Marketing por Origem')\n",
    "plt.xticks(rotation=45)\n",
    "plt.show()"
   ]
  },
  {
   "cell_type": "markdown",
   "metadata": {},
   "source": [
    "Os dados acima identificam quais canais de marketing são mais caros. Isso pode ajudar a empresa a avaliar a eficiência de cada canal e otimizar o orçamento de marketing."
   ]
  },
  {
   "cell_type": "code",
   "execution_count": 39,
   "metadata": {},
   "outputs": [
    {
     "name": "stdout",
     "output_type": "stream",
     "text": [
      "\n",
      "Custo ao Longo do Tempo:\n",
      "      month     costs\n",
      "0   2017-06  18015.00\n",
      "1   2017-07  18240.59\n",
      "2   2017-08  14790.54\n",
      "3   2017-09  24368.91\n",
      "4   2017-10  36322.88\n",
      "5   2017-11  37907.88\n",
      "6   2017-12  38315.35\n",
      "7   2018-01  33518.52\n",
      "8   2018-02  32723.03\n",
      "9   2018-03  30415.27\n",
      "10  2018-04  22289.38\n",
      "11  2018-05  22224.27\n"
     ]
    },
    {
     "data": {
      "image/png": "[encoded data removed]",
      "text/plain": [
       "<Figure size 1000x600 with 1 Axes>"
      ]
     },
     "metadata": {},
     "output_type": "display_data"
    }
   ],
   "source": [
    "costs_df['month'] = costs_df['dt'].dt.to_period('M') # caulculando o Custo ao Longo do Tempo (agregado por mês)\n",
    "cost_over_time = costs_df.groupby('month')['costs'].sum().reset_index()\n",
    "print('\\nCusto ao Longo do Tempo:')\n",
    "print(cost_over_time)\n",
    "\n",
    "\n",
    "plt.figure(figsize=(10, 6))\n",
    "plt.plot(cost_over_time['month'].astype(str), cost_over_time['costs'], marker='o', color='skyblue')\n",
    "plt.xlabel('Mês')\n",
    "plt.ylabel('Custo ($)')\n",
    "plt.title('Custo de Marketing ao Longo do Tempo')\n",
    "plt.xticks(rotation=45)\n",
    "plt.grid(True)\n",
    "plt.show()"
   ]
  },
  {
   "cell_type": "markdown",
   "metadata": {},
   "source": [
    "Os dados analisam como os custos de marketing variam ao longo do tempo, o que pode ajudar a identificar padrões sazonais ou picos de gasto. Isso pode ser útil para planejar futuras campanhas de marketing e alocar o orçamento de forma mais eficaz."
   ]
  },
  {
   "cell_type": "markdown",
   "metadata": {},
   "source": [
    "Origens com menores CAC são extremamente eficientes em termos de custo para adquirir novos clientes. A empresa pode considerar investir mais nessas fontes para maximizar a eficiência do gasto em marketing.\n",
    "\n",
    "Já as com maiores CAC são muito mais caras para adquirir clientes. A empresa deve investigar o porquê deste custo elevado. Pode ser que a qualidade dos leads seja maior ou que o retorno por cliente (LTV) justifique o custo elevado.\n",
    "\n",
    "Logo, o ideal seria considerar aumentar o investimento nas origens com menor CAC se esses clientes forem igualmente valiosos em termos de LTV, e reduzir ou otimizar gastos nas origens com maior CAC."
   ]
  },
  {
   "cell_type": "markdown",
   "metadata": {},
   "source": [
    "* Análise de ROI:\n",
    "\n",
    "Agora, vamos comparar o LTV com o CAC para determinar o retorno sobre o investimento (ROI) das suas campanhas de marketing. O anúncio é eficaz se os usuários gerarem mais dinheiro do que a empresa gasta para atraí-los.\n",
    "\n",
    "ROI da campanha publicitária = (receita − despesas) / despesas."
   ]
  },
  {
   "cell_type": "code",
   "execution_count": 40,
   "metadata": {},
   "outputs": [
    {
     "name": "stdout",
     "output_type": "stream",
     "text": [
      "Retorno sobre Investimento (ROI): -23.42%\n"
     ]
    }
   ],
   "source": [
    "roi = ((total_revenue - total_marketing_cost) / total_marketing_cost) * 100 # Calculando o ROI\n",
    "\n",
    "print(f'Retorno sobre Investimento (ROI): {roi:.2f}%')"
   ]
  },
  {
   "cell_type": "markdown",
   "metadata": {},
   "source": [
    "Um Retorno sobre Investimento (ROI) de -23,42% é um indicativo claro de que os investimentos em marketing não estão gerando retornos positivos. O gráfico de ROI por origem e por mês pode ajudar a identificar quais fontes de tráfego são menos rentáveis e em quais meses o desempenho foi pior. "
   ]
  },
  {
   "cell_type": "code",
   "execution_count": 45,
   "metadata": {},
   "outputs": [
    {
     "name": "stdout",
     "output_type": "stream",
     "text": [
      "\n",
      "ROI por Origem e Mês:\n",
      "    source_id    month  total_cost  total_revenue  revenue_proportion  \\\n",
      "0         1.0  2017-06     1125.61        9557.49            0.003420   \n",
      "1         2.0  2017-06     2427.38        9557.49            0.007375   \n",
      "2         3.0  2017-06     7731.65        9557.49            0.023491   \n",
      "3         4.0  2017-06     3514.80        9557.49            0.010679   \n",
      "4         5.0  2017-06     2616.12        9557.49            0.007949   \n",
      "..        ...      ...         ...            ...                 ...   \n",
      "80        4.0  2018-05     4214.21       20735.98            0.012804   \n",
      "81        5.0  2018-05     3669.56       20735.98            0.011149   \n",
      "82        9.0  2018-05      362.17       20735.98            0.001100   \n",
      "83       10.0  2018-05      409.86       20735.98            0.001245   \n",
      "84        NaN  2018-06        0.00           3.42            0.000000   \n",
      "\n",
      "    attributed_revenue        roi  \n",
      "0            32.686031 -97.096150  \n",
      "1            70.487485 -97.096150  \n",
      "2           224.515553 -97.096150  \n",
      "3           102.064535 -97.096150  \n",
      "4            75.968212 -97.096150  \n",
      "..                 ...        ...  \n",
      "80          265.504038 -93.699791  \n",
      "81          231.189950 -93.699791  \n",
      "82           22.817467 -93.699791  \n",
      "83           25.822037 -93.699791  \n",
      "84            0.000000        NaN  \n",
      "\n",
      "[85 rows x 7 columns]\n"
     ]
    }
   ],
   "source": [
    "# Adicionando colunas de período (mês e ano)\n",
    "orders_df['month'] = orders_df['buy_ts'].dt.to_period('M').astype(str)\n",
    "costs_df['month'] = costs_df['dt'].dt.to_period('M').astype(str)\n",
    "\n",
    "# Calculando a receita total por mês\n",
    "revenue_by_month = orders_df.groupby('month')['revenue'].sum().reset_index()\n",
    "revenue_by_month.columns = ['month', 'total_revenue']\n",
    "\n",
    "# Calculando o custo total de marketing por origem e mês\n",
    "cost_by_source_month = costs_df.groupby(['source_id', 'month'])['costs'].sum().reset_index()\n",
    "cost_by_source_month.columns = ['source_id', 'month', 'total_cost']\n",
    "\n",
    "# Unindo a receita total com os custos\n",
    "roi_df = pd.merge(cost_by_source_month, revenue_by_month, on='month', how='outer')\n",
    "roi_df['total_cost'] = roi_df['total_cost'].fillna(0)  # Preencher valores NaN com 0\n",
    "roi_df['total_revenue'] = roi_df['total_revenue'].fillna(0)  # Preencher valores NaN com 0\n",
    "\n",
    "# Calculando a proporção da receita para cada origem\n",
    "roi_df['revenue_proportion'] = roi_df['total_cost'] / roi_df['total_cost'].sum()\n",
    "roi_df['attributed_revenue'] = roi_df['revenue_proportion'] * roi_df['total_revenue']\n",
    "\n",
    "# Calculando o ROI por origem e mês\n",
    "roi_df['roi'] = (roi_df['attributed_revenue'] - roi_df['total_cost']) / roi_df['total_cost'] * 100\n",
    "\n",
    "# Exibir os resultados\n",
    "print('\\nROI por Origem e Mês:')\n",
    "print(roi_df)"
   ]
  },
  {
   "cell_type": "code",
   "execution_count": 47,
   "metadata": {},
   "outputs": [
    {
     "data": {
      "image/png": "[encoded data removed]",
      "text/plain": [
       "<Figure size 1200x800 with 1 Axes>"
      ]
     },
     "metadata": {},
     "output_type": "display_data"
    }
   ],
   "source": [
    "sns.set(style=\"whitegrid\")\n",
    "\n",
    "\n",
    "plt.figure(figsize=(12, 8)) # Criando o gráfico de linha para o ROI por origem e mês\n",
    "sns.lineplot(data=roi_df, x='month', y='roi', hue='source_id', marker='o')\n",
    "plt.title('Retorno sobre Investimento (ROI) por Origem e por Mês')\n",
    "plt.xlabel('Mês')\n",
    "plt.ylabel('ROI (%)')\n",
    "plt.xticks(rotation=45)\n",
    "plt.legend(title='Origem', bbox_to_anchor=(1.05, 1), loc='upper left')\n",
    "plt.tight_layout()\n",
    "plt.show()"
   ]
  },
  {
   "cell_type": "markdown",
   "metadata": {},
   "source": [
    "O gráfico mostra a evolução do Retorno sobre Investimento (ROI) por diferentes origens ao longo do tempo. Podemos concluir que o ROI permanece consistentemente negativo ao longo de todo o período analisado. Isso significa que, em nenhum momento, os investimentos em marketing geraram um retorno positivo, indicando uma necessidade urgente de revisar as estratégias de marketing. Existe uma variação significativa no ROI de mês para mês.Fatores sazonais, promoções específicas ou outras variáveis podem estar influenciando essas flutuações. Embora o gráfico não identifique claramente as diferentes origens, parece que todas elas seguem um padrão similar."
   ]
  },
  {
   "cell_type": "markdown",
   "metadata": {},
   "source": [
    "# Conclusões Gerais "
   ]
  },
  {
   "cell_type": "markdown",
   "metadata": {},
   "source": [
    "Este projeto envolveu a análise dos dados de visitas, pedidos e custos associados a diferentes origens de marketing, com o objetivo de entender o desempenho das campanhas de marketing e fornecer recomendações para futuras alocações de orçamento. As principais métricas analisadas incluíram a frequência de uso do produto, o volume médio de compras, o LTV (Lifetime Value), o custo de aquisição de clientes (CAC) e o Retorno sobre Investimento (ROI).\n",
    "\n",
    "* Recomendações de Investimento \n",
    "\n",
    "Dado o ROI consistentemente negativo, é essencial revisar as estratégias de marketing atuais. As campanhas e canais que estão apresentando os piores desempenhos devem ser identificados e, possivelmente, descontinuados ou drasticamente modificados.Considerando o alto CAC e o baixo LTV, recomenda-se focar em canais de marketing de menor custo e potencialmente alto impacto, como: SEO (Search Engine Optimization), Marketing de Conteúdo, Email Marketing.\n",
    "Investir em melhorar a experiência do usuário no site pode aumentar a satisfação do cliente, melhorar as taxas de retenção e, consequentemente, aumentar o LTV. Implementar programas de fidelidade pode incentivar compras repetidas e aumentar o engajamento dos clientes.\n",
    "\n",
    "Com essas mudanças, a empresa pode esperar melhorar seu ROI e, eventualmente, gerar um retorno positivo sobre seus investimentos em marketing."
   ]
  }
 ],
 "metadata": {
  "ExecuteTimeLog": [
   {
    "duration": 5003,
    "start_time": "2024-07-02T11:31:30.524Z"
   },
   {
    "duration": 4,
    "start_time": "2024-07-02T11:37:30.936Z"
   },
   {
    "duration": 886,
    "start_time": "2024-07-02T11:45:27.575Z"
   },
   {
    "duration": 17,
    "start_time": "2024-07-02T11:45:46.446Z"
   },
   {
    "duration": 630,
    "start_time": "2024-07-02T11:46:29.423Z"
   },
   {
    "duration": 17,
    "start_time": "2024-07-02T11:46:31.074Z"
   },
   {
    "duration": 48,
    "start_time": "2024-07-02T11:46:51.897Z"
   },
   {
    "duration": 803,
    "start_time": "2024-07-02T11:51:24.215Z"
   },
   {
    "duration": 17,
    "start_time": "2024-07-02T11:51:25.022Z"
   },
   {
    "duration": 17,
    "start_time": "2024-07-02T11:52:48.135Z"
   },
   {
    "duration": 14,
    "start_time": "2024-07-02T11:53:47.143Z"
   },
   {
    "duration": 1694,
    "start_time": "2024-07-02T11:58:04.134Z"
   },
   {
    "duration": 0,
    "start_time": "2024-07-02T11:58:05.831Z"
   },
   {
    "duration": 814,
    "start_time": "2024-07-02T11:58:39.405Z"
   },
   {
    "duration": 18,
    "start_time": "2024-07-02T11:58:44.541Z"
   },
   {
    "duration": 14,
    "start_time": "2024-07-02T11:58:45.979Z"
   },
   {
    "duration": 14,
    "start_time": "2024-07-02T11:58:47.011Z"
   },
   {
    "duration": 14,
    "start_time": "2024-07-02T12:00:17.147Z"
   },
   {
    "duration": 13,
    "start_time": "2024-07-02T12:00:31.526Z"
   },
   {
    "duration": 10,
    "start_time": "2024-07-02T12:01:37.984Z"
   },
   {
    "duration": 998,
    "start_time": "2024-07-02T12:01:45.031Z"
   },
   {
    "duration": 17,
    "start_time": "2024-07-02T12:01:46.520Z"
   },
   {
    "duration": 874,
    "start_time": "2024-07-02T12:02:02.998Z"
   },
   {
    "duration": 18,
    "start_time": "2024-07-02T12:02:03.875Z"
   },
   {
    "duration": 28,
    "start_time": "2024-07-02T12:02:03.896Z"
   },
   {
    "duration": 15,
    "start_time": "2024-07-02T12:02:04.185Z"
   },
   {
    "duration": 11,
    "start_time": "2024-07-02T12:02:05.005Z"
   },
   {
    "duration": 14,
    "start_time": "2024-07-02T12:02:05.952Z"
   },
   {
    "duration": 15,
    "start_time": "2024-07-02T12:02:07.269Z"
   },
   {
    "duration": 14,
    "start_time": "2024-07-02T12:06:58.886Z"
   },
   {
    "duration": 121,
    "start_time": "2024-07-02T12:08:12.504Z"
   },
   {
    "duration": 7,
    "start_time": "2024-07-02T12:14:28.347Z"
   },
   {
    "duration": 14,
    "start_time": "2024-07-02T12:14:31.240Z"
   },
   {
    "duration": 5,
    "start_time": "2024-07-02T12:15:59.575Z"
   },
   {
    "duration": 9,
    "start_time": "2024-07-02T12:16:15.179Z"
   },
   {
    "duration": 1277,
    "start_time": "2024-07-02T12:16:28.344Z"
   },
   {
    "duration": 837,
    "start_time": "2024-07-02T12:16:29.625Z"
   },
   {
    "duration": 20,
    "start_time": "2024-07-02T12:16:30.465Z"
   },
   {
    "duration": 33,
    "start_time": "2024-07-02T12:16:30.488Z"
   },
   {
    "duration": 15,
    "start_time": "2024-07-02T12:16:30.525Z"
   },
   {
    "duration": 13,
    "start_time": "2024-07-02T12:16:30.543Z"
   },
   {
    "duration": 54,
    "start_time": "2024-07-02T12:16:30.559Z"
   },
   {
    "duration": 11,
    "start_time": "2024-07-02T12:16:30.616Z"
   },
   {
    "duration": 14,
    "start_time": "2024-07-02T12:16:30.630Z"
   },
   {
    "duration": 161,
    "start_time": "2024-07-02T12:16:30.647Z"
   },
   {
    "duration": 9,
    "start_time": "2024-07-02T12:16:30.810Z"
   },
   {
    "duration": 7,
    "start_time": "2024-07-02T12:16:44.862Z"
   },
   {
    "duration": 6,
    "start_time": "2024-07-02T12:17:15.900Z"
   },
   {
    "duration": 7,
    "start_time": "2024-07-02T12:17:17.892Z"
   },
   {
    "duration": 12,
    "start_time": "2024-07-02T12:20:13.198Z"
   },
   {
    "duration": 624,
    "start_time": "2024-07-02T12:39:33.690Z"
   },
   {
    "duration": 1331,
    "start_time": "2024-07-02T12:41:10.514Z"
   },
   {
    "duration": 1375,
    "start_time": "2024-07-02T12:41:39.053Z"
   },
   {
    "duration": 1001,
    "start_time": "2024-07-02T12:41:40.434Z"
   },
   {
    "duration": 19,
    "start_time": "2024-07-02T12:41:41.438Z"
   },
   {
    "duration": 17,
    "start_time": "2024-07-02T12:41:41.461Z"
   },
   {
    "duration": 41,
    "start_time": "2024-07-02T12:41:41.481Z"
   },
   {
    "duration": 16,
    "start_time": "2024-07-02T12:41:41.525Z"
   },
   {
    "duration": 16,
    "start_time": "2024-07-02T12:41:41.544Z"
   },
   {
    "duration": 51,
    "start_time": "2024-07-02T12:41:41.562Z"
   },
   {
    "duration": 16,
    "start_time": "2024-07-02T12:41:41.617Z"
   },
   {
    "duration": 159,
    "start_time": "2024-07-02T12:41:41.639Z"
   },
   {
    "duration": 15,
    "start_time": "2024-07-02T12:41:41.801Z"
   },
   {
    "duration": 7,
    "start_time": "2024-07-02T12:41:41.819Z"
   },
   {
    "duration": 1431,
    "start_time": "2024-07-02T12:41:41.828Z"
   },
   {
    "duration": 590,
    "start_time": "2024-07-02T12:42:27.517Z"
   },
   {
    "duration": 644,
    "start_time": "2024-07-02T12:43:20.915Z"
   },
   {
    "duration": 630,
    "start_time": "2024-07-02T12:43:36.622Z"
   },
   {
    "duration": 44,
    "start_time": "2024-07-02T12:46:32.043Z"
   },
   {
    "duration": 78,
    "start_time": "2024-07-02T12:48:10.750Z"
   },
   {
    "duration": 87,
    "start_time": "2024-07-02T12:48:23.012Z"
   },
   {
    "duration": 79,
    "start_time": "2024-07-02T12:48:36.339Z"
   },
   {
    "duration": 78,
    "start_time": "2024-07-02T12:50:38.136Z"
   },
   {
    "duration": 88,
    "start_time": "2024-07-02T12:51:26.988Z"
   },
   {
    "duration": 82,
    "start_time": "2024-07-02T12:51:53.226Z"
   },
   {
    "duration": 20,
    "start_time": "2024-07-02T14:56:01.527Z"
   },
   {
    "duration": 551,
    "start_time": "2024-07-02T14:56:54.955Z"
   },
   {
    "duration": 858,
    "start_time": "2024-07-02T14:57:23.965Z"
   },
   {
    "duration": 30,
    "start_time": "2024-07-02T14:57:31.401Z"
   },
   {
    "duration": 22,
    "start_time": "2024-07-02T14:57:33.421Z"
   },
   {
    "duration": 13,
    "start_time": "2024-07-02T14:57:39.542Z"
   },
   {
    "duration": 4,
    "start_time": "2024-07-02T14:58:16.477Z"
   },
   {
    "duration": 832,
    "start_time": "2024-07-02T14:58:17.035Z"
   },
   {
    "duration": 17,
    "start_time": "2024-07-02T14:58:17.871Z"
   },
   {
    "duration": 15,
    "start_time": "2024-07-02T14:58:19.638Z"
   },
   {
    "duration": 9,
    "start_time": "2024-07-02T14:58:21.045Z"
   },
   {
    "duration": 9,
    "start_time": "2024-07-02T14:58:48.679Z"
   },
   {
    "duration": 1242,
    "start_time": "2024-07-02T15:01:57.236Z"
   },
   {
    "duration": 879,
    "start_time": "2024-07-02T15:01:58.482Z"
   },
   {
    "duration": 19,
    "start_time": "2024-07-02T15:01:59.364Z"
   },
   {
    "duration": 44,
    "start_time": "2024-07-02T15:01:59.387Z"
   },
   {
    "duration": 14,
    "start_time": "2024-07-02T15:01:59.434Z"
   },
   {
    "duration": 15,
    "start_time": "2024-07-02T15:01:59.452Z"
   },
   {
    "duration": 13,
    "start_time": "2024-07-02T15:01:59.470Z"
   },
   {
    "duration": 9,
    "start_time": "2024-07-02T15:01:59.514Z"
   },
   {
    "duration": 14,
    "start_time": "2024-07-02T15:01:59.526Z"
   },
   {
    "duration": 12,
    "start_time": "2024-07-02T15:01:59.545Z"
   },
   {
    "duration": 16,
    "start_time": "2024-07-02T15:01:59.561Z"
   },
   {
    "duration": 133,
    "start_time": "2024-07-02T15:01:59.620Z"
   },
   {
    "duration": 1370,
    "start_time": "2024-07-02T15:01:59.756Z"
   },
   {
    "duration": 0,
    "start_time": "2024-07-02T15:02:01.128Z"
   },
   {
    "duration": 0,
    "start_time": "2024-07-02T15:02:01.130Z"
   },
   {
    "duration": 627,
    "start_time": "2024-07-02T15:03:05.045Z"
   },
   {
    "duration": 50,
    "start_time": "2024-07-02T15:03:14.457Z"
   },
   {
    "duration": 16,
    "start_time": "2024-07-02T15:03:30.343Z"
   },
   {
    "duration": 302,
    "start_time": "2024-07-02T15:04:26.127Z"
   },
   {
    "duration": 359,
    "start_time": "2024-07-02T15:04:34.827Z"
   },
   {
    "duration": 10,
    "start_time": "2024-07-02T15:06:43.874Z"
   },
   {
    "duration": 576,
    "start_time": "2024-07-02T15:17:07.341Z"
   },
   {
    "duration": 361,
    "start_time": "2024-07-02T15:29:29.470Z"
   },
   {
    "duration": 310,
    "start_time": "2024-07-02T15:30:38.736Z"
   },
   {
    "duration": 569,
    "start_time": "2024-07-02T15:31:31.558Z"
   },
   {
    "duration": 271,
    "start_time": "2024-07-02T15:34:46.967Z"
   },
   {
    "duration": 259,
    "start_time": "2024-07-02T15:34:55.885Z"
   },
   {
    "duration": 7,
    "start_time": "2024-07-02T15:40:10.494Z"
   },
   {
    "duration": 7,
    "start_time": "2024-07-02T15:40:22.167Z"
   },
   {
    "duration": 407,
    "start_time": "2024-07-02T15:41:34.700Z"
   },
   {
    "duration": 387,
    "start_time": "2024-07-02T15:42:30.399Z"
   },
   {
    "duration": 666,
    "start_time": "2024-07-02T15:43:01.409Z"
   },
   {
    "duration": 15,
    "start_time": "2024-07-02T15:44:45.368Z"
   },
   {
    "duration": 7,
    "start_time": "2024-07-02T15:45:07.246Z"
   },
   {
    "duration": 6,
    "start_time": "2024-07-02T15:47:30.077Z"
   },
   {
    "duration": 8,
    "start_time": "2024-07-02T15:50:48.721Z"
   },
   {
    "duration": 405,
    "start_time": "2024-07-02T15:50:54.720Z"
   },
   {
    "duration": 524,
    "start_time": "2024-07-02T15:51:28.932Z"
   },
   {
    "duration": 308,
    "start_time": "2024-07-06T15:47:04.927Z"
   },
   {
    "duration": 28,
    "start_time": "2024-07-06T15:47:11.428Z"
   },
   {
    "duration": 5850,
    "start_time": "2024-07-06T15:47:22.540Z"
   },
   {
    "duration": 1100,
    "start_time": "2024-07-06T15:47:28.395Z"
   },
   {
    "duration": 24,
    "start_time": "2024-07-06T15:47:29.498Z"
   },
   {
    "duration": 18,
    "start_time": "2024-07-06T15:47:29.527Z"
   },
   {
    "duration": 10,
    "start_time": "2024-07-06T15:47:29.549Z"
   },
   {
    "duration": 51,
    "start_time": "2024-07-06T15:47:29.563Z"
   },
   {
    "duration": 13,
    "start_time": "2024-07-06T15:47:29.617Z"
   },
   {
    "duration": 8,
    "start_time": "2024-07-06T15:47:29.633Z"
   },
   {
    "duration": 61,
    "start_time": "2024-07-06T15:47:29.644Z"
   },
   {
    "duration": 15,
    "start_time": "2024-07-06T15:47:29.712Z"
   },
   {
    "duration": 21,
    "start_time": "2024-07-06T15:47:29.730Z"
   },
   {
    "duration": 179,
    "start_time": "2024-07-06T15:47:29.754Z"
   },
   {
    "duration": 729,
    "start_time": "2024-07-06T15:47:29.936Z"
   },
   {
    "duration": 65,
    "start_time": "2024-07-06T15:47:30.669Z"
   },
   {
    "duration": 430,
    "start_time": "2024-07-06T15:47:30.738Z"
   },
   {
    "duration": 428,
    "start_time": "2024-07-06T15:47:31.171Z"
   },
   {
    "duration": 9,
    "start_time": "2024-07-06T15:47:31.603Z"
   },
   {
    "duration": 24,
    "start_time": "2024-07-06T15:47:31.615Z"
   },
   {
    "duration": 97,
    "start_time": "2024-07-06T15:55:14.776Z"
   },
   {
    "duration": 102,
    "start_time": "2024-07-06T15:56:15.592Z"
   },
   {
    "duration": 1306,
    "start_time": "2024-07-06T16:02:28.775Z"
   },
   {
    "duration": 193,
    "start_time": "2024-07-06T16:04:30.262Z"
   },
   {
    "duration": 230,
    "start_time": "2024-07-06T16:04:42.007Z"
   },
   {
    "duration": 118,
    "start_time": "2024-07-06T16:07:25.258Z"
   },
   {
    "duration": 40,
    "start_time": "2024-07-06T16:07:28.896Z"
   },
   {
    "duration": 21,
    "start_time": "2024-07-06T16:07:51.950Z"
   },
   {
    "duration": 26,
    "start_time": "2024-07-06T16:07:55.438Z"
   },
   {
    "duration": 37,
    "start_time": "2024-07-06T16:08:10.013Z"
   },
   {
    "duration": 40,
    "start_time": "2024-07-06T16:08:18.143Z"
   },
   {
    "duration": 22,
    "start_time": "2024-07-06T16:08:26.234Z"
   },
   {
    "duration": 39,
    "start_time": "2024-07-06T16:08:29.679Z"
   },
   {
    "duration": 26,
    "start_time": "2024-07-06T16:10:06.266Z"
   },
   {
    "duration": 146,
    "start_time": "2024-07-06T16:10:12.425Z"
   },
   {
    "duration": 37,
    "start_time": "2024-07-06T16:10:46.543Z"
   },
   {
    "duration": 37,
    "start_time": "2024-07-06T16:10:54.538Z"
   },
   {
    "duration": 21,
    "start_time": "2024-07-06T16:11:00.915Z"
   },
   {
    "duration": 19,
    "start_time": "2024-07-06T16:11:15.828Z"
   },
   {
    "duration": 116,
    "start_time": "2024-07-06T16:12:02.645Z"
   },
   {
    "duration": 20,
    "start_time": "2024-07-06T16:12:06.637Z"
   },
   {
    "duration": 24,
    "start_time": "2024-07-06T16:12:09.615Z"
   },
   {
    "duration": 84,
    "start_time": "2024-07-06T16:12:30.037Z"
   },
   {
    "duration": 73,
    "start_time": "2024-07-06T16:12:41.299Z"
   },
   {
    "duration": 13,
    "start_time": "2024-07-06T16:17:43.110Z"
   },
   {
    "duration": 11,
    "start_time": "2024-07-06T16:27:07.811Z"
   },
   {
    "duration": 84,
    "start_time": "2024-07-06T16:31:49.417Z"
   },
   {
    "duration": 34,
    "start_time": "2024-07-06T16:34:23.179Z"
   },
   {
    "duration": 16,
    "start_time": "2024-07-06T16:34:37.907Z"
   },
   {
    "duration": 15,
    "start_time": "2024-07-06T16:36:13.463Z"
   },
   {
    "duration": 16,
    "start_time": "2024-07-06T16:36:24.929Z"
   },
   {
    "duration": 18,
    "start_time": "2024-07-06T16:37:09.802Z"
   },
   {
    "duration": 186,
    "start_time": "2024-07-06T16:38:13.974Z"
   },
   {
    "duration": 409,
    "start_time": "2024-07-06T16:38:23.675Z"
   },
   {
    "duration": 56,
    "start_time": "2024-07-06T16:39:06.912Z"
   },
   {
    "duration": 49,
    "start_time": "2024-07-06T16:43:07.743Z"
   },
   {
    "duration": 30,
    "start_time": "2024-07-06T17:25:14.224Z"
   },
   {
    "duration": 414,
    "start_time": "2024-07-06T17:25:54.216Z"
   },
   {
    "duration": 26,
    "start_time": "2024-07-06T17:26:57.263Z"
   },
   {
    "duration": 4856,
    "start_time": "2024-07-07T13:05:23.405Z"
   },
   {
    "duration": 879,
    "start_time": "2024-07-07T13:05:28.264Z"
   },
   {
    "duration": 19,
    "start_time": "2024-07-07T13:05:29.145Z"
   },
   {
    "duration": 18,
    "start_time": "2024-07-07T13:05:29.168Z"
   },
   {
    "duration": 10,
    "start_time": "2024-07-07T13:05:29.189Z"
   },
   {
    "duration": 39,
    "start_time": "2024-07-07T13:05:29.202Z"
   },
   {
    "duration": 14,
    "start_time": "2024-07-07T13:05:29.244Z"
   },
   {
    "duration": 7,
    "start_time": "2024-07-07T13:05:29.261Z"
   },
   {
    "duration": 13,
    "start_time": "2024-07-07T13:05:29.273Z"
   },
   {
    "duration": 11,
    "start_time": "2024-07-07T13:05:29.331Z"
   },
   {
    "duration": 13,
    "start_time": "2024-07-07T13:05:29.346Z"
   },
   {
    "duration": 152,
    "start_time": "2024-07-07T13:05:29.362Z"
   },
   {
    "duration": 551,
    "start_time": "2024-07-07T13:05:29.517Z"
   },
   {
    "duration": 40,
    "start_time": "2024-07-07T13:05:30.071Z"
   },
   {
    "duration": 376,
    "start_time": "2024-07-07T13:05:30.131Z"
   },
   {
    "duration": 349,
    "start_time": "2024-07-07T13:05:30.510Z"
   },
   {
    "duration": 10,
    "start_time": "2024-07-07T13:05:30.861Z"
   },
   {
    "duration": 123,
    "start_time": "2024-07-07T13:05:30.873Z"
   },
   {
    "duration": 33,
    "start_time": "2024-07-07T13:05:31.000Z"
   },
   {
    "duration": 70,
    "start_time": "2024-07-07T13:05:31.036Z"
   },
   {
    "duration": 30,
    "start_time": "2024-07-07T13:05:31.110Z"
   },
   {
    "duration": 430,
    "start_time": "2024-07-07T13:05:31.143Z"
   },
   {
    "duration": 0,
    "start_time": "2024-07-07T13:05:31.576Z"
   },
   {
    "duration": 0,
    "start_time": "2024-07-07T13:05:31.579Z"
   },
   {
    "duration": 17,
    "start_time": "2024-07-07T13:07:37.371Z"
   },
   {
    "duration": 51,
    "start_time": "2024-07-07T13:07:40.222Z"
   },
   {
    "duration": 827,
    "start_time": "2024-07-07T13:09:26.792Z"
   },
   {
    "duration": 5,
    "start_time": "2024-07-07T13:09:48.213Z"
   },
   {
    "duration": 5,
    "start_time": "2024-07-07T13:16:14.687Z"
   },
   {
    "duration": 5,
    "start_time": "2024-07-07T13:17:18.200Z"
   },
   {
    "duration": 8,
    "start_time": "2024-07-07T13:26:24.977Z"
   },
   {
    "duration": 7,
    "start_time": "2024-07-07T13:26:49.955Z"
   },
   {
    "duration": 6,
    "start_time": "2024-07-07T13:32:56.432Z"
   },
   {
    "duration": 5,
    "start_time": "2024-07-07T13:33:34.434Z"
   },
   {
    "duration": 4,
    "start_time": "2024-07-07T13:34:45.745Z"
   },
   {
    "duration": 5,
    "start_time": "2024-07-07T13:43:34.396Z"
   },
   {
    "duration": 8,
    "start_time": "2024-07-07T13:44:05.918Z"
   },
   {
    "duration": 8,
    "start_time": "2024-07-07T13:44:48.091Z"
   },
   {
    "duration": 29,
    "start_time": "2024-07-07T13:45:00.455Z"
   },
   {
    "duration": 10,
    "start_time": "2024-07-07T13:45:30.440Z"
   },
   {
    "duration": 13,
    "start_time": "2024-07-07T13:46:27.943Z"
   },
   {
    "duration": 8,
    "start_time": "2024-07-07T14:22:38.847Z"
   },
   {
    "duration": 423,
    "start_time": "2024-07-07T14:22:44.582Z"
   },
   {
    "duration": 7,
    "start_time": "2024-07-07T14:22:45.188Z"
   },
   {
    "duration": 23,
    "start_time": "2024-07-07T14:24:28.959Z"
   },
   {
    "duration": 23,
    "start_time": "2024-07-07T14:24:48.737Z"
   },
   {
    "duration": 24,
    "start_time": "2024-07-07T14:25:55.552Z"
   },
   {
    "duration": 4953,
    "start_time": "2024-07-08T17:59:00.709Z"
   },
   {
    "duration": 907,
    "start_time": "2024-07-08T17:59:05.665Z"
   },
   {
    "duration": 19,
    "start_time": "2024-07-08T17:59:06.574Z"
   },
   {
    "duration": 18,
    "start_time": "2024-07-08T17:59:06.598Z"
   },
   {
    "duration": 12,
    "start_time": "2024-07-08T17:59:06.619Z"
   },
   {
    "duration": 16,
    "start_time": "2024-07-08T17:59:06.633Z"
   },
   {
    "duration": 12,
    "start_time": "2024-07-08T17:59:06.652Z"
   },
   {
    "duration": 7,
    "start_time": "2024-07-08T17:59:06.710Z"
   },
   {
    "duration": 15,
    "start_time": "2024-07-08T17:59:06.720Z"
   },
   {
    "duration": 11,
    "start_time": "2024-07-08T17:59:06.742Z"
   },
   {
    "duration": 62,
    "start_time": "2024-07-08T17:59:06.757Z"
   },
   {
    "duration": 151,
    "start_time": "2024-07-08T17:59:06.823Z"
   },
   {
    "duration": 573,
    "start_time": "2024-07-08T17:59:06.978Z"
   },
   {
    "duration": 53,
    "start_time": "2024-07-08T17:59:07.555Z"
   },
   {
    "duration": 381,
    "start_time": "2024-07-08T17:59:07.612Z"
   },
   {
    "duration": 375,
    "start_time": "2024-07-08T17:59:07.996Z"
   },
   {
    "duration": 8,
    "start_time": "2024-07-08T17:59:08.374Z"
   },
   {
    "duration": 123,
    "start_time": "2024-07-08T17:59:08.385Z"
   },
   {
    "duration": 22,
    "start_time": "2024-07-08T17:59:08.511Z"
   },
   {
    "duration": 88,
    "start_time": "2024-07-08T17:59:08.536Z"
   },
   {
    "duration": 12,
    "start_time": "2024-07-08T17:59:08.627Z"
   },
   {
    "duration": 19,
    "start_time": "2024-07-08T17:59:08.642Z"
   },
   {
    "duration": 91,
    "start_time": "2024-07-08T17:59:08.664Z"
   },
   {
    "duration": 5,
    "start_time": "2024-07-08T17:59:08.758Z"
   },
   {
    "duration": 5,
    "start_time": "2024-07-08T17:59:08.766Z"
   },
   {
    "duration": 5,
    "start_time": "2024-07-08T17:59:08.773Z"
   },
   {
    "duration": 8,
    "start_time": "2024-07-08T17:59:08.810Z"
   },
   {
    "duration": 4,
    "start_time": "2024-07-08T17:59:08.826Z"
   },
   {
    "duration": 4,
    "start_time": "2024-07-08T17:59:08.834Z"
   },
   {
    "duration": 5,
    "start_time": "2024-07-08T17:59:08.841Z"
   },
   {
    "duration": 61,
    "start_time": "2024-07-08T17:59:08.849Z"
   },
   {
    "duration": 12,
    "start_time": "2024-07-08T17:59:08.913Z"
   },
   {
    "duration": 1139,
    "start_time": "2024-07-08T17:59:08.928Z"
   },
   {
    "duration": 0,
    "start_time": "2024-07-08T17:59:10.070Z"
   },
   {
    "duration": 0,
    "start_time": "2024-07-08T17:59:10.072Z"
   },
   {
    "duration": 0,
    "start_time": "2024-07-08T17:59:10.073Z"
   },
   {
    "duration": 0,
    "start_time": "2024-07-08T17:59:10.075Z"
   },
   {
    "duration": 6,
    "start_time": "2024-07-08T18:02:29.605Z"
   },
   {
    "duration": 5,
    "start_time": "2024-07-08T18:07:31.769Z"
   },
   {
    "duration": 3,
    "start_time": "2024-07-08T18:10:16.299Z"
   },
   {
    "duration": 3,
    "start_time": "2024-07-08T18:10:17.998Z"
   },
   {
    "duration": 90,
    "start_time": "2024-07-08T18:10:31.055Z"
   },
   {
    "duration": 35,
    "start_time": "2024-07-08T18:16:37.942Z"
   },
   {
    "duration": 28,
    "start_time": "2024-07-08T18:17:18.935Z"
   },
   {
    "duration": 27,
    "start_time": "2024-07-08T18:17:34.416Z"
   },
   {
    "duration": 5,
    "start_time": "2024-07-08T18:18:17.202Z"
   },
   {
    "duration": 14,
    "start_time": "2024-07-08T18:18:45.182Z"
   },
   {
    "duration": 26,
    "start_time": "2024-07-08T18:20:16.031Z"
   },
   {
    "duration": 25,
    "start_time": "2024-07-08T18:34:19.860Z"
   },
   {
    "duration": 12,
    "start_time": "2024-07-08T18:43:54.481Z"
   },
   {
    "duration": 12,
    "start_time": "2024-07-08T18:48:27.048Z"
   },
   {
    "duration": 52,
    "start_time": "2024-07-08T18:55:19.760Z"
   },
   {
    "duration": 214,
    "start_time": "2024-07-08T18:56:17.061Z"
   },
   {
    "duration": 1236,
    "start_time": "2024-07-08T19:00:41.478Z"
   },
   {
    "duration": 1202,
    "start_time": "2024-07-08T19:02:28.928Z"
   },
   {
    "duration": 1985,
    "start_time": "2024-07-08T19:03:40.208Z"
   },
   {
    "duration": 1453,
    "start_time": "2024-07-08T19:21:00.652Z"
   },
   {
    "duration": 1015,
    "start_time": "2024-07-08T19:21:02.111Z"
   },
   {
    "duration": 22,
    "start_time": "2024-07-08T19:21:03.129Z"
   },
   {
    "duration": 19,
    "start_time": "2024-07-08T19:21:03.155Z"
   },
   {
    "duration": 40,
    "start_time": "2024-07-08T19:21:03.178Z"
   },
   {
    "duration": 17,
    "start_time": "2024-07-08T19:21:03.222Z"
   },
   {
    "duration": 14,
    "start_time": "2024-07-08T19:21:03.242Z"
   },
   {
    "duration": 52,
    "start_time": "2024-07-08T19:21:03.260Z"
   },
   {
    "duration": 17,
    "start_time": "2024-07-08T19:21:03.316Z"
   },
   {
    "duration": 13,
    "start_time": "2024-07-08T19:21:03.339Z"
   },
   {
    "duration": 60,
    "start_time": "2024-07-08T19:21:03.356Z"
   },
   {
    "duration": 193,
    "start_time": "2024-07-08T19:21:03.419Z"
   },
   {
    "duration": 646,
    "start_time": "2024-07-08T19:21:03.615Z"
   },
   {
    "duration": 50,
    "start_time": "2024-07-08T19:21:04.265Z"
   },
   {
    "duration": 431,
    "start_time": "2024-07-08T19:21:04.319Z"
   },
   {
    "duration": 449,
    "start_time": "2024-07-08T19:21:04.753Z"
   },
   {
    "duration": 10,
    "start_time": "2024-07-08T19:21:05.209Z"
   },
   {
    "duration": 144,
    "start_time": "2024-07-08T19:21:05.223Z"
   },
   {
    "duration": 109,
    "start_time": "2024-07-08T19:21:05.371Z"
   },
   {
    "duration": 104,
    "start_time": "2024-07-08T19:21:05.483Z"
   },
   {
    "duration": 23,
    "start_time": "2024-07-08T19:21:05.590Z"
   },
   {
    "duration": 23,
    "start_time": "2024-07-08T19:21:05.617Z"
   },
   {
    "duration": 95,
    "start_time": "2024-07-08T19:21:05.644Z"
   },
   {
    "duration": 9,
    "start_time": "2024-07-08T19:21:05.742Z"
   },
   {
    "duration": 5,
    "start_time": "2024-07-08T19:21:05.754Z"
   },
   {
    "duration": 6,
    "start_time": "2024-07-08T19:21:05.763Z"
   },
   {
    "duration": 10,
    "start_time": "2024-07-08T19:21:05.809Z"
   },
   {
    "duration": 9,
    "start_time": "2024-07-08T19:21:05.827Z"
   },
   {
    "duration": 5,
    "start_time": "2024-07-08T19:21:05.840Z"
   },
   {
    "duration": 6,
    "start_time": "2024-07-08T19:21:05.849Z"
   },
   {
    "duration": 59,
    "start_time": "2024-07-08T19:21:05.859Z"
   },
   {
    "duration": 16,
    "start_time": "2024-07-08T19:21:05.922Z"
   },
   {
    "duration": 7,
    "start_time": "2024-07-08T19:21:05.942Z"
   },
   {
    "duration": 71,
    "start_time": "2024-07-08T19:21:05.952Z"
   },
   {
    "duration": 6,
    "start_time": "2024-07-08T19:21:06.026Z"
   },
   {
    "duration": 15,
    "start_time": "2024-07-08T19:21:06.035Z"
   },
   {
    "duration": 2283,
    "start_time": "2024-07-08T19:21:06.054Z"
   },
   {
    "duration": 4904,
    "start_time": "2024-07-08T21:53:46.741Z"
   },
   {
    "duration": 909,
    "start_time": "2024-07-08T21:53:51.648Z"
   },
   {
    "duration": 17,
    "start_time": "2024-07-08T21:53:57.521Z"
   },
   {
    "duration": 17,
    "start_time": "2024-07-08T21:53:58.446Z"
   },
   {
    "duration": 17,
    "start_time": "2024-07-08T21:55:40.033Z"
   },
   {
    "duration": 14,
    "start_time": "2024-07-08T21:55:40.559Z"
   },
   {
    "duration": 11,
    "start_time": "2024-07-08T21:55:41.363Z"
   },
   {
    "duration": 14,
    "start_time": "2024-07-08T21:55:42.175Z"
   },
   {
    "duration": 13,
    "start_time": "2024-07-08T21:55:42.567Z"
   },
   {
    "duration": 6,
    "start_time": "2024-07-08T21:55:43.285Z"
   },
   {
    "duration": 14,
    "start_time": "2024-07-08T21:55:43.956Z"
   },
   {
    "duration": 11,
    "start_time": "2024-07-08T21:55:44.413Z"
   },
   {
    "duration": 13,
    "start_time": "2024-07-08T21:55:45.141Z"
   },
   {
    "duration": 126,
    "start_time": "2024-07-08T21:55:49.748Z"
   },
   {
    "duration": 680,
    "start_time": "2024-07-08T21:56:35.270Z"
   },
   {
    "duration": 56,
    "start_time": "2024-07-08T21:56:39.771Z"
   },
   {
    "duration": 364,
    "start_time": "2024-07-08T21:56:42.146Z"
   },
   {
    "duration": 400,
    "start_time": "2024-07-08T21:56:48.053Z"
   },
   {
    "duration": 364,
    "start_time": "2024-07-08T22:00:18.887Z"
   },
   {
    "duration": 28,
    "start_time": "2024-07-08T22:00:30.105Z"
   },
   {
    "duration": 5,
    "start_time": "2024-07-08T22:31:52.066Z"
   },
   {
    "duration": 4,
    "start_time": "2024-07-08T22:31:52.816Z"
   },
   {
    "duration": 5,
    "start_time": "2024-07-08T22:31:53.963Z"
   },
   {
    "duration": 8,
    "start_time": "2024-07-08T22:31:59.808Z"
   },
   {
    "duration": 4,
    "start_time": "2024-07-08T22:32:00.629Z"
   },
   {
    "duration": 5,
    "start_time": "2024-07-08T22:32:06.027Z"
   },
   {
    "duration": 13,
    "start_time": "2024-07-09T16:59:43.667Z"
   },
   {
    "duration": 4935,
    "start_time": "2024-07-09T16:59:54.265Z"
   },
   {
    "duration": 940,
    "start_time": "2024-07-09T16:59:59.203Z"
   },
   {
    "duration": 19,
    "start_time": "2024-07-09T17:00:00.146Z"
   },
   {
    "duration": 17,
    "start_time": "2024-07-09T17:00:00.168Z"
   },
   {
    "duration": 12,
    "start_time": "2024-07-09T17:00:00.189Z"
   },
   {
    "duration": 15,
    "start_time": "2024-07-09T17:00:00.232Z"
   },
   {
    "duration": 12,
    "start_time": "2024-07-09T17:00:00.250Z"
   },
   {
    "duration": 7,
    "start_time": "2024-07-09T17:00:00.265Z"
   },
   {
    "duration": 62,
    "start_time": "2024-07-09T17:00:00.275Z"
   },
   {
    "duration": 11,
    "start_time": "2024-07-09T17:00:00.344Z"
   },
   {
    "duration": 14,
    "start_time": "2024-07-09T17:00:00.358Z"
   },
   {
    "duration": 175,
    "start_time": "2024-07-09T17:00:00.375Z"
   },
   {
    "duration": 563,
    "start_time": "2024-07-09T17:00:00.553Z"
   },
   {
    "duration": 42,
    "start_time": "2024-07-09T17:00:01.119Z"
   },
   {
    "duration": 6,
    "start_time": "2024-07-09T17:00:01.165Z"
   },
   {
    "duration": 0,
    "start_time": "2024-07-09T17:00:01.175Z"
   },
   {
    "duration": 0,
    "start_time": "2024-07-09T17:00:01.176Z"
   },
   {
    "duration": 0,
    "start_time": "2024-07-09T17:00:01.178Z"
   },
   {
    "duration": 0,
    "start_time": "2024-07-09T17:00:01.180Z"
   },
   {
    "duration": 0,
    "start_time": "2024-07-09T17:00:01.182Z"
   },
   {
    "duration": 0,
    "start_time": "2024-07-09T17:00:01.184Z"
   },
   {
    "duration": 0,
    "start_time": "2024-07-09T17:00:01.187Z"
   },
   {
    "duration": 0,
    "start_time": "2024-07-09T17:00:01.231Z"
   },
   {
    "duration": 0,
    "start_time": "2024-07-09T17:00:01.234Z"
   },
   {
    "duration": 0,
    "start_time": "2024-07-09T17:00:01.237Z"
   },
   {
    "duration": 0,
    "start_time": "2024-07-09T17:00:01.239Z"
   },
   {
    "duration": 0,
    "start_time": "2024-07-09T17:00:01.240Z"
   },
   {
    "duration": 0,
    "start_time": "2024-07-09T17:00:01.242Z"
   },
   {
    "duration": 0,
    "start_time": "2024-07-09T17:00:01.244Z"
   },
   {
    "duration": 0,
    "start_time": "2024-07-09T17:00:01.247Z"
   },
   {
    "duration": 0,
    "start_time": "2024-07-09T17:00:01.249Z"
   },
   {
    "duration": 0,
    "start_time": "2024-07-09T17:00:01.252Z"
   },
   {
    "duration": 0,
    "start_time": "2024-07-09T17:00:01.253Z"
   },
   {
    "duration": 0,
    "start_time": "2024-07-09T17:00:01.255Z"
   },
   {
    "duration": 0,
    "start_time": "2024-07-09T17:00:01.257Z"
   },
   {
    "duration": 0,
    "start_time": "2024-07-09T17:00:01.258Z"
   },
   {
    "duration": 0,
    "start_time": "2024-07-09T17:00:01.266Z"
   },
   {
    "duration": 6,
    "start_time": "2024-07-09T17:01:49.318Z"
   },
   {
    "duration": 6,
    "start_time": "2024-07-09T17:02:48.320Z"
   },
   {
    "duration": 7,
    "start_time": "2024-07-09T17:03:11.421Z"
   },
   {
    "duration": 421,
    "start_time": "2024-07-09T17:03:41.313Z"
   },
   {
    "duration": 267,
    "start_time": "2024-07-09T17:03:48.415Z"
   },
   {
    "duration": 352,
    "start_time": "2024-07-09T17:03:54.359Z"
   },
   {
    "duration": 308,
    "start_time": "2024-07-09T17:04:35.258Z"
   },
   {
    "duration": 368,
    "start_time": "2024-07-09T17:06:52.162Z"
   },
   {
    "duration": 13,
    "start_time": "2024-07-09T17:06:53.683Z"
   },
   {
    "duration": 101,
    "start_time": "2024-07-09T17:06:56.255Z"
   },
   {
    "duration": 22,
    "start_time": "2024-07-09T17:06:58.406Z"
   },
   {
    "duration": 135,
    "start_time": "2024-07-09T17:06:58.886Z"
   },
   {
    "duration": 14,
    "start_time": "2024-07-09T17:07:02.526Z"
   },
   {
    "duration": 18,
    "start_time": "2024-07-09T17:07:04.853Z"
   },
   {
    "duration": 52,
    "start_time": "2024-07-09T17:07:08.242Z"
   },
   {
    "duration": 70,
    "start_time": "2024-07-09T17:17:56.067Z"
   },
   {
    "duration": 1286,
    "start_time": "2024-07-09T17:19:03.709Z"
   },
   {
    "duration": 1299,
    "start_time": "2024-07-09T17:21:27.808Z"
   },
   {
    "duration": 824,
    "start_time": "2024-07-09T17:21:29.111Z"
   },
   {
    "duration": 20,
    "start_time": "2024-07-09T17:21:29.939Z"
   },
   {
    "duration": 16,
    "start_time": "2024-07-09T17:21:29.963Z"
   },
   {
    "duration": 11,
    "start_time": "2024-07-09T17:21:29.982Z"
   },
   {
    "duration": 15,
    "start_time": "2024-07-09T17:21:30.032Z"
   },
   {
    "duration": 12,
    "start_time": "2024-07-09T17:21:30.050Z"
   },
   {
    "duration": 6,
    "start_time": "2024-07-09T17:21:30.065Z"
   },
   {
    "duration": 57,
    "start_time": "2024-07-09T17:21:30.074Z"
   },
   {
    "duration": 12,
    "start_time": "2024-07-09T17:21:30.138Z"
   },
   {
    "duration": 14,
    "start_time": "2024-07-09T17:21:30.153Z"
   },
   {
    "duration": 163,
    "start_time": "2024-07-09T17:21:30.170Z"
   },
   {
    "duration": 570,
    "start_time": "2024-07-09T17:21:30.336Z"
   },
   {
    "duration": 48,
    "start_time": "2024-07-09T17:21:30.910Z"
   },
   {
    "duration": 364,
    "start_time": "2024-07-09T17:21:30.961Z"
   },
   {
    "duration": 342,
    "start_time": "2024-07-09T17:21:31.327Z"
   },
   {
    "duration": 8,
    "start_time": "2024-07-09T17:21:31.672Z"
   },
   {
    "duration": 136,
    "start_time": "2024-07-09T17:21:31.683Z"
   },
   {
    "duration": 23,
    "start_time": "2024-07-09T17:21:31.825Z"
   },
   {
    "duration": 94,
    "start_time": "2024-07-09T17:21:31.852Z"
   },
   {
    "duration": 1404,
    "start_time": "2024-07-09T17:21:31.950Z"
   },
   {
    "duration": 0,
    "start_time": "2024-07-09T17:21:33.358Z"
   },
   {
    "duration": 0,
    "start_time": "2024-07-09T17:21:33.360Z"
   },
   {
    "duration": 0,
    "start_time": "2024-07-09T17:21:33.363Z"
   },
   {
    "duration": 0,
    "start_time": "2024-07-09T17:21:33.364Z"
   },
   {
    "duration": 0,
    "start_time": "2024-07-09T17:21:33.367Z"
   },
   {
    "duration": 0,
    "start_time": "2024-07-09T17:21:33.369Z"
   },
   {
    "duration": 0,
    "start_time": "2024-07-09T17:21:33.371Z"
   },
   {
    "duration": 0,
    "start_time": "2024-07-09T17:21:33.374Z"
   },
   {
    "duration": 0,
    "start_time": "2024-07-09T17:21:33.376Z"
   },
   {
    "duration": 0,
    "start_time": "2024-07-09T17:21:33.379Z"
   },
   {
    "duration": 0,
    "start_time": "2024-07-09T17:21:33.381Z"
   },
   {
    "duration": 0,
    "start_time": "2024-07-09T17:21:33.384Z"
   },
   {
    "duration": 0,
    "start_time": "2024-07-09T17:21:33.430Z"
   },
   {
    "duration": 1,
    "start_time": "2024-07-09T17:21:33.432Z"
   },
   {
    "duration": 6,
    "start_time": "2024-07-09T17:22:25.605Z"
   },
   {
    "duration": 123,
    "start_time": "2024-07-09T17:25:04.687Z"
   },
   {
    "duration": 334,
    "start_time": "2024-07-09T17:28:04.468Z"
   },
   {
    "duration": 1261,
    "start_time": "2024-07-09T17:28:36.944Z"
   },
   {
    "duration": 902,
    "start_time": "2024-07-09T17:28:38.208Z"
   },
   {
    "duration": 18,
    "start_time": "2024-07-09T17:28:39.113Z"
   },
   {
    "duration": 16,
    "start_time": "2024-07-09T17:28:39.136Z"
   },
   {
    "duration": 10,
    "start_time": "2024-07-09T17:28:39.156Z"
   },
   {
    "duration": 15,
    "start_time": "2024-07-09T17:28:39.168Z"
   },
   {
    "duration": 48,
    "start_time": "2024-07-09T17:28:39.186Z"
   },
   {
    "duration": 7,
    "start_time": "2024-07-09T17:28:39.237Z"
   },
   {
    "duration": 14,
    "start_time": "2024-07-09T17:28:39.248Z"
   },
   {
    "duration": 11,
    "start_time": "2024-07-09T17:28:39.269Z"
   },
   {
    "duration": 59,
    "start_time": "2024-07-09T17:28:39.283Z"
   },
   {
    "duration": 149,
    "start_time": "2024-07-09T17:28:39.345Z"
   },
   {
    "duration": 567,
    "start_time": "2024-07-09T17:28:39.497Z"
   },
   {
    "duration": 41,
    "start_time": "2024-07-09T17:28:40.066Z"
   },
   {
    "duration": 374,
    "start_time": "2024-07-09T17:28:40.112Z"
   },
   {
    "duration": 360,
    "start_time": "2024-07-09T17:28:40.489Z"
   },
   {
    "duration": 8,
    "start_time": "2024-07-09T17:28:40.852Z"
   },
   {
    "duration": 120,
    "start_time": "2024-07-09T17:28:40.863Z"
   },
   {
    "duration": 20,
    "start_time": "2024-07-09T17:28:40.986Z"
   },
   {
    "duration": 90,
    "start_time": "2024-07-09T17:28:41.009Z"
   },
   {
    "duration": 5,
    "start_time": "2024-07-09T17:28:41.102Z"
   },
   {
    "duration": 1258,
    "start_time": "2024-07-09T17:29:08.691Z"
   },
   {
    "duration": 906,
    "start_time": "2024-07-09T17:29:09.952Z"
   },
   {
    "duration": 19,
    "start_time": "2024-07-09T17:29:10.862Z"
   },
   {
    "duration": 19,
    "start_time": "2024-07-09T17:29:10.886Z"
   },
   {
    "duration": 11,
    "start_time": "2024-07-09T17:29:10.930Z"
   },
   {
    "duration": 17,
    "start_time": "2024-07-09T17:29:10.944Z"
   },
   {
    "duration": 12,
    "start_time": "2024-07-09T17:29:10.964Z"
   },
   {
    "duration": 10,
    "start_time": "2024-07-09T17:29:10.979Z"
   },
   {
    "duration": 51,
    "start_time": "2024-07-09T17:29:10.993Z"
   },
   {
    "duration": 13,
    "start_time": "2024-07-09T17:29:11.052Z"
   },
   {
    "duration": 16,
    "start_time": "2024-07-09T17:29:11.068Z"
   },
   {
    "duration": 167,
    "start_time": "2024-07-09T17:29:11.087Z"
   },
   {
    "duration": 638,
    "start_time": "2024-07-09T17:29:11.257Z"
   },
   {
    "duration": 48,
    "start_time": "2024-07-09T17:29:11.898Z"
   },
   {
    "duration": 371,
    "start_time": "2024-07-09T17:29:11.948Z"
   },
   {
    "duration": 361,
    "start_time": "2024-07-09T17:29:12.322Z"
   },
   {
    "duration": 8,
    "start_time": "2024-07-09T17:29:12.687Z"
   },
   {
    "duration": 122,
    "start_time": "2024-07-09T17:29:12.698Z"
   },
   {
    "duration": 28,
    "start_time": "2024-07-09T17:29:12.823Z"
   },
   {
    "duration": 89,
    "start_time": "2024-07-09T17:29:12.854Z"
   },
   {
    "duration": 7,
    "start_time": "2024-07-09T17:29:12.946Z"
   },
   {
    "duration": 354,
    "start_time": "2024-07-09T17:32:35.572Z"
   },
   {
    "duration": 24,
    "start_time": "2024-07-09T17:32:59.752Z"
   },
   {
    "duration": 24,
    "start_time": "2024-07-09T17:33:15.380Z"
   },
   {
    "duration": 1227,
    "start_time": "2024-07-09T17:33:24.390Z"
   },
   {
    "duration": 991,
    "start_time": "2024-07-09T17:33:26.333Z"
   },
   {
    "duration": 19,
    "start_time": "2024-07-09T17:33:27.328Z"
   },
   {
    "duration": 17,
    "start_time": "2024-07-09T17:33:27.581Z"
   },
   {
    "duration": 11,
    "start_time": "2024-07-09T17:33:27.790Z"
   },
   {
    "duration": 13,
    "start_time": "2024-07-09T17:33:27.995Z"
   },
   {
    "duration": 12,
    "start_time": "2024-07-09T17:33:28.192Z"
   },
   {
    "duration": 7,
    "start_time": "2024-07-09T17:33:28.390Z"
   },
   {
    "duration": 13,
    "start_time": "2024-07-09T17:33:28.588Z"
   },
   {
    "duration": 13,
    "start_time": "2024-07-09T17:33:28.762Z"
   },
   {
    "duration": 14,
    "start_time": "2024-07-09T17:33:29.481Z"
   },
   {
    "duration": 125,
    "start_time": "2024-07-09T17:33:29.690Z"
   },
   {
    "duration": 558,
    "start_time": "2024-07-09T17:33:31.274Z"
   },
   {
    "duration": 41,
    "start_time": "2024-07-09T17:33:31.836Z"
   },
   {
    "duration": 339,
    "start_time": "2024-07-09T17:33:32.775Z"
   },
   {
    "duration": 337,
    "start_time": "2024-07-09T17:33:33.796Z"
   },
   {
    "duration": 7,
    "start_time": "2024-07-09T17:33:35.011Z"
   },
   {
    "duration": 98,
    "start_time": "2024-07-09T17:33:36.834Z"
   },
   {
    "duration": 20,
    "start_time": "2024-07-09T17:33:39.233Z"
   },
   {
    "duration": 74,
    "start_time": "2024-07-09T17:33:40.696Z"
   },
   {
    "duration": 5,
    "start_time": "2024-07-09T17:33:44.101Z"
   },
   {
    "duration": 342,
    "start_time": "2024-07-09T17:34:13.659Z"
   },
   {
    "duration": 22,
    "start_time": "2024-07-09T17:34:17.972Z"
   },
   {
    "duration": 30,
    "start_time": "2024-07-09T17:34:18.393Z"
   },
   {
    "duration": 1298,
    "start_time": "2024-07-09T17:36:42.299Z"
   },
   {
    "duration": 909,
    "start_time": "2024-07-09T17:36:43.600Z"
   },
   {
    "duration": 19,
    "start_time": "2024-07-09T17:36:44.511Z"
   },
   {
    "duration": 17,
    "start_time": "2024-07-09T17:36:44.534Z"
   },
   {
    "duration": 10,
    "start_time": "2024-07-09T17:36:44.554Z"
   },
   {
    "duration": 14,
    "start_time": "2024-07-09T17:36:44.567Z"
   },
   {
    "duration": 53,
    "start_time": "2024-07-09T17:36:44.584Z"
   },
   {
    "duration": 10,
    "start_time": "2024-07-09T17:36:44.640Z"
   },
   {
    "duration": 14,
    "start_time": "2024-07-09T17:36:44.653Z"
   },
   {
    "duration": 14,
    "start_time": "2024-07-09T17:36:44.673Z"
   },
   {
    "duration": 50,
    "start_time": "2024-07-09T17:36:44.690Z"
   },
   {
    "duration": 141,
    "start_time": "2024-07-09T17:36:44.743Z"
   },
   {
    "duration": 568,
    "start_time": "2024-07-09T17:36:44.887Z"
   },
   {
    "duration": 40,
    "start_time": "2024-07-09T17:36:45.458Z"
   },
   {
    "duration": 359,
    "start_time": "2024-07-09T17:36:45.501Z"
   },
   {
    "duration": 354,
    "start_time": "2024-07-09T17:36:45.863Z"
   },
   {
    "duration": 18,
    "start_time": "2024-07-09T17:36:46.220Z"
   },
   {
    "duration": 132,
    "start_time": "2024-07-09T17:36:46.242Z"
   },
   {
    "duration": 21,
    "start_time": "2024-07-09T17:36:46.377Z"
   },
   {
    "duration": 95,
    "start_time": "2024-07-09T17:36:46.401Z"
   },
   {
    "duration": 6,
    "start_time": "2024-07-09T17:36:46.501Z"
   },
   {
    "duration": 330,
    "start_time": "2024-07-09T17:37:21.602Z"
   },
   {
    "duration": 1310,
    "start_time": "2024-07-09T17:48:59.707Z"
   },
   {
    "duration": 910,
    "start_time": "2024-07-09T17:49:01.021Z"
   },
   {
    "duration": 18,
    "start_time": "2024-07-09T17:49:01.934Z"
   },
   {
    "duration": 16,
    "start_time": "2024-07-09T17:49:01.957Z"
   },
   {
    "duration": 11,
    "start_time": "2024-07-09T17:49:01.977Z"
   },
   {
    "duration": 51,
    "start_time": "2024-07-09T17:49:01.990Z"
   },
   {
    "duration": 20,
    "start_time": "2024-07-09T17:49:02.044Z"
   },
   {
    "duration": 6,
    "start_time": "2024-07-09T17:49:02.070Z"
   },
   {
    "duration": 15,
    "start_time": "2024-07-09T17:49:02.080Z"
   },
   {
    "duration": 14,
    "start_time": "2024-07-09T17:49:02.133Z"
   },
   {
    "duration": 13,
    "start_time": "2024-07-09T17:49:02.151Z"
   },
   {
    "duration": 171,
    "start_time": "2024-07-09T17:49:02.167Z"
   },
   {
    "duration": 587,
    "start_time": "2024-07-09T17:49:02.342Z"
   },
   {
    "duration": 41,
    "start_time": "2024-07-09T17:49:02.933Z"
   },
   {
    "duration": 363,
    "start_time": "2024-07-09T17:49:02.977Z"
   },
   {
    "duration": 394,
    "start_time": "2024-07-09T17:49:03.344Z"
   },
   {
    "duration": 8,
    "start_time": "2024-07-09T17:49:03.742Z"
   },
   {
    "duration": 122,
    "start_time": "2024-07-09T17:49:03.753Z"
   },
   {
    "duration": 20,
    "start_time": "2024-07-09T17:49:03.878Z"
   },
   {
    "duration": 82,
    "start_time": "2024-07-09T17:49:03.903Z"
   },
   {
    "duration": 6,
    "start_time": "2024-07-09T17:49:03.988Z"
   },
   {
    "duration": 315,
    "start_time": "2024-07-09T17:50:02.820Z"
   },
   {
    "duration": 1303,
    "start_time": "2024-07-09T17:50:19.033Z"
   },
   {
    "duration": 935,
    "start_time": "2024-07-09T17:50:20.340Z"
   },
   {
    "duration": 19,
    "start_time": "2024-07-09T17:50:21.278Z"
   },
   {
    "duration": 33,
    "start_time": "2024-07-09T17:50:21.300Z"
   },
   {
    "duration": 11,
    "start_time": "2024-07-09T17:50:21.340Z"
   },
   {
    "duration": 15,
    "start_time": "2024-07-09T17:50:21.353Z"
   },
   {
    "duration": 13,
    "start_time": "2024-07-09T17:50:21.371Z"
   },
   {
    "duration": 45,
    "start_time": "2024-07-09T17:50:21.387Z"
   },
   {
    "duration": 16,
    "start_time": "2024-07-09T17:50:21.435Z"
   },
   {
    "duration": 11,
    "start_time": "2024-07-09T17:50:21.454Z"
   },
   {
    "duration": 13,
    "start_time": "2024-07-09T17:50:21.469Z"
   },
   {
    "duration": 132,
    "start_time": "2024-07-09T17:50:21.531Z"
   },
   {
    "duration": 603,
    "start_time": "2024-07-09T17:50:21.666Z"
   },
   {
    "duration": 59,
    "start_time": "2024-07-09T17:50:22.276Z"
   },
   {
    "duration": 350,
    "start_time": "2024-07-09T17:50:22.342Z"
   },
   {
    "duration": 345,
    "start_time": "2024-07-09T17:50:22.695Z"
   },
   {
    "duration": 9,
    "start_time": "2024-07-09T17:50:23.043Z"
   },
   {
    "duration": 130,
    "start_time": "2024-07-09T17:50:23.055Z"
   },
   {
    "duration": 20,
    "start_time": "2024-07-09T17:50:23.187Z"
   },
   {
    "duration": 85,
    "start_time": "2024-07-09T17:50:23.210Z"
   },
   {
    "duration": 5,
    "start_time": "2024-07-09T17:50:30.062Z"
   },
   {
    "duration": 636,
    "start_time": "2024-07-09T18:02:50.675Z"
   },
   {
    "duration": 38,
    "start_time": "2024-07-09T18:03:27.603Z"
   },
   {
    "duration": 320,
    "start_time": "2024-07-09T18:03:30.132Z"
   },
   {
    "duration": 4,
    "start_time": "2024-07-09T18:03:40.324Z"
   },
   {
    "duration": 808,
    "start_time": "2024-07-09T18:03:40.332Z"
   },
   {
    "duration": 17,
    "start_time": "2024-07-09T18:03:41.143Z"
   },
   {
    "duration": 14,
    "start_time": "2024-07-09T18:03:41.164Z"
   },
   {
    "duration": 8,
    "start_time": "2024-07-09T18:03:41.181Z"
   },
   {
    "duration": 50,
    "start_time": "2024-07-09T18:03:41.192Z"
   },
   {
    "duration": 12,
    "start_time": "2024-07-09T18:03:41.245Z"
   },
   {
    "duration": 7,
    "start_time": "2024-07-09T18:03:41.260Z"
   },
   {
    "duration": 14,
    "start_time": "2024-07-09T18:03:41.272Z"
   },
   {
    "duration": 12,
    "start_time": "2024-07-09T18:03:41.331Z"
   },
   {
    "duration": 17,
    "start_time": "2024-07-09T18:03:41.346Z"
   },
   {
    "duration": 148,
    "start_time": "2024-07-09T18:03:41.366Z"
   },
   {
    "duration": 667,
    "start_time": "2024-07-09T18:03:41.517Z"
   },
   {
    "duration": 49,
    "start_time": "2024-07-09T18:03:42.187Z"
   },
   {
    "duration": 38,
    "start_time": "2024-07-09T18:03:59.418Z"
   },
   {
    "duration": 321,
    "start_time": "2024-07-09T18:06:24.126Z"
   },
   {
    "duration": 312,
    "start_time": "2024-07-09T18:06:47.337Z"
   },
   {
    "duration": 402,
    "start_time": "2024-07-09T18:07:04.153Z"
   },
   {
    "duration": 4,
    "start_time": "2024-07-09T18:08:05.330Z"
   },
   {
    "duration": 862,
    "start_time": "2024-07-09T18:08:05.337Z"
   },
   {
    "duration": 27,
    "start_time": "2024-07-09T18:08:06.203Z"
   },
   {
    "duration": 14,
    "start_time": "2024-07-09T18:08:06.233Z"
   },
   {
    "duration": 10,
    "start_time": "2024-07-09T18:08:06.251Z"
   },
   {
    "duration": 14,
    "start_time": "2024-07-09T18:08:06.264Z"
   },
   {
    "duration": 51,
    "start_time": "2024-07-09T18:08:06.281Z"
   },
   {
    "duration": 6,
    "start_time": "2024-07-09T18:08:06.336Z"
   },
   {
    "duration": 14,
    "start_time": "2024-07-09T18:08:06.346Z"
   },
   {
    "duration": 12,
    "start_time": "2024-07-09T18:08:06.363Z"
   },
   {
    "duration": 59,
    "start_time": "2024-07-09T18:08:06.380Z"
   },
   {
    "duration": 135,
    "start_time": "2024-07-09T18:08:06.442Z"
   },
   {
    "duration": 656,
    "start_time": "2024-07-09T18:08:06.580Z"
   },
   {
    "duration": 39,
    "start_time": "2024-07-09T18:08:07.239Z"
   },
   {
    "duration": 341,
    "start_time": "2024-07-09T18:08:07.281Z"
   },
   {
    "duration": 6,
    "start_time": "2024-07-09T18:10:44.376Z"
   },
   {
    "duration": 16,
    "start_time": "2024-07-09T18:18:37.531Z"
   },
   {
    "duration": 346,
    "start_time": "2024-07-09T18:28:16.598Z"
   },
   {
    "duration": 101,
    "start_time": "2024-07-09T18:28:26.030Z"
   },
   {
    "duration": 75,
    "start_time": "2024-07-09T18:32:25.103Z"
   },
   {
    "duration": 8,
    "start_time": "2024-07-09T18:32:25.912Z"
   },
   {
    "duration": 47,
    "start_time": "2024-07-09T18:36:48.843Z"
   },
   {
    "duration": 590,
    "start_time": "2024-07-09T18:36:57.450Z"
   },
   {
    "duration": 865,
    "start_time": "2024-07-09T18:37:38.910Z"
   },
   {
    "duration": 0,
    "start_time": "2024-07-09T18:37:39.778Z"
   },
   {
    "duration": 39,
    "start_time": "2024-07-09T18:38:01.165Z"
   },
   {
    "duration": 614,
    "start_time": "2024-07-09T18:39:34.448Z"
   },
   {
    "duration": 39,
    "start_time": "2024-07-09T18:41:06.632Z"
   },
   {
    "duration": 175,
    "start_time": "2024-07-09T18:41:07.080Z"
   },
   {
    "duration": 120,
    "start_time": "2024-07-09T18:41:07.656Z"
   },
   {
    "duration": 44,
    "start_time": "2024-07-09T18:42:54.039Z"
   },
   {
    "duration": 96,
    "start_time": "2024-07-09T18:43:10.505Z"
   },
   {
    "duration": 71,
    "start_time": "2024-07-09T18:43:37.744Z"
   },
   {
    "duration": 40,
    "start_time": "2024-07-09T18:44:33.980Z"
   },
   {
    "duration": 35,
    "start_time": "2024-07-09T18:45:23.207Z"
   },
   {
    "duration": 316,
    "start_time": "2024-07-09T18:45:38.562Z"
   },
   {
    "duration": 1056,
    "start_time": "2024-07-09T18:52:42.163Z"
   },
   {
    "duration": 421,
    "start_time": "2024-07-09T18:53:13.477Z"
   },
   {
    "duration": 1166,
    "start_time": "2024-07-09T18:54:39.969Z"
   },
   {
    "duration": 5,
    "start_time": "2024-07-09T18:58:53.718Z"
   },
   {
    "duration": 884,
    "start_time": "2024-07-09T18:58:53.727Z"
   },
   {
    "duration": 21,
    "start_time": "2024-07-09T18:58:54.614Z"
   },
   {
    "duration": 14,
    "start_time": "2024-07-09T18:58:54.639Z"
   },
   {
    "duration": 9,
    "start_time": "2024-07-09T18:58:54.656Z"
   },
   {
    "duration": 15,
    "start_time": "2024-07-09T18:58:54.667Z"
   },
   {
    "duration": 49,
    "start_time": "2024-07-09T18:58:54.684Z"
   },
   {
    "duration": 10,
    "start_time": "2024-07-09T18:58:54.736Z"
   },
   {
    "duration": 15,
    "start_time": "2024-07-09T18:58:54.753Z"
   },
   {
    "duration": 12,
    "start_time": "2024-07-09T18:58:54.772Z"
   },
   {
    "duration": 56,
    "start_time": "2024-07-09T18:58:54.786Z"
   },
   {
    "duration": 147,
    "start_time": "2024-07-09T18:58:54.846Z"
   },
   {
    "duration": 609,
    "start_time": "2024-07-09T18:58:54.996Z"
   },
   {
    "duration": 47,
    "start_time": "2024-07-09T18:58:55.608Z"
   },
   {
    "duration": 329,
    "start_time": "2024-07-09T18:58:55.658Z"
   },
   {
    "duration": 348,
    "start_time": "2024-07-09T18:58:55.994Z"
   },
   {
    "duration": 7,
    "start_time": "2024-07-09T18:58:56.345Z"
   },
   {
    "duration": 7,
    "start_time": "2024-07-09T18:58:56.355Z"
   },
   {
    "duration": 76,
    "start_time": "2024-07-09T18:58:56.365Z"
   },
   {
    "duration": 100,
    "start_time": "2024-07-09T18:58:56.444Z"
   },
   {
    "duration": 68,
    "start_time": "2024-07-09T18:58:56.546Z"
   },
   {
    "duration": 53,
    "start_time": "2024-07-09T18:58:56.616Z"
   },
   {
    "duration": 1073,
    "start_time": "2024-07-09T18:58:56.672Z"
   },
   {
    "duration": 5,
    "start_time": "2024-07-09T18:58:57.753Z"
   },
   {
    "duration": 5,
    "start_time": "2024-07-09T18:58:57.762Z"
   },
   {
    "duration": 6,
    "start_time": "2024-07-09T18:58:57.770Z"
   },
   {
    "duration": 52,
    "start_time": "2024-07-09T18:58:57.779Z"
   },
   {
    "duration": 5,
    "start_time": "2024-07-09T18:58:57.834Z"
   },
   {
    "duration": 6,
    "start_time": "2024-07-09T18:58:57.842Z"
   },
   {
    "duration": 5,
    "start_time": "2024-07-09T18:58:57.852Z"
   },
   {
    "duration": 11,
    "start_time": "2024-07-09T18:58:57.860Z"
   },
   {
    "duration": 63,
    "start_time": "2024-07-09T18:58:57.873Z"
   },
   {
    "duration": 7,
    "start_time": "2024-07-09T18:58:57.939Z"
   },
   {
    "duration": 27,
    "start_time": "2024-07-09T18:58:57.949Z"
   },
   {
    "duration": 4,
    "start_time": "2024-07-09T18:58:57.982Z"
   },
   {
    "duration": 12,
    "start_time": "2024-07-09T18:58:58.030Z"
   },
   {
    "duration": 2076,
    "start_time": "2024-07-09T18:58:58.045Z"
   },
   {
    "duration": 117,
    "start_time": "2024-07-09T19:06:00.623Z"
   },
   {
    "duration": 70,
    "start_time": "2024-07-09T19:07:26.608Z"
   },
   {
    "duration": 68,
    "start_time": "2024-07-09T19:07:45.744Z"
   },
   {
    "duration": 40,
    "start_time": "2024-07-09T19:08:24.281Z"
   },
   {
    "duration": 1031,
    "start_time": "2024-07-09T19:11:02.252Z"
   },
   {
    "duration": 24,
    "start_time": "2024-07-09T19:22:49.509Z"
   },
   {
    "duration": 81,
    "start_time": "2024-07-09T19:24:12.109Z"
   },
   {
    "duration": 12,
    "start_time": "2024-07-09T19:24:27.725Z"
   },
   {
    "duration": 15,
    "start_time": "2024-07-09T19:24:55.933Z"
   },
   {
    "duration": 65,
    "start_time": "2024-07-09T19:25:37.967Z"
   },
   {
    "duration": 81,
    "start_time": "2024-07-09T19:26:00.901Z"
   },
   {
    "duration": 132,
    "start_time": "2024-07-09T19:51:56.445Z"
   },
   {
    "duration": 11,
    "start_time": "2024-07-09T19:52:21.424Z"
   },
   {
    "duration": 26,
    "start_time": "2024-07-09T19:57:16.724Z"
   },
   {
    "duration": 37,
    "start_time": "2024-07-09T19:59:02.022Z"
   },
   {
    "duration": 28,
    "start_time": "2024-07-09T19:59:16.624Z"
   },
   {
    "duration": 29,
    "start_time": "2024-07-09T19:59:30.009Z"
   },
   {
    "duration": 45,
    "start_time": "2024-07-09T20:55:26.013Z"
   },
   {
    "duration": 4,
    "start_time": "2024-07-09T21:04:14.412Z"
   },
   {
    "duration": 820,
    "start_time": "2024-07-09T21:04:14.420Z"
   },
   {
    "duration": 19,
    "start_time": "2024-07-09T21:04:15.242Z"
   },
   {
    "duration": 13,
    "start_time": "2024-07-09T21:04:15.264Z"
   },
   {
    "duration": 8,
    "start_time": "2024-07-09T21:04:15.280Z"
   },
   {
    "duration": 49,
    "start_time": "2024-07-09T21:04:15.292Z"
   },
   {
    "duration": 12,
    "start_time": "2024-07-09T21:04:15.344Z"
   },
   {
    "duration": 7,
    "start_time": "2024-07-09T21:04:15.360Z"
   },
   {
    "duration": 57,
    "start_time": "2024-07-09T21:04:15.374Z"
   },
   {
    "duration": 11,
    "start_time": "2024-07-09T21:04:15.435Z"
   },
   {
    "duration": 16,
    "start_time": "2024-07-09T21:04:15.449Z"
   },
   {
    "duration": 133,
    "start_time": "2024-07-09T21:04:15.468Z"
   },
   {
    "duration": 806,
    "start_time": "2024-07-09T21:04:15.604Z"
   },
   {
    "duration": 45,
    "start_time": "2024-07-09T21:04:16.414Z"
   },
   {
    "duration": 337,
    "start_time": "2024-07-09T21:04:16.462Z"
   },
   {
    "duration": 333,
    "start_time": "2024-07-09T21:04:16.803Z"
   },
   {
    "duration": 5,
    "start_time": "2024-07-09T21:04:17.142Z"
   },
   {
    "duration": 39,
    "start_time": "2024-07-09T21:04:17.150Z"
   },
   {
    "duration": 124,
    "start_time": "2024-07-09T21:04:17.192Z"
   },
   {
    "duration": 74,
    "start_time": "2024-07-09T21:04:17.319Z"
   },
   {
    "duration": 56,
    "start_time": "2024-07-09T21:04:17.396Z"
   },
   {
    "duration": 1016,
    "start_time": "2024-07-09T21:04:17.456Z"
   },
   {
    "duration": 6,
    "start_time": "2024-07-09T21:04:18.478Z"
   },
   {
    "duration": 5,
    "start_time": "2024-07-09T21:04:18.492Z"
   },
   {
    "duration": 31,
    "start_time": "2024-07-09T21:04:18.501Z"
   },
   {
    "duration": 27,
    "start_time": "2024-07-09T21:04:18.536Z"
   },
   {
    "duration": 28,
    "start_time": "2024-07-09T21:04:18.566Z"
   },
   {
    "duration": 66,
    "start_time": "2024-07-09T21:04:18.597Z"
   },
   {
    "duration": 0,
    "start_time": "2024-07-09T21:04:18.666Z"
   },
   {
    "duration": 0,
    "start_time": "2024-07-09T21:04:18.668Z"
   },
   {
    "duration": 0,
    "start_time": "2024-07-09T21:04:18.670Z"
   },
   {
    "duration": 0,
    "start_time": "2024-07-09T21:04:18.671Z"
   },
   {
    "duration": 0,
    "start_time": "2024-07-09T21:04:18.674Z"
   },
   {
    "duration": 0,
    "start_time": "2024-07-09T21:04:18.676Z"
   },
   {
    "duration": 0,
    "start_time": "2024-07-09T21:04:18.679Z"
   },
   {
    "duration": 0,
    "start_time": "2024-07-09T21:04:18.680Z"
   },
   {
    "duration": 0,
    "start_time": "2024-07-09T21:04:18.682Z"
   },
   {
    "duration": 0,
    "start_time": "2024-07-09T21:04:18.683Z"
   },
   {
    "duration": 0,
    "start_time": "2024-07-09T21:04:18.686Z"
   },
   {
    "duration": 0,
    "start_time": "2024-07-09T21:04:18.688Z"
   },
   {
    "duration": 30,
    "start_time": "2024-07-09T21:04:49.199Z"
   },
   {
    "duration": 38,
    "start_time": "2024-07-09T21:05:56.126Z"
   },
   {
    "duration": 46,
    "start_time": "2024-07-09T21:15:13.110Z"
   },
   {
    "duration": 6,
    "start_time": "2024-07-09T21:15:16.960Z"
   },
   {
    "duration": 10,
    "start_time": "2024-07-09T21:15:17.590Z"
   },
   {
    "duration": 12,
    "start_time": "2024-07-09T21:15:18.456Z"
   },
   {
    "duration": 7,
    "start_time": "2024-07-09T21:15:19.770Z"
   },
   {
    "duration": 30,
    "start_time": "2024-07-09T21:16:17.026Z"
   },
   {
    "duration": 4,
    "start_time": "2024-07-09T21:16:17.392Z"
   },
   {
    "duration": 16,
    "start_time": "2024-07-09T21:16:18.489Z"
   },
   {
    "duration": 2238,
    "start_time": "2024-07-09T21:16:20.862Z"
   },
   {
    "duration": 5,
    "start_time": "2024-07-09T21:24:53.516Z"
   },
   {
    "duration": 29,
    "start_time": "2024-07-09T21:24:58.912Z"
   },
   {
    "duration": 31,
    "start_time": "2024-07-09T21:25:09.144Z"
   },
   {
    "duration": 5,
    "start_time": "2024-07-09T21:26:01.895Z"
   },
   {
    "duration": 853,
    "start_time": "2024-07-09T21:26:01.904Z"
   },
   {
    "duration": 19,
    "start_time": "2024-07-09T21:26:02.760Z"
   },
   {
    "duration": 14,
    "start_time": "2024-07-09T21:26:02.781Z"
   },
   {
    "duration": 33,
    "start_time": "2024-07-09T21:26:02.799Z"
   },
   {
    "duration": 18,
    "start_time": "2024-07-09T21:26:02.835Z"
   },
   {
    "duration": 11,
    "start_time": "2024-07-09T21:26:02.855Z"
   },
   {
    "duration": 7,
    "start_time": "2024-07-09T21:26:02.870Z"
   },
   {
    "duration": 57,
    "start_time": "2024-07-09T21:26:02.881Z"
   },
   {
    "duration": 12,
    "start_time": "2024-07-09T21:26:02.942Z"
   },
   {
    "duration": 13,
    "start_time": "2024-07-09T21:26:02.960Z"
   },
   {
    "duration": 140,
    "start_time": "2024-07-09T21:26:02.976Z"
   },
   {
    "duration": 616,
    "start_time": "2024-07-09T21:26:03.119Z"
   },
   {
    "duration": 38,
    "start_time": "2024-07-09T21:26:03.737Z"
   },
   {
    "duration": 334,
    "start_time": "2024-07-09T21:26:03.778Z"
   },
   {
    "duration": 313,
    "start_time": "2024-07-09T21:26:04.115Z"
   },
   {
    "duration": 7,
    "start_time": "2024-07-09T21:26:04.432Z"
   },
   {
    "duration": 217,
    "start_time": "2024-07-09T21:26:04.442Z"
   },
   {
    "duration": 114,
    "start_time": "2024-07-09T21:26:04.662Z"
   },
   {
    "duration": 80,
    "start_time": "2024-07-09T21:26:04.779Z"
   },
   {
    "duration": 41,
    "start_time": "2024-07-09T21:26:04.861Z"
   },
   {
    "duration": 1079,
    "start_time": "2024-07-09T21:26:04.905Z"
   },
   {
    "duration": 6,
    "start_time": "2024-07-09T21:26:05.987Z"
   },
   {
    "duration": 6,
    "start_time": "2024-07-09T21:26:05.996Z"
   },
   {
    "duration": 29,
    "start_time": "2024-07-09T21:26:06.005Z"
   },
   {
    "duration": 27,
    "start_time": "2024-07-09T21:26:06.037Z"
   },
   {
    "duration": 29,
    "start_time": "2024-07-09T21:26:06.067Z"
   },
   {
    "duration": 30,
    "start_time": "2024-07-09T21:26:06.130Z"
   },
   {
    "duration": 37,
    "start_time": "2024-07-09T21:26:06.167Z"
   },
   {
    "duration": 25,
    "start_time": "2024-07-09T21:26:06.207Z"
   },
   {
    "duration": 12,
    "start_time": "2024-07-09T21:26:06.235Z"
   },
   {
    "duration": 12,
    "start_time": "2024-07-09T21:26:06.251Z"
   },
   {
    "duration": 71,
    "start_time": "2024-07-09T21:26:06.266Z"
   },
   {
    "duration": 5,
    "start_time": "2024-07-09T21:26:06.340Z"
   },
   {
    "duration": 13,
    "start_time": "2024-07-09T21:26:06.348Z"
   },
   {
    "duration": 213,
    "start_time": "2024-07-09T21:26:06.366Z"
   },
   {
    "duration": 27,
    "start_time": "2024-07-09T21:29:28.058Z"
   },
   {
    "duration": 27,
    "start_time": "2024-07-09T21:29:42.462Z"
   },
   {
    "duration": 29,
    "start_time": "2024-07-09T21:31:10.157Z"
   },
   {
    "duration": 1566,
    "start_time": "2024-07-09T21:35:54.331Z"
   },
   {
    "duration": 29,
    "start_time": "2024-07-09T21:37:14.198Z"
   },
   {
    "duration": 33,
    "start_time": "2024-07-09T21:37:20.638Z"
   },
   {
    "duration": 4898,
    "start_time": "2024-07-10T16:59:06.284Z"
   },
   {
    "duration": 882,
    "start_time": "2024-07-10T16:59:11.186Z"
   },
   {
    "duration": 19,
    "start_time": "2024-07-10T16:59:12.070Z"
   },
   {
    "duration": 22,
    "start_time": "2024-07-10T16:59:12.093Z"
   },
   {
    "duration": 11,
    "start_time": "2024-07-10T16:59:12.118Z"
   },
   {
    "duration": 15,
    "start_time": "2024-07-10T16:59:12.132Z"
   },
   {
    "duration": 12,
    "start_time": "2024-07-10T16:59:12.150Z"
   },
   {
    "duration": 45,
    "start_time": "2024-07-10T16:59:12.165Z"
   },
   {
    "duration": 17,
    "start_time": "2024-07-10T16:59:12.212Z"
   },
   {
    "duration": 13,
    "start_time": "2024-07-10T16:59:12.236Z"
   },
   {
    "duration": 57,
    "start_time": "2024-07-10T16:59:12.252Z"
   },
   {
    "duration": 136,
    "start_time": "2024-07-10T16:59:12.312Z"
   },
   {
    "duration": 688,
    "start_time": "2024-07-10T16:59:12.451Z"
   },
   {
    "duration": 40,
    "start_time": "2024-07-10T16:59:13.142Z"
   },
   {
    "duration": 364,
    "start_time": "2024-07-10T16:59:13.185Z"
   },
   {
    "duration": 343,
    "start_time": "2024-07-10T16:59:13.551Z"
   },
   {
    "duration": 15,
    "start_time": "2024-07-10T16:59:13.897Z"
   },
   {
    "duration": 129,
    "start_time": "2024-07-10T16:59:13.915Z"
   },
   {
    "duration": 120,
    "start_time": "2024-07-10T16:59:14.047Z"
   },
   {
    "duration": 89,
    "start_time": "2024-07-10T16:59:14.170Z"
   },
   {
    "duration": 48,
    "start_time": "2024-07-10T16:59:14.262Z"
   },
   {
    "duration": 1080,
    "start_time": "2024-07-10T16:59:14.313Z"
   },
   {
    "duration": 5,
    "start_time": "2024-07-10T16:59:15.396Z"
   },
   {
    "duration": 6,
    "start_time": "2024-07-10T16:59:15.405Z"
   },
   {
    "duration": 4,
    "start_time": "2024-07-10T16:59:15.414Z"
   },
   {
    "duration": 27,
    "start_time": "2024-07-10T16:59:15.422Z"
   },
   {
    "duration": 67,
    "start_time": "2024-07-10T16:59:15.452Z"
   },
   {
    "duration": 29,
    "start_time": "2024-07-10T16:59:15.531Z"
   },
   {
    "duration": 61,
    "start_time": "2024-07-10T16:59:15.565Z"
   },
   {
    "duration": 433,
    "start_time": "2024-07-10T16:59:15.629Z"
   },
   {
    "duration": 0,
    "start_time": "2024-07-10T16:59:16.065Z"
   },
   {
    "duration": 0,
    "start_time": "2024-07-10T16:59:16.067Z"
   },
   {
    "duration": 0,
    "start_time": "2024-07-10T16:59:16.071Z"
   },
   {
    "duration": 42,
    "start_time": "2024-07-10T17:05:43.551Z"
   },
   {
    "duration": 44,
    "start_time": "2024-07-10T17:08:13.381Z"
   },
   {
    "duration": 6,
    "start_time": "2024-07-10T17:10:23.311Z"
   },
   {
    "duration": 30,
    "start_time": "2024-07-10T17:12:25.567Z"
   },
   {
    "duration": 6,
    "start_time": "2024-07-10T17:15:04.153Z"
   },
   {
    "duration": 5,
    "start_time": "2024-07-10T17:16:26.376Z"
   },
   {
    "duration": 8,
    "start_time": "2024-07-10T17:29:03.842Z"
   },
   {
    "duration": 5,
    "start_time": "2024-07-10T17:29:04.322Z"
   },
   {
    "duration": 9,
    "start_time": "2024-07-10T17:29:04.752Z"
   },
   {
    "duration": 12,
    "start_time": "2024-07-10T17:29:05.328Z"
   },
   {
    "duration": 7,
    "start_time": "2024-07-10T17:29:45.907Z"
   },
   {
    "duration": 12,
    "start_time": "2024-07-10T17:30:07.565Z"
   },
   {
    "duration": 15,
    "start_time": "2024-07-10T17:30:11.846Z"
   },
   {
    "duration": 227,
    "start_time": "2024-07-10T17:30:49.663Z"
   },
   {
    "duration": 366,
    "start_time": "2024-07-10T17:31:04.801Z"
   },
   {
    "duration": 281,
    "start_time": "2024-07-10T17:35:07.345Z"
   },
   {
    "duration": 747,
    "start_time": "2024-07-10T17:40:38.962Z"
   },
   {
    "duration": 3,
    "start_time": "2024-07-10T17:41:30.194Z"
   },
   {
    "duration": 77,
    "start_time": "2024-07-10T17:41:31.335Z"
   },
   {
    "duration": 37,
    "start_time": "2024-07-10T17:44:55.555Z"
   },
   {
    "duration": 0,
    "start_time": "2024-07-10T17:44:55.596Z"
   },
   {
    "duration": 0,
    "start_time": "2024-07-10T17:44:55.598Z"
   },
   {
    "duration": 0,
    "start_time": "2024-07-10T17:44:55.601Z"
   },
   {
    "duration": 198,
    "start_time": "2024-07-10T17:45:16.251Z"
   },
   {
    "duration": 8,
    "start_time": "2024-07-10T17:48:25.431Z"
   },
   {
    "duration": 8,
    "start_time": "2024-07-10T17:49:58.647Z"
   },
   {
    "duration": 5,
    "start_time": "2024-07-10T17:50:00.072Z"
   },
   {
    "duration": 4,
    "start_time": "2024-07-10T17:50:00.441Z"
   },
   {
    "duration": 444,
    "start_time": "2024-07-10T17:54:08.357Z"
   },
   {
    "duration": 5,
    "start_time": "2024-07-10T17:54:27.025Z"
   },
   {
    "duration": 4,
    "start_time": "2024-07-10T17:54:54.268Z"
   },
   {
    "duration": 4,
    "start_time": "2024-07-10T17:55:08.657Z"
   },
   {
    "duration": 29,
    "start_time": "2024-07-10T17:56:12.071Z"
   },
   {
    "duration": 224,
    "start_time": "2024-07-10T17:56:12.832Z"
   },
   {
    "duration": 27,
    "start_time": "2024-07-10T17:57:39.143Z"
   },
   {
    "duration": 43,
    "start_time": "2024-07-10T17:57:40.917Z"
   },
   {
    "duration": 4,
    "start_time": "2024-07-10T17:57:44.619Z"
   },
   {
    "duration": 858,
    "start_time": "2024-07-10T17:57:44.627Z"
   },
   {
    "duration": 21,
    "start_time": "2024-07-10T17:57:45.488Z"
   },
   {
    "duration": 14,
    "start_time": "2024-07-10T17:57:45.512Z"
   },
   {
    "duration": 9,
    "start_time": "2024-07-10T17:57:45.533Z"
   },
   {
    "duration": 15,
    "start_time": "2024-07-10T17:57:45.544Z"
   },
   {
    "duration": 55,
    "start_time": "2024-07-10T17:57:45.564Z"
   },
   {
    "duration": 7,
    "start_time": "2024-07-10T17:57:45.622Z"
   },
   {
    "duration": 14,
    "start_time": "2024-07-10T17:57:45.633Z"
   },
   {
    "duration": 11,
    "start_time": "2024-07-10T17:57:45.650Z"
   },
   {
    "duration": 54,
    "start_time": "2024-07-10T17:57:45.665Z"
   },
   {
    "duration": 139,
    "start_time": "2024-07-10T17:57:45.723Z"
   },
   {
    "duration": 724,
    "start_time": "2024-07-10T17:57:45.866Z"
   },
   {
    "duration": 41,
    "start_time": "2024-07-10T17:57:46.610Z"
   },
   {
    "duration": 341,
    "start_time": "2024-07-10T17:57:46.654Z"
   },
   {
    "duration": 351,
    "start_time": "2024-07-10T17:57:46.998Z"
   },
   {
    "duration": 7,
    "start_time": "2024-07-10T17:57:47.353Z"
   },
   {
    "duration": 64,
    "start_time": "2024-07-10T17:57:47.364Z"
   },
   {
    "duration": 114,
    "start_time": "2024-07-10T17:57:47.431Z"
   },
   {
    "duration": 82,
    "start_time": "2024-07-10T17:57:47.548Z"
   },
   {
    "duration": 39,
    "start_time": "2024-07-10T17:57:47.633Z"
   },
   {
    "duration": 1049,
    "start_time": "2024-07-10T17:57:47.676Z"
   },
   {
    "duration": 6,
    "start_time": "2024-07-10T17:57:48.729Z"
   },
   {
    "duration": 4,
    "start_time": "2024-07-10T17:57:48.739Z"
   },
   {
    "duration": 5,
    "start_time": "2024-07-10T17:57:48.746Z"
   },
   {
    "duration": 67,
    "start_time": "2024-07-10T17:57:48.753Z"
   },
   {
    "duration": 29,
    "start_time": "2024-07-10T17:57:48.823Z"
   },
   {
    "duration": 54,
    "start_time": "2024-07-10T17:57:48.855Z"
   },
   {
    "duration": 41,
    "start_time": "2024-07-10T17:57:48.912Z"
   },
   {
    "duration": 70,
    "start_time": "2024-07-10T17:57:48.957Z"
   },
   {
    "duration": 8,
    "start_time": "2024-07-10T17:57:49.030Z"
   },
   {
    "duration": 8,
    "start_time": "2024-07-10T17:57:49.041Z"
   },
   {
    "duration": 7,
    "start_time": "2024-07-10T17:57:49.053Z"
   },
   {
    "duration": 45,
    "start_time": "2024-07-10T17:57:49.063Z"
   },
   {
    "duration": 5,
    "start_time": "2024-07-10T17:57:49.111Z"
   },
   {
    "duration": 5,
    "start_time": "2024-07-10T17:57:49.119Z"
   },
   {
    "duration": 288,
    "start_time": "2024-07-10T17:57:49.127Z"
   },
   {
    "duration": 293,
    "start_time": "2024-07-10T17:57:49.418Z"
   },
   {
    "duration": 5,
    "start_time": "2024-07-10T17:57:49.714Z"
   },
   {
    "duration": 128,
    "start_time": "2024-07-10T18:15:16.441Z"
   },
   {
    "duration": 126,
    "start_time": "2024-07-10T18:17:49.492Z"
   },
   {
    "duration": 1781,
    "start_time": "2024-07-10T18:23:26.030Z"
   },
   {
    "duration": 114,
    "start_time": "2024-07-10T18:24:47.259Z"
   },
   {
    "duration": 400,
    "start_time": "2024-07-10T18:25:04.419Z"
   },
   {
    "duration": 106,
    "start_time": "2024-07-10T18:42:24.611Z"
   },
   {
    "duration": 51,
    "start_time": "2024-07-10T18:42:48.199Z"
   },
   {
    "duration": 63,
    "start_time": "2024-07-10T18:44:09.375Z"
   },
   {
    "duration": 243,
    "start_time": "2024-07-10T18:47:56.691Z"
   },
   {
    "duration": 95,
    "start_time": "2024-07-10T18:48:27.926Z"
   },
   {
    "duration": 93,
    "start_time": "2024-07-10T18:49:11.485Z"
   },
   {
    "duration": 98,
    "start_time": "2024-07-10T18:49:52.467Z"
   },
   {
    "duration": 640,
    "start_time": "2024-07-10T18:52:07.681Z"
   },
   {
    "duration": 5,
    "start_time": "2024-07-10T18:52:21.498Z"
   },
   {
    "duration": 406,
    "start_time": "2024-07-10T18:53:21.414Z"
   },
   {
    "duration": 815,
    "start_time": "2024-07-10T19:40:00.417Z"
   },
   {
    "duration": 650,
    "start_time": "2024-07-10T19:44:36.206Z"
   },
   {
    "duration": 576,
    "start_time": "2024-07-10T19:48:13.977Z"
   },
   {
    "duration": 409,
    "start_time": "2024-07-10T19:48:23.974Z"
   },
   {
    "duration": 724,
    "start_time": "2024-07-10T19:48:34.741Z"
   },
   {
    "duration": 100,
    "start_time": "2024-07-10T19:51:42.970Z"
   },
   {
    "duration": 482,
    "start_time": "2024-07-10T19:54:30.928Z"
   },
   {
    "duration": 51,
    "start_time": "2024-07-10T19:55:29.751Z"
   },
   {
    "duration": 100,
    "start_time": "2024-07-10T19:56:41.294Z"
   },
   {
    "duration": 424,
    "start_time": "2024-07-10T19:57:36.184Z"
   },
   {
    "duration": 4980,
    "start_time": "2024-07-14T12:59:57.773Z"
   },
   {
    "duration": 916,
    "start_time": "2024-07-14T13:00:02.757Z"
   },
   {
    "duration": 20,
    "start_time": "2024-07-14T13:00:03.676Z"
   },
   {
    "duration": 17,
    "start_time": "2024-07-14T13:00:03.701Z"
   },
   {
    "duration": 11,
    "start_time": "2024-07-14T13:00:03.721Z"
   },
   {
    "duration": 16,
    "start_time": "2024-07-14T13:00:03.735Z"
   },
   {
    "duration": 52,
    "start_time": "2024-07-14T13:00:03.754Z"
   },
   {
    "duration": 11,
    "start_time": "2024-07-14T13:00:03.809Z"
   },
   {
    "duration": 15,
    "start_time": "2024-07-14T13:00:03.824Z"
   },
   {
    "duration": 54,
    "start_time": "2024-07-14T13:00:03.848Z"
   },
   {
    "duration": 15,
    "start_time": "2024-07-14T13:00:03.904Z"
   },
   {
    "duration": 150,
    "start_time": "2024-07-14T13:00:03.922Z"
   },
   {
    "duration": 653,
    "start_time": "2024-07-14T13:00:04.075Z"
   },
   {
    "duration": 41,
    "start_time": "2024-07-14T13:00:04.731Z"
   },
   {
    "duration": 384,
    "start_time": "2024-07-14T13:00:04.775Z"
   },
   {
    "duration": 350,
    "start_time": "2024-07-14T13:00:05.162Z"
   },
   {
    "duration": 7,
    "start_time": "2024-07-14T13:00:05.515Z"
   },
   {
    "duration": 38,
    "start_time": "2024-07-14T13:00:05.525Z"
   },
   {
    "duration": 138,
    "start_time": "2024-07-14T13:00:05.567Z"
   },
   {
    "duration": 78,
    "start_time": "2024-07-14T13:00:05.708Z"
   },
   {
    "duration": 40,
    "start_time": "2024-07-14T13:00:05.803Z"
   },
   {
    "duration": 1184,
    "start_time": "2024-07-14T13:00:05.846Z"
   },
   {
    "duration": 6,
    "start_time": "2024-07-14T13:00:07.034Z"
   },
   {
    "duration": 6,
    "start_time": "2024-07-14T13:00:07.043Z"
   },
   {
    "duration": 5,
    "start_time": "2024-07-14T13:00:07.053Z"
   },
   {
    "duration": 48,
    "start_time": "2024-07-14T13:00:07.061Z"
   },
   {
    "duration": 31,
    "start_time": "2024-07-14T13:00:07.112Z"
   },
   {
    "duration": 58,
    "start_time": "2024-07-14T13:00:07.153Z"
   },
   {
    "duration": 44,
    "start_time": "2024-07-14T13:00:07.214Z"
   },
   {
    "duration": 72,
    "start_time": "2024-07-14T13:00:07.261Z"
   },
   {
    "duration": 616,
    "start_time": "2024-07-14T13:00:07.336Z"
   },
   {
    "duration": 8,
    "start_time": "2024-07-14T13:00:07.955Z"
   },
   {
    "duration": 8,
    "start_time": "2024-07-14T13:00:07.965Z"
   },
   {
    "duration": 8,
    "start_time": "2024-07-14T13:00:08.001Z"
   },
   {
    "duration": 6,
    "start_time": "2024-07-14T13:00:08.011Z"
   },
   {
    "duration": 6,
    "start_time": "2024-07-14T13:00:08.020Z"
   },
   {
    "duration": 5,
    "start_time": "2024-07-14T13:00:08.029Z"
   },
   {
    "duration": 306,
    "start_time": "2024-07-14T13:00:08.038Z"
   },
   {
    "duration": 290,
    "start_time": "2024-07-14T13:00:08.347Z"
   },
   {
    "duration": 5,
    "start_time": "2024-07-14T13:00:08.640Z"
   },
   {
    "duration": 1294,
    "start_time": "2024-07-14T13:00:08.648Z"
   },
   {
    "duration": 0,
    "start_time": "2024-07-14T13:00:09.945Z"
   },
   {
    "duration": 427,
    "start_time": "2024-07-14T13:03:25.413Z"
   },
   {
    "duration": 677,
    "start_time": "2024-07-14T13:03:34.154Z"
   },
   {
    "duration": 430,
    "start_time": "2024-07-14T13:18:54.241Z"
   },
   {
    "duration": 404,
    "start_time": "2024-07-14T13:19:05.512Z"
   },
   {
    "duration": 127,
    "start_time": "2024-07-14T13:24:27.086Z"
   },
   {
    "duration": 670,
    "start_time": "2024-07-14T13:24:33.845Z"
   }
  ],
  "kernelspec": {
   "display_name": "Python 3 (ipykernel)",
   "language": "python",
   "name": "python3"
  },
  "language_info": {
   "codemirror_mode": {
    "name": "ipython",
    "version": 3
   },
   "file_extension": ".py",
   "mimetype": "text/x-python",
   "name": "python",
   "nbconvert_exporter": "python",
   "pygments_lexer": "ipython3",
   "version": "3.9.19"
  },
  "toc": {
   "base_numbering": 1,
   "nav_menu": {},
   "number_sections": true,
   "sideBar": true,
   "skip_h1_title": true,
   "title_cell": "Table of Contents",
   "title_sidebar": "Contents",
   "toc_cell": false,
   "toc_position": {},
   "toc_section_display": true,
   "toc_window_display": false
  }
 },
 "nbformat": 4,
 "nbformat_minor": 2
}
