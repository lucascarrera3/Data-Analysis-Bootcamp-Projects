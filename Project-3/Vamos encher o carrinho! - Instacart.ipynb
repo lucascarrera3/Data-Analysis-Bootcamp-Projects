{
 "cells": [
  {
   "cell_type": "markdown",
   "id": "3Xg_RQfnafXz",
   "metadata": {
    "id": "3Xg_RQfnafXz"
   },
   "source": [
    "\n",
    "\n",
    "\n",
    "# Vamos encher o carrinho! - Instacart"
   ]
  },
  {
   "cell_type": "markdown",
   "id": "2f555874",
   "metadata": {},
   "source": [
    "# Conteúdo <a id='back'></a>\n",
    "\n",
    "* [Introdução](#intro)\n",
    "* [Objetivo do Projeto](#projectgoal)\n",
    "* [1) Dicionário de Dados](#dictionary)  \n",
    "* [2) Preparação de Dados](#data_preprocessing)\n",
    "* [3) Plano de Solução](#plan)\n",
    "    * [3.1) DataFrame `orders`](#dforders)\n",
    "    * [3.2) DataFrame `products`](#dfproducts)\n",
    "    * [3.3) DataFrame `departments`](#departments)\n",
    "    * [3.4) DataFrame `aisles`](#dfaisles)\n",
    "    * [3.5) DataFrame `order_products`](#dforderproducts)\n",
    "* [4) Removendo Valores Ausentes](#missingvalues)\n",
    "    * [4.1) DataFrame `products`](#dfproducts)\n",
    "    * [4.2) DataFrame `orders`](#dforders)\n",
    "    * [4.3) DataFrame `order_products`](#dforderproducts)\n",
    "* [5) Análise de Dados](#datanalysis)\n",
    "    * [5.1) Verificação se os valores fazem sentido](#valuesmakesense)\n",
    "    * [5.2) Quantas pessoas fazem pedidos a cada hora do dia?](#ordersateachhour)\n",
    "    * [5.3) Em que dia da semana as pessoas fazem compras?](#dayoftheweek)\n",
    "    * [5.4) Quanto tempo as pessoas esperam até fazer outro pedido?](#waitbeforeplacing)\n",
    "    * [5.5) Diferenças nas quartas e sábados em 'order_hour_of_day'](#orderhourofday)\n",
    "    * [5.6) Distribuição do número de pedidos por cliente](#ordersnumberperclient)\n",
    "    * [5.7) Os 20 produtos mais populares](#20mostpopularproducts)\n",
    "    * [5.8) Quantos itens as pessoas normalmente compram em um pedido?](#howmanyitemsperorder)\n",
    "    * [5.9) Os 20 principais itens incluídos mais frequentemente em pedidos repetidos](#20itemsmostinrepeatorders)\n",
    "    * [5.10) Para cada produto, qual parcela de todos os pedidos dele são repetidos?](#proportionordersrepetead)\n",
    "    * [5.11) Os 20 principais itens que as pessoas colocam nos carrinhos antes de todos os outros](#20Itemsbeforeeveryone)\n",
    "* [Conclusão Geral](#end)"
   ]
  },
  {
   "cell_type": "markdown",
   "id": "mhIvmmkW414q",
   "metadata": {
    "id": "mhIvmmkW414q"
   },
   "source": [
    "# Introdução\n",
    "\n",
    "A Instacart é uma plataforma de entrega de supermercado onde os clientes podem fazer um pedido de supermercado e receber a compra em casa, semelhante ao funcionamento do Uber Eats e do iFood. O conjunto de dados foi modificado do original.\n"
   ]
  },
  {
   "cell_type": "markdown",
   "id": "c5d9a58f",
   "metadata": {},
   "source": [
    "# Objetivo do Projeto\n",
    "\n",
    "O objetivo deste projeto é limpar os dados e preparar um relatório que forneça informações sobre os hábitos de compra dos clientes da Instacart. "
   ]
  },
  {
   "cell_type": "markdown",
   "id": "3MbyzpOQZ5Or",
   "metadata": {
    "id": "3MbyzpOQZ5Or"
   },
   "source": [
    "## Dicionário de Dados\n",
    "\n",
    "Abaixo está um dicionário que lista as colunas de cada tabela e descreve os dados contidos nelas.\n",
    "\n",
    "- `instacart_orders.csv`: cada linha corresponde a um pedido no aplicativo da Instacart\n",
    "    - `'order_id'`: é o número de identificação unívoco de cada pedido\n",
    "    - `'user_id'`: é o número de identificação unívoco da conta de cada cliente\n",
    "    - `'order_number'`: é o número de vezes que o cliente fez um pedido\n",
    "    - `'order_dow'`: é o dia da semana em que o pedido foi feito (0 é domingo)\n",
    "    - `'order_hour_of_day'`: é a hora do dia em que o pedido foi feito\n",
    "    - `'days_since_prior_order'`: é o número de dias desde que o cliente fez seu pedido anterior\n",
    "\n",
    "\n",
    "\n",
    "\n",
    "- `products.csv`: cada linha corresponde a um produto unívoco que os clientes podem comprar\n",
    "    - `'product_id'`: é o número de identificação unívoco de cada produto\n",
    "    - `'product_name'`: é o nome do produto\n",
    "    - `'aisle_id'`: é o número de identificação unívoco de cada categoria de seção do supermercado\n",
    "    - `'department_id'`: é o número de identificação unívoco de cada categoria de departamento do supermercado\n",
    "\n",
    "\n",
    "\n",
    "\n",
    "-\t`order_products.csv`: cada linha corresponde a um item incluído em um pedido\n",
    "    -\t`'order_id'`: é o número de identificação unívoco de cada pedido\n",
    "    -\t`'product_id'`: é o número de identificação unívoco de cada produto\n",
    "    -\t`'add_to_cart_order'`: é a ordem sequencial em que cada item foi colocado no carrinho\n",
    "    -\t`'reordered'`: 0 se o cliente nunca comprou o produto antes, 1 se já o comprou\n",
    "\n",
    "\n",
    "\n",
    "\n",
    "-\t`aisles.csv`\n",
    "    -\t`'aisle_id'`: é o número de identificação unívoco de cada categoria de seção do supermercado\n",
    "    -\t`'aisle'`: é o nome da seção\n",
    "\n",
    "\n",
    "\n",
    "-\t`departments.csv`\n",
    "    -\t`'department_id'`: é o número de identificação unívoco de cada categoria de departamento do supermercado\n",
    "    -\t`'department'`: é o nome do departamento\n"
   ]
  },
  {
   "cell_type": "markdown",
   "id": "OmlQPLlyaAfR",
   "metadata": {
    "id": "OmlQPLlyaAfR"
   },
   "source": [
    "## Preparação de Dados"
   ]
  },
  {
   "cell_type": "code",
   "execution_count": 1,
   "id": "fbf1adab",
   "metadata": {
    "id": "fbf1adab"
   },
   "outputs": [],
   "source": [
    "import pandas as pd\n",
    "import numpy as np\n",
    "from matplotlib import pyplot as plt# Importe as bibliotecas"
   ]
  },
  {
   "cell_type": "code",
   "execution_count": 2,
   "id": "ad36396d",
   "metadata": {
    "id": "ad36396d"
   },
   "outputs": [],
   "source": [
    "orders_df = pd.read_csv('/datasets/instacart_orders.csv', sep = ';', decimal='.')\n",
    "products_df = pd.read_csv('/datasets/products.csv', sep = ';', decimal='.')\n",
    "aisles_df = pd.read_csv('/datasets/aisles.csv', sep = ';', decimal='.')\n",
    "departments_df = pd.read_csv('/datasets/departments.csv', sep = ';', decimal='.')\n",
    "order_products_df = pd.read_csv('/datasets/order_products.csv', sep = ';', decimal='.')\n",
    "# leia os conjuntos de dados em DataFrames"
   ]
  },
  {
   "cell_type": "code",
   "execution_count": 3,
   "id": "ad6a1efa",
   "metadata": {
    "id": "ad6a1efa"
   },
   "outputs": [
    {
     "name": "stdout",
     "output_type": "stream",
     "text": [
      "<class 'pandas.core.frame.DataFrame'>\n",
      "RangeIndex: 478967 entries, 0 to 478966\n",
      "Data columns (total 6 columns):\n",
      " #   Column                  Non-Null Count   Dtype  \n",
      "---  ------                  --------------   -----  \n",
      " 0   order_id                478967 non-null  int64  \n",
      " 1   user_id                 478967 non-null  int64  \n",
      " 2   order_number            478967 non-null  int64  \n",
      " 3   order_dow               478967 non-null  int64  \n",
      " 4   order_hour_of_day       478967 non-null  int64  \n",
      " 5   days_since_prior_order  450148 non-null  float64\n",
      "dtypes: float64(1), int64(5)\n",
      "memory usage: 21.9 MB\n"
     ]
    },
    {
     "data": {
      "text/html": [
       "<div>\n",
       "<style scoped>\n",
       "    .dataframe tbody tr th:only-of-type {\n",
       "        vertical-align: middle;\n",
       "    }\n",
       "\n",
       "    .dataframe tbody tr th {\n",
       "        vertical-align: top;\n",
       "    }\n",
       "\n",
       "    .dataframe thead th {\n",
       "        text-align: right;\n",
       "    }\n",
       "</style>\n",
       "<table border=\"1\" class=\"dataframe\">\n",
       "  <thead>\n",
       "    <tr style=\"text-align: right;\">\n",
       "      <th></th>\n",
       "      <th>order_id</th>\n",
       "      <th>user_id</th>\n",
       "      <th>order_number</th>\n",
       "      <th>order_dow</th>\n",
       "      <th>order_hour_of_day</th>\n",
       "      <th>days_since_prior_order</th>\n",
       "    </tr>\n",
       "  </thead>\n",
       "  <tbody>\n",
       "    <tr>\n",
       "      <th>0</th>\n",
       "      <td>1515936</td>\n",
       "      <td>183418</td>\n",
       "      <td>11</td>\n",
       "      <td>6</td>\n",
       "      <td>13</td>\n",
       "      <td>30.0</td>\n",
       "    </tr>\n",
       "    <tr>\n",
       "      <th>1</th>\n",
       "      <td>1690866</td>\n",
       "      <td>163593</td>\n",
       "      <td>5</td>\n",
       "      <td>5</td>\n",
       "      <td>12</td>\n",
       "      <td>9.0</td>\n",
       "    </tr>\n",
       "    <tr>\n",
       "      <th>2</th>\n",
       "      <td>1454967</td>\n",
       "      <td>39980</td>\n",
       "      <td>4</td>\n",
       "      <td>5</td>\n",
       "      <td>19</td>\n",
       "      <td>2.0</td>\n",
       "    </tr>\n",
       "    <tr>\n",
       "      <th>3</th>\n",
       "      <td>1768857</td>\n",
       "      <td>82516</td>\n",
       "      <td>56</td>\n",
       "      <td>0</td>\n",
       "      <td>20</td>\n",
       "      <td>10.0</td>\n",
       "    </tr>\n",
       "    <tr>\n",
       "      <th>4</th>\n",
       "      <td>3007858</td>\n",
       "      <td>196724</td>\n",
       "      <td>2</td>\n",
       "      <td>4</td>\n",
       "      <td>12</td>\n",
       "      <td>17.0</td>\n",
       "    </tr>\n",
       "  </tbody>\n",
       "</table>\n",
       "</div>"
      ],
      "text/plain": [
       "   order_id  user_id  order_number  order_dow  order_hour_of_day  \\\n",
       "0   1515936   183418            11          6                 13   \n",
       "1   1690866   163593             5          5                 12   \n",
       "2   1454967    39980             4          5                 19   \n",
       "3   1768857    82516            56          0                 20   \n",
       "4   3007858   196724             2          4                 12   \n",
       "\n",
       "   days_since_prior_order  \n",
       "0                    30.0  \n",
       "1                     9.0  \n",
       "2                     2.0  \n",
       "3                    10.0  \n",
       "4                    17.0  "
      ]
     },
     "execution_count": 3,
     "metadata": {},
     "output_type": "execute_result"
    }
   ],
   "source": [
    "column_names = [\n",
    "    'order_id',\n",
    "    'user_id',\n",
    "    'order_number',\n",
    "    'order_dow',\n",
    "    'order_hour_of_day',\n",
    "    'days_since_prior_order'\n",
    "]\n",
    "\n",
    "orders_df.info()\n",
    "orders_df.head()# imprima as informações sobre o DataFrame"
   ]
  },
  {
   "cell_type": "code",
   "execution_count": 4,
   "id": "5130e05e",
   "metadata": {
    "id": "5130e05e"
   },
   "outputs": [
    {
     "name": "stdout",
     "output_type": "stream",
     "text": [
      "<class 'pandas.core.frame.DataFrame'>\n",
      "RangeIndex: 49694 entries, 0 to 49693\n",
      "Data columns (total 4 columns):\n",
      " #   Column         Non-Null Count  Dtype \n",
      "---  ------         --------------  ----- \n",
      " 0   product_id     49694 non-null  int64 \n",
      " 1   product_name   48436 non-null  object\n",
      " 2   aisle_id       49694 non-null  int64 \n",
      " 3   department_id  49694 non-null  int64 \n",
      "dtypes: int64(3), object(1)\n",
      "memory usage: 1.5+ MB\n"
     ]
    },
    {
     "data": {
      "text/html": [
       "<div>\n",
       "<style scoped>\n",
       "    .dataframe tbody tr th:only-of-type {\n",
       "        vertical-align: middle;\n",
       "    }\n",
       "\n",
       "    .dataframe tbody tr th {\n",
       "        vertical-align: top;\n",
       "    }\n",
       "\n",
       "    .dataframe thead th {\n",
       "        text-align: right;\n",
       "    }\n",
       "</style>\n",
       "<table border=\"1\" class=\"dataframe\">\n",
       "  <thead>\n",
       "    <tr style=\"text-align: right;\">\n",
       "      <th></th>\n",
       "      <th>product_id</th>\n",
       "      <th>product_name</th>\n",
       "      <th>aisle_id</th>\n",
       "      <th>department_id</th>\n",
       "    </tr>\n",
       "  </thead>\n",
       "  <tbody>\n",
       "    <tr>\n",
       "      <th>0</th>\n",
       "      <td>1</td>\n",
       "      <td>Chocolate Sandwich Cookies</td>\n",
       "      <td>61</td>\n",
       "      <td>19</td>\n",
       "    </tr>\n",
       "    <tr>\n",
       "      <th>1</th>\n",
       "      <td>2</td>\n",
       "      <td>All-Seasons Salt</td>\n",
       "      <td>104</td>\n",
       "      <td>13</td>\n",
       "    </tr>\n",
       "    <tr>\n",
       "      <th>2</th>\n",
       "      <td>3</td>\n",
       "      <td>Robust Golden Unsweetened Oolong Tea</td>\n",
       "      <td>94</td>\n",
       "      <td>7</td>\n",
       "    </tr>\n",
       "    <tr>\n",
       "      <th>3</th>\n",
       "      <td>4</td>\n",
       "      <td>Smart Ones Classic Favorites Mini Rigatoni Wit...</td>\n",
       "      <td>38</td>\n",
       "      <td>1</td>\n",
       "    </tr>\n",
       "    <tr>\n",
       "      <th>4</th>\n",
       "      <td>5</td>\n",
       "      <td>Green Chile Anytime Sauce</td>\n",
       "      <td>5</td>\n",
       "      <td>13</td>\n",
       "    </tr>\n",
       "  </tbody>\n",
       "</table>\n",
       "</div>"
      ],
      "text/plain": [
       "   product_id                                       product_name  aisle_id  \\\n",
       "0           1                         Chocolate Sandwich Cookies        61   \n",
       "1           2                                   All-Seasons Salt       104   \n",
       "2           3               Robust Golden Unsweetened Oolong Tea        94   \n",
       "3           4  Smart Ones Classic Favorites Mini Rigatoni Wit...        38   \n",
       "4           5                          Green Chile Anytime Sauce         5   \n",
       "\n",
       "   department_id  \n",
       "0             19  \n",
       "1             13  \n",
       "2              7  \n",
       "3              1  \n",
       "4             13  "
      ]
     },
     "execution_count": 4,
     "metadata": {},
     "output_type": "execute_result"
    }
   ],
   "source": [
    "column_names = [\n",
    "    'product_id',\n",
    "    'product_name',\n",
    "    'aisle_id',\n",
    "    'department_id' \n",
    "]\n",
    "\n",
    "products_df.info()\n",
    "products_df.head()# imprima as informações sobre o DataFrame"
   ]
  },
  {
   "cell_type": "code",
   "execution_count": 5,
   "id": "d8370c05",
   "metadata": {
    "id": "d8370c05"
   },
   "outputs": [
    {
     "name": "stdout",
     "output_type": "stream",
     "text": [
      "<class 'pandas.core.frame.DataFrame'>\n",
      "RangeIndex: 134 entries, 0 to 133\n",
      "Data columns (total 2 columns):\n",
      " #   Column    Non-Null Count  Dtype \n",
      "---  ------    --------------  ----- \n",
      " 0   aisle_id  134 non-null    int64 \n",
      " 1   aisle     134 non-null    object\n",
      "dtypes: int64(1), object(1)\n",
      "memory usage: 2.2+ KB\n"
     ]
    },
    {
     "data": {
      "text/html": [
       "<div>\n",
       "<style scoped>\n",
       "    .dataframe tbody tr th:only-of-type {\n",
       "        vertical-align: middle;\n",
       "    }\n",
       "\n",
       "    .dataframe tbody tr th {\n",
       "        vertical-align: top;\n",
       "    }\n",
       "\n",
       "    .dataframe thead th {\n",
       "        text-align: right;\n",
       "    }\n",
       "</style>\n",
       "<table border=\"1\" class=\"dataframe\">\n",
       "  <thead>\n",
       "    <tr style=\"text-align: right;\">\n",
       "      <th></th>\n",
       "      <th>aisle_id</th>\n",
       "      <th>aisle</th>\n",
       "    </tr>\n",
       "  </thead>\n",
       "  <tbody>\n",
       "    <tr>\n",
       "      <th>0</th>\n",
       "      <td>1</td>\n",
       "      <td>prepared soups salads</td>\n",
       "    </tr>\n",
       "    <tr>\n",
       "      <th>1</th>\n",
       "      <td>2</td>\n",
       "      <td>specialty cheeses</td>\n",
       "    </tr>\n",
       "    <tr>\n",
       "      <th>2</th>\n",
       "      <td>3</td>\n",
       "      <td>energy granola bars</td>\n",
       "    </tr>\n",
       "    <tr>\n",
       "      <th>3</th>\n",
       "      <td>4</td>\n",
       "      <td>instant foods</td>\n",
       "    </tr>\n",
       "    <tr>\n",
       "      <th>4</th>\n",
       "      <td>5</td>\n",
       "      <td>marinades meat preparation</td>\n",
       "    </tr>\n",
       "  </tbody>\n",
       "</table>\n",
       "</div>"
      ],
      "text/plain": [
       "   aisle_id                       aisle\n",
       "0         1       prepared soups salads\n",
       "1         2           specialty cheeses\n",
       "2         3         energy granola bars\n",
       "3         4               instant foods\n",
       "4         5  marinades meat preparation"
      ]
     },
     "execution_count": 5,
     "metadata": {},
     "output_type": "execute_result"
    }
   ],
   "source": [
    "column_names = [\n",
    "    'order_id',\n",
    "    'product_id',\n",
    "    'add_to_cart_order',\n",
    "    'reordered' \n",
    "]\n",
    "\n",
    "aisles_df.info(show_counts=True)\n",
    "aisles_df.head()# imprima as informações sobre o DataFrame"
   ]
  },
  {
   "cell_type": "code",
   "execution_count": 6,
   "id": "59e2090f",
   "metadata": {
    "id": "59e2090f"
   },
   "outputs": [
    {
     "name": "stdout",
     "output_type": "stream",
     "text": [
      "<class 'pandas.core.frame.DataFrame'>\n",
      "RangeIndex: 21 entries, 0 to 20\n",
      "Data columns (total 2 columns):\n",
      " #   Column         Non-Null Count  Dtype \n",
      "---  ------         --------------  ----- \n",
      " 0   department_id  21 non-null     int64 \n",
      " 1   department     21 non-null     object\n",
      "dtypes: int64(1), object(1)\n",
      "memory usage: 464.0+ bytes\n"
     ]
    },
    {
     "data": {
      "text/html": [
       "<div>\n",
       "<style scoped>\n",
       "    .dataframe tbody tr th:only-of-type {\n",
       "        vertical-align: middle;\n",
       "    }\n",
       "\n",
       "    .dataframe tbody tr th {\n",
       "        vertical-align: top;\n",
       "    }\n",
       "\n",
       "    .dataframe thead th {\n",
       "        text-align: right;\n",
       "    }\n",
       "</style>\n",
       "<table border=\"1\" class=\"dataframe\">\n",
       "  <thead>\n",
       "    <tr style=\"text-align: right;\">\n",
       "      <th></th>\n",
       "      <th>department_id</th>\n",
       "      <th>department</th>\n",
       "    </tr>\n",
       "  </thead>\n",
       "  <tbody>\n",
       "    <tr>\n",
       "      <th>0</th>\n",
       "      <td>1</td>\n",
       "      <td>frozen</td>\n",
       "    </tr>\n",
       "    <tr>\n",
       "      <th>1</th>\n",
       "      <td>2</td>\n",
       "      <td>other</td>\n",
       "    </tr>\n",
       "    <tr>\n",
       "      <th>2</th>\n",
       "      <td>3</td>\n",
       "      <td>bakery</td>\n",
       "    </tr>\n",
       "    <tr>\n",
       "      <th>3</th>\n",
       "      <td>4</td>\n",
       "      <td>produce</td>\n",
       "    </tr>\n",
       "    <tr>\n",
       "      <th>4</th>\n",
       "      <td>5</td>\n",
       "      <td>alcohol</td>\n",
       "    </tr>\n",
       "  </tbody>\n",
       "</table>\n",
       "</div>"
      ],
      "text/plain": [
       "   department_id department\n",
       "0              1     frozen\n",
       "1              2      other\n",
       "2              3     bakery\n",
       "3              4    produce\n",
       "4              5    alcohol"
      ]
     },
     "execution_count": 6,
     "metadata": {},
     "output_type": "execute_result"
    }
   ],
   "source": [
    "column_names = [\n",
    "    'aisle_id',\n",
    "    'aisle',\n",
    "]\n",
    "\n",
    "departments_df.info()\n",
    "departments_df.head()# imprima as informações sobre o DataFrame"
   ]
  },
  {
   "cell_type": "code",
   "execution_count": 7,
   "id": "6fc81694",
   "metadata": {
    "id": "6fc81694"
   },
   "outputs": [
    {
     "name": "stdout",
     "output_type": "stream",
     "text": [
      "<class 'pandas.core.frame.DataFrame'>\n",
      "RangeIndex: 4545007 entries, 0 to 4545006\n",
      "Data columns (total 4 columns):\n",
      " #   Column             Dtype  \n",
      "---  ------             -----  \n",
      " 0   order_id           int64  \n",
      " 1   product_id         int64  \n",
      " 2   add_to_cart_order  float64\n",
      " 3   reordered          int64  \n",
      "dtypes: float64(1), int64(3)\n",
      "memory usage: 138.7 MB\n"
     ]
    },
    {
     "data": {
      "text/html": [
       "<div>\n",
       "<style scoped>\n",
       "    .dataframe tbody tr th:only-of-type {\n",
       "        vertical-align: middle;\n",
       "    }\n",
       "\n",
       "    .dataframe tbody tr th {\n",
       "        vertical-align: top;\n",
       "    }\n",
       "\n",
       "    .dataframe thead th {\n",
       "        text-align: right;\n",
       "    }\n",
       "</style>\n",
       "<table border=\"1\" class=\"dataframe\">\n",
       "  <thead>\n",
       "    <tr style=\"text-align: right;\">\n",
       "      <th></th>\n",
       "      <th>order_id</th>\n",
       "      <th>product_id</th>\n",
       "      <th>add_to_cart_order</th>\n",
       "      <th>reordered</th>\n",
       "    </tr>\n",
       "  </thead>\n",
       "  <tbody>\n",
       "    <tr>\n",
       "      <th>0</th>\n",
       "      <td>2141543</td>\n",
       "      <td>11440</td>\n",
       "      <td>17.0</td>\n",
       "      <td>0</td>\n",
       "    </tr>\n",
       "    <tr>\n",
       "      <th>1</th>\n",
       "      <td>567889</td>\n",
       "      <td>1560</td>\n",
       "      <td>1.0</td>\n",
       "      <td>1</td>\n",
       "    </tr>\n",
       "    <tr>\n",
       "      <th>2</th>\n",
       "      <td>2261212</td>\n",
       "      <td>26683</td>\n",
       "      <td>1.0</td>\n",
       "      <td>1</td>\n",
       "    </tr>\n",
       "    <tr>\n",
       "      <th>3</th>\n",
       "      <td>491251</td>\n",
       "      <td>8670</td>\n",
       "      <td>35.0</td>\n",
       "      <td>1</td>\n",
       "    </tr>\n",
       "    <tr>\n",
       "      <th>4</th>\n",
       "      <td>2571142</td>\n",
       "      <td>1940</td>\n",
       "      <td>5.0</td>\n",
       "      <td>1</td>\n",
       "    </tr>\n",
       "  </tbody>\n",
       "</table>\n",
       "</div>"
      ],
      "text/plain": [
       "   order_id  product_id  add_to_cart_order  reordered\n",
       "0   2141543       11440               17.0          0\n",
       "1    567889        1560                1.0          1\n",
       "2   2261212       26683                1.0          1\n",
       "3    491251        8670               35.0          1\n",
       "4   2571142        1940                5.0          1"
      ]
     },
     "execution_count": 7,
     "metadata": {},
     "output_type": "execute_result"
    }
   ],
   "source": [
    "column_names = [\n",
    "    'department_id',\n",
    "    'department'\n",
    "]\n",
    "\n",
    "order_products_df.info()\n",
    "order_products_df.head()# imprima as informações sobre o DataFrame"
   ]
  },
  {
   "cell_type": "markdown",
   "id": "t75BD19oaR5f",
   "metadata": {
    "id": "t75BD19oaR5f"
   },
   "source": [
    "Após análise das informações dadas através do método info(), conseguimos levantar as seguintes informações sobre os DataFrames:\n",
    "\n",
    "- Número de linhas (RangeIndex: o número de entries varia para cada DF)\n",
    "- Número de colunas (varia para cada DF)\n",
    "- Nome de cada coluna (Column)\n",
    "- Número de valores em cada coluna que não estão ausentes (Non-Null Count)\n",
    "- Tipo de dados de cada coluna (Dtype)\n",
    "\n",
    "- O tipo de dados não é o mesmo em todos os df (object, float64, int64);\n",
    "- O \"df3\" não forneceu o número de de valores não-nulos presentes. Logo, foi aplicado 'show_counts=True' para imprimir as contagens de valores não nulos;\n",
    "- O número e nomes das colunas são diferentes em cada df;\n",
    "- O parâmetro utilizado em todos os df foi \"sep = ';', decimal='.'\".\n"
   ]
  },
  {
   "cell_type": "markdown",
   "id": "p6poABZQaZYb",
   "metadata": {
    "id": "p6poABZQaZYb"
   },
   "source": [
    "## Plano de Solução\n",
    "\n",
    "Após chamar o método info() e visualizar as informações gerais dos DataFrames, podemos começar determinando o número de valores ausentes e duplicados, e com as informações organizadas, vamos preencher valores ausentes, e eliminar os duplicados para facilitar nosso processamento de dados posteriormente. "
   ]
  },
  {
   "cell_type": "markdown",
   "id": "f179f0a9",
   "metadata": {
    "id": "f179f0a9"
   },
   "source": [
    "### DataFrame `orders`"
   ]
  },
  {
   "cell_type": "code",
   "execution_count": 8,
   "id": "b99297a5-405a-463d-8535-9adc3da4ad74",
   "metadata": {
    "id": "b99297a5-405a-463d-8535-9adc3da4ad74"
   },
   "outputs": [
    {
     "name": "stdout",
     "output_type": "stream",
     "text": [
      "15\n"
     ]
    }
   ],
   "source": [
    "orders_duplicated = orders_df.duplicated().sum()\n",
    "print(orders_duplicated)# Verificar se há pedidos duplicados"
   ]
  },
  {
   "cell_type": "markdown",
   "id": "PEkwUX_gvt5A",
   "metadata": {
    "id": "PEkwUX_gvt5A"
   },
   "source": [
    "As linhas duplicadas possuem padrão de dia e hora (quarta-feira e 2 da manhã)"
   ]
  },
  {
   "cell_type": "code",
   "execution_count": 9,
   "id": "0d44de5d",
   "metadata": {
    "id": "0d44de5d"
   },
   "outputs": [
    {
     "name": "stdout",
     "output_type": "stream",
     "text": [
      "        order_id  user_id  order_number  order_dow  order_hour_of_day  \\\n",
      "1295     1474941   115569             5          2                  2   \n",
      "2391     1640269   173965            15          2                  2   \n",
      "2550     1223696    55276            11          2                  2   \n",
      "5965      579194    85018            14          2                  2   \n",
      "17680    2004230   203121             4          2                  2   \n",
      "...          ...      ...           ...        ...                ...   \n",
      "457660   1562381    19378             5          2                  2   \n",
      "460316   1986084   117453            81          2                  2   \n",
      "462676   1362113    19654            20          2                  2   \n",
      "472800   1746383    88484            19          2                  2   \n",
      "472923   1519815   149345             1          2                  2   \n",
      "\n",
      "        days_since_prior_order  \n",
      "1295                      28.0  \n",
      "2391                       2.0  \n",
      "2550                      30.0  \n",
      "5965                      11.0  \n",
      "17680                      8.0  \n",
      "...                        ...  \n",
      "457660                     6.0  \n",
      "460316                     8.0  \n",
      "462676                    21.0  \n",
      "472800                     5.0  \n",
      "472923                     NaN  \n",
      "\n",
      "[136 rows x 6 columns]\n"
     ]
    }
   ],
   "source": [
    "wednesday_orders_at_2am = orders_df[(orders_df['order_dow'] == 2) & (orders_df['order_hour_of_day'] == 2)]\n",
    "print(wednesday_orders_at_2am)# verifique todos os pedidos feitos às 2h da manhã nas quartas-feiras"
   ]
  },
  {
   "cell_type": "markdown",
   "id": "vu2OWyoqwOx5",
   "metadata": {
    "id": "vu2OWyoqwOx5"
   },
   "source": [
    "O que esse resultado quer dizer? Essa análise é útil para entender os padrões de comportamento dos clientes, como por exemplo, se há um número significativo de pedidos feitos em um horário específico durante a semana. Isso pode ser usado para ajustar a operação do negócio, como alocação de recursos ou promoções específicas para esse horário."
   ]
  },
  {
   "cell_type": "code",
   "execution_count": 10,
   "id": "480563c7",
   "metadata": {
    "id": "480563c7"
   },
   "outputs": [],
   "source": [
    "orders_df = orders_df.drop_duplicates()# Remova pedidos duplicados"
   ]
  },
  {
   "cell_type": "code",
   "execution_count": 11,
   "id": "0b2396a2",
   "metadata": {
    "id": "0b2396a2"
   },
   "outputs": [
    {
     "data": {
      "text/plain": [
       "0"
      ]
     },
     "execution_count": 11,
     "metadata": {},
     "output_type": "execute_result"
    }
   ],
   "source": [
    "orders_df.duplicated().sum()# Verifique as linhas duplicadas mais uma vez"
   ]
  },
  {
   "cell_type": "code",
   "execution_count": 12,
   "id": "f6113ef1",
   "metadata": {
    "id": "f6113ef1"
   },
   "outputs": [
    {
     "name": "stdout",
     "output_type": "stream",
     "text": [
      "0\n"
     ]
    }
   ],
   "source": [
    "print(orders_df.duplicated(subset=['order_id']).sum())# Verifique novamente apenas os IDs de pedidos duplicados"
   ]
  },
  {
   "cell_type": "markdown",
   "id": "5e8905ae",
   "metadata": {
    "id": "5e8905ae"
   },
   "source": [
    "Após remover as linhas duplicadas do DataFrame orders_df, não havia mais linhas duplicadas em todo o DataFrame.\n",
    "Especificamente em relação aos IDs de pedidos, não havia IDs de pedidos duplicados após a remoção das linhas duplicadas."
   ]
  },
  {
   "cell_type": "markdown",
   "id": "45e6bc46",
   "metadata": {
    "id": "45e6bc46"
   },
   "source": [
    "### DataFrame `products`"
   ]
  },
  {
   "cell_type": "code",
   "execution_count": 13,
   "id": "5f526b5b-8175-46fa-a0fd-441767d50e64",
   "metadata": {
    "id": "5f526b5b-8175-46fa-a0fd-441767d50e64"
   },
   "outputs": [
    {
     "data": {
      "text/plain": [
       "0"
      ]
     },
     "execution_count": 13,
     "metadata": {},
     "output_type": "execute_result"
    }
   ],
   "source": [
    "products_df.duplicated().sum()# Verifique se há linhas completamente duplicadas"
   ]
  },
  {
   "cell_type": "code",
   "execution_count": 14,
   "id": "88daa4f4",
   "metadata": {
    "id": "88daa4f4"
   },
   "outputs": [
    {
     "name": "stdout",
     "output_type": "stream",
     "text": [
      "49673\n"
     ]
    }
   ],
   "source": [
    "print(products_df.duplicated(subset=['department_id']).sum())# Verifique apenas se há IDs de departamentos duplicados"
   ]
  },
  {
   "cell_type": "code",
   "execution_count": 15,
   "id": "c773f0bf",
   "metadata": {
    "id": "c773f0bf"
   },
   "outputs": [
    {
     "name": "stdout",
     "output_type": "stream",
     "text": [
      "1361\n"
     ]
    }
   ],
   "source": [
    "product_name_lower = products_df['product_name'].str.lower()\n",
    "product_name_duplicated = product_name_lower.duplicated().sum()\n",
    "print(product_name_duplicated)# Verifique apenas se há nomes de produtos duplicados (converta os nomes para minúsculas para uma comparação melhor)\n"
   ]
  },
  {
   "cell_type": "code",
   "execution_count": 16,
   "id": "01efd02e",
   "metadata": {
    "id": "01efd02e"
   },
   "outputs": [
    {
     "name": "stdout",
     "output_type": "stream",
     "text": [
      "Face Exfoliate                                        1\n",
      "Tropical Fusion Liquid Water Enhancer                 1\n",
      "Ranch Peppercorn Dressing                             1\n",
      "Original Export Sodas Crackers                        1\n",
      "Honey Patties- Chocolate Almond                       1\n",
      "                                                     ..\n",
      "Avocado Oil Non-Stick Cooking Spray                   1\n",
      "Compleats Good Mornings Sausage Breakfast Scramble    1\n",
      "Almond Milk Beeswax Hand Creme                        1\n",
      "Ultra Clean Mint Floss                                1\n",
      "Organic Jumbo Garlic                                  1\n",
      "Name: product_name, Length: 48436, dtype: int64\n"
     ]
    }
   ],
   "source": [
    "print(products_df['product_name'].value_counts(dropna=True))# Verifique os nomes de produtos duplicados que não estão faltando"
   ]
  },
  {
   "cell_type": "markdown",
   "id": "9da8d293",
   "metadata": {
    "id": "9da8d293"
   },
   "source": [
    "Não há linhas completamente duplicadas.\n",
    "Não há IDs de departamentos duplicados.\n",
    "Quando os nomes dos produtos foram convertidos para minúsculas para facilitar a comparação, descobrimos que existem alguns nomes de produtos duplicados.\n",
    "\n",
    "A impressão do valor contado dos nomes de produtos no DF me permitiu identificar quais nomes de produtos estão duplicados, mas não estão faltando no conjunto de dados. Essa verificação me permite garantir a integridade dos dados, eliminando duplicatas que podem levar a inconsistências ou distorções nas análises posteriores."
   ]
  },
  {
   "cell_type": "markdown",
   "id": "60f30db1",
   "metadata": {
    "id": "60f30db1"
   },
   "source": [
    "### DataFrame `departments`"
   ]
  },
  {
   "cell_type": "code",
   "execution_count": 17,
   "id": "fb410ad4-0fbf-4b80-bb09-23fdea79afe3",
   "metadata": {
    "id": "fb410ad4-0fbf-4b80-bb09-23fdea79afe3"
   },
   "outputs": [
    {
     "data": {
      "text/plain": [
       "0"
      ]
     },
     "execution_count": 17,
     "metadata": {},
     "output_type": "execute_result"
    }
   ],
   "source": [
    "departments_df.duplicated().sum()# Verifique se há linhas completamente duplicadas"
   ]
  },
  {
   "cell_type": "code",
   "execution_count": 18,
   "id": "332b12bb",
   "metadata": {
    "id": "332b12bb"
   },
   "outputs": [
    {
     "name": "stdout",
     "output_type": "stream",
     "text": [
      "49673\n"
     ]
    }
   ],
   "source": [
    "print(products_df.duplicated(subset=['department_id']).sum())# Verifique apenas se há IDs dos produtos duplicados"
   ]
  },
  {
   "cell_type": "markdown",
   "id": "bd30d78e",
   "metadata": {
    "id": "bd30d78e"
   },
   "source": [
    "Não há ações imediatas necessárias, pois não foram encontradas duplicatas."
   ]
  },
  {
   "cell_type": "markdown",
   "id": "889349c1",
   "metadata": {
    "id": "889349c1"
   },
   "source": [
    "### DataFrame `aisles`"
   ]
  },
  {
   "cell_type": "code",
   "execution_count": 19,
   "id": "9da89fb9-4679-40f5-ad0d-c34df753a3f8",
   "metadata": {
    "id": "9da89fb9-4679-40f5-ad0d-c34df753a3f8"
   },
   "outputs": [
    {
     "data": {
      "text/plain": [
       "0"
      ]
     },
     "execution_count": 19,
     "metadata": {},
     "output_type": "execute_result"
    }
   ],
   "source": [
    "aisles_df.duplicated().sum()# Verifique se há linhas completamente duplicadas"
   ]
  },
  {
   "cell_type": "code",
   "execution_count": 20,
   "id": "da7c2822",
   "metadata": {
    "id": "da7c2822"
   },
   "outputs": [
    {
     "data": {
      "text/plain": [
       "0"
      ]
     },
     "execution_count": 20,
     "metadata": {},
     "output_type": "execute_result"
    }
   ],
   "source": [
    "aisles_df.duplicated(subset=['aisle_id']).sum()# Verifique apenas se há IDs dos produtos duplicados"
   ]
  },
  {
   "cell_type": "markdown",
   "id": "ac63826f",
   "metadata": {
    "id": "ac63826f"
   },
   "source": [
    "Não há ações imediatas necessárias, pois não foram encontradas duplicatas."
   ]
  },
  {
   "cell_type": "markdown",
   "id": "274cd06a",
   "metadata": {
    "id": "274cd06a"
   },
   "source": [
    "### DataFrame `order_products`"
   ]
  },
  {
   "cell_type": "code",
   "execution_count": 21,
   "id": "52326689-84a8-4b8f-a881-7c68780f62c9",
   "metadata": {
    "id": "52326689-84a8-4b8f-a881-7c68780f62c9"
   },
   "outputs": [
    {
     "data": {
      "text/plain": [
       "0"
      ]
     },
     "execution_count": 21,
     "metadata": {},
     "output_type": "execute_result"
    }
   ],
   "source": [
    "order_products_df.duplicated().sum()# Verifique se há linhas completamente duplicadas"
   ]
  },
  {
   "cell_type": "code",
   "execution_count": 22,
   "id": "7b861391",
   "metadata": {
    "id": "7b861391"
   },
   "outputs": [
    {
     "data": {
      "text/plain": [
       "order_id  product_id  add_to_cart_order  reordered\n",
       "4         10054       5.0                1            1\n",
       "2277733   35233       5.0                1            1\n",
       "2277734   15233       4.0                1            1\n",
       "          11471       2.0                1            1\n",
       "          6374        3.0                1            1\n",
       "                                                     ..\n",
       "1145037   26790       21.0               1            1\n",
       "          27767       10.0               1            1\n",
       "          32086       16.0               0            1\n",
       "          33572       5.0                1            1\n",
       "3421079   30136       1.0                0            1\n",
       "Length: 4544171, dtype: int64"
      ]
     },
     "execution_count": 22,
     "metadata": {},
     "output_type": "execute_result"
    }
   ],
   "source": [
    "order_products_df.value_counts()# Verifique mais uma vez se há outros casos complicados de duplicados"
   ]
  },
  {
   "cell_type": "markdown",
   "id": "0b890492",
   "metadata": {
    "id": "0b890492"
   },
   "source": [
    "Não foram encontradas linhas completamente duplicadas no DataFrame."
   ]
  },
  {
   "cell_type": "markdown",
   "id": "1e46de76",
   "metadata": {
    "id": "1e46de76"
   },
   "source": [
    "## Removendo Valores Ausentes\n",
    "\n",
    "\n",
    "Ao processarmos valores duplicados, observamos que também temos valores ausentes que precisamos investigar nas seguintes colunas:\n",
    "\n",
    "*\tA coluna `'product_name'` da tabela products.\n",
    "*\tA coluna `'days_since_prior_order'` da tabela orders.\n",
    "*\tA coluna `'add_to_cart_order'` da tabela order_products.\n"
   ]
  },
  {
   "cell_type": "markdown",
   "id": "c0aebd78",
   "metadata": {
    "id": "c0aebd78"
   },
   "source": [
    "### DataFrame `products`"
   ]
  },
  {
   "cell_type": "code",
   "execution_count": 23,
   "id": "fe4a8b0f",
   "metadata": {
    "id": "fe4a8b0f"
   },
   "outputs": [
    {
     "name": "stdout",
     "output_type": "stream",
     "text": [
      "       product_id product_name  aisle_id  department_id\n",
      "37             38          NaN       100             21\n",
      "71             72          NaN       100             21\n",
      "109           110          NaN       100             21\n",
      "296           297          NaN       100             21\n",
      "416           417          NaN       100             21\n",
      "...           ...          ...       ...            ...\n",
      "49552       49553          NaN       100             21\n",
      "49574       49575          NaN       100             21\n",
      "49640       49641          NaN       100             21\n",
      "49663       49664          NaN       100             21\n",
      "49668       49669          NaN       100             21\n",
      "\n",
      "[1258 rows x 4 columns]\n"
     ]
    },
    {
     "data": {
      "text/plain": [
       "1258"
      ]
     },
     "execution_count": 23,
     "metadata": {},
     "output_type": "execute_result"
    }
   ],
   "source": [
    "missing_products = products_df[products_df['product_name'].isna()]\n",
    "\n",
    "print(missing_products)# Encontre valores ausentes na coluna 'product_name'\n",
    "\n",
    "products_df['product_name'].isna().sum()"
   ]
  },
  {
   "cell_type": "markdown",
   "id": "-A6x1AbJhjkp",
   "metadata": {
    "id": "-A6x1AbJhjkp"
   },
   "source": [
    "Há linhas no DataFrame onde o nome do produto está ausente (NaN)."
   ]
  },
  {
   "cell_type": "code",
   "execution_count": 24,
   "id": "e96167bc",
   "metadata": {
    "id": "e96167bc"
   },
   "outputs": [
    {
     "data": {
      "text/plain": [
       "array([100])"
      ]
     },
     "execution_count": 24,
     "metadata": {},
     "output_type": "execute_result"
    }
   ],
   "source": [
    "missing_products['aisle_id'].unique() \n",
    "# Todos os nomes de produtos ausentes estão associados com a seção de ID 100?"
   ]
  },
  {
   "cell_type": "markdown",
   "id": "WRpIfXRphpSL",
   "metadata": {
    "id": "WRpIfXRphpSL"
   },
   "source": [
    "Todos os produtos com nomes ausentes estão associados ao ID de seção 100."
   ]
  },
  {
   "cell_type": "code",
   "execution_count": 25,
   "id": "8fd0a541",
   "metadata": {
    "id": "8fd0a541"
   },
   "outputs": [
    {
     "data": {
      "text/plain": [
       "array([21])"
      ]
     },
     "execution_count": 25,
     "metadata": {},
     "output_type": "execute_result"
    }
   ],
   "source": [
    "missing_products['department_id'].unique() # Todos os nomes de produtos ausentes estão associados com o departamento de ID 21?"
   ]
  },
  {
   "cell_type": "markdown",
   "id": "qDpdYn1Fht_I",
   "metadata": {
    "id": "qDpdYn1Fht_I"
   },
   "source": [
    "Todos os produtos com nomes ausentes estão associados ao ID de departamento 21."
   ]
  },
  {
   "cell_type": "code",
   "execution_count": 26,
   "id": "325c3464",
   "metadata": {
    "id": "325c3464"
   },
   "outputs": [
    {
     "data": {
      "text/html": [
       "<div>\n",
       "<style scoped>\n",
       "    .dataframe tbody tr th:only-of-type {\n",
       "        vertical-align: middle;\n",
       "    }\n",
       "\n",
       "    .dataframe tbody tr th {\n",
       "        vertical-align: top;\n",
       "    }\n",
       "\n",
       "    .dataframe thead th {\n",
       "        text-align: right;\n",
       "    }\n",
       "</style>\n",
       "<table border=\"1\" class=\"dataframe\">\n",
       "  <thead>\n",
       "    <tr style=\"text-align: right;\">\n",
       "      <th></th>\n",
       "      <th>aisle_id</th>\n",
       "      <th>aisle</th>\n",
       "    </tr>\n",
       "  </thead>\n",
       "  <tbody>\n",
       "    <tr>\n",
       "      <th>99</th>\n",
       "      <td>100</td>\n",
       "      <td>missing</td>\n",
       "    </tr>\n",
       "  </tbody>\n",
       "</table>\n",
       "</div>"
      ],
      "text/plain": [
       "    aisle_id    aisle\n",
       "99       100  missing"
      ]
     },
     "execution_count": 26,
     "metadata": {},
     "output_type": "execute_result"
    }
   ],
   "source": [
    "aisles_df[aisles_df['aisle_id'] == 100]\n",
    "# Use as tabelas de departamentos e seções para verificar os dados da seção ID 100 e do departamento ID 21."
   ]
  },
  {
   "cell_type": "code",
   "execution_count": 27,
   "id": "b390a4bf",
   "metadata": {},
   "outputs": [
    {
     "data": {
      "text/html": [
       "<div>\n",
       "<style scoped>\n",
       "    .dataframe tbody tr th:only-of-type {\n",
       "        vertical-align: middle;\n",
       "    }\n",
       "\n",
       "    .dataframe tbody tr th {\n",
       "        vertical-align: top;\n",
       "    }\n",
       "\n",
       "    .dataframe thead th {\n",
       "        text-align: right;\n",
       "    }\n",
       "</style>\n",
       "<table border=\"1\" class=\"dataframe\">\n",
       "  <thead>\n",
       "    <tr style=\"text-align: right;\">\n",
       "      <th></th>\n",
       "      <th>department_id</th>\n",
       "      <th>department</th>\n",
       "    </tr>\n",
       "  </thead>\n",
       "  <tbody>\n",
       "    <tr>\n",
       "      <th>20</th>\n",
       "      <td>21</td>\n",
       "      <td>missing</td>\n",
       "    </tr>\n",
       "  </tbody>\n",
       "</table>\n",
       "</div>"
      ],
      "text/plain": [
       "    department_id department\n",
       "20             21    missing"
      ]
     },
     "execution_count": 27,
     "metadata": {},
     "output_type": "execute_result"
    }
   ],
   "source": [
    "departments_df[departments_df['department_id'] == 21]"
   ]
  },
  {
   "cell_type": "markdown",
   "id": "nqhSTUPhhvEJ",
   "metadata": {
    "id": "nqhSTUPhhvEJ"
   },
   "source": [
    "A seção com o ID 100 e o departamento com o ID 21 podem ser usados para produtos que não foram adequadamente categorizados em uma seção ou departamento específico."
   ]
  },
  {
   "cell_type": "code",
   "execution_count": 28,
   "id": "6b295120",
   "metadata": {
    "id": "6b295120"
   },
   "outputs": [
    {
     "name": "stdout",
     "output_type": "stream",
     "text": [
      "       product_id                                       product_name  \\\n",
      "0               1                         Chocolate Sandwich Cookies   \n",
      "1               2                                   All-Seasons Salt   \n",
      "2               3               Robust Golden Unsweetened Oolong Tea   \n",
      "3               4  Smart Ones Classic Favorites Mini Rigatoni Wit...   \n",
      "4               5                          Green Chile Anytime Sauce   \n",
      "...           ...                                                ...   \n",
      "49689       49690                      HIGH PERFORMANCE ENERGY DRINK   \n",
      "49690       49691                      ORIGINAL PANCAKE & WAFFLE MIX   \n",
      "49691       49692    ORGANIC INSTANT OATMEAL LIGHT MAPLE BROWN SUGAR   \n",
      "49692       49693                             SPRING WATER BODY WASH   \n",
      "49693       49694                            BURRITO- STEAK & CHEESE   \n",
      "\n",
      "       aisle_id  department_id  \n",
      "0            61             19  \n",
      "1           104             13  \n",
      "2            94              7  \n",
      "3            38              1  \n",
      "4             5             13  \n",
      "...         ...            ...  \n",
      "49689        64              7  \n",
      "49690       130             14  \n",
      "49691       130             14  \n",
      "49692       127             11  \n",
      "49693        38              1  \n",
      "\n",
      "[49694 rows x 4 columns]\n"
     ]
    }
   ],
   "source": [
    "\n",
    "products_df['product_name'].fillna('Unknown', inplace=True)\n",
    "\n",
    "print(products_df)# Preencha nomes de produtos ausentes com 'Unknown'"
   ]
  },
  {
   "cell_type": "markdown",
   "id": "fc70e5ad",
   "metadata": {
    "id": "fc70e5ad"
   },
   "source": [
    "Foram substituídos os valores ausentes por um valor padrão, como \"Unknown\", para que as linhas não sejam perdidas durante as análises subsequentes."
   ]
  },
  {
   "cell_type": "markdown",
   "id": "7eb45c86",
   "metadata": {
    "id": "7eb45c86"
   },
   "source": [
    "### DataFrame `orders`"
   ]
  },
  {
   "cell_type": "code",
   "execution_count": 29,
   "id": "93e41d96",
   "metadata": {
    "id": "93e41d96"
   },
   "outputs": [
    {
     "name": "stdout",
     "output_type": "stream",
     "text": [
      "order_id                      0\n",
      "user_id                       0\n",
      "order_number                  0\n",
      "order_dow                     0\n",
      "order_hour_of_day             0\n",
      "days_since_prior_order    28817\n",
      "dtype: int64\n"
     ]
    }
   ],
   "source": [
    "missing_orders = orders_df.isna().sum()\n",
    "print(missing_orders)# Encontre os valores ausentes"
   ]
  },
  {
   "cell_type": "code",
   "execution_count": 30,
   "id": "166e5a86",
   "metadata": {
    "id": "166e5a86"
   },
   "outputs": [
    {
     "data": {
      "text/plain": [
       "order_id                  0\n",
       "user_id                   0\n",
       "order_number              0\n",
       "order_dow                 0\n",
       "order_hour_of_day         0\n",
       "days_since_prior_order    0\n",
       "dtype: int64"
      ]
     },
     "execution_count": 30,
     "metadata": {},
     "output_type": "execute_result"
    }
   ],
   "source": [
    "orders_df[orders_df['order_number'] > 1].isna().sum()# Há valores ausentes para os clientes que não estão fazendo o primeiro pedido?"
   ]
  },
  {
   "cell_type": "markdown",
   "id": "4e23d089",
   "metadata": {
    "id": "4e23d089"
   },
   "source": [
    "O resultado de missing_orders fornece a contagem de valores ausentes para cada coluna no orders_df. Isso nos permite identificar em quais colunas existem valores ausentes e em que quantidade. Ao filtrar o DataFrame para os clientes com 'order_number' maior que 1 e, em seguida, verificar a presença de valores ausentes usando isna().sum(), podemos determinar se há valores ausentes específicos para clientes que já fizeram pedidos anteriores."
   ]
  },
  {
   "cell_type": "markdown",
   "id": "69dc9ca4",
   "metadata": {
    "id": "69dc9ca4"
   },
   "source": [
    "### DataFrame `order_products`"
   ]
  },
  {
   "cell_type": "code",
   "execution_count": 31,
   "id": "b8240253",
   "metadata": {
    "id": "b8240253"
   },
   "outputs": [
    {
     "name": "stdout",
     "output_type": "stream",
     "text": [
      "order_id               0\n",
      "product_id             0\n",
      "add_to_cart_order    836\n",
      "reordered              0\n",
      "dtype: int64\n"
     ]
    }
   ],
   "source": [
    "missing_order_products = order_products_df.isna().sum()\n",
    "print(missing_order_products)# Encontre os valores ausentes"
   ]
  },
  {
   "cell_type": "code",
   "execution_count": 32,
   "id": "8e94e236",
   "metadata": {},
   "outputs": [
    {
     "name": "stdout",
     "output_type": "stream",
     "text": [
      "1.0\n"
     ]
    }
   ],
   "source": [
    "min_order_id = order_products_df['add_to_cart_order'].min()\n",
    "print(min_order_id)"
   ]
  },
  {
   "cell_type": "code",
   "execution_count": 33,
   "id": "9a78e5ee",
   "metadata": {
    "id": "9a78e5ee"
   },
   "outputs": [
    {
     "name": "stdout",
     "output_type": "stream",
     "text": [
      "64.0\n"
     ]
    }
   ],
   "source": [
    "max_order_id = order_products_df['add_to_cart_order'].max()\n",
    "print(max_order_id)# Quais são os valores mínimo e máximo dessa coluna?"
   ]
  },
  {
   "cell_type": "markdown",
   "id": "-Z2Ja215jW78",
   "metadata": {
    "id": "-Z2Ja215jW78"
   },
   "source": [
    "'missing_order_products' fornece a contagem de valores ausentes para cada coluna em order_products_df. Isso nos permite identificar em quais colunas existem valores ausentes e em que quantidade.\n",
    "\n",
    "Ao imprimir os valores máximos (max()) e mínimos (min()) de cada coluna, podemos entender a faixa de valores em cada coluna. O valor mínimo é igual a 1, isso significa que o primeiro item adicionado ao carrinho tem esse valor de ordem. Por outro lado, o valor máximo representa o número total de itens diferentes em um único pedido, nesse caso é 64."
   ]
  },
  {
   "cell_type": "code",
   "execution_count": 34,
   "id": "ab9d0c2b",
   "metadata": {
    "id": "ab9d0c2b"
   },
   "outputs": [
    {
     "name": "stdout",
     "output_type": "stream",
     "text": [
      "0          11440\n",
      "1           1560\n",
      "2          26683\n",
      "3           8670\n",
      "4           1940\n",
      "           ...  \n",
      "4539981    45226\n",
      "4540724    25201\n",
      "4540999    49153\n",
      "4541048     8182\n",
      "4542909    40024\n",
      "Name: product_id, Length: 45572, dtype: int64\n"
     ]
    }
   ],
   "source": [
    "df_ausente = order_products_df[~order_products_df['add_to_cart_order'].isna() == True]['product_id'].drop_duplicates()\n",
    "print(df_ausente)# Salve todos os IDs dos pedidos com pelo menos um valor ausente em 'add_to_cart_order'"
   ]
  },
  {
   "cell_type": "code",
   "execution_count": 35,
   "id": "54c31695",
   "metadata": {
    "id": "54c31695"
   },
   "outputs": [
    {
     "data": {
      "text/plain": [
       "1"
      ]
     },
     "execution_count": 35,
     "metadata": {},
     "output_type": "execute_result"
    }
   ],
   "source": [
    "order_products_df[order_products_df['product_id'].isin(df_ausente)].groupby('order_id')['product_id'].count().min()# Todos os pedidos com valores ausentes contêm mais de 64 produtos?\n",
    "# Agrupe os pedidos com dados ausentes por ID de pedido\n",
    "# Conte o número de 'product_id' em cada pedido e verifique o valor mínimo da contagem\n"
   ]
  },
  {
   "cell_type": "code",
   "execution_count": 36,
   "id": "7a987d08",
   "metadata": {
    "id": "7a987d08"
   },
   "outputs": [
    {
     "name": "stdout",
     "output_type": "stream",
     "text": [
      "         order_id  product_id  add_to_cart_order  reordered\n",
      "0         2141543       11440                 17          0\n",
      "1          567889        1560                  1          1\n",
      "2         2261212       26683                  1          1\n",
      "3          491251        8670                 35          1\n",
      "4         2571142        1940                  5          1\n",
      "...           ...         ...                ...        ...\n",
      "4545002    577211       15290                 12          1\n",
      "4545003   1219554       21914                  9          0\n",
      "4545004    692640       47766                  4          1\n",
      "4545005    319435         691                  8          1\n",
      "4545006   1398151       28733                  9          0\n",
      "\n",
      "[4545007 rows x 4 columns]\n"
     ]
    }
   ],
   "source": [
    "\n",
    "order_products_df['add_to_cart_order'].fillna('999', inplace=True)\n",
    "\n",
    "order_products_df['add_to_cart_order'] = order_products_df['add_to_cart_order'].astype(int)\n",
    "\n",
    "print(order_products_df)# Substitua valores ausentes na coluna 'add_to_cart_order' por 999 e converta a coluna para o tipo integer"
   ]
  },
  {
   "cell_type": "markdown",
   "id": "fea4bcc7",
   "metadata": {
    "id": "fea4bcc7"
   },
   "source": [
    "A variável df_ausente contém todos os IDs dos pedidos que têm pelo menos um valor ausente na coluna 'add_to_cart_order'.\n",
    "Ao agrupar, podemos verificar se todos os pedidos com valores ausentes contêm mais de 64 produtos. Os valores ausentes na coluna 'add_to_cart_order' foram preenchidos com o valor '999' e a coluna foi convertida para o tipo inteiro. "
   ]
  },
  {
   "cell_type": "markdown",
   "id": "RnplPFY1gSrb",
   "metadata": {
    "id": "RnplPFY1gSrb"
   },
   "source": [
    "Conclusão Parcial\n",
    "\n",
    "Até agora, no projeto, realizamos várias etapas importantes de pré-processamento de dados e análise exploratória: \n",
    "\n",
    "- Carregamento dos Dados;\n",
    "- Pré-processamento dos Dados;\n",
    "- Análise Exploratória de Dados (AED);\n",
    "- Aplicamos correções aos dados.\n",
    "\n",
    "O pré-processamento de dados e a análise exploratória realizados até agora são fundamentais para garantir que os dados estejam prontos para análises mais avançadas."
   ]
  },
  {
   "cell_type": "markdown",
   "id": "UjrOIwTcz3ri",
   "metadata": {
    "id": "UjrOIwTcz3ri"
   },
   "source": [
    "## Análise de dados"
   ]
  },
  {
   "cell_type": "markdown",
   "id": "short-capability",
   "metadata": {
    "id": "short-capability"
   },
   "source": [
    "### Verificação se os valores fazem sentido"
   ]
  },
  {
   "cell_type": "code",
   "execution_count": 37,
   "id": "growing-fruit",
   "metadata": {
    "id": "growing-fruit"
   },
   "outputs": [
    {
     "name": "stdout",
     "output_type": "stream",
     "text": [
      "        order_id  user_id  order_number  order_dow  order_hour_of_day  \\\n",
      "0        1515936   183418            11          6                 13   \n",
      "1        1690866   163593             5          5                 12   \n",
      "2        1454967    39980             4          5                 19   \n",
      "3        1768857    82516            56          0                 20   \n",
      "4        3007858   196724             2          4                 12   \n",
      "...          ...      ...           ...        ...                ...   \n",
      "478962   3210681     5617             5          1                 14   \n",
      "478963   3270802   112087             2          3                 13   \n",
      "478964    885349    82944            16          2                 11   \n",
      "478965    216274     4391             3          3                  8   \n",
      "478966   2071924     1730            18          1                 14   \n",
      "\n",
      "        days_since_prior_order  \n",
      "0                         30.0  \n",
      "1                          9.0  \n",
      "2                          2.0  \n",
      "3                         10.0  \n",
      "4                         17.0  \n",
      "...                        ...  \n",
      "478962                     7.0  \n",
      "478963                     6.0  \n",
      "478964                     6.0  \n",
      "478965                     8.0  \n",
      "478966                    15.0  \n",
      "\n",
      "[478952 rows x 6 columns]\n"
     ]
    }
   ],
   "source": [
    "print(orders_df)"
   ]
  },
  {
   "cell_type": "markdown",
   "id": "hmR2GNQ6lCsX",
   "metadata": {
    "id": "hmR2GNQ6lCsX"
   },
   "source": [
    "Os valores nas colunas 'order_hour_of_day' e 'order_dow' na tabela orders fazem sentido, tendo os valores da coluna 'order_hour_of_day' variando entre 0 a 23 e os da 'order_dow' entre 0 a 6, nessa amostra."
   ]
  },
  {
   "cell_type": "markdown",
   "id": "a6743a70",
   "metadata": {
    "id": "a6743a70"
   },
   "source": [
    "### Quantas pessoas fazem pedidos a cada hora do dia?"
   ]
  },
  {
   "cell_type": "code",
   "execution_count": 38,
   "id": "a36cca27",
   "metadata": {
    "id": "a36cca27"
   },
   "outputs": [
    {
     "name": "stdout",
     "output_type": "stream",
     "text": [
      "order_hour_of_day\n",
      "0      3180\n",
      "1      1763\n",
      "2       989\n",
      "3       770\n",
      "4       765\n",
      "5      1371\n",
      "6      4215\n",
      "7     13043\n",
      "8     25024\n",
      "9     35896\n",
      "10    40578\n",
      "11    40032\n",
      "12    38034\n",
      "13    39007\n",
      "14    39631\n",
      "15    39789\n",
      "16    38112\n",
      "17    31930\n",
      "18    25510\n",
      "19    19547\n",
      "20    14624\n",
      "21    11019\n",
      "22     8512\n",
      "23     5611\n",
      "Name: order_id, dtype: int64\n"
     ]
    }
   ],
   "source": [
    "hour_orders = orders_df.groupby('order_hour_of_day')['order_id'].count()\n",
    "print(hour_orders)"
   ]
  },
  {
   "cell_type": "code",
   "execution_count": 39,
   "id": "cce614c2",
   "metadata": {},
   "outputs": [
    {
     "data": {
      "image/png": "[encoded data removed]",
      "text/plain": [
       "<Figure size 640x480 with 1 Axes>"
      ]
     },
     "metadata": {},
     "output_type": "display_data"
    }
   ],
   "source": [
    "hour_orders.plot(kind='bar',\n",
    "                title= 'Hour/Order',\n",
    "                xlabel=\"hour of the day\",\n",
    "                ylabel=\"orders\")\n",
    "plt.show()"
   ]
  },
  {
   "cell_type": "markdown",
   "id": "11270eed",
   "metadata": {
    "id": "11270eed"
   },
   "source": [
    "A quantidade de pedidos varia ao longo do dia, com picos e vales em diferentes horas.\n",
    "O pico de pedidos parece ocorrer em torno das 10h ou 11h da manhã, seguido por uma diminuição gradual ao longo do dia.\n",
    "Os padrões de compra das pessoas podem ser influenciados por vários fatores, como horários de trabalho, por exemplo. \n"
   ]
  },
  {
   "cell_type": "markdown",
   "id": "documented-command",
   "metadata": {
    "id": "documented-command"
   },
   "source": [
    "### Em que dia da semana as pessoas fazem compras?"
   ]
  },
  {
   "cell_type": "code",
   "execution_count": 40,
   "id": "chief-digit",
   "metadata": {
    "id": "chief-digit"
   },
   "outputs": [
    {
     "name": "stdout",
     "output_type": "stream",
     "text": [
      "order_dow\n",
      "0    84090\n",
      "1    82185\n",
      "2    65833\n",
      "3    60897\n",
      "4    59810\n",
      "5    63488\n",
      "6    62649\n",
      "Name: order_id, dtype: int64\n"
     ]
    }
   ],
   "source": [
    "dow_orders = orders_df.groupby('order_dow')['order_id'].count()\n",
    "print(dow_orders)"
   ]
  },
  {
   "cell_type": "code",
   "execution_count": 41,
   "id": "bca93b2a",
   "metadata": {},
   "outputs": [
    {
     "data": {
      "image/png": "[encoded data removed]",
      "text/plain": [
       "<Figure size 640x480 with 1 Axes>"
      ]
     },
     "metadata": {},
     "output_type": "display_data"
    }
   ],
   "source": [
    "dow_orders.plot(kind='bar',\n",
    "                title= 'Day/Order',\n",
    "                xlabel=\"days of the week\",\n",
    "                ylabel=\"orders\")\n",
    "plt.show()"
   ]
  },
  {
   "cell_type": "markdown",
   "id": "dominant-lightning",
   "metadata": {
    "id": "dominant-lightning"
   },
   "source": [
    "Podemos observar que há um aumento significativo na quantidade de pedidos nos dias próximos ao final de semana, como quinta-feira e sexta-feira. Isso sugere que muitas pessoas preferem fazer compras antes do final de semana."
   ]
  },
  {
   "cell_type": "markdown",
   "id": "cutting-concert",
   "metadata": {
    "id": "cutting-concert"
   },
   "source": [
    "### Quanto tempo as pessoas esperam até fazer outro pedido?"
   ]
  },
  {
   "cell_type": "code",
   "execution_count": 42,
   "id": "gMOIimGd5VNb",
   "metadata": {
    "id": "gMOIimGd5VNb"
   },
   "outputs": [
    {
     "name": "stdout",
     "output_type": "stream",
     "text": [
      "days_since_prior_order\n",
      "0.0      9589\n",
      "1.0     20179\n",
      "2.0     27138\n",
      "3.0     30224\n",
      "4.0     31006\n",
      "5.0     30096\n",
      "6.0     33930\n",
      "7.0     44577\n",
      "8.0     25361\n",
      "9.0     16753\n",
      "10.0    13309\n",
      "11.0    11467\n",
      "12.0    10658\n",
      "13.0    11737\n",
      "14.0    13992\n",
      "15.0     9416\n",
      "16.0     6587\n",
      "17.0     5498\n",
      "18.0     4971\n",
      "19.0     4939\n",
      "20.0     5302\n",
      "21.0     6448\n",
      "22.0     4514\n",
      "23.0     3337\n",
      "24.0     3015\n",
      "25.0     2711\n",
      "26.0     2640\n",
      "27.0     2986\n",
      "28.0     3745\n",
      "29.0     2673\n",
      "30.0    51337\n",
      "Name: order_id, dtype: int64\n"
     ]
    }
   ],
   "source": [
    "last_orders = orders_df.groupby('days_since_prior_order')['order_id'].count()\n",
    "print(last_orders)"
   ]
  },
  {
   "cell_type": "code",
   "execution_count": 43,
   "id": "e1d9573e",
   "metadata": {},
   "outputs": [
    {
     "data": {
      "image/png": "[encoded data removed]",
      "text/plain": [
       "<Figure size 640x480 with 1 Axes>"
      ]
     },
     "metadata": {},
     "output_type": "display_data"
    }
   ],
   "source": [
    "last_orders.plot(kind='bar',\n",
    "                title= 'Days Since Prior Order',\n",
    "                xlabel=\"days since last order\",\n",
    "                ylabel=\"orders\")\n",
    "plt.show()"
   ]
  },
  {
   "cell_type": "markdown",
   "id": "96e3c24f",
   "metadata": {},
   "source": [
    "Muitas pessoas fazem pedidos no primeiro dia após o último pedido. Isso pode indicar que alguns clientes fazem pedidos diariamente.\n",
    "Além disso, existem outros picos em intervalos como 7 dias, 14 dias e 30 dias, o que sugere que muitas pessoas têm padrões de compra semanais, quinzenais ou mensais."
   ]
  },
  {
   "cell_type": "markdown",
   "id": "packed-classic",
   "metadata": {
    "id": "packed-classic"
   },
   "source": [
    "### Diferenças nas quartas e sábados em `'order_hour_of_day'`."
   ]
  },
  {
   "cell_type": "code",
   "execution_count": 44,
   "id": "d89b8403",
   "metadata": {
    "id": "d89b8403"
   },
   "outputs": [
    {
     "name": "stdout",
     "output_type": "stream",
     "text": [
      "        order_id  user_id  order_number  order_dow  order_hour_of_day  \\\n",
      "6        2511640   148233            40          3                  8   \n",
      "16       3109465    55090            19          3                 15   \n",
      "28        133707   182261             1          3                 10   \n",
      "30       1890318   193501             3          3                 15   \n",
      "35        125325   106853             6          3                 19   \n",
      "...          ...      ...           ...        ...                ...   \n",
      "478917    972799    89702             4          3                  7   \n",
      "478946   2406747    63101            11          3                  8   \n",
      "478956    640934    27104             9          3                 10   \n",
      "478963   3270802   112087             2          3                 13   \n",
      "478965    216274     4391             3          3                  8   \n",
      "\n",
      "        days_since_prior_order  \n",
      "6                          2.0  \n",
      "16                         9.0  \n",
      "28                         NaN  \n",
      "30                        30.0  \n",
      "35                        30.0  \n",
      "...                        ...  \n",
      "478917                    10.0  \n",
      "478946                     5.0  \n",
      "478956                     6.0  \n",
      "478963                     6.0  \n",
      "478965                     8.0  \n",
      "\n",
      "[60897 rows x 6 columns]\n"
     ]
    }
   ],
   "source": [
    "wednesday_orders = orders_df[orders_df['order_dow'] == 3]\n",
    "print(wednesday_orders)"
   ]
  },
  {
   "cell_type": "code",
   "execution_count": 45,
   "id": "94e54e8a",
   "metadata": {
    "id": "94e54e8a"
   },
   "outputs": [
    {
     "name": "stdout",
     "output_type": "stream",
     "text": [
      "        order_id  user_id  order_number  order_dow  order_hour_of_day  \\\n",
      "0        1515936   183418            11          6                 13   \n",
      "11        102585   191558            18          6                 16   \n",
      "14       2843219    74699             4          6                 11   \n",
      "20         50934   178510             9          6                  9   \n",
      "26       1844247   122558             4          6                 18   \n",
      "...          ...      ...           ...        ...                ...   \n",
      "478924   3274344   145367            13          6                 10   \n",
      "478930    489820     7287            14          6                 19   \n",
      "478943    548902     6829             3          6                 10   \n",
      "478954    984024    47076             2          6                 21   \n",
      "478961   3006133    34561             7          6                 10   \n",
      "\n",
      "        days_since_prior_order  \n",
      "0                         30.0  \n",
      "11                         8.0  \n",
      "14                        30.0  \n",
      "20                         5.0  \n",
      "26                        30.0  \n",
      "...                        ...  \n",
      "478924                    13.0  \n",
      "478930                     2.0  \n",
      "478943                    30.0  \n",
      "478954                     6.0  \n",
      "478961                    30.0  \n",
      "\n",
      "[62649 rows x 6 columns]\n"
     ]
    }
   ],
   "source": [
    "saturday_orders = orders_df[orders_df['order_dow'] == 6]\n",
    "print(saturday_orders)"
   ]
  },
  {
   "cell_type": "code",
   "execution_count": 46,
   "id": "797c90a8",
   "metadata": {
    "id": "797c90a8"
   },
   "outputs": [
    {
     "data": {
      "image/png": "[encoded data removed]",
      "text/plain": [
       "<Figure size 1200x600 with 2 Axes>"
      ]
     },
     "metadata": {},
     "output_type": "display_data"
    }
   ],
   "source": [
    "wednesday_hour_counts = wednesday_orders['order_hour_of_day'].value_counts().sort_index()\n",
    "saturday_hour_counts = saturday_orders['order_hour_of_day'].value_counts().sort_index()\n",
    "\n",
    "\n",
    "plt.figure(figsize=(12, 6))\n",
    "\n",
    "plt.subplot(1, 2, 1)\n",
    "plt.bar(wednesday_hour_counts.index, wednesday_hour_counts.values, color='blue')\n",
    "plt.title('Order per hour - Wednesday')\n",
    "plt.xlabel('Hour of the Day')\n",
    "plt.ylabel('Order Number')\n",
    "plt.xticks(range(0, 24))\n",
    "\n",
    "plt.subplot(1, 2, 2)\n",
    "plt.bar(saturday_hour_counts.index, saturday_hour_counts.values, color='pink')\n",
    "plt.title('Order per hour - Saturday')\n",
    "plt.xlabel('Hour of the Day')\n",
    "plt.ylabel('Order Number')\n",
    "plt.xticks(range(0, 24))\n",
    "\n",
    "\n",
    "plt.show()"
   ]
  },
  {
   "cell_type": "markdown",
   "id": "d59a8a5c",
   "metadata": {
    "id": "35bcea30"
   },
   "source": [
    "Os histogramas de vendas acima mostra dois picos de valores mais frequentes. Isso pode ser devido a diferenças no número de compras nos dois dias. Entretanto, percebe-se que a diferença de vendas nas quartas e sábados é relativamente baixa."
   ]
  },
  {
   "cell_type": "markdown",
   "id": "e3891143",
   "metadata": {
    "id": "e3891143"
   },
   "source": [
    "### Distribuição do número de pedidos por cliente"
   ]
  },
  {
   "cell_type": "code",
   "execution_count": 47,
   "id": "d8c26c23",
   "metadata": {
    "id": "d8c26c23"
   },
   "outputs": [],
   "source": [
    "orders_per_customer = orders_df['user_id'].value_counts()"
   ]
  },
  {
   "cell_type": "code",
   "execution_count": 48,
   "id": "00e69a66",
   "metadata": {
    "id": "00e69a66"
   },
   "outputs": [
    {
     "name": "stdout",
     "output_type": "stream",
     "text": [
      "149605    28\n",
      "193164    26\n",
      "78375     25\n",
      "148162    24\n",
      "66664     24\n",
      "          ..\n",
      "166116     1\n",
      "63564      1\n",
      "170214     1\n",
      "51274      1\n",
      "2047       1\n",
      "Name: user_id, Length: 157437, dtype: int64\n"
     ]
    }
   ],
   "source": [
    "print(orders_per_customer)"
   ]
  },
  {
   "cell_type": "code",
   "execution_count": 49,
   "id": "73de6ba9",
   "metadata": {},
   "outputs": [
    {
     "data": {
      "image/png": "[encoded data removed]",
      "text/plain": [
       "<Figure size 1000x600 with 1 Axes>"
      ]
     },
     "metadata": {},
     "output_type": "display_data"
    }
   ],
   "source": [
    "plt.figure(figsize=(10, 6))\n",
    "plt.hist(orders_per_customer, bins=50, color='skyblue', edgecolor='black')\n",
    "plt.title('Distribution of the Number of Orders per Customer')\n",
    "plt.xlabel('Number of Orders')\n",
    "plt.ylabel('Client ID ')\n",
    "plt.show()"
   ]
  },
  {
   "cell_type": "markdown",
   "id": "d2eff7d5",
   "metadata": {
    "id": "d2eff7d5"
   },
   "source": [
    "Alguns clientes podem fazer pedidos com frequência (até 10 pedidos), enquanto outros podem fazer pedidos de forma mais esporádica."
   ]
  },
  {
   "cell_type": "markdown",
   "id": "54a0319c",
   "metadata": {
    "id": "54a0319c"
   },
   "source": [
    "### Os 20 produtos mais populares"
   ]
  },
  {
   "cell_type": "code",
   "execution_count": 50,
   "id": "exterior-arizona",
   "metadata": {
    "id": "exterior-arizona",
    "scrolled": true
   },
   "outputs": [],
   "source": [
    "top20_products = order_products_df.groupby('product_id').count().sort_values(by= 'order_id', ascending=False).head(20).reset_index()"
   ]
  },
  {
   "cell_type": "code",
   "execution_count": 51,
   "id": "universal-facial",
   "metadata": {
    "id": "universal-facial"
   },
   "outputs": [],
   "source": [
    "merged_df = pd.merge(top20_products, products_df, on= 'product_id')\n",
    "merged_df = merged_df.rename(columns={'order_id': 'frequencia'})"
   ]
  },
  {
   "cell_type": "code",
   "execution_count": 52,
   "id": "bbcdd20b",
   "metadata": {
    "id": "bbcdd20b"
   },
   "outputs": [
    {
     "name": "stdout",
     "output_type": "stream",
     "text": [
      "    product_id              product_name  frequencia\n",
      "0        24852                    Banana       66050\n",
      "1        13176    Bag of Organic Bananas       53297\n",
      "2        21137      Organic Strawberries       37039\n",
      "3        21903      Organic Baby Spinach       33971\n",
      "4        47209      Organic Hass Avocado       29773\n",
      "5        47766           Organic Avocado       24689\n",
      "6        47626               Large Lemon       21495\n",
      "7        16797              Strawberries       20018\n",
      "8        26209                     Limes       19690\n",
      "9        27845        Organic Whole Milk       19600\n",
      "10       27966       Organic Raspberries       19197\n",
      "11       22935      Organic Yellow Onion       15898\n",
      "12       24964            Organic Garlic       15292\n",
      "13       45007          Organic Zucchini       14584\n",
      "14       39275       Organic Blueberries       13879\n",
      "15       49683            Cucumber Kirby       13675\n",
      "16       28204        Organic Fuji Apple       12544\n",
      "17        5876             Organic Lemon       12232\n",
      "18        8277  Apple Honeycrisp Organic       11993\n",
      "19       40706    Organic Grape Tomatoes       11781\n"
     ]
    }
   ],
   "source": [
    "print(merged_df[['product_id', 'product_name', 'frequencia']])"
   ]
  },
  {
   "cell_type": "markdown",
   "id": "7df00f47",
   "metadata": {
    "id": "7df00f47"
   },
   "source": [
    "A maioria dos produtos listados são frutas e vegetais orgânicos, como bananas, morangos, espinafre e abacates."
   ]
  },
  {
   "cell_type": "markdown",
   "id": "romantic-deposit",
   "metadata": {
    "id": "romantic-deposit"
   },
   "source": [
    "### Quantos itens as pessoas normalmente compram em um pedido?"
   ]
  },
  {
   "cell_type": "code",
   "execution_count": 53,
   "id": "virtual-punch",
   "metadata": {
    "id": "virtual-punch"
   },
   "outputs": [
    {
     "name": "stdout",
     "output_type": "stream",
     "text": [
      "order_id\n",
      "4          13\n",
      "9          15\n",
      "11          5\n",
      "19          3\n",
      "20          8\n",
      "           ..\n",
      "3421034    17\n",
      "3421053     9\n",
      "3421071     5\n",
      "3421077     4\n",
      "3421079     1\n",
      "Name: add_to_cart_order, Length: 450046, dtype: int64\n"
     ]
    }
   ],
   "source": [
    "items_per_order = order_products_df.groupby('order_id')['add_to_cart_order'].count()\n",
    "print(items_per_order)"
   ]
  },
  {
   "cell_type": "code",
   "execution_count": 54,
   "id": "sensitive-breathing",
   "metadata": {
    "id": "sensitive-breathing"
   },
   "outputs": [
    {
     "name": "stdout",
     "output_type": "stream",
     "text": [
      "10.098983215049127\n"
     ]
    }
   ],
   "source": [
    "mean_items_per_order = items_per_order.mean()\n",
    "print(mean_items_per_order)"
   ]
  },
  {
   "cell_type": "code",
   "execution_count": 55,
   "id": "completed-frank",
   "metadata": {
    "id": "completed-frank"
   },
   "outputs": [
    {
     "data": {
      "image/png": "[encoded data removed]",
      "text/plain": [
       "<Figure size 1000x600 with 1 Axes>"
      ]
     },
     "metadata": {},
     "output_type": "display_data"
    }
   ],
   "source": [
    "plt.figure(figsize=(10, 6))\n",
    "plt.hist(items_per_order, bins=50, color='skyblue')\n",
    "plt.title('Number of Itens Per Order')\n",
    "plt.xlabel('Number of Itens')\n",
    "plt.ylabel('Orders Number')\n",
    "plt.show()"
   ]
  },
  {
   "cell_type": "markdown",
   "id": "designed-mortality",
   "metadata": {
    "id": "designed-mortality"
   },
   "source": [
    "A maioria dos pedidos parece ter um número relativamente baixo de itens, com uma queda acentuada na frequência à medida que o número de itens aumenta."
   ]
  },
  {
   "cell_type": "markdown",
   "id": "5e6b5537",
   "metadata": {
    "id": "5e6b5537"
   },
   "source": [
    "### Os 20 principais itens incluídos mais frequentemente em pedidos repetidos"
   ]
  },
  {
   "cell_type": "code",
   "execution_count": 56,
   "id": "possible-change",
   "metadata": {
    "id": "possible-change",
    "scrolled": true
   },
   "outputs": [
    {
     "data": {
      "text/html": [
       "<div>\n",
       "<style scoped>\n",
       "    .dataframe tbody tr th:only-of-type {\n",
       "        vertical-align: middle;\n",
       "    }\n",
       "\n",
       "    .dataframe tbody tr th {\n",
       "        vertical-align: top;\n",
       "    }\n",
       "\n",
       "    .dataframe thead th {\n",
       "        text-align: right;\n",
       "    }\n",
       "</style>\n",
       "<table border=\"1\" class=\"dataframe\">\n",
       "  <thead>\n",
       "    <tr style=\"text-align: right;\">\n",
       "      <th></th>\n",
       "      <th>order_id</th>\n",
       "      <th>product_id</th>\n",
       "      <th>add_to_cart_order</th>\n",
       "      <th>reordered</th>\n",
       "    </tr>\n",
       "  </thead>\n",
       "  <tbody>\n",
       "    <tr>\n",
       "      <th>0</th>\n",
       "      <td>2141543</td>\n",
       "      <td>11440</td>\n",
       "      <td>17</td>\n",
       "      <td>0</td>\n",
       "    </tr>\n",
       "    <tr>\n",
       "      <th>1</th>\n",
       "      <td>567889</td>\n",
       "      <td>1560</td>\n",
       "      <td>1</td>\n",
       "      <td>1</td>\n",
       "    </tr>\n",
       "    <tr>\n",
       "      <th>2</th>\n",
       "      <td>2261212</td>\n",
       "      <td>26683</td>\n",
       "      <td>1</td>\n",
       "      <td>1</td>\n",
       "    </tr>\n",
       "    <tr>\n",
       "      <th>3</th>\n",
       "      <td>491251</td>\n",
       "      <td>8670</td>\n",
       "      <td>35</td>\n",
       "      <td>1</td>\n",
       "    </tr>\n",
       "    <tr>\n",
       "      <th>4</th>\n",
       "      <td>2571142</td>\n",
       "      <td>1940</td>\n",
       "      <td>5</td>\n",
       "      <td>1</td>\n",
       "    </tr>\n",
       "  </tbody>\n",
       "</table>\n",
       "</div>"
      ],
      "text/plain": [
       "   order_id  product_id  add_to_cart_order  reordered\n",
       "0   2141543       11440                 17          0\n",
       "1    567889        1560                  1          1\n",
       "2   2261212       26683                  1          1\n",
       "3    491251        8670                 35          1\n",
       "4   2571142        1940                  5          1"
      ]
     },
     "execution_count": 56,
     "metadata": {},
     "output_type": "execute_result"
    }
   ],
   "source": [
    "order_products_df.head()"
   ]
  },
  {
   "cell_type": "code",
   "execution_count": 57,
   "id": "professional-surfing",
   "metadata": {
    "id": "professional-surfing",
    "scrolled": false
   },
   "outputs": [
    {
     "name": "stdout",
     "output_type": "stream",
     "text": [
      "            order_id  add_to_cart_order  reordered\n",
      "product_id                                        \n",
      "7111               1                  1          1\n",
      "7108               1                  1          1\n",
      "7107               1                  1          1\n",
      "32821              1                  1          1\n",
      "32824              1                  1          1\n",
      "42750              1                  1          1\n",
      "42747              1                  1          1\n",
      "12160              1                  1          1\n",
      "42745              1                  1          1\n",
      "7106               1                  1          1\n",
      "21016              1                  1          1\n",
      "7102               1                  1          1\n",
      "12178              1                  1          1\n",
      "7096               1                  1          1\n",
      "2903               1                  1          1\n",
      "7092               1                  1          1\n",
      "21003              1                  1          1\n",
      "32856              1                  1          1\n",
      "42727              1                  1          1\n",
      "24091              1                  1          1\n"
     ]
    }
   ],
   "source": [
    "top_reordered_items = order_products_df[order_products_df['reordered'] == 1].groupby('product_id').count().sort_values(by='order_id', ascending=False).tail(20)\n",
    "print(top_reordered_items)"
   ]
  },
  {
   "cell_type": "code",
   "execution_count": 58,
   "id": "48dd3658",
   "metadata": {
    "id": "48dd3658"
   },
   "outputs": [
    {
     "name": "stdout",
     "output_type": "stream",
     "text": [
      "    product_id  order_id  add_to_cart_order  reordered  \\\n",
      "0         7111         1                  1          1   \n",
      "1         7108         1                  1          1   \n",
      "2         7107         1                  1          1   \n",
      "3        32821         1                  1          1   \n",
      "4        32824         1                  1          1   \n",
      "5        42750         1                  1          1   \n",
      "6        42747         1                  1          1   \n",
      "7        12160         1                  1          1   \n",
      "8        42745         1                  1          1   \n",
      "9         7106         1                  1          1   \n",
      "10       21016         1                  1          1   \n",
      "11        7102         1                  1          1   \n",
      "12       12178         1                  1          1   \n",
      "13        7096         1                  1          1   \n",
      "14        2903         1                  1          1   \n",
      "15        7092         1                  1          1   \n",
      "16       21003         1                  1          1   \n",
      "17       32856         1                  1          1   \n",
      "18       42727         1                  1          1   \n",
      "19       24091         1                  1          1   \n",
      "\n",
      "                                         product_name  \n",
      "0      Ocean Mist Scent 3-in-1 Laundry Detergent PODS  \n",
      "1                      Napa Valley Cabernet Sauvignon  \n",
      "2            Fudge Dipped Chocolate Chip Granola Bars  \n",
      "3                                           Zen Salad  \n",
      "4        Solid Air Freshener Lavender & Peach Blossom  \n",
      "5                                Orange Air Freshener  \n",
      "6                 Kid's Spinbrush Avengers Toothbrush  \n",
      "7                           Soft Cleanser with Bleach  \n",
      "8               Chicken Broth Fat Free Reduced Sodium  \n",
      "9   Critical Omega Ultra Concentrated Essential Om...  \n",
      "10       Parchment Lined 8 in x 3.75 in x 2.5 in Pans  \n",
      "11                  San Marzano Tomatoes Whole Peeled  \n",
      "12                 Maximum Hydration 3-in-1 Body Wash  \n",
      "13                       Roasted Garlic & Potato Soup  \n",
      "14                                          Sweet Red  \n",
      "15      Melatonin NutraSpray Sublingual Orange Flavor  \n",
      "16           White Chocolate Macadamia Coffee Creamer  \n",
      "17                                       Crab Rangoon  \n",
      "18              Chocolate Lovers Chips Deluxe Cookies  \n",
      "19                                 Garlic Mill Spices  \n"
     ]
    }
   ],
   "source": [
    "# Obtendo os IDs e nomes dos itens mais frequentemente incluídos em pedidos repetidos\n",
    "top_reordered_items_info = pd.merge(top_reordered_items, products_df[['product_id', 'product_name']], on='product_id', how='left')\n",
    "print(top_reordered_items_info)"
   ]
  },
  {
   "cell_type": "markdown",
   "id": "80e70c74",
   "metadata": {
    "id": "80e70c74"
   },
   "source": [
    "Esses itens são frequentemente incluídos em pedidos repetidos, o que sugere que eles são populares entre os clientes e têm alta demanda ao longo do tempo"
   ]
  },
  {
   "cell_type": "markdown",
   "id": "9d312b14",
   "metadata": {
    "id": "9d312b14"
   },
   "source": [
    "### Para cada produto, qual parcela de todos os pedidos dele são repetidos?"
   ]
  },
  {
   "cell_type": "code",
   "execution_count": 59,
   "id": "8ae9f4b1",
   "metadata": {
    "id": "8ae9f4b1"
   },
   "outputs": [],
   "source": [
    "# Contagem total de pedidos para cada produto\n",
    "total_orders_per_product = order_products_df.groupby('product_id')['order_id'].nunique()"
   ]
  },
  {
   "cell_type": "code",
   "execution_count": 60,
   "id": "103e7fe1",
   "metadata": {
    "id": "103e7fe1"
   },
   "outputs": [],
   "source": [
    "repeated_orders_per_product = order_products_df[order_products_df['reordered'] == 1].groupby('product_id')['order_id'].nunique()"
   ]
  },
  {
   "cell_type": "code",
   "execution_count": 61,
   "id": "628e400d",
   "metadata": {},
   "outputs": [],
   "source": [
    "repeated_order_fraction_per_product = repeated_orders_per_product / total_orders_per_product"
   ]
  },
  {
   "cell_type": "code",
   "execution_count": 62,
   "id": "social-individual",
   "metadata": {
    "id": "social-individual"
   },
   "outputs": [
    {
     "name": "stdout",
     "output_type": "stream",
     "text": [
      "product_id\n",
      "1        0.564286\n",
      "2        0.000000\n",
      "3        0.738095\n",
      "4        0.510204\n",
      "7        0.500000\n",
      "           ...   \n",
      "49690    0.800000\n",
      "49691    0.430556\n",
      "49692    0.416667\n",
      "49693    0.440000\n",
      "49694    0.333333\n",
      "Name: order_id, Length: 45573, dtype: float64\n"
     ]
    }
   ],
   "source": [
    "print(repeated_order_fraction_per_product.fillna(0))"
   ]
  },
  {
   "cell_type": "markdown",
   "id": "I10dEIAyldcO",
   "metadata": {
    "id": "I10dEIAyldcO"
   },
   "source": [
    "Esses valores representam a proporção de pedidos de cada produto que são repetidos em relação ao número total de pedidos desse produto."
   ]
  },
  {
   "cell_type": "markdown",
   "id": "92d35137",
   "metadata": {
    "id": "92d35137"
   },
   "source": [
    "### Os 20 principais itens que as pessoas colocam nos carrinhos antes de todos os outros"
   ]
  },
  {
   "cell_type": "code",
   "execution_count": 63,
   "id": "0ae57274",
   "metadata": {
    "id": "0ae57274",
    "scrolled": true
   },
   "outputs": [],
   "source": [
    "order_products_df = order_products_df[order_products_df['add_to_cart_order'] == 1]\n",
    "product_counts = order_products_df['product_id'].value_counts().reset_index()\n",
    "product_counts.columns = ['product_id', 'count']"
   ]
  },
  {
   "cell_type": "code",
   "execution_count": 64,
   "id": "forty-netherlands",
   "metadata": {
    "id": "forty-netherlands",
    "scrolled": true
   },
   "outputs": [],
   "source": [
    "top_products = product_counts.head(20)"
   ]
  },
  {
   "cell_type": "code",
   "execution_count": 65,
   "id": "08e41ec2",
   "metadata": {
    "id": "08e41ec2"
   },
   "outputs": [
    {
     "name": "stdout",
     "output_type": "stream",
     "text": [
      "    product_id  count                 product_name\n",
      "0        24852  15562                       Banana\n",
      "1        13176  11026       Bag of Organic Bananas\n",
      "2        27845   4363           Organic Whole Milk\n",
      "3        21137   3946         Organic Strawberries\n",
      "4        47209   3390         Organic Hass Avocado\n",
      "5        21903   3336         Organic Baby Spinach\n",
      "6        47766   3044              Organic Avocado\n",
      "7        19660   2336                 Spring Water\n",
      "8        16797   2308                 Strawberries\n",
      "9        27966   2024          Organic Raspberries\n",
      "10       44632   1914   Sparkling Water Grapefruit\n",
      "11       49235   1797          Organic Half & Half\n",
      "12       47626   1737                  Large Lemon\n",
      "13         196   1733                         Soda\n",
      "14       38689   1397     Organic Reduced Fat Milk\n",
      "15       26209   1370                        Limes\n",
      "16       12341   1340                Hass Avocados\n",
      "17        5785   1310  Organic Reduced Fat 2% Milk\n",
      "18       27086   1309                  Half & Half\n",
      "19       22935   1246         Organic Yellow Onion\n"
     ]
    }
   ],
   "source": [
    "\n",
    "top_products_info = pd.merge(top_products, products_df[['product_id', 'product_name']], on='product_id', how='left')\n",
    "print(top_products_info)"
   ]
  },
  {
   "cell_type": "markdown",
   "id": "TisH_5Cp3wAi",
   "metadata": {
    "id": "TisH_5Cp3wAi"
   },
   "source": [
    "# Conclusão Geral"
   ]
  },
  {
   "cell_type": "markdown",
   "id": "6c6934a6",
   "metadata": {
    "id": "Nk-4GS7mDwqY"
   },
   "source": [
    "O projeto não apenas forneceu uma análise detalhada dos dados, mas também destacou a importância da análise de dados na compreensão do comportamento do cliente e na orientação de estratégias de negócios bem-sucedidas.\n",
    "\n",
    "A análise dos dados revelou padrões significativos no comportamento de compra dos clientes, incluindo os horários e dias mais populares para fazer pedidos, foi possível identificar quais itens têm alta demanda entre os clientes.\n",
    "A investigação da frequência de pedidos repetidos revelou a fidelidade dos clientes a certos produtos.\n",
    "As informações obtidas ao longo do projeto são valiosas para a otimização de estratégias de negócios. "
   ]
  }
 ],
 "metadata": {
  "ExecuteTimeLog": [
   {
    "duration": 405,
    "start_time": "2024-08-14T17:56:26.008Z"
   },
   {
    "duration": 22,
    "start_time": "2024-08-14T17:57:41.204Z"
   },
   {
    "duration": 4592,
    "start_time": "2024-08-14T17:58:24.050Z"
   },
   {
    "duration": 1682,
    "start_time": "2024-08-14T17:58:28.646Z"
   },
   {
    "duration": 33,
    "start_time": "2024-08-14T17:58:30.331Z"
   },
   {
    "duration": 48,
    "start_time": "2024-08-14T17:58:30.368Z"
   },
   {
    "duration": 23,
    "start_time": "2024-08-14T17:58:30.419Z"
   },
   {
    "duration": 21,
    "start_time": "2024-08-14T17:58:30.445Z"
   },
   {
    "duration": 21,
    "start_time": "2024-08-14T17:58:30.504Z"
   },
   {
    "duration": 226,
    "start_time": "2024-08-14T17:58:30.529Z"
   },
   {
    "duration": 16,
    "start_time": "2024-08-14T17:58:30.760Z"
   },
   {
    "duration": 236,
    "start_time": "2024-08-14T17:58:30.804Z"
   },
   {
    "duration": 207,
    "start_time": "2024-08-14T17:58:31.044Z"
   },
   {
    "duration": 122,
    "start_time": "2024-08-14T17:58:31.254Z"
   },
   {
    "duration": 36,
    "start_time": "2024-08-14T17:58:31.380Z"
   },
   {
    "duration": 8,
    "start_time": "2024-08-14T17:58:31.419Z"
   },
   {
    "duration": 34,
    "start_time": "2024-08-14T17:58:31.430Z"
   },
   {
    "duration": 38,
    "start_time": "2024-08-14T17:58:31.501Z"
   },
   {
    "duration": 8,
    "start_time": "2024-08-14T17:58:31.542Z"
   },
   {
    "duration": 8,
    "start_time": "2024-08-14T17:58:31.553Z"
   },
   {
    "duration": 41,
    "start_time": "2024-08-14T17:58:31.565Z"
   },
   {
    "duration": 8,
    "start_time": "2024-08-14T17:58:31.610Z"
   },
   {
    "duration": 1541,
    "start_time": "2024-08-14T17:58:31.621Z"
   },
   {
    "duration": 3906,
    "start_time": "2024-08-14T17:58:33.166Z"
   },
   {
    "duration": 30,
    "start_time": "2024-08-14T17:58:37.075Z"
   },
   {
    "duration": 7,
    "start_time": "2024-08-14T17:58:37.109Z"
   },
   {
    "duration": 7,
    "start_time": "2024-08-14T17:58:37.119Z"
   },
   {
    "duration": 10,
    "start_time": "2024-08-14T17:58:37.130Z"
   },
   {
    "duration": 60,
    "start_time": "2024-08-14T17:58:37.144Z"
   },
   {
    "duration": 14,
    "start_time": "2024-08-14T17:58:37.214Z"
   },
   {
    "duration": 10,
    "start_time": "2024-08-14T17:58:37.232Z"
   },
   {
    "duration": 69,
    "start_time": "2024-08-14T17:58:37.245Z"
   },
   {
    "duration": 28,
    "start_time": "2024-08-14T17:58:37.317Z"
   },
   {
    "duration": 69,
    "start_time": "2024-08-14T17:58:37.348Z"
   },
   {
    "duration": 32,
    "start_time": "2024-08-14T17:58:37.421Z"
   },
   {
    "duration": 288,
    "start_time": "2024-08-14T17:58:37.457Z"
   },
   {
    "duration": 771,
    "start_time": "2024-08-14T17:58:37.748Z"
   },
   {
    "duration": 727,
    "start_time": "2024-08-14T17:58:38.523Z"
   },
   {
    "duration": 11,
    "start_time": "2024-08-14T17:58:39.253Z"
   },
   {
    "duration": 33,
    "start_time": "2024-08-14T17:58:39.270Z"
   },
   {
    "duration": 390,
    "start_time": "2024-08-14T17:58:39.306Z"
   },
   {
    "duration": 15,
    "start_time": "2024-08-14T17:58:39.703Z"
   },
   {
    "duration": 236,
    "start_time": "2024-08-14T17:58:39.721Z"
   },
   {
    "duration": 20,
    "start_time": "2024-08-14T17:58:39.960Z"
   },
   {
    "duration": 386,
    "start_time": "2024-08-14T17:58:40.003Z"
   },
   {
    "duration": 24,
    "start_time": "2024-08-14T17:58:40.392Z"
   },
   {
    "duration": 15,
    "start_time": "2024-08-14T17:58:40.419Z"
   },
   {
    "duration": 683,
    "start_time": "2024-08-14T17:58:40.437Z"
   },
   {
    "duration": 28,
    "start_time": "2024-08-14T17:58:41.124Z"
   },
   {
    "duration": 6,
    "start_time": "2024-08-14T17:58:41.155Z"
   },
   {
    "duration": 347,
    "start_time": "2024-08-14T17:58:41.164Z"
   },
   {
    "duration": 311,
    "start_time": "2024-08-14T17:58:41.515Z"
   },
   {
    "duration": 17,
    "start_time": "2024-08-14T17:58:41.828Z"
   },
   {
    "duration": 9,
    "start_time": "2024-08-14T17:58:41.848Z"
   },
   {
    "duration": 604,
    "start_time": "2024-08-14T17:58:41.861Z"
   },
   {
    "duration": 5,
    "start_time": "2024-08-14T17:58:42.469Z"
   },
   {
    "duration": 357,
    "start_time": "2024-08-14T17:58:42.477Z"
   },
   {
    "duration": 11,
    "start_time": "2024-08-14T17:58:42.838Z"
   },
   {
    "duration": 282,
    "start_time": "2024-08-14T17:58:42.854Z"
   },
   {
    "duration": 21,
    "start_time": "2024-08-14T17:58:43.140Z"
   },
   {
    "duration": 3000,
    "start_time": "2024-08-14T17:58:43.164Z"
   },
   {
    "duration": 1692,
    "start_time": "2024-08-14T17:58:46.166Z"
   },
   {
    "duration": 9,
    "start_time": "2024-08-14T17:58:47.861Z"
   },
   {
    "duration": 7,
    "start_time": "2024-08-14T17:58:47.873Z"
   },
   {
    "duration": 59,
    "start_time": "2024-08-14T17:58:47.904Z"
   },
   {
    "duration": 4,
    "start_time": "2024-08-14T17:58:47.968Z"
   },
   {
    "duration": 45,
    "start_time": "2024-08-14T17:58:47.975Z"
   },
   {
    "duration": 4,
    "start_time": "2024-08-14T18:07:14.052Z"
   },
   {
    "duration": 1513,
    "start_time": "2024-08-14T18:07:14.060Z"
   },
   {
    "duration": 34,
    "start_time": "2024-08-14T18:07:15.577Z"
   },
   {
    "duration": 25,
    "start_time": "2024-08-14T18:07:15.615Z"
   },
   {
    "duration": 21,
    "start_time": "2024-08-14T18:07:15.644Z"
   },
   {
    "duration": 23,
    "start_time": "2024-08-14T18:07:15.703Z"
   },
   {
    "duration": 21,
    "start_time": "2024-08-14T18:07:15.729Z"
   },
   {
    "duration": 219,
    "start_time": "2024-08-14T18:07:15.754Z"
   },
   {
    "duration": 27,
    "start_time": "2024-08-14T18:07:15.976Z"
   },
   {
    "duration": 212,
    "start_time": "2024-08-14T18:07:16.007Z"
   },
   {
    "duration": 162,
    "start_time": "2024-08-14T18:07:16.225Z"
   },
   {
    "duration": 95,
    "start_time": "2024-08-14T18:07:16.390Z"
   },
   {
    "duration": 41,
    "start_time": "2024-08-14T18:07:16.488Z"
   },
   {
    "duration": 7,
    "start_time": "2024-08-14T18:07:16.532Z"
   },
   {
    "duration": 62,
    "start_time": "2024-08-14T18:07:16.542Z"
   },
   {
    "duration": 35,
    "start_time": "2024-08-14T18:07:16.608Z"
   },
   {
    "duration": 8,
    "start_time": "2024-08-14T18:07:16.646Z"
   },
   {
    "duration": 7,
    "start_time": "2024-08-14T18:07:16.657Z"
   },
   {
    "duration": 9,
    "start_time": "2024-08-14T18:07:16.721Z"
   },
   {
    "duration": 8,
    "start_time": "2024-08-14T18:07:16.734Z"
   },
   {
    "duration": 1465,
    "start_time": "2024-08-14T18:07:16.745Z"
   },
   {
    "duration": 3831,
    "start_time": "2024-08-14T18:07:18.214Z"
   },
   {
    "duration": 20,
    "start_time": "2024-08-14T18:07:22.049Z"
   },
   {
    "duration": 31,
    "start_time": "2024-08-14T18:07:22.073Z"
   },
   {
    "duration": 7,
    "start_time": "2024-08-14T18:07:22.108Z"
   },
   {
    "duration": 11,
    "start_time": "2024-08-14T18:07:22.119Z"
   },
   {
    "duration": 12,
    "start_time": "2024-08-14T18:07:22.134Z"
   },
   {
    "duration": 62,
    "start_time": "2024-08-14T18:07:22.150Z"
   },
   {
    "duration": 10,
    "start_time": "2024-08-14T18:07:22.222Z"
   },
   {
    "duration": 28,
    "start_time": "2024-08-14T18:07:22.235Z"
   },
   {
    "duration": 61,
    "start_time": "2024-08-14T18:07:22.266Z"
   },
   {
    "duration": 29,
    "start_time": "2024-08-14T18:07:22.330Z"
   },
   {
    "duration": 66,
    "start_time": "2024-08-14T18:07:22.363Z"
   },
   {
    "duration": 295,
    "start_time": "2024-08-14T18:07:22.433Z"
   },
   {
    "duration": 736,
    "start_time": "2024-08-14T18:07:22.732Z"
   },
   {
    "duration": 723,
    "start_time": "2024-08-14T18:07:23.471Z"
   },
   {
    "duration": 12,
    "start_time": "2024-08-14T18:07:24.201Z"
   },
   {
    "duration": 16,
    "start_time": "2024-08-14T18:07:24.217Z"
   },
   {
    "duration": 370,
    "start_time": "2024-08-14T18:07:24.236Z"
   },
   {
    "duration": 14,
    "start_time": "2024-08-14T18:07:24.609Z"
   },
   {
    "duration": 243,
    "start_time": "2024-08-14T18:07:24.627Z"
   },
   {
    "duration": 36,
    "start_time": "2024-08-14T18:07:24.874Z"
   },
   {
    "duration": 393,
    "start_time": "2024-08-14T18:07:24.914Z"
   },
   {
    "duration": 16,
    "start_time": "2024-08-14T18:07:25.311Z"
   },
   {
    "duration": 17,
    "start_time": "2024-08-14T18:07:25.330Z"
   },
   {
    "duration": 636,
    "start_time": "2024-08-14T18:07:25.350Z"
   },
   {
    "duration": 40,
    "start_time": "2024-08-14T18:07:25.990Z"
   },
   {
    "duration": 6,
    "start_time": "2024-08-14T18:07:26.033Z"
   },
   {
    "duration": 447,
    "start_time": "2024-08-14T18:07:26.043Z"
   },
   {
    "duration": 325,
    "start_time": "2024-08-14T18:07:26.493Z"
   },
   {
    "duration": 17,
    "start_time": "2024-08-14T18:07:26.821Z"
   },
   {
    "duration": 10,
    "start_time": "2024-08-14T18:07:26.841Z"
   },
   {
    "duration": 604,
    "start_time": "2024-08-14T18:07:26.854Z"
   },
   {
    "duration": 5,
    "start_time": "2024-08-14T18:07:27.462Z"
   },
   {
    "duration": 341,
    "start_time": "2024-08-14T18:07:27.472Z"
   },
   {
    "duration": 10,
    "start_time": "2024-08-14T18:07:27.816Z"
   },
   {
    "duration": 279,
    "start_time": "2024-08-14T18:07:27.829Z"
   },
   {
    "duration": 23,
    "start_time": "2024-08-14T18:07:28.114Z"
   },
   {
    "duration": 2761,
    "start_time": "2024-08-14T18:07:28.140Z"
   },
   {
    "duration": 1789,
    "start_time": "2024-08-14T18:07:30.905Z"
   },
   {
    "duration": 10,
    "start_time": "2024-08-14T18:07:32.696Z"
   },
   {
    "duration": 7,
    "start_time": "2024-08-14T18:07:32.710Z"
   },
   {
    "duration": 86,
    "start_time": "2024-08-14T18:07:32.721Z"
   },
   {
    "duration": 6,
    "start_time": "2024-08-14T18:07:32.810Z"
   },
   {
    "duration": 20,
    "start_time": "2024-08-14T18:07:32.820Z"
   },
   {
    "duration": 3,
    "start_time": "2024-08-14T18:08:31.362Z"
   },
   {
    "duration": 1495,
    "start_time": "2024-08-14T18:08:31.370Z"
   },
   {
    "duration": 40,
    "start_time": "2024-08-14T18:08:32.868Z"
   },
   {
    "duration": 26,
    "start_time": "2024-08-14T18:08:32.912Z"
   },
   {
    "duration": 21,
    "start_time": "2024-08-14T18:08:32.941Z"
   },
   {
    "duration": 23,
    "start_time": "2024-08-14T18:08:33.000Z"
   },
   {
    "duration": 21,
    "start_time": "2024-08-14T18:08:33.026Z"
   },
   {
    "duration": 215,
    "start_time": "2024-08-14T18:08:33.051Z"
   },
   {
    "duration": 30,
    "start_time": "2024-08-14T18:08:33.273Z"
   },
   {
    "duration": 185,
    "start_time": "2024-08-14T18:08:33.306Z"
   },
   {
    "duration": 170,
    "start_time": "2024-08-14T18:08:33.493Z"
   },
   {
    "duration": 99,
    "start_time": "2024-08-14T18:08:33.667Z"
   },
   {
    "duration": 39,
    "start_time": "2024-08-14T18:08:33.771Z"
   },
   {
    "duration": 8,
    "start_time": "2024-08-14T18:08:33.814Z"
   },
   {
    "duration": 34,
    "start_time": "2024-08-14T18:08:33.826Z"
   },
   {
    "duration": 65,
    "start_time": "2024-08-14T18:08:33.864Z"
   },
   {
    "duration": 7,
    "start_time": "2024-08-14T18:08:33.932Z"
   },
   {
    "duration": 7,
    "start_time": "2024-08-14T18:08:33.943Z"
   },
   {
    "duration": 49,
    "start_time": "2024-08-14T18:08:33.953Z"
   },
   {
    "duration": 8,
    "start_time": "2024-08-14T18:08:34.006Z"
   },
   {
    "duration": 1455,
    "start_time": "2024-08-14T18:08:34.016Z"
   },
   {
    "duration": 3952,
    "start_time": "2024-08-14T18:08:35.474Z"
   },
   {
    "duration": 22,
    "start_time": "2024-08-14T18:08:39.429Z"
   },
   {
    "duration": 6,
    "start_time": "2024-08-14T18:08:39.461Z"
   },
   {
    "duration": 7,
    "start_time": "2024-08-14T18:08:39.502Z"
   },
   {
    "duration": 11,
    "start_time": "2024-08-14T18:08:39.512Z"
   },
   {
    "duration": 11,
    "start_time": "2024-08-14T18:08:39.527Z"
   },
   {
    "duration": 15,
    "start_time": "2024-08-14T18:08:39.541Z"
   },
   {
    "duration": 11,
    "start_time": "2024-08-14T18:08:39.603Z"
   },
   {
    "duration": 27,
    "start_time": "2024-08-14T18:08:39.617Z"
   },
   {
    "duration": 68,
    "start_time": "2024-08-14T18:08:39.648Z"
   },
   {
    "duration": 31,
    "start_time": "2024-08-14T18:08:39.719Z"
   },
   {
    "duration": 60,
    "start_time": "2024-08-14T18:08:39.753Z"
   },
   {
    "duration": 285,
    "start_time": "2024-08-14T18:08:39.816Z"
   },
   {
    "duration": 784,
    "start_time": "2024-08-14T18:08:40.105Z"
   },
   {
    "duration": 730,
    "start_time": "2024-08-14T18:08:40.894Z"
   },
   {
    "duration": 11,
    "start_time": "2024-08-14T18:08:41.626Z"
   },
   {
    "duration": 15,
    "start_time": "2024-08-14T18:08:41.640Z"
   },
   {
    "duration": 371,
    "start_time": "2024-08-14T18:08:41.659Z"
   },
   {
    "duration": 14,
    "start_time": "2024-08-14T18:08:42.033Z"
   },
   {
    "duration": 232,
    "start_time": "2024-08-14T18:08:42.051Z"
   },
   {
    "duration": 23,
    "start_time": "2024-08-14T18:08:42.287Z"
   },
   {
    "duration": 423,
    "start_time": "2024-08-14T18:08:42.313Z"
   },
   {
    "duration": 16,
    "start_time": "2024-08-14T18:08:42.739Z"
   },
   {
    "duration": 44,
    "start_time": "2024-08-14T18:08:42.759Z"
   },
   {
    "duration": 580,
    "start_time": "2024-08-14T18:08:42.806Z"
   },
   {
    "duration": 36,
    "start_time": "2024-08-14T18:08:43.389Z"
   },
   {
    "duration": 6,
    "start_time": "2024-08-14T18:08:43.428Z"
   },
   {
    "duration": 337,
    "start_time": "2024-08-14T18:08:43.438Z"
   },
   {
    "duration": 324,
    "start_time": "2024-08-14T18:08:43.778Z"
   },
   {
    "duration": 17,
    "start_time": "2024-08-14T18:08:44.106Z"
   },
   {
    "duration": 11,
    "start_time": "2024-08-14T18:08:44.128Z"
   },
   {
    "duration": 593,
    "start_time": "2024-08-14T18:08:44.144Z"
   },
   {
    "duration": 5,
    "start_time": "2024-08-14T18:08:44.740Z"
   },
   {
    "duration": 337,
    "start_time": "2024-08-14T18:08:44.750Z"
   },
   {
    "duration": 16,
    "start_time": "2024-08-14T18:08:45.091Z"
   },
   {
    "duration": 286,
    "start_time": "2024-08-14T18:08:45.110Z"
   },
   {
    "duration": 23,
    "start_time": "2024-08-14T18:08:45.403Z"
   },
   {
    "duration": 2814,
    "start_time": "2024-08-14T18:08:45.430Z"
   },
   {
    "duration": 1787,
    "start_time": "2024-08-14T18:08:48.247Z"
   },
   {
    "duration": 7,
    "start_time": "2024-08-14T18:08:50.037Z"
   },
   {
    "duration": 10,
    "start_time": "2024-08-14T18:08:50.047Z"
   },
   {
    "duration": 84,
    "start_time": "2024-08-14T18:08:50.060Z"
   },
   {
    "duration": 4,
    "start_time": "2024-08-14T18:08:50.147Z"
   },
   {
    "duration": 22,
    "start_time": "2024-08-14T18:08:50.155Z"
   },
   {
    "duration": 114,
    "start_time": "2024-08-14T18:22:51.535Z"
   },
   {
    "duration": 11,
    "start_time": "2024-08-14T18:23:30.157Z"
   },
   {
    "duration": 11,
    "start_time": "2024-08-14T18:23:46.186Z"
   },
   {
    "duration": 10,
    "start_time": "2024-08-14T18:24:06.244Z"
   },
   {
    "duration": 776,
    "start_time": "2024-08-14T18:33:09.193Z"
   },
   {
    "duration": 1704,
    "start_time": "2024-08-14T18:33:09.973Z"
   },
   {
    "duration": 45,
    "start_time": "2024-08-14T18:33:11.679Z"
   },
   {
    "duration": 27,
    "start_time": "2024-08-14T18:33:11.728Z"
   },
   {
    "duration": 55,
    "start_time": "2024-08-14T18:33:11.758Z"
   },
   {
    "duration": 21,
    "start_time": "2024-08-14T18:33:11.816Z"
   },
   {
    "duration": 21,
    "start_time": "2024-08-14T18:33:11.840Z"
   },
   {
    "duration": 235,
    "start_time": "2024-08-14T18:33:11.864Z"
   },
   {
    "duration": 15,
    "start_time": "2024-08-14T18:33:12.101Z"
   },
   {
    "duration": 227,
    "start_time": "2024-08-14T18:33:12.123Z"
   },
   {
    "duration": 225,
    "start_time": "2024-08-14T18:33:12.352Z"
   },
   {
    "duration": 124,
    "start_time": "2024-08-14T18:33:12.580Z"
   },
   {
    "duration": 26,
    "start_time": "2024-08-14T18:33:12.707Z"
   },
   {
    "duration": 8,
    "start_time": "2024-08-14T18:33:12.736Z"
   },
   {
    "duration": 66,
    "start_time": "2024-08-14T18:33:12.747Z"
   },
   {
    "duration": 42,
    "start_time": "2024-08-14T18:33:12.816Z"
   },
   {
    "duration": 8,
    "start_time": "2024-08-14T18:33:12.861Z"
   },
   {
    "duration": 8,
    "start_time": "2024-08-14T18:33:12.903Z"
   },
   {
    "duration": 7,
    "start_time": "2024-08-14T18:33:12.914Z"
   },
   {
    "duration": 8,
    "start_time": "2024-08-14T18:33:12.924Z"
   },
   {
    "duration": 1530,
    "start_time": "2024-08-14T18:33:12.936Z"
   },
   {
    "duration": 3918,
    "start_time": "2024-08-14T18:33:14.468Z"
   },
   {
    "duration": 23,
    "start_time": "2024-08-14T18:33:18.389Z"
   },
   {
    "duration": 6,
    "start_time": "2024-08-14T18:33:18.416Z"
   },
   {
    "duration": 8,
    "start_time": "2024-08-14T18:33:18.426Z"
   },
   {
    "duration": 10,
    "start_time": "2024-08-14T18:33:18.438Z"
   },
   {
    "duration": 11,
    "start_time": "2024-08-14T18:33:18.502Z"
   },
   {
    "duration": 13,
    "start_time": "2024-08-14T18:33:18.523Z"
   },
   {
    "duration": 10,
    "start_time": "2024-08-14T18:33:18.539Z"
   },
   {
    "duration": 69,
    "start_time": "2024-08-14T18:33:18.553Z"
   },
   {
    "duration": 28,
    "start_time": "2024-08-14T18:33:18.625Z"
   },
   {
    "duration": 62,
    "start_time": "2024-08-14T18:33:18.657Z"
   },
   {
    "duration": 29,
    "start_time": "2024-08-14T18:33:18.722Z"
   },
   {
    "duration": 272,
    "start_time": "2024-08-14T18:33:18.754Z"
   },
   {
    "duration": 727,
    "start_time": "2024-08-14T18:33:19.030Z"
   },
   {
    "duration": 731,
    "start_time": "2024-08-14T18:33:19.759Z"
   },
   {
    "duration": 11,
    "start_time": "2024-08-14T18:33:20.501Z"
   },
   {
    "duration": 15,
    "start_time": "2024-08-14T18:33:20.516Z"
   },
   {
    "duration": 377,
    "start_time": "2024-08-14T18:33:20.535Z"
   },
   {
    "duration": 14,
    "start_time": "2024-08-14T18:33:20.915Z"
   },
   {
    "duration": 240,
    "start_time": "2024-08-14T18:33:20.932Z"
   },
   {
    "duration": 34,
    "start_time": "2024-08-14T18:33:21.178Z"
   },
   {
    "duration": 385,
    "start_time": "2024-08-14T18:33:21.216Z"
   },
   {
    "duration": 16,
    "start_time": "2024-08-14T18:33:21.605Z"
   },
   {
    "duration": 16,
    "start_time": "2024-08-14T18:33:21.624Z"
   },
   {
    "duration": 615,
    "start_time": "2024-08-14T18:33:21.643Z"
   },
   {
    "duration": 50,
    "start_time": "2024-08-14T18:33:22.262Z"
   },
   {
    "duration": 7,
    "start_time": "2024-08-14T18:33:22.315Z"
   },
   {
    "duration": 327,
    "start_time": "2024-08-14T18:33:22.326Z"
   },
   {
    "duration": 330,
    "start_time": "2024-08-14T18:33:22.656Z"
   },
   {
    "duration": 26,
    "start_time": "2024-08-14T18:33:22.988Z"
   },
   {
    "duration": 12,
    "start_time": "2024-08-14T18:33:23.017Z"
   },
   {
    "duration": 604,
    "start_time": "2024-08-14T18:33:23.033Z"
   },
   {
    "duration": 5,
    "start_time": "2024-08-14T18:33:23.640Z"
   },
   {
    "duration": 340,
    "start_time": "2024-08-14T18:33:23.649Z"
   },
   {
    "duration": 16,
    "start_time": "2024-08-14T18:33:23.993Z"
   },
   {
    "duration": 284,
    "start_time": "2024-08-14T18:33:24.013Z"
   },
   {
    "duration": 23,
    "start_time": "2024-08-14T18:33:24.303Z"
   },
   {
    "duration": 3144,
    "start_time": "2024-08-14T18:33:24.330Z"
   },
   {
    "duration": 1683,
    "start_time": "2024-08-14T18:33:27.477Z"
   },
   {
    "duration": 8,
    "start_time": "2024-08-14T18:33:29.163Z"
   },
   {
    "duration": 28,
    "start_time": "2024-08-14T18:33:29.174Z"
   },
   {
    "duration": 61,
    "start_time": "2024-08-14T18:33:29.205Z"
   },
   {
    "duration": 4,
    "start_time": "2024-08-14T18:33:29.269Z"
   },
   {
    "duration": 23,
    "start_time": "2024-08-14T18:33:29.302Z"
   }
  ],
  "colab": {
   "provenance": []
  },
  "kernelspec": {
   "display_name": "Python 3 (ipykernel)",
   "language": "python",
   "name": "python3"
  },
  "language_info": {
   "codemirror_mode": {
    "name": "ipython",
    "version": 3
   },
   "file_extension": ".py",
   "mimetype": "text/x-python",
   "name": "python",
   "nbconvert_exporter": "python",
   "pygments_lexer": "ipython3",
   "version": "3.9.19"
  },
  "toc": {
   "base_numbering": 1,
   "nav_menu": {},
   "number_sections": true,
   "sideBar": true,
   "skip_h1_title": true,
   "title_cell": "Table of Contents",
   "title_sidebar": "Contents",
   "toc_cell": false,
   "toc_position": {},
   "toc_section_display": true,
   "toc_window_display": false
  },
  "vscode": {
   "interpreter": {
    "hash": "01a7be9ec63e704a62cefc5fe7a4756944464ee731be31632bdf42a4cb4688cf"
   }
  }
 },
 "nbformat": 4,
 "nbformat_minor": 5
}
