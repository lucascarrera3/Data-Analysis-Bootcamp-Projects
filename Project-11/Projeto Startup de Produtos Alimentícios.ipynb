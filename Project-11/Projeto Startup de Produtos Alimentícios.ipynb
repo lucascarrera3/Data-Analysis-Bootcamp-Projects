{
 "cells": [
  {
   "cell_type": "markdown",
   "metadata": {},
   "source": [
    "# Análise de Comportamento do Usuário - Startup de Produtos Alimentícios"
   ]
  },
  {
   "cell_type": "markdown",
   "metadata": {},
   "source": [
    "# Conteúdo <a id='back'></a>\n",
    "\n",
    "* [1) Objetivo do Projeto](#projectgoal)\n",
    "* [2) Preparação dos Dados](#data_preprocessing)\n",
    "* [3) Estudo e Verificação dos dados](#data_preprocessing)\n",
    "* [4) Funil de Eventos](#eventsfunil)\n",
    "* [5) Resultados do Experimento](#experimentresults)\n",
    "* [6) Conclusão e Recomendações](#endandrecommmendations)"
   ]
  },
  {
   "cell_type": "markdown",
   "metadata": {},
   "source": [
    "# Objetivo do Projeto\n",
    "\n",
    "O objetivo deste projeto foi analisar o comportamento dos usuários de um aplicativo alimentício, realizar testes A/A e A/B para verificar a eficácia de mudanças implementadas, e identificar se houve diferenças significativas nas interações dos usuários devido a essas alterações."
   ]
  },
  {
   "cell_type": "markdown",
   "metadata": {},
   "source": [
    "# Preparação dos Dados"
   ]
  },
  {
   "cell_type": "code",
   "execution_count": 1,
   "metadata": {},
   "outputs": [],
   "source": [
    "import pandas as pd \n",
    "import numpy as np\n",
    "import seaborn as sns\n",
    "from matplotlib import pyplot as plt\n",
    "from math import factorial\n",
    "import datetime as dt\n",
    "from scipy import stats\n",
    "from scipy.stats import ttest_ind\n",
    "from statsmodels.stats.proportion import proportions_ztest# Carregando todas as bibliotecas"
   ]
  },
  {
   "cell_type": "code",
   "execution_count": 2,
   "metadata": {},
   "outputs": [],
   "source": [
    "logs_df = pd.read_csv('/datasets/logs_exp_us.csv', sep = '\\t') # Carregando o arquivo de dados em DataFrame e corrigindo o tipo de dados"
   ]
  },
  {
   "cell_type": "code",
   "execution_count": 3,
   "metadata": {},
   "outputs": [],
   "source": [
    "logs_df.columns = ['evento', 'user_id', 'timestamp_evento', 'exp_id'] # Renomeando as colunas para um formato mais conveniente"
   ]
  },
  {
   "cell_type": "code",
   "execution_count": 4,
   "metadata": {},
   "outputs": [],
   "source": [
    "logs_df['data_hora_evento'] = pd.to_datetime(logs_df['timestamp_evento'], unit='s')# Convertendo timestamp_evento para datetime\n",
    "\n",
    "\n",
    "logs_df['data_evento'] = logs_df['data_hora_evento'].dt.date # Adicionando uma coluna separada para a data"
   ]
  },
  {
   "cell_type": "code",
   "execution_count": 5,
   "metadata": {},
   "outputs": [],
   "source": [
    "logs_df['exp_id'] = logs_df['exp_id'].astype('object' ) # Convertendo a coluna 'exp_id' para o tipo object"
   ]
  },
  {
   "cell_type": "code",
   "execution_count": 6,
   "metadata": {
    "scrolled": true
   },
   "outputs": [
    {
     "data": {
      "text/html": [
       "<div>\n",
       "<style scoped>\n",
       "    .dataframe tbody tr th:only-of-type {\n",
       "        vertical-align: middle;\n",
       "    }\n",
       "\n",
       "    .dataframe tbody tr th {\n",
       "        vertical-align: top;\n",
       "    }\n",
       "\n",
       "    .dataframe thead th {\n",
       "        text-align: right;\n",
       "    }\n",
       "</style>\n",
       "<table border=\"1\" class=\"dataframe\">\n",
       "  <thead>\n",
       "    <tr style=\"text-align: right;\">\n",
       "      <th></th>\n",
       "      <th>evento</th>\n",
       "      <th>user_id</th>\n",
       "      <th>timestamp_evento</th>\n",
       "      <th>exp_id</th>\n",
       "      <th>data_hora_evento</th>\n",
       "      <th>data_evento</th>\n",
       "    </tr>\n",
       "  </thead>\n",
       "  <tbody>\n",
       "    <tr>\n",
       "      <th>0</th>\n",
       "      <td>MainScreenAppear</td>\n",
       "      <td>4575588528974610257</td>\n",
       "      <td>1564029816</td>\n",
       "      <td>246</td>\n",
       "      <td>2019-07-25 04:43:36</td>\n",
       "      <td>2019-07-25</td>\n",
       "    </tr>\n",
       "    <tr>\n",
       "      <th>1</th>\n",
       "      <td>MainScreenAppear</td>\n",
       "      <td>7416695313311560658</td>\n",
       "      <td>1564053102</td>\n",
       "      <td>246</td>\n",
       "      <td>2019-07-25 11:11:42</td>\n",
       "      <td>2019-07-25</td>\n",
       "    </tr>\n",
       "    <tr>\n",
       "      <th>2</th>\n",
       "      <td>PaymentScreenSuccessful</td>\n",
       "      <td>3518123091307005509</td>\n",
       "      <td>1564054127</td>\n",
       "      <td>248</td>\n",
       "      <td>2019-07-25 11:28:47</td>\n",
       "      <td>2019-07-25</td>\n",
       "    </tr>\n",
       "    <tr>\n",
       "      <th>3</th>\n",
       "      <td>CartScreenAppear</td>\n",
       "      <td>3518123091307005509</td>\n",
       "      <td>1564054127</td>\n",
       "      <td>248</td>\n",
       "      <td>2019-07-25 11:28:47</td>\n",
       "      <td>2019-07-25</td>\n",
       "    </tr>\n",
       "    <tr>\n",
       "      <th>4</th>\n",
       "      <td>PaymentScreenSuccessful</td>\n",
       "      <td>6217807653094995999</td>\n",
       "      <td>1564055322</td>\n",
       "      <td>248</td>\n",
       "      <td>2019-07-25 11:48:42</td>\n",
       "      <td>2019-07-25</td>\n",
       "    </tr>\n",
       "    <tr>\n",
       "      <th>5</th>\n",
       "      <td>CartScreenAppear</td>\n",
       "      <td>6217807653094995999</td>\n",
       "      <td>1564055323</td>\n",
       "      <td>248</td>\n",
       "      <td>2019-07-25 11:48:43</td>\n",
       "      <td>2019-07-25</td>\n",
       "    </tr>\n",
       "    <tr>\n",
       "      <th>6</th>\n",
       "      <td>OffersScreenAppear</td>\n",
       "      <td>8351860793733343758</td>\n",
       "      <td>1564066242</td>\n",
       "      <td>246</td>\n",
       "      <td>2019-07-25 14:50:42</td>\n",
       "      <td>2019-07-25</td>\n",
       "    </tr>\n",
       "    <tr>\n",
       "      <th>7</th>\n",
       "      <td>MainScreenAppear</td>\n",
       "      <td>5682100281902512875</td>\n",
       "      <td>1564085677</td>\n",
       "      <td>246</td>\n",
       "      <td>2019-07-25 20:14:37</td>\n",
       "      <td>2019-07-25</td>\n",
       "    </tr>\n",
       "    <tr>\n",
       "      <th>8</th>\n",
       "      <td>MainScreenAppear</td>\n",
       "      <td>1850981295691852772</td>\n",
       "      <td>1564086702</td>\n",
       "      <td>247</td>\n",
       "      <td>2019-07-25 20:31:42</td>\n",
       "      <td>2019-07-25</td>\n",
       "    </tr>\n",
       "    <tr>\n",
       "      <th>9</th>\n",
       "      <td>MainScreenAppear</td>\n",
       "      <td>5407636962369102641</td>\n",
       "      <td>1564112112</td>\n",
       "      <td>246</td>\n",
       "      <td>2019-07-26 03:35:12</td>\n",
       "      <td>2019-07-26</td>\n",
       "    </tr>\n",
       "    <tr>\n",
       "      <th>10</th>\n",
       "      <td>MainScreenAppear</td>\n",
       "      <td>948465712512390382</td>\n",
       "      <td>1564119214</td>\n",
       "      <td>247</td>\n",
       "      <td>2019-07-26 05:33:34</td>\n",
       "      <td>2019-07-26</td>\n",
       "    </tr>\n",
       "    <tr>\n",
       "      <th>11</th>\n",
       "      <td>MainScreenAppear</td>\n",
       "      <td>2547684315586332355</td>\n",
       "      <td>1564123826</td>\n",
       "      <td>248</td>\n",
       "      <td>2019-07-26 06:50:26</td>\n",
       "      <td>2019-07-26</td>\n",
       "    </tr>\n",
       "    <tr>\n",
       "      <th>12</th>\n",
       "      <td>MainScreenAppear</td>\n",
       "      <td>8885295911290764495</td>\n",
       "      <td>1564124085</td>\n",
       "      <td>248</td>\n",
       "      <td>2019-07-26 06:54:45</td>\n",
       "      <td>2019-07-26</td>\n",
       "    </tr>\n",
       "    <tr>\n",
       "      <th>13</th>\n",
       "      <td>MainScreenAppear</td>\n",
       "      <td>2140904690380565988</td>\n",
       "      <td>1564125732</td>\n",
       "      <td>247</td>\n",
       "      <td>2019-07-26 07:22:12</td>\n",
       "      <td>2019-07-26</td>\n",
       "    </tr>\n",
       "    <tr>\n",
       "      <th>14</th>\n",
       "      <td>MainScreenAppear</td>\n",
       "      <td>4444236400320272864</td>\n",
       "      <td>1564135560</td>\n",
       "      <td>246</td>\n",
       "      <td>2019-07-26 10:06:00</td>\n",
       "      <td>2019-07-26</td>\n",
       "    </tr>\n",
       "    <tr>\n",
       "      <th>15</th>\n",
       "      <td>MainScreenAppear</td>\n",
       "      <td>8947220251154009657</td>\n",
       "      <td>1564140668</td>\n",
       "      <td>248</td>\n",
       "      <td>2019-07-26 11:31:08</td>\n",
       "      <td>2019-07-26</td>\n",
       "    </tr>\n",
       "    <tr>\n",
       "      <th>16</th>\n",
       "      <td>MainScreenAppear</td>\n",
       "      <td>5839517684026830712</td>\n",
       "      <td>1564141421</td>\n",
       "      <td>247</td>\n",
       "      <td>2019-07-26 11:43:41</td>\n",
       "      <td>2019-07-26</td>\n",
       "    </tr>\n",
       "    <tr>\n",
       "      <th>17</th>\n",
       "      <td>MainScreenAppear</td>\n",
       "      <td>7540130374989658208</td>\n",
       "      <td>1564144283</td>\n",
       "      <td>248</td>\n",
       "      <td>2019-07-26 12:31:23</td>\n",
       "      <td>2019-07-26</td>\n",
       "    </tr>\n",
       "    <tr>\n",
       "      <th>18</th>\n",
       "      <td>CartScreenAppear</td>\n",
       "      <td>2575393697599976818</td>\n",
       "      <td>1564148945</td>\n",
       "      <td>247</td>\n",
       "      <td>2019-07-26 13:49:05</td>\n",
       "      <td>2019-07-26</td>\n",
       "    </tr>\n",
       "    <tr>\n",
       "      <th>19</th>\n",
       "      <td>MainScreenAppear</td>\n",
       "      <td>4651149533106703820</td>\n",
       "      <td>1564149866</td>\n",
       "      <td>246</td>\n",
       "      <td>2019-07-26 14:04:26</td>\n",
       "      <td>2019-07-26</td>\n",
       "    </tr>\n",
       "    <tr>\n",
       "      <th>20</th>\n",
       "      <td>OffersScreenAppear</td>\n",
       "      <td>4651149533106703820</td>\n",
       "      <td>1564149871</td>\n",
       "      <td>246</td>\n",
       "      <td>2019-07-26 14:04:31</td>\n",
       "      <td>2019-07-26</td>\n",
       "    </tr>\n",
       "    <tr>\n",
       "      <th>21</th>\n",
       "      <td>CartScreenAppear</td>\n",
       "      <td>4651149533106703820</td>\n",
       "      <td>1564149877</td>\n",
       "      <td>246</td>\n",
       "      <td>2019-07-26 14:04:37</td>\n",
       "      <td>2019-07-26</td>\n",
       "    </tr>\n",
       "    <tr>\n",
       "      <th>22</th>\n",
       "      <td>OffersScreenAppear</td>\n",
       "      <td>4651149533106703820</td>\n",
       "      <td>1564149894</td>\n",
       "      <td>246</td>\n",
       "      <td>2019-07-26 14:04:54</td>\n",
       "      <td>2019-07-26</td>\n",
       "    </tr>\n",
       "    <tr>\n",
       "      <th>23</th>\n",
       "      <td>MainScreenAppear</td>\n",
       "      <td>8295497290010115455</td>\n",
       "      <td>1564151349</td>\n",
       "      <td>248</td>\n",
       "      <td>2019-07-26 14:29:09</td>\n",
       "      <td>2019-07-26</td>\n",
       "    </tr>\n",
       "    <tr>\n",
       "      <th>24</th>\n",
       "      <td>MainScreenAppear</td>\n",
       "      <td>2467684065904615242</td>\n",
       "      <td>1564155133</td>\n",
       "      <td>247</td>\n",
       "      <td>2019-07-26 15:32:13</td>\n",
       "      <td>2019-07-26</td>\n",
       "    </tr>\n",
       "    <tr>\n",
       "      <th>25</th>\n",
       "      <td>CartScreenAppear</td>\n",
       "      <td>5325250209390272889</td>\n",
       "      <td>1564158298</td>\n",
       "      <td>246</td>\n",
       "      <td>2019-07-26 16:24:58</td>\n",
       "      <td>2019-07-26</td>\n",
       "    </tr>\n",
       "    <tr>\n",
       "      <th>26</th>\n",
       "      <td>OffersScreenAppear</td>\n",
       "      <td>2029140728621466572</td>\n",
       "      <td>1564160796</td>\n",
       "      <td>246</td>\n",
       "      <td>2019-07-26 17:06:36</td>\n",
       "      <td>2019-07-26</td>\n",
       "    </tr>\n",
       "    <tr>\n",
       "      <th>27</th>\n",
       "      <td>CartScreenAppear</td>\n",
       "      <td>2029140728621466572</td>\n",
       "      <td>1564160801</td>\n",
       "      <td>246</td>\n",
       "      <td>2019-07-26 17:06:41</td>\n",
       "      <td>2019-07-26</td>\n",
       "    </tr>\n",
       "    <tr>\n",
       "      <th>28</th>\n",
       "      <td>PaymentScreenSuccessful</td>\n",
       "      <td>2029140728621466572</td>\n",
       "      <td>1564160801</td>\n",
       "      <td>246</td>\n",
       "      <td>2019-07-26 17:06:41</td>\n",
       "      <td>2019-07-26</td>\n",
       "    </tr>\n",
       "    <tr>\n",
       "      <th>29</th>\n",
       "      <td>Tutorial</td>\n",
       "      <td>6598157157289930061</td>\n",
       "      <td>1564164239</td>\n",
       "      <td>247</td>\n",
       "      <td>2019-07-26 18:03:59</td>\n",
       "      <td>2019-07-26</td>\n",
       "    </tr>\n",
       "  </tbody>\n",
       "</table>\n",
       "</div>"
      ],
      "text/plain": [
       "                     evento              user_id  timestamp_evento exp_id  \\\n",
       "0          MainScreenAppear  4575588528974610257        1564029816    246   \n",
       "1          MainScreenAppear  7416695313311560658        1564053102    246   \n",
       "2   PaymentScreenSuccessful  3518123091307005509        1564054127    248   \n",
       "3          CartScreenAppear  3518123091307005509        1564054127    248   \n",
       "4   PaymentScreenSuccessful  6217807653094995999        1564055322    248   \n",
       "5          CartScreenAppear  6217807653094995999        1564055323    248   \n",
       "6        OffersScreenAppear  8351860793733343758        1564066242    246   \n",
       "7          MainScreenAppear  5682100281902512875        1564085677    246   \n",
       "8          MainScreenAppear  1850981295691852772        1564086702    247   \n",
       "9          MainScreenAppear  5407636962369102641        1564112112    246   \n",
       "10         MainScreenAppear   948465712512390382        1564119214    247   \n",
       "11         MainScreenAppear  2547684315586332355        1564123826    248   \n",
       "12         MainScreenAppear  8885295911290764495        1564124085    248   \n",
       "13         MainScreenAppear  2140904690380565988        1564125732    247   \n",
       "14         MainScreenAppear  4444236400320272864        1564135560    246   \n",
       "15         MainScreenAppear  8947220251154009657        1564140668    248   \n",
       "16         MainScreenAppear  5839517684026830712        1564141421    247   \n",
       "17         MainScreenAppear  7540130374989658208        1564144283    248   \n",
       "18         CartScreenAppear  2575393697599976818        1564148945    247   \n",
       "19         MainScreenAppear  4651149533106703820        1564149866    246   \n",
       "20       OffersScreenAppear  4651149533106703820        1564149871    246   \n",
       "21         CartScreenAppear  4651149533106703820        1564149877    246   \n",
       "22       OffersScreenAppear  4651149533106703820        1564149894    246   \n",
       "23         MainScreenAppear  8295497290010115455        1564151349    248   \n",
       "24         MainScreenAppear  2467684065904615242        1564155133    247   \n",
       "25         CartScreenAppear  5325250209390272889        1564158298    246   \n",
       "26       OffersScreenAppear  2029140728621466572        1564160796    246   \n",
       "27         CartScreenAppear  2029140728621466572        1564160801    246   \n",
       "28  PaymentScreenSuccessful  2029140728621466572        1564160801    246   \n",
       "29                 Tutorial  6598157157289930061        1564164239    247   \n",
       "\n",
       "      data_hora_evento data_evento  \n",
       "0  2019-07-25 04:43:36  2019-07-25  \n",
       "1  2019-07-25 11:11:42  2019-07-25  \n",
       "2  2019-07-25 11:28:47  2019-07-25  \n",
       "3  2019-07-25 11:28:47  2019-07-25  \n",
       "4  2019-07-25 11:48:42  2019-07-25  \n",
       "5  2019-07-25 11:48:43  2019-07-25  \n",
       "6  2019-07-25 14:50:42  2019-07-25  \n",
       "7  2019-07-25 20:14:37  2019-07-25  \n",
       "8  2019-07-25 20:31:42  2019-07-25  \n",
       "9  2019-07-26 03:35:12  2019-07-26  \n",
       "10 2019-07-26 05:33:34  2019-07-26  \n",
       "11 2019-07-26 06:50:26  2019-07-26  \n",
       "12 2019-07-26 06:54:45  2019-07-26  \n",
       "13 2019-07-26 07:22:12  2019-07-26  \n",
       "14 2019-07-26 10:06:00  2019-07-26  \n",
       "15 2019-07-26 11:31:08  2019-07-26  \n",
       "16 2019-07-26 11:43:41  2019-07-26  \n",
       "17 2019-07-26 12:31:23  2019-07-26  \n",
       "18 2019-07-26 13:49:05  2019-07-26  \n",
       "19 2019-07-26 14:04:26  2019-07-26  \n",
       "20 2019-07-26 14:04:31  2019-07-26  \n",
       "21 2019-07-26 14:04:37  2019-07-26  \n",
       "22 2019-07-26 14:04:54  2019-07-26  \n",
       "23 2019-07-26 14:29:09  2019-07-26  \n",
       "24 2019-07-26 15:32:13  2019-07-26  \n",
       "25 2019-07-26 16:24:58  2019-07-26  \n",
       "26 2019-07-26 17:06:36  2019-07-26  \n",
       "27 2019-07-26 17:06:41  2019-07-26  \n",
       "28 2019-07-26 17:06:41  2019-07-26  \n",
       "29 2019-07-26 18:03:59  2019-07-26  "
      ]
     },
     "execution_count": 6,
     "metadata": {},
     "output_type": "execute_result"
    }
   ],
   "source": [
    "logs_df.head(30)"
   ]
  },
  {
   "cell_type": "code",
   "execution_count": 7,
   "metadata": {},
   "outputs": [
    {
     "name": "stdout",
     "output_type": "stream",
     "text": [
      "<class 'pandas.core.frame.DataFrame'>\n",
      "RangeIndex: 244126 entries, 0 to 244125\n",
      "Data columns (total 6 columns):\n",
      " #   Column            Non-Null Count   Dtype         \n",
      "---  ------            --------------   -----         \n",
      " 0   evento            244126 non-null  object        \n",
      " 1   user_id           244126 non-null  int64         \n",
      " 2   timestamp_evento  244126 non-null  int64         \n",
      " 3   exp_id            244126 non-null  object        \n",
      " 4   data_hora_evento  244126 non-null  datetime64[ns]\n",
      " 5   data_evento       244126 non-null  object        \n",
      "dtypes: datetime64[ns](1), int64(2), object(3)\n",
      "memory usage: 11.2+ MB\n"
     ]
    }
   ],
   "source": [
    "logs_df.info()"
   ]
  },
  {
   "cell_type": "code",
   "execution_count": 8,
   "metadata": {},
   "outputs": [
    {
     "name": "stdout",
     "output_type": "stream",
     "text": [
      "evento              0\n",
      "user_id             0\n",
      "timestamp_evento    0\n",
      "exp_id              0\n",
      "data_hora_evento    0\n",
      "data_evento         0\n",
      "dtype: int64\n",
      "\n"
     ]
    }
   ],
   "source": [
    "print(logs_df.isna().sum()) #calculando o número de valores ausentes de logs_df\n",
    "print()"
   ]
  },
  {
   "cell_type": "markdown",
   "metadata": {},
   "source": [
    "Não há valores ausentes.  "
   ]
  },
  {
   "cell_type": "code",
   "execution_count": 9,
   "metadata": {},
   "outputs": [
    {
     "name": "stdout",
     "output_type": "stream",
     "text": [
      "413\n",
      "\n"
     ]
    }
   ],
   "source": [
    "print(logs_df.duplicated().sum()) #Contando duplicados explícitos de logs_df\n",
    "print()"
   ]
  },
  {
   "cell_type": "code",
   "execution_count": 10,
   "metadata": {},
   "outputs": [
    {
     "data": {
      "text/plain": [
       "(                      evento              user_id  timestamp_evento  exp_id  \\\n",
       " 340                 Tutorial  3473691793382022823        1564697509     248   \n",
       " 288  PaymentScreenSuccessful  4980045449118619005        1564665640     247   \n",
       " 343                 Tutorial  3473691793382022823        1564697513     248   \n",
       " 187  PaymentScreenSuccessful   636437379427729086        1564726206     247   \n",
       " 186  PaymentScreenSuccessful   636437379427729086        1564726205     247   \n",
       " 321  PaymentScreenSuccessful  7757756163339431950        1564857429     247   \n",
       " 312  PaymentScreenSuccessful  6932517045703054087        1565024403     248   \n",
       " 301  PaymentScreenSuccessful  6342256201668992826        1564836014     246   \n",
       " 342                 Tutorial  3473691793382022823        1564697512     248   \n",
       " 354                 Tutorial  5767286434014984014        1565004352     246   \n",
       " \n",
       "      contagem  \n",
       " 340         5  \n",
       " 288         5  \n",
       " 343         5  \n",
       " 187         5  \n",
       " 186         4  \n",
       " 321         4  \n",
       " 312         4  \n",
       " 301         4  \n",
       " 342         4  \n",
       " 354         4  ,\n",
       " 768)"
      ]
     },
     "execution_count": 10,
     "metadata": {},
     "output_type": "execute_result"
    }
   ],
   "source": [
    "duplicated_rows = logs_df[logs_df.duplicated(keep=False)] # Identificando os registros duplicados\n",
    "\n",
    "\n",
    "duplicated_summary = duplicated_rows.groupby(['evento', 'user_id', 'timestamp_evento', 'exp_id']).size().reset_index(name='contagem')# Verificando quantos e quais são esses registros duplicados\n",
    "\n",
    "\n",
    "duplicated_summary.sort_values(by='contagem', ascending=False).head(10), duplicated_rows.shape[0]# Mostrando um resumo dos registros duplicados"
   ]
  },
  {
   "cell_type": "markdown",
   "metadata": {},
   "source": [
    "Manter os duplicados nesse projeto pode ser importante, especialmente porque eles refletem eventos repetidos por diversos usuários."
   ]
  },
  {
   "cell_type": "markdown",
   "metadata": {},
   "source": [
    "# Estudo e Verificação dos Dados"
   ]
  },
  {
   "cell_type": "markdown",
   "metadata": {},
   "source": [
    "Os próximos dados podem ser utilizados para tomar decisões estratégicas, como otimizar a experiência de compra ou melhorar a visibilidade do tutorial para novos usuários."
   ]
  },
  {
   "cell_type": "code",
   "execution_count": 11,
   "metadata": {},
   "outputs": [
    {
     "name": "stdout",
     "output_type": "stream",
     "text": [
      "\n",
      "Quantidade de eventos: 244126\n",
      "Eventos por tipo: evento\n",
      "CartScreenAppear            42731\n",
      "MainScreenAppear           119205\n",
      "OffersScreenAppear          46825\n",
      "PaymentScreenSuccessful     34313\n",
      "Tutorial                     1052\n",
      "Name: user_id, dtype: int64\n",
      "Usuários únicos: 7551\n",
      "Média de eventos por usuário: 32.3303\n",
      "\n"
     ]
    }
   ],
   "source": [
    "print(f\"\"\"\n",
    "Quantidade de eventos: {len(logs_df)}\n",
    "Eventos por tipo: {logs_df.groupby(\"evento\")[\"user_id\"].count()}\n",
    "Usuários únicos: {logs_df[\"user_id\"].nunique()}\n",
    "Média de eventos por usuário: {round(len(logs_df) / logs_df[\"user_id\"].nunique(), 4)}\n",
    "\"\"\")"
   ]
  },
  {
   "cell_type": "markdown",
   "metadata": {},
   "source": [
    "O alto número de eventos relacionados à tela inicial e ao carrinho indica que muitos usuários estão engajados até a fase de seleção de produtos.\n",
    "A taxa de conversão final para pagamento (representada por \"PaymentScreenSuccessful\") é relativamente baixa em comparação com os eventos anteriores, o que pode indicar oportunidades de melhoria no funil de compras, especialmente na fase de finalização.\n",
    "O baixo número de interações com o tutorial pode ser um ponto de atenção para a equipe, para entender se os usuários estão enfrentando dificuldades não abordadas por essa funcionalidade ou se o tutorial pode ser melhorado para maior utilidade."
   ]
  },
  {
   "cell_type": "code",
   "execution_count": 12,
   "metadata": {},
   "outputs": [
    {
     "name": "stdout",
     "output_type": "stream",
     "text": [
      "\n",
      "Data mínima: 2019-07-25\n",
      "Data máxima': 2019-08-07\n",
      "\n"
     ]
    }
   ],
   "source": [
    "print(f\"\"\"\n",
    "Data mínima: {logs_df[\"data_evento\"].min()}\n",
    "Data máxima': {logs_df[\"data_evento\"].max()}\n",
    "\"\"\")"
   ]
  },
  {
   "cell_type": "markdown",
   "metadata": {},
   "source": [
    "Os dados foram coletados ao longo de 13 dias, oferecendo uma visão abrangente e recente do comportamento dos usuários no aplicativo durante esse período. Este intervalo de tempo pode ajudar a identificar padrões específicos de uso e verificar a estabilidade das métricas analisadas, como taxas de conversão e engajamento."
   ]
  },
  {
   "cell_type": "code",
   "execution_count": 13,
   "metadata": {},
   "outputs": [
    {
     "data": {
      "image/png": "[encoded data removed]",
      "text/plain": [
       "<Figure size 640x480 with 1 Axes>"
      ]
     },
     "metadata": {},
     "output_type": "display_data"
    }
   ],
   "source": [
    "logs_df.groupby(\"data_evento\")[\"user_id\"].count().plot()\n",
    "plt.title('Eventos por Usuário')\n",
    "plt.xlabel('Data Evento')\n",
    "plt.ylabel('Quantidade')\n",
    "plt.xticks(rotation=45)\n",
    "plt.show()"
   ]
  },
  {
   "cell_type": "markdown",
   "metadata": {},
   "source": [
    "A curva mostra um aumento significativo de eventos a partir de 31 de julho de 2019, seguido por uma estabilização com pequenas variações."
   ]
  },
  {
   "cell_type": "code",
   "execution_count": 14,
   "metadata": {},
   "outputs": [],
   "source": [
    "data = '2019-07-31'  # data identificada em que os eventos começam a aparecer consistentemente.\n",
    "logs_filtered = logs_df[logs_df['data_evento'].astype(str) >= data]\n"
   ]
  },
  {
   "cell_type": "markdown",
   "metadata": {},
   "source": [
    "<div class=\"alert alert-block alert-success\">\n",
    "<b>Comentário: </b> <a class=\"tocSkip\"></a>\n",
    "\n",
    "Filtragem dos dados realizada com sucesso.\n",
    "</div>"
   ]
  },
  {
   "cell_type": "code",
   "execution_count": 15,
   "metadata": {
    "scrolled": true
   },
   "outputs": [
    {
     "name": "stdout",
     "output_type": "stream",
     "text": [
      "\n",
      "Proporção de usuários que permanecem: 99.9\n",
      "Proporção de usuários que eliminamos: 0.1\n",
      "\n"
     ]
    }
   ],
   "source": [
    "print(f\"\"\"\n",
    "Proporção de usuários que permanecem: {100*round(logs_filtered[\"user_id\"].nunique() / logs_df[\"user_id\"].nunique(), 3)}\n",
    "Proporção de usuários que eliminamos: {100*round(1 - logs_filtered[\"user_id\"].nunique() / logs_df[\"user_id\"].nunique(), 3)}\n",
    "\"\"\")\n"
   ]
  },
  {
   "cell_type": "markdown",
   "metadata": {},
   "source": [
    "A grande maioria dos usuários (99,9%) foi mantida nos dados finais após qualquer processo de filtragem ou limpeza. Isso indica que quase todos os usuários iniciais contribuíram para as análises, o que aumenta a confiabilidade dos resultados.\n",
    "Isso é positivo, pois significa que poucas exclusões foram necessárias, mantendo a integridade e a abrangência dos dados analisados.\n",
    "\n",
    "Apenas uma pequena fração dos usuários (0,1%) foi removida dos dados, possivelmente devido a registros duplicados, dados inconsistentes, ou outra forma de limpeza de dados. A exclusão foi mínima e provavelmente não introduz viés nos resultados."
   ]
  },
  {
   "cell_type": "code",
   "execution_count": 16,
   "metadata": {},
   "outputs": [
    {
     "data": {
      "text/plain": [
       "exp_id\n",
       "246    80045\n",
       "247    77811\n",
       "248    85473\n",
       "Name: user_id, dtype: int64"
      ]
     },
     "execution_count": 16,
     "metadata": {},
     "output_type": "execute_result"
    }
   ],
   "source": [
    "logs_filtered.groupby(\"exp_id\")[\"user_id\"].count()"
   ]
  },
  {
   "cell_type": "markdown",
   "metadata": {},
   "source": [
    "Esses números referem-se à quantidade de eventos registrados para cada grupo de experimento. A distribuição dos eventos entre os grupos é relativamente equilibrada, com diferenças que não devem afetar significativamente a análise. A comparação dos eventos entre o Grupo de Teste e os Grupos de Controle permitirá avaliar se as alterações introduzidas no aplicativo resultaram em diferenças estatisticamente significativas no comportamento do usuário."
   ]
  },
  {
   "cell_type": "markdown",
   "metadata": {},
   "source": [
    "# Funil de Eventos"
   ]
  },
  {
   "cell_type": "markdown",
   "metadata": {},
   "source": [
    "Um funil de eventos é uma ferramenta fundamental na análise de dados, especialmente quando se trata de entender o comportamento dos usuários em plataformas digitais, como sites e aplicativos, como é o caso nesse projeto. \n",
    "\n",
    "O funil de eventos fornece uma visão estruturada e detalhada do comportamento dos usuários, ajudando a identificar oportunidades de melhoria e a otimizar o processo para alcançar melhores resultados."
   ]
  },
  {
   "cell_type": "code",
   "execution_count": 17,
   "metadata": {},
   "outputs": [
    {
     "data": {
      "text/plain": [
       "evento\n",
       "MainScreenAppear           119205\n",
       "OffersScreenAppear          46825\n",
       "CartScreenAppear            42731\n",
       "PaymentScreenSuccessful     34313\n",
       "Tutorial                     1052\n",
       "Name: user_id, dtype: int64"
      ]
     },
     "execution_count": 17,
     "metadata": {},
     "output_type": "execute_result"
    }
   ],
   "source": [
    "logs_df.groupby(\"evento\")[\"user_id\"].count().sort_values(ascending=False)"
   ]
  },
  {
   "cell_type": "markdown",
   "metadata": {},
   "source": [
    "Acima, verificamos o número de repetições de cada evento, e já se percebe o funil no seguimento de ações do usuário até a área de pagamento do aplicativo."
   ]
  },
  {
   "cell_type": "code",
   "execution_count": 18,
   "metadata": {},
   "outputs": [
    {
     "data": {
      "text/plain": [
       "evento\n",
       "CartScreenAppear           3749\n",
       "MainScreenAppear           7439\n",
       "OffersScreenAppear         4613\n",
       "PaymentScreenSuccessful    3547\n",
       "Tutorial                    847\n",
       "Name: user_id, dtype: int64"
      ]
     },
     "execution_count": 18,
     "metadata": {},
     "output_type": "execute_result"
    }
   ],
   "source": [
    "logs_df.groupby(\"evento\")[\"user_id\"].nunique()"
   ]
  },
  {
   "cell_type": "markdown",
   "metadata": {},
   "source": [
    "Análise de eventos únicos."
   ]
  },
  {
   "cell_type": "code",
   "execution_count": 19,
   "metadata": {},
   "outputs": [
    {
     "data": {
      "text/plain": [
       "evento\n",
       "CartScreenAppear           49.649053\n",
       "MainScreenAppear           98.516753\n",
       "OffersScreenAppear         61.091246\n",
       "PaymentScreenSuccessful    46.973911\n",
       "Tutorial                   11.217057\n",
       "Name: user_id, dtype: float64"
      ]
     },
     "execution_count": 19,
     "metadata": {},
     "output_type": "execute_result"
    }
   ],
   "source": [
    "logs_df.groupby(\"evento\")[\"user_id\"].nunique() / logs_df[\"user_id\"].nunique()*100"
   ]
  },
  {
   "cell_type": "markdown",
   "metadata": {},
   "source": [
    "Para determinar a ordem em que as ações provavelmente ocorreram, precisamos considerar a sequência lógica de interação de um usuário com um aplicativo de vendas de produtos alimentícios. Aqui está uma ordem das ações, assumindo que todas elas fazem parte de um processo de compra:\n",
    "\n",
    "* MainScreenAppear: O usuário abre o aplicativo e vê a tela principal.\n",
    "* ProductPageAppear: O usuário visualiza a página de um produto específico.\n",
    "* AddToCart: O usuário adiciona um produto ao carrinho.\n",
    "* CartScreenAppear: O usuário visualiza o carrinho de compras.\n",
    "* CheckoutProcessStart: O usuário inicia o processo de finalização da compra.\n",
    "* PaymentScreenAppear: O usuário chega à tela de pagamento.\n",
    "* PaymentScreenSuccessful: O pagamento é concluído com sucesso.\n",
    "* OrderComplete: O pedido é finalizado e confirmado."
   ]
  },
  {
   "cell_type": "code",
   "execution_count": 20,
   "metadata": {},
   "outputs": [
    {
     "data": {
      "text/html": [
       "<div>\n",
       "<style scoped>\n",
       "    .dataframe tbody tr th:only-of-type {\n",
       "        vertical-align: middle;\n",
       "    }\n",
       "\n",
       "    .dataframe tbody tr th {\n",
       "        vertical-align: top;\n",
       "    }\n",
       "\n",
       "    .dataframe thead th {\n",
       "        text-align: right;\n",
       "    }\n",
       "</style>\n",
       "<table border=\"1\" class=\"dataframe\">\n",
       "  <thead>\n",
       "    <tr style=\"text-align: right;\">\n",
       "      <th></th>\n",
       "      <th>evento</th>\n",
       "      <th>user_id</th>\n",
       "      <th>users_in_previous_step</th>\n",
       "      <th>conversion_previous_step</th>\n",
       "      <th>dropoff_rate</th>\n",
       "    </tr>\n",
       "  </thead>\n",
       "  <tbody>\n",
       "    <tr>\n",
       "      <th>0</th>\n",
       "      <td>MainScreenAppear</td>\n",
       "      <td>7439</td>\n",
       "      <td>NaN</td>\n",
       "      <td>NaN</td>\n",
       "      <td>NaN</td>\n",
       "    </tr>\n",
       "    <tr>\n",
       "      <th>1</th>\n",
       "      <td>OffersScreenAppear</td>\n",
       "      <td>4613</td>\n",
       "      <td>7439.0</td>\n",
       "      <td>0.620110</td>\n",
       "      <td>0.379890</td>\n",
       "    </tr>\n",
       "    <tr>\n",
       "      <th>2</th>\n",
       "      <td>CartScreenAppear</td>\n",
       "      <td>3749</td>\n",
       "      <td>4613.0</td>\n",
       "      <td>0.812703</td>\n",
       "      <td>0.187297</td>\n",
       "    </tr>\n",
       "    <tr>\n",
       "      <th>3</th>\n",
       "      <td>PaymentScreenSuccessful</td>\n",
       "      <td>3547</td>\n",
       "      <td>3749.0</td>\n",
       "      <td>0.946119</td>\n",
       "      <td>0.053881</td>\n",
       "    </tr>\n",
       "    <tr>\n",
       "      <th>4</th>\n",
       "      <td>Tutorial</td>\n",
       "      <td>847</td>\n",
       "      <td>3547.0</td>\n",
       "      <td>0.238793</td>\n",
       "      <td>0.761207</td>\n",
       "    </tr>\n",
       "  </tbody>\n",
       "</table>\n",
       "</div>"
      ],
      "text/plain": [
       "                    evento  user_id  users_in_previous_step  \\\n",
       "0         MainScreenAppear     7439                     NaN   \n",
       "1       OffersScreenAppear     4613                  7439.0   \n",
       "2         CartScreenAppear     3749                  4613.0   \n",
       "3  PaymentScreenSuccessful     3547                  3749.0   \n",
       "4                 Tutorial      847                  3547.0   \n",
       "\n",
       "   conversion_previous_step  dropoff_rate  \n",
       "0                       NaN           NaN  \n",
       "1                  0.620110      0.379890  \n",
       "2                  0.812703      0.187297  \n",
       "3                  0.946119      0.053881  \n",
       "4                  0.238793      0.761207  "
      ]
     },
     "execution_count": 20,
     "metadata": {},
     "output_type": "execute_result"
    }
   ],
   "source": [
    "users_by_event = logs_df.groupby(\"evento\")[\"user_id\"].nunique().sort_values(ascending=False).reset_index()\n",
    "users_by_event[\"users_in_previous_step\"] = users_by_event[\"user_id\"].shift(1)\n",
    "users_by_event[\"conversion_previous_step\"] = users_by_event[\"user_id\"] / users_by_event[\"users_in_previous_step\"]\n",
    "users_by_event[\"dropoff_rate\"] = 1 - users_by_event[\"conversion_previous_step\"]\n",
    "\n",
    "users_by_event.head()"
   ]
  },
  {
   "cell_type": "markdown",
   "metadata": {},
   "source": [
    "\n",
    "<div class=\"alert alert-block alert-warning\">\n",
    "<b>Comentário: </b> <a class=\"tocSkip\"></a>\n",
    "\n",
    "O funil poderia ser construído da seguinte maneira:\n",
    "\n",
    "```python\n",
    "# Dados do funil\n",
    "stages = [\n",
    "    'Tela Principal', \n",
    "    'Tela de Ofertas', \n",
    "    'Tela do Carrinho', \n",
    "    'Pagamento Concluído'\n",
    "]\n",
    "\n",
    "# Número de usuários em cada etapa\n",
    "user_counts = [\n",
    "    len(set(data[data['event'] == 'MainScreenAppear']['device_id'])),\n",
    "    len(set(data[data['event'] == 'OffersScreenAppear']['device_id'])),\n",
    "    len(set(data[data['event'] == 'CartScreenAppear']['device_id'])),\n",
    "    len(set(data[data['event'] == 'PaymentScreenSuccessful']['device_id']))\n",
    "]\n",
    "\n",
    "# Criando o gráfico de funil\n",
    "fig = go.Figure(go.Funnel(\n",
    "    y=stages,\n",
    "    x=user_counts,\n",
    "    textposition=\"inside\",\n",
    "    textinfo=\"value+percent initial\"\n",
    "))\n",
    "\n",
    "# Atualizando layout\n",
    "fig.update_layout(\n",
    "    title=\"FUNIL DE CONVERSÃO\",\n",
    "    yaxis_title=\"Etapa do Funil\",\n",
    "    xaxis_title=\"Número de Usuários\"\n",
    ")\n",
    "\n",
    "fig.show()\n",
    "\n",
    "```\n",
    "    "
   ]
  },
  {
   "cell_type": "code",
   "execution_count": 21,
   "metadata": {},
   "outputs": [
    {
     "data": {
      "image/png": "[encoded data removed]",
      "text/plain": [
       "<Figure size 1000x600 with 1 Axes>"
      ]
     },
     "metadata": {},
     "output_type": "display_data"
    },
    {
     "data": {
      "image/png": "[encoded data removed]",
      "text/plain": [
       "<Figure size 1000x600 with 1 Axes>"
      ]
     },
     "metadata": {},
     "output_type": "display_data"
    }
   ],
   "source": [
    "# Remover a primeira linha porque não tem uma etapa anterior para comparação\n",
    "users_by_event = users_by_event.dropna().reset_index(drop=True)\n",
    "\n",
    "# Plotar a taxa de conversão\n",
    "plt.figure(figsize=(10, 6))\n",
    "plt.plot(users_by_event[\"evento\"], users_by_event[\"conversion_previous_step\"], marker='o', linestyle='-')\n",
    "plt.xlabel('Evento')\n",
    "plt.ylabel('Taxa de Conversão')\n",
    "plt.title('Taxa de Conversão entre Eventos')\n",
    "plt.grid(True)\n",
    "plt.xticks(rotation=45)\n",
    "plt.show()\n",
    "\n",
    "# Plotar a taxa de abandono\n",
    "plt.figure(figsize=(10, 6))\n",
    "plt.plot(users_by_event[\"evento\"], users_by_event[\"dropoff_rate\"], marker='o', linestyle='-')\n",
    "plt.xlabel('Evento')\n",
    "plt.ylabel('Taxa de Abandono')\n",
    "plt.title('Taxa de Abandono entre Eventos')\n",
    "plt.grid(True)\n",
    "plt.xticks(rotation=45)\n",
    "plt.show()"
   ]
  },
  {
   "cell_type": "markdown",
   "metadata": {},
   "source": [
    "Esta etapa apresenta uma taxa de conversão mais alta(80%), indicando que a maioria dos usuários que chegam ao carrinho de compras realmente concluem o pagamento com sucesso. Esta é uma boa métrica, pois sugere que o processo de compra é eficiente uma vez que o usuário decide prosseguir.\n",
    "\n",
    "Há uma queda drástica na taxa de conversão(30%) após o pagamento ser concluído, com apenas cerca de 30% dos usuários acessando o tutorial. Isso sugere que muitos usuários não sentem a necessidade de ver o tutorial após finalizar a compra, ou o tutorial pode não estar claramente integrado ao fluxo.\n",
    "\n",
    "O primeiro grande abandono acontece entre a visualização das ofertas e a tela do carrinho, indicando que muitos usuários não chegam a adicionar itens ao carrinho. O abandono na última transição sugere que o tutorial pode não ser essencial ou está mal posicionado, já que os usuários abandonam em massa após concluir o pagamento."
   ]
  },
  {
   "cell_type": "code",
   "execution_count": 22,
   "metadata": {},
   "outputs": [
    {
     "data": {
      "text/plain": [
       "76.69629308476046"
      ]
     },
     "execution_count": 22,
     "metadata": {},
     "output_type": "execute_result"
    }
   ],
   "source": [
    "# Eventos de interesse\n",
    "primeiro_evento = \"OffersScreenAppear\"\n",
    "ultimo_evento = \"PaymentScreenSuccessful\"\n",
    "\n",
    "# Identificar usuários que participaram do primeiro e último eventos\n",
    "usuarios_primeiro_evento = set(logs_df[logs_df[\"evento\"] == primeiro_evento][\"user_id\"])\n",
    "usuarios_ultimo_evento = set(logs_df[logs_df[\"evento\"] == ultimo_evento][\"user_id\"])\n",
    "\n",
    "# Identificar usuários que fizeram o caminho completo\n",
    "usuarios_caminho_completo = usuarios_primeiro_evento & usuarios_ultimo_evento\n",
    "\n",
    "# Calcular a parcela de usuários que fizeram o caminho completo\n",
    "parcela_caminho_completo = len(usuarios_caminho_completo) / len(usuarios_primeiro_evento)*100\n",
    "\n",
    "# Exibir a parcela\n",
    "parcela_caminho_completo"
   ]
  },
  {
   "cell_type": "markdown",
   "metadata": {},
   "source": [
    "Uma parcela de 76,7% indica que a maioria dos usuários que começam o processo de navegação nas ofertas realmente segue adiante e completa uma compra. Isso é um sinal muito positivo de que a jornada do usuário está bem desenhada, especialmente do ponto de vista de engajamento e conversão. Dependendo do contexto e dos objetivos da sua startup, pode haver espaço para melhorias em alguma etapa do funil."
   ]
  },
  {
   "cell_type": "markdown",
   "metadata": {},
   "source": [
    "# Os Resultados do Experimento"
   ]
  },
  {
   "cell_type": "code",
   "execution_count": 23,
   "metadata": {},
   "outputs": [
    {
     "data": {
      "text/plain": [
       "exp_id\n",
       "246    2489\n",
       "247    2520\n",
       "248    2542\n",
       "Name: user_id, dtype: int64"
      ]
     },
     "execution_count": 23,
     "metadata": {},
     "output_type": "execute_result"
    }
   ],
   "source": [
    "# Contar o número de usuários únicos em cada grupo experimental\n",
    "usuarios_por_grupo = logs_df.groupby(\"exp_id\")[\"user_id\"].nunique()\n",
    "\n",
    "# Exibir o resultado\n",
    "usuarios_por_grupo"
   ]
  },
  {
   "cell_type": "markdown",
   "metadata": {},
   "source": [
    "Este equilíbrio entre os grupos é importante para garantir que as comparações feitas entre os grupos sejam justas e que as diferenças observadas sejam mais provavelmente devidas às variações experimentais, e não a desequilíbrios no tamanho dos grupos."
   ]
  },
  {
   "cell_type": "code",
   "execution_count": 24,
   "metadata": {},
   "outputs": [
    {
     "data": {
      "text/plain": [
       "'MainScreenAppear'"
      ]
     },
     "execution_count": 24,
     "metadata": {},
     "output_type": "execute_result"
    }
   ],
   "source": [
    "# Encontrar o evento mais popular\n",
    "evento_mais_popular = logs_df[\"evento\"].value_counts().idxmax()\n",
    "evento_mais_popular"
   ]
  },
  {
   "cell_type": "markdown",
   "metadata": {},
   "source": [
    "'MainScreenAppear' é, logicamente, o evento mais popular por ser a tela principal do aplicativo. "
   ]
  },
  {
   "cell_type": "code",
   "execution_count": 25,
   "metadata": {},
   "outputs": [
    {
     "data": {
      "text/plain": [
       "(98.67416633186018, 98.4920634920635)"
      ]
     },
     "execution_count": 25,
     "metadata": {},
     "output_type": "execute_result"
    }
   ],
   "source": [
    "# Filtrar os dados para os grupos de controle\n",
    "grupo_controle_246 = logs_df[logs_df[\"exp_id\"] == 246]\n",
    "grupo_controle_247 = logs_df[logs_df[\"exp_id\"] == 247]\n",
    "\n",
    "# Calcular o número de usuários que realizaram o evento mais popular em cada grupo\n",
    "usuarios_246 = grupo_controle_246[grupo_controle_246[\"evento\"] == evento_mais_popular][\"user_id\"].nunique()\n",
    "usuarios_247 = grupo_controle_247[grupo_controle_247[\"evento\"] == evento_mais_popular][\"user_id\"].nunique()\n",
    "\n",
    "# Calcular o total de usuários em cada grupo\n",
    "total_usuarios_246 = grupo_controle_246[\"user_id\"].nunique()\n",
    "total_usuarios_247 = grupo_controle_247[\"user_id\"].nunique()\n",
    "\n",
    "# Calcular a proporção de usuários que realizaram o evento mais popular em cada grupo\n",
    "proporcao_246 = usuarios_246 / total_usuarios_246*100\n",
    "proporcao_247 = usuarios_247 / total_usuarios_247*100\n",
    "\n",
    "proporcao_246, proporcao_247"
   ]
  },
  {
   "cell_type": "code",
   "execution_count": 26,
   "metadata": {},
   "outputs": [
    {
     "data": {
      "text/plain": [
       "(0.5451301916932931, 0.5856639791209877)"
      ]
     },
     "execution_count": 26,
     "metadata": {},
     "output_type": "execute_result"
    }
   ],
   "source": [
    "# Contagem de sucessos (número de usuários que realizaram o evento) em cada grupo\n",
    "contagens = np.array([usuarios_246, usuarios_247])\n",
    "\n",
    "# Tamanho das amostras (número total de usuários) em cada grupo\n",
    "amostras = np.array([total_usuarios_246, total_usuarios_247])\n",
    "\n",
    "# Teste de proporção z\n",
    "stat, p_value = proportions_ztest(contagens, amostras)\n",
    "\n",
    "stat, p_value"
   ]
  },
  {
   "cell_type": "markdown",
   "metadata": {},
   "source": [
    "Os resultados indicam o seguinte:\n",
    "\n",
    "* Proporções de Usuários que Realizaram o Evento Mais Popular:\n",
    "\n",
    "Grupo 246: 98.67% dos usuários realizaram o evento MainScreenAppear.\n",
    "\n",
    "Grupo 247: 98.49% dos usuários realizaram o evento MainScreenAppear.\n",
    "\n",
    "A diferença nas proporções entre os dois grupos de controle é muito pequena (apenas 0.18% de diferença). Isso sugere que ambos os grupos têm um comportamento muito similar em relação à ocorrência do evento MainScreenAppear."
   ]
  },
  {
   "cell_type": "markdown",
   "metadata": {},
   "source": [
    "Aplicamos um teste de proporção z para comparar as proporções de usuários que realizaram o evento mais popular em ambos os grupos.A ausência de uma diferença estatisticamente significativa indica que os grupos se comportam de maneira semelhante, o que é desejável em um teste A/A, onde esperamos que ambos os grupos apresentem resultados semelhantes."
   ]
  },
  {
   "cell_type": "markdown",
   "metadata": {},
   "source": [
    "Agora, vamos comparar as proporções de usuários que realizaram cada evento no grupo de teste (grupo 248) com as proporções nos dois grupos de controle (246 e 247) isoladamente, bem como com a combinação dos dois grupos de controle."
   ]
  },
  {
   "cell_type": "code",
   "execution_count": 27,
   "metadata": {},
   "outputs": [],
   "source": [
    "def t_test(df, group1, group2, event, group_col=\"exp_id\"):\n",
    "    \n",
    "    conversions = pd.DataFrame(logs_df={\n",
    "        \"user_id\": df[df[\"evento\"] == event][\"user_id\"].unique(),\n",
    "        \"converted\": 1\n",
    "    })\n",
    "    \n",
    "    conversions = conversions.merge(converted, on=\"user_id\", how=\"left\")\n",
    "    conversions[\"converted\"] = conversions[\"converted\"].fillna(0)\n",
    "                                    \n",
    "    statistic, pvalue = ttest_ind(\n",
    "        conversions[conversions[group_col] == group1][\"converted\"],\n",
    "        conversions[conversions[group_col] == group2][\"converted\"]\n",
    "    )\n",
    "                                    \n",
    "    return statistic, pvalue"
   ]
  },
  {
   "cell_type": "code",
   "execution_count": 28,
   "metadata": {},
   "outputs": [
    {
     "data": {
      "text/html": [
       "<div>\n",
       "<style scoped>\n",
       "    .dataframe tbody tr th:only-of-type {\n",
       "        vertical-align: middle;\n",
       "    }\n",
       "\n",
       "    .dataframe tbody tr th {\n",
       "        vertical-align: top;\n",
       "    }\n",
       "\n",
       "    .dataframe thead th {\n",
       "        text-align: right;\n",
       "    }\n",
       "</style>\n",
       "<table border=\"1\" class=\"dataframe\">\n",
       "  <thead>\n",
       "    <tr style=\"text-align: right;\">\n",
       "      <th></th>\n",
       "      <th>evento</th>\n",
       "      <th>user_id</th>\n",
       "      <th>timestamp_evento</th>\n",
       "      <th>exp_id</th>\n",
       "      <th>data_hora_evento</th>\n",
       "      <th>data_evento</th>\n",
       "    </tr>\n",
       "  </thead>\n",
       "  <tbody>\n",
       "    <tr>\n",
       "      <th>0</th>\n",
       "      <td>MainScreenAppear</td>\n",
       "      <td>4575588528974610257</td>\n",
       "      <td>1564029816</td>\n",
       "      <td>246</td>\n",
       "      <td>2019-07-25 04:43:36</td>\n",
       "      <td>2019-07-25</td>\n",
       "    </tr>\n",
       "    <tr>\n",
       "      <th>1</th>\n",
       "      <td>MainScreenAppear</td>\n",
       "      <td>7416695313311560658</td>\n",
       "      <td>1564053102</td>\n",
       "      <td>246</td>\n",
       "      <td>2019-07-25 11:11:42</td>\n",
       "      <td>2019-07-25</td>\n",
       "    </tr>\n",
       "    <tr>\n",
       "      <th>2</th>\n",
       "      <td>PaymentScreenSuccessful</td>\n",
       "      <td>3518123091307005509</td>\n",
       "      <td>1564054127</td>\n",
       "      <td>248</td>\n",
       "      <td>2019-07-25 11:28:47</td>\n",
       "      <td>2019-07-25</td>\n",
       "    </tr>\n",
       "    <tr>\n",
       "      <th>3</th>\n",
       "      <td>CartScreenAppear</td>\n",
       "      <td>3518123091307005509</td>\n",
       "      <td>1564054127</td>\n",
       "      <td>248</td>\n",
       "      <td>2019-07-25 11:28:47</td>\n",
       "      <td>2019-07-25</td>\n",
       "    </tr>\n",
       "    <tr>\n",
       "      <th>4</th>\n",
       "      <td>PaymentScreenSuccessful</td>\n",
       "      <td>6217807653094995999</td>\n",
       "      <td>1564055322</td>\n",
       "      <td>248</td>\n",
       "      <td>2019-07-25 11:48:42</td>\n",
       "      <td>2019-07-25</td>\n",
       "    </tr>\n",
       "  </tbody>\n",
       "</table>\n",
       "</div>"
      ],
      "text/plain": [
       "                    evento              user_id  timestamp_evento exp_id  \\\n",
       "0         MainScreenAppear  4575588528974610257        1564029816    246   \n",
       "1         MainScreenAppear  7416695313311560658        1564053102    246   \n",
       "2  PaymentScreenSuccessful  3518123091307005509        1564054127    248   \n",
       "3         CartScreenAppear  3518123091307005509        1564054127    248   \n",
       "4  PaymentScreenSuccessful  6217807653094995999        1564055322    248   \n",
       "\n",
       "     data_hora_evento data_evento  \n",
       "0 2019-07-25 04:43:36  2019-07-25  \n",
       "1 2019-07-25 11:11:42  2019-07-25  \n",
       "2 2019-07-25 11:28:47  2019-07-25  \n",
       "3 2019-07-25 11:28:47  2019-07-25  \n",
       "4 2019-07-25 11:48:42  2019-07-25  "
      ]
     },
     "execution_count": 28,
     "metadata": {},
     "output_type": "execute_result"
    }
   ],
   "source": [
    "logs_df.head()"
   ]
  },
  {
   "cell_type": "code",
   "execution_count": 29,
   "metadata": {},
   "outputs": [],
   "source": [
    "def verificar_diferenca_estatistica(evento, grupo_controle, grupo_teste, alpha=0.1):\n",
    "    # Quantidade de usuários únicos que realizaram o evento nos grupos controle e teste\n",
    "    usuarios_controle = grupo_controle[grupo_controle[\"evento\"] == evento][\"user_id\"].nunique()\n",
    "    usuarios_teste = grupo_teste[grupo_teste[\"evento\"] == evento][\"user_id\"].nunique()\n",
    "\n",
    "    # Quantidade total de usuários em cada grupo\n",
    "    total_usuarios_controle = grupo_controle[\"user_id\"].nunique()\n",
    "    total_usuarios_teste = grupo_teste[\"user_id\"].nunique()\n",
    "\n",
    "    # Proporção de usuários que realizaram o evento em cada grupo\n",
    "    proporcao_controle = (usuarios_controle / total_usuarios_controle) * 100\n",
    "    proporcao_teste = (usuarios_teste / total_usuarios_teste) * 100\n",
    "\n",
    "    # Array com contagens e tamanhos das amostras\n",
    "    contagens = np.array([usuarios_controle, usuarios_teste])\n",
    "    amostras = np.array([total_usuarios_controle, total_usuarios_teste])\n",
    "\n",
    "    # Teste z para duas proporções\n",
    "    stat, p_value = proportions_ztest(contagens, amostras)\n",
    "\n",
    "    # Exibição das hipóteses\n",
    "    print(f\"Evento: {evento}\")\n",
    "    print(f\"Hipótese Nula (H0): Não há diferença significativa na proporção de usuários que realizaram '{evento}' entre o grupo de controle e o grupo de teste.\")\n",
    "    print(f\"Hipótese Alternativa (H1): Existe uma diferença significativa na proporção de usuários que realizaram '{evento}' entre o grupo de controle e o grupo de teste.\")\n",
    "    \n",
    "    # Exibição dos resultados\n",
    "    print(f\"Proporção Controle: {round(proporcao_controle, 2)}%\")\n",
    "    print(f\"Proporção Teste: {round(proporcao_teste, 2)}%\")\n",
    "    print(f\"Stat: {round(stat, 4)}\")\n",
    "    print(f\"P-Value: {round(p_value, 4)}\")\n",
    "    \n",
    "    # Interpretação do resultado com base no nível de significância\n",
    "    if p_value < alpha:\n",
    "        print(f\"Rejeitamos a hipótese nula. Existe uma diferença significativa (p < {alpha}).\")\n",
    "    else:\n",
    "        print(f\"Não rejeitamos a hipótese nula. Não há diferença significativa (p >= {alpha}).\")\n",
    "    \n",
    "    print(\"-\" * 50)  # Separador para os resultados\n",
    "    \n",
    "    return round(proporcao_controle, 2), round(proporcao_teste, 2), round(stat, 4), round(p_value, 4)"
   ]
  },
  {
   "cell_type": "code",
   "execution_count": 30,
   "metadata": {},
   "outputs": [],
   "source": [
    "grupo_controle_246 = logs_df[logs_df[\"exp_id\"] == 246] # Definindo as variáveis e os grupos\n",
    "grupo_controle_247 = logs_df[logs_df[\"exp_id\"] == 247]\n",
    "grupo_controle_combinado = logs_df[logs_df[\"exp_id\"].isin([246, 247])]\n",
    "grupo_teste_248 = logs_df[logs_df[\"exp_id\"] == 248]"
   ]
  },
  {
   "cell_type": "code",
   "execution_count": 31,
   "metadata": {},
   "outputs": [
    {
     "name": "stdout",
     "output_type": "stream",
     "text": [
      "Evento: MainScreenAppear\n",
      "Hipótese Nula (H0): Não há diferença significativa na proporção de usuários que realizaram 'MainScreenAppear' entre o grupo de controle e o grupo de teste.\n",
      "Hipótese Alternativa (H1): Existe uma diferença significativa na proporção de usuários que realizaram 'MainScreenAppear' entre o grupo de controle e o grupo de teste.\n",
      "Proporção Controle: 98.67%\n",
      "Proporção Teste: 98.39%\n",
      "Stat: 0.8456\n",
      "P-Value: 0.3977\n",
      "Não rejeitamos a hipótese nula. Não há diferença significativa (p >= 0.1).\n",
      "--------------------------------------------------\n",
      "Evento: MainScreenAppear\n",
      "Hipótese Nula (H0): Não há diferença significativa na proporção de usuários que realizaram 'MainScreenAppear' entre o grupo de controle e o grupo de teste.\n",
      "Hipótese Alternativa (H1): Existe uma diferença significativa na proporção de usuários que realizaram 'MainScreenAppear' entre o grupo de controle e o grupo de teste.\n",
      "Proporção Controle: 98.49%\n",
      "Proporção Teste: 98.39%\n",
      "Stat: 0.3013\n",
      "P-Value: 0.7632\n",
      "Não rejeitamos a hipótese nula. Não há diferença significativa (p >= 0.1).\n",
      "--------------------------------------------------\n",
      "Evento: MainScreenAppear\n",
      "Hipótese Nula (H0): Não há diferença significativa na proporção de usuários que realizaram 'MainScreenAppear' entre o grupo de controle e o grupo de teste.\n",
      "Hipótese Alternativa (H1): Existe uma diferença significativa na proporção de usuários que realizaram 'MainScreenAppear' entre o grupo de controle e o grupo de teste.\n",
      "Proporção Controle: 98.58%\n",
      "Proporção Teste: 98.39%\n",
      "Stat: 0.664\n",
      "P-Value: 0.5067\n",
      "Não rejeitamos a hipótese nula. Não há diferença significativa (p >= 0.1).\n",
      "--------------------------------------------------\n",
      "Evento: PaymentScreenSuccessful\n",
      "Hipótese Nula (H0): Não há diferença significativa na proporção de usuários que realizaram 'PaymentScreenSuccessful' entre o grupo de controle e o grupo de teste.\n",
      "Hipótese Alternativa (H1): Existe uma diferença significativa na proporção de usuários que realizaram 'PaymentScreenSuccessful' entre o grupo de controle e o grupo de teste.\n",
      "Proporção Controle: 48.29%\n",
      "Proporção Teste: 46.62%\n",
      "Stat: 1.19\n",
      "P-Value: 0.234\n",
      "Não rejeitamos a hipótese nula. Não há diferença significativa (p >= 0.1).\n",
      "--------------------------------------------------\n",
      "Evento: PaymentScreenSuccessful\n",
      "Hipótese Nula (H0): Não há diferença significativa na proporção de usuários que realizaram 'PaymentScreenSuccessful' entre o grupo de controle e o grupo de teste.\n",
      "Hipótese Alternativa (H1): Existe uma diferença significativa na proporção de usuários que realizaram 'PaymentScreenSuccessful' entre o grupo de controle e o grupo de teste.\n",
      "Proporção Controle: 46.03%\n",
      "Proporção Teste: 46.62%\n",
      "Stat: -0.4174\n",
      "P-Value: 0.6764\n",
      "Não rejeitamos a hipótese nula. Não há diferença significativa (p >= 0.1).\n",
      "--------------------------------------------------\n",
      "Evento: PaymentScreenSuccessful\n",
      "Hipótese Nula (H0): Não há diferença significativa na proporção de usuários que realizaram 'PaymentScreenSuccessful' entre o grupo de controle e o grupo de teste.\n",
      "Hipótese Alternativa (H1): Existe uma diferença significativa na proporção de usuários que realizaram 'PaymentScreenSuccessful' entre o grupo de controle e o grupo de teste.\n",
      "Proporção Controle: 47.16%\n",
      "Proporção Teste: 46.62%\n",
      "Stat: 0.4429\n",
      "P-Value: 0.6578\n",
      "Não rejeitamos a hipótese nula. Não há diferença significativa (p >= 0.1).\n",
      "--------------------------------------------------\n",
      "Evento: CartScreenAppear\n",
      "Hipótese Nula (H0): Não há diferença significativa na proporção de usuários que realizaram 'CartScreenAppear' entre o grupo de controle e o grupo de teste.\n",
      "Hipótese Alternativa (H1): Existe uma diferença significativa na proporção de usuários que realizaram 'CartScreenAppear' entre o grupo de controle e o grupo de teste.\n",
      "Proporção Controle: 51.02%\n",
      "Proporção Teste: 48.74%\n",
      "Stat: 1.6195\n",
      "P-Value: 0.1053\n",
      "Não rejeitamos a hipótese nula. Não há diferença significativa (p >= 0.1).\n",
      "--------------------------------------------------\n",
      "Evento: CartScreenAppear\n",
      "Hipótese Nula (H0): Não há diferença significativa na proporção de usuários que realizaram 'CartScreenAppear' entre o grupo de controle e o grupo de teste.\n",
      "Hipótese Alternativa (H1): Existe uma diferença significativa na proporção de usuários que realizaram 'CartScreenAppear' entre o grupo de controle e o grupo de teste.\n",
      "Proporção Controle: 49.21%\n",
      "Proporção Teste: 48.74%\n",
      "Stat: 0.331\n",
      "P-Value: 0.7406\n",
      "Não rejeitamos a hipótese nula. Não há diferença significativa (p >= 0.1).\n",
      "--------------------------------------------------\n",
      "Evento: CartScreenAppear\n",
      "Hipótese Nula (H0): Não há diferença significativa na proporção de usuários que realizaram 'CartScreenAppear' entre o grupo de controle e o grupo de teste.\n",
      "Hipótese Alternativa (H1): Existe uma diferença significativa na proporção de usuários que realizaram 'CartScreenAppear' entre o grupo de controle e o grupo de teste.\n",
      "Proporção Controle: 50.11%\n",
      "Proporção Teste: 48.74%\n",
      "Stat: 1.1241\n",
      "P-Value: 0.261\n",
      "Não rejeitamos a hipótese nula. Não há diferença significativa (p >= 0.1).\n",
      "--------------------------------------------------\n",
      "Evento: OffersScreenAppear\n",
      "Hipótese Nula (H0): Não há diferença significativa na proporção de usuários que realizaram 'OffersScreenAppear' entre o grupo de controle e o grupo de teste.\n",
      "Hipótese Alternativa (H1): Existe uma diferença significativa na proporção de usuários que realizaram 'OffersScreenAppear' entre o grupo de controle e o grupo de teste.\n",
      "Proporção Controle: 62.07%\n",
      "Proporção Teste: 60.5%\n",
      "Stat: 1.1427\n",
      "P-Value: 0.2532\n",
      "Não rejeitamos a hipótese nula. Não há diferença significativa (p >= 0.1).\n",
      "--------------------------------------------------\n",
      "Evento: OffersScreenAppear\n",
      "Hipótese Nula (H0): Não há diferença significativa na proporção de usuários que realizaram 'OffersScreenAppear' entre o grupo de controle e o grupo de teste.\n",
      "Hipótese Alternativa (H1): Existe uma diferença significativa na proporção de usuários que realizaram 'OffersScreenAppear' entre o grupo de controle e o grupo de teste.\n",
      "Proporção Controle: 60.71%\n",
      "Proporção Teste: 60.5%\n",
      "Stat: 0.1534\n",
      "P-Value: 0.8781\n",
      "Não rejeitamos a hipótese nula. Não há diferença significativa (p >= 0.1).\n",
      "--------------------------------------------------\n",
      "Evento: OffersScreenAppear\n",
      "Hipótese Nula (H0): Não há diferença significativa na proporção de usuários que realizaram 'OffersScreenAppear' entre o grupo de controle e o grupo de teste.\n",
      "Hipótese Alternativa (H1): Existe uma diferença significativa na proporção de usuários que realizaram 'OffersScreenAppear' entre o grupo de controle e o grupo de teste.\n",
      "Proporção Controle: 61.39%\n",
      "Proporção Teste: 60.5%\n",
      "Stat: 0.7462\n",
      "P-Value: 0.4555\n",
      "Não rejeitamos a hipótese nula. Não há diferença significativa (p >= 0.1).\n",
      "--------------------------------------------------\n",
      "Evento: Tutorial\n",
      "Hipótese Nula (H0): Não há diferença significativa na proporção de usuários que realizaram 'Tutorial' entre o grupo de controle e o grupo de teste.\n",
      "Hipótese Alternativa (H1): Existe uma diferença significativa na proporção de usuários que realizaram 'Tutorial' entre o grupo de controle e o grupo de teste.\n",
      "Proporção Controle: 11.21%\n",
      "Proporção Teste: 11.09%\n",
      "Stat: 0.1303\n",
      "P-Value: 0.8963\n",
      "Não rejeitamos a hipótese nula. Não há diferença significativa (p >= 0.1).\n",
      "--------------------------------------------------\n",
      "Evento: Tutorial\n",
      "Hipótese Nula (H0): Não há diferença significativa na proporção de usuários que realizaram 'Tutorial' entre o grupo de controle e o grupo de teste.\n",
      "Hipótese Alternativa (H1): Existe uma diferença significativa na proporção de usuários que realizaram 'Tutorial' entre o grupo de controle e o grupo de teste.\n",
      "Proporção Controle: 11.35%\n",
      "Proporção Teste: 11.09%\n",
      "Stat: 0.2881\n",
      "P-Value: 0.7733\n",
      "Não rejeitamos a hipótese nula. Não há diferença significativa (p >= 0.1).\n",
      "--------------------------------------------------\n",
      "Evento: Tutorial\n",
      "Hipótese Nula (H0): Não há diferença significativa na proporção de usuários que realizaram 'Tutorial' entre o grupo de controle e o grupo de teste.\n",
      "Hipótese Alternativa (H1): Existe uma diferença significativa na proporção de usuários que realizaram 'Tutorial' entre o grupo de controle e o grupo de teste.\n",
      "Proporção Controle: 11.28%\n",
      "Proporção Teste: 11.09%\n",
      "Stat: 0.2421\n",
      "P-Value: 0.8087\n",
      "Não rejeitamos a hipótese nula. Não há diferença significativa (p >= 0.1).\n",
      "--------------------------------------------------\n"
     ]
    },
    {
     "data": {
      "text/html": [
       "<div>\n",
       "<style scoped>\n",
       "    .dataframe tbody tr th:only-of-type {\n",
       "        vertical-align: middle;\n",
       "    }\n",
       "\n",
       "    .dataframe tbody tr th {\n",
       "        vertical-align: top;\n",
       "    }\n",
       "\n",
       "    .dataframe thead th {\n",
       "        text-align: right;\n",
       "    }\n",
       "</style>\n",
       "<table border=\"1\" class=\"dataframe\">\n",
       "  <thead>\n",
       "    <tr style=\"text-align: right;\">\n",
       "      <th></th>\n",
       "      <th>246_vs_248 (Proporção Controle, Proporção Teste, Stat, P-Value)</th>\n",
       "      <th>247_vs_248 (Proporção Controle, Proporção Teste, Stat, P-Value)</th>\n",
       "      <th>Combinado_vs_248 (Proporção Controle, Proporção Teste, Stat, P-Value)</th>\n",
       "    </tr>\n",
       "  </thead>\n",
       "  <tbody>\n",
       "    <tr>\n",
       "      <th>MainScreenAppear</th>\n",
       "      <td>(98.67, 98.39, 0.8456, 0.3977)</td>\n",
       "      <td>(98.49, 98.39, 0.3013, 0.7632)</td>\n",
       "      <td>(98.58, 98.39, 0.664, 0.5067)</td>\n",
       "    </tr>\n",
       "    <tr>\n",
       "      <th>PaymentScreenSuccessful</th>\n",
       "      <td>(48.29, 46.62, 1.19, 0.234)</td>\n",
       "      <td>(46.03, 46.62, -0.4174, 0.6764)</td>\n",
       "      <td>(47.16, 46.62, 0.4429, 0.6578)</td>\n",
       "    </tr>\n",
       "    <tr>\n",
       "      <th>CartScreenAppear</th>\n",
       "      <td>(51.02, 48.74, 1.6195, 0.1053)</td>\n",
       "      <td>(49.21, 48.74, 0.331, 0.7406)</td>\n",
       "      <td>(50.11, 48.74, 1.1241, 0.261)</td>\n",
       "    </tr>\n",
       "    <tr>\n",
       "      <th>OffersScreenAppear</th>\n",
       "      <td>(62.07, 60.5, 1.1427, 0.2532)</td>\n",
       "      <td>(60.71, 60.5, 0.1534, 0.8781)</td>\n",
       "      <td>(61.39, 60.5, 0.7462, 0.4555)</td>\n",
       "    </tr>\n",
       "    <tr>\n",
       "      <th>Tutorial</th>\n",
       "      <td>(11.21, 11.09, 0.1303, 0.8963)</td>\n",
       "      <td>(11.35, 11.09, 0.2881, 0.7733)</td>\n",
       "      <td>(11.28, 11.09, 0.2421, 0.8087)</td>\n",
       "    </tr>\n",
       "  </tbody>\n",
       "</table>\n",
       "</div>"
      ],
      "text/plain": [
       "                        246_vs_248 (Proporção Controle, Proporção Teste, Stat, P-Value)  \\\n",
       "MainScreenAppear                            (98.67, 98.39, 0.8456, 0.3977)                \n",
       "PaymentScreenSuccessful                        (48.29, 46.62, 1.19, 0.234)                \n",
       "CartScreenAppear                            (51.02, 48.74, 1.6195, 0.1053)                \n",
       "OffersScreenAppear                           (62.07, 60.5, 1.1427, 0.2532)                \n",
       "Tutorial                                    (11.21, 11.09, 0.1303, 0.8963)                \n",
       "\n",
       "                        247_vs_248 (Proporção Controle, Proporção Teste, Stat, P-Value)  \\\n",
       "MainScreenAppear                            (98.49, 98.39, 0.3013, 0.7632)                \n",
       "PaymentScreenSuccessful                    (46.03, 46.62, -0.4174, 0.6764)                \n",
       "CartScreenAppear                             (49.21, 48.74, 0.331, 0.7406)                \n",
       "OffersScreenAppear                           (60.71, 60.5, 0.1534, 0.8781)                \n",
       "Tutorial                                    (11.35, 11.09, 0.2881, 0.7733)                \n",
       "\n",
       "                        Combinado_vs_248 (Proporção Controle, Proporção Teste, Stat, P-Value)  \n",
       "MainScreenAppear                             (98.58, 98.39, 0.664, 0.5067)                     \n",
       "PaymentScreenSuccessful                     (47.16, 46.62, 0.4429, 0.6578)                     \n",
       "CartScreenAppear                             (50.11, 48.74, 1.1241, 0.261)                     \n",
       "OffersScreenAppear                           (61.39, 60.5, 0.7462, 0.4555)                     \n",
       "Tutorial                                    (11.28, 11.09, 0.2421, 0.8087)                     "
      ]
     },
     "execution_count": 31,
     "metadata": {},
     "output_type": "execute_result"
    }
   ],
   "source": [
    "resultados = {} # Realizando os testes para cada evento\n",
    "\n",
    "for evento in logs_df[\"evento\"].unique():\n",
    "    resultados[evento] = {\n",
    "        \"246_vs_248\": verificar_diferenca_estatistica(evento, grupo_controle_246, grupo_teste_248),\n",
    "        \"247_vs_248\": verificar_diferenca_estatistica(evento, grupo_controle_247, grupo_teste_248),\n",
    "        \"combinado_vs_248\": verificar_diferenca_estatistica(evento, grupo_controle_combinado, grupo_teste_248)\n",
    "    }\n",
    "\n",
    "\n",
    "resultados_df = pd.DataFrame(resultados).T\n",
    "resultados_df.columns = [\"246_vs_248 (Proporção Controle, Proporção Teste, Stat, P-Value)\",\n",
    "                         \"247_vs_248 (Proporção Controle, Proporção Teste, Stat, P-Value)\",\n",
    "                         \"Combinado_vs_248 (Proporção Controle, Proporção Teste, Stat, P-Value)\"]\n",
    "\n",
    "resultados_df\n"
   ]
  },
  {
   "cell_type": "markdown",
   "metadata": {},
   "source": [
    "Nenhuma das comparações mostrou uma diferença estatisticamente significativa, o que sugere que o grupo de teste (248) e os grupos de controle (246 e 247) estão bem equilibrados para esses eventos. Isso indica que a alteração aplicada ao grupo de teste (alteração de fontes) não teve um impacto estatisticamente significativo no comportamento dos usuários em relação aos eventos analisados."
   ]
  },
  {
   "cell_type": "markdown",
   "metadata": {},
   "source": [
    "Com um nível de significância de 0,1, estamos ceitando uma probabilidade de 10% de cometer um erro do Tipo I (rejeitar a hipótese nula quando ela é verdadeira). Mesmo com este nível relativamente alto, não encontramos diferenças significativas. Se quisessemos ser mais conservador, poderia reduzir o nível de significância. Isso tornaria ainda menos provável a rejeição da hipótese nula, o que neste caso específico, não alteraria as conclusões, pois o p-value foi muito maior do que 0,1 em todos os casos."
   ]
  },
  {
   "cell_type": "code",
   "execution_count": 32,
   "metadata": {},
   "outputs": [
    {
     "name": "stdout",
     "output_type": "stream",
     "text": [
      "P-valores corrigidos (Bonferroni): [4.5207, 8.061168, 2.3473680000000003, 8.682948, 4.594164, 3.117588, 1.827696, 10.782624, 11.877156, 5.807844, 0.08410799999999999, 9.854616]\n",
      "\n",
      "\n",
      "Hipóteses nulas rejeitadas (Bonferroni): [False, False, False, False, False, False, False, False, False, False, False, False]\n"
     ]
    }
   ],
   "source": [
    "# P-valores originais dos testes;\n",
    "\n",
    "p_values = [0.376725, 0.671764, 0.195614, 0.723579, \n",
    "            0.382847, 0.259799, 0.152308, 0.898552, \n",
    "            0.989763, 0.483987, 0.007009, 0.821218]\n",
    "\n",
    "# Número de testes realizados;\n",
    "n_testes = len(p_values)\n",
    "\n",
    "# Nível de significância desejado (alpha);\n",
    "alpha = 0.05\n",
    "\n",
    "# Aplicar correção de Bonferroni;\n",
    "p_values_corrigidos = [p_val * n_testes for p_val in p_values]\n",
    "\n",
    "# Verificar quais hipóteses nulas são rejeitadas após a correção de Bonferroni;\n",
    "rejeitadas = [p_val < alpha for p_val in p_values_corrigidos]\n",
    "\n",
    "# Imprimir resultados;\n",
    "\n",
    "print(\"P-valores corrigidos (Bonferroni):\", p_values_corrigidos)\n",
    "print()\n",
    "print()\n",
    "print(\"Hipóteses nulas rejeitadas (Bonferroni):\", rejeitadas)"
   ]
  },
  {
   "cell_type": "code",
   "execution_count": 33,
   "metadata": {},
   "outputs": [
    {
     "data": {
      "text/html": [
       "<div>\n",
       "<style scoped>\n",
       "    .dataframe tbody tr th:only-of-type {\n",
       "        vertical-align: middle;\n",
       "    }\n",
       "\n",
       "    .dataframe tbody tr th {\n",
       "        vertical-align: top;\n",
       "    }\n",
       "\n",
       "    .dataframe thead th {\n",
       "        text-align: right;\n",
       "    }\n",
       "</style>\n",
       "<table border=\"1\" class=\"dataframe\">\n",
       "  <thead>\n",
       "    <tr style=\"text-align: right;\">\n",
       "      <th></th>\n",
       "      <th>user_id</th>\n",
       "      <th>exp_id</th>\n",
       "      <th>converted</th>\n",
       "    </tr>\n",
       "  </thead>\n",
       "  <tbody>\n",
       "    <tr>\n",
       "      <th>0</th>\n",
       "      <td>4575588528974610257</td>\n",
       "      <td>246</td>\n",
       "      <td>0.0</td>\n",
       "    </tr>\n",
       "    <tr>\n",
       "      <th>1</th>\n",
       "      <td>7416695313311560658</td>\n",
       "      <td>246</td>\n",
       "      <td>0.0</td>\n",
       "    </tr>\n",
       "    <tr>\n",
       "      <th>2</th>\n",
       "      <td>3518123091307005509</td>\n",
       "      <td>248</td>\n",
       "      <td>0.0</td>\n",
       "    </tr>\n",
       "    <tr>\n",
       "      <th>3</th>\n",
       "      <td>6217807653094995999</td>\n",
       "      <td>248</td>\n",
       "      <td>0.0</td>\n",
       "    </tr>\n",
       "    <tr>\n",
       "      <th>4</th>\n",
       "      <td>8351860793733343758</td>\n",
       "      <td>246</td>\n",
       "      <td>0.0</td>\n",
       "    </tr>\n",
       "    <tr>\n",
       "      <th>5</th>\n",
       "      <td>5682100281902512875</td>\n",
       "      <td>246</td>\n",
       "      <td>0.0</td>\n",
       "    </tr>\n",
       "    <tr>\n",
       "      <th>6</th>\n",
       "      <td>1850981295691852772</td>\n",
       "      <td>247</td>\n",
       "      <td>0.0</td>\n",
       "    </tr>\n",
       "    <tr>\n",
       "      <th>7</th>\n",
       "      <td>5407636962369102641</td>\n",
       "      <td>246</td>\n",
       "      <td>0.0</td>\n",
       "    </tr>\n",
       "    <tr>\n",
       "      <th>8</th>\n",
       "      <td>948465712512390382</td>\n",
       "      <td>247</td>\n",
       "      <td>0.0</td>\n",
       "    </tr>\n",
       "    <tr>\n",
       "      <th>9</th>\n",
       "      <td>2547684315586332355</td>\n",
       "      <td>248</td>\n",
       "      <td>0.0</td>\n",
       "    </tr>\n",
       "  </tbody>\n",
       "</table>\n",
       "</div>"
      ],
      "text/plain": [
       "               user_id exp_id  converted\n",
       "0  4575588528974610257    246        0.0\n",
       "1  7416695313311560658    246        0.0\n",
       "2  3518123091307005509    248        0.0\n",
       "3  6217807653094995999    248        0.0\n",
       "4  8351860793733343758    246        0.0\n",
       "5  5682100281902512875    246        0.0\n",
       "6  1850981295691852772    247        0.0\n",
       "7  5407636962369102641    246        0.0\n",
       "8   948465712512390382    247        0.0\n",
       "9  2547684315586332355    248        0.0"
      ]
     },
     "execution_count": 33,
     "metadata": {},
     "output_type": "execute_result"
    }
   ],
   "source": [
    "# Extrair usuários únicos e o grupo experimental ao qual pertencem\n",
    "conversions = logs_df[[\"user_id\", \"exp_id\"]].drop_duplicates()\n",
    "\n",
    "# Criar um DataFrame com usuários que realizaram o evento de \"click\" (ou qualquer outro evento de conversão que você esteja analisando)\n",
    "converted = pd.DataFrame({\n",
    "    \"user_id\": logs_df[logs_df[\"evento\"] == \"click\"][\"user_id\"].unique(),\n",
    "    \"converted\": 1\n",
    "})\n",
    "\n",
    "# Fazer um merge dos usuários com o indicador de conversão\n",
    "conversions = conversions.merge(converted, on=\"user_id\", how=\"left\")\n",
    "\n",
    "# Preencher valores NaN com 0 para usuários que não converteram\n",
    "conversions[\"converted\"] = conversions[\"converted\"].fillna(0)\n",
    "\n",
    "conversions.head(10)"
   ]
  },
  {
   "cell_type": "markdown",
   "metadata": {},
   "source": [
    "A coluna converted indica se o usuário completou a ação desejada (conversão). Nos dados apresentados, todos os usuários têm o valor 0.0, o que significa que nenhum deles converteu.\n",
    "A ausência de conversões pode indicar que a amostra específica fornecida é limitada ou que, para esses usuários em particular, a campanha ou alteração não foi eficaz em levar à conversão."
   ]
  },
  {
   "cell_type": "markdown",
   "metadata": {},
   "source": [
    "# Conclusões e Recomendações"
   ]
  },
  {
   "cell_type": "markdown",
   "metadata": {},
   "source": [
    "Dado que as alterações experimentais não mostraram melhorias estatisticamente significativas, recomendamos revisar as mudanças implementadas no grupo de teste (248) para entender por que não houve impacto e avaliar se vale a pena mantê-las ou revertê-las.\n",
    "\n",
    "Pode ser útil concentrar esforços em outras áreas do aplicativo, como otimização da experiência do usuário ou introdução de novas funcionalidades, que possam ter um impacto mais direto nas taxas de conversão.\n",
    "\n",
    "Este projeto forneceu uma visão detalhada sobre o comportamento dos usuários e a eficácia das mudanças implementadas no aplicativo. As conclusões baseadas em análises estatísticas robustas fornecem uma base sólida para a tomada de decisões informadas sobre o desenvolvimento futuro do aplicativo."
   ]
  }
 ],
 "metadata": {
  "ExecuteTimeLog": [
   {
    "duration": 5016,
    "start_time": "2024-08-01T19:05:25.210Z"
   },
   {
    "duration": 4,
    "start_time": "2024-08-01T19:09:33.562Z"
   },
   {
    "duration": 211,
    "start_time": "2024-08-01T19:10:29.853Z"
   },
   {
    "duration": 4,
    "start_time": "2024-08-01T19:11:06.141Z"
   },
   {
    "duration": 27,
    "start_time": "2024-08-01T19:11:24.565Z"
   },
   {
    "duration": 14,
    "start_time": "2024-08-01T19:11:33.653Z"
   },
   {
    "duration": 110,
    "start_time": "2024-08-01T19:15:59.714Z"
   },
   {
    "duration": 12,
    "start_time": "2024-08-01T19:16:03.230Z"
   },
   {
    "duration": 33,
    "start_time": "2024-08-01T19:16:38.202Z"
   },
   {
    "duration": 29,
    "start_time": "2024-08-01T19:18:51.662Z"
   },
   {
    "duration": 125,
    "start_time": "2024-08-01T19:18:54.959Z"
   },
   {
    "duration": 124,
    "start_time": "2024-08-01T19:53:53.989Z"
   },
   {
    "duration": 13,
    "start_time": "2024-08-01T19:57:22.188Z"
   },
   {
    "duration": 209,
    "start_time": "2024-08-01T19:58:16.795Z"
   },
   {
    "duration": 293,
    "start_time": "2024-08-01T20:01:54.324Z"
   },
   {
    "duration": 41,
    "start_time": "2024-08-01T20:16:57.130Z"
   },
   {
    "duration": 47,
    "start_time": "2024-08-01T20:17:07.165Z"
   },
   {
    "duration": 81,
    "start_time": "2024-08-01T20:19:21.527Z"
   },
   {
    "duration": 13,
    "start_time": "2024-08-01T20:19:22.416Z"
   },
   {
    "duration": 26,
    "start_time": "2024-08-01T20:19:26.588Z"
   },
   {
    "duration": 277,
    "start_time": "2024-08-01T20:32:15.549Z"
   },
   {
    "duration": 4,
    "start_time": "2024-08-01T20:32:24.681Z"
   },
   {
    "duration": 179,
    "start_time": "2024-08-01T20:32:24.689Z"
   },
   {
    "duration": 7,
    "start_time": "2024-08-01T20:32:24.871Z"
   },
   {
    "duration": 59,
    "start_time": "2024-08-01T20:32:24.883Z"
   },
   {
    "duration": 31,
    "start_time": "2024-08-01T20:32:24.947Z"
   },
   {
    "duration": 27,
    "start_time": "2024-08-01T20:32:24.981Z"
   },
   {
    "duration": 18,
    "start_time": "2024-08-01T20:32:25.011Z"
   },
   {
    "duration": 72,
    "start_time": "2024-08-01T20:32:25.032Z"
   },
   {
    "duration": 113,
    "start_time": "2024-08-01T20:32:25.107Z"
   },
   {
    "duration": 860,
    "start_time": "2024-08-01T20:32:25.223Z"
   },
   {
    "duration": 0,
    "start_time": "2024-08-01T20:32:26.086Z"
   },
   {
    "duration": 126,
    "start_time": "2024-08-01T20:32:47.766Z"
   },
   {
    "duration": 8,
    "start_time": "2024-08-01T20:37:55.788Z"
   },
   {
    "duration": 7,
    "start_time": "2024-08-01T20:38:38.365Z"
   },
   {
    "duration": 276,
    "start_time": "2024-08-01T20:40:05.958Z"
   },
   {
    "duration": 254,
    "start_time": "2024-08-01T20:40:17.405Z"
   },
   {
    "duration": 18,
    "start_time": "2024-08-01T20:41:22.038Z"
   },
   {
    "duration": 7,
    "start_time": "2024-08-01T20:43:18.300Z"
   },
   {
    "duration": 434,
    "start_time": "2024-08-01T20:43:19.444Z"
   },
   {
    "duration": 7,
    "start_time": "2024-08-01T20:49:12.328Z"
   },
   {
    "duration": 282,
    "start_time": "2024-08-01T20:49:12.930Z"
   },
   {
    "duration": 4831,
    "start_time": "2024-08-04T14:33:11.524Z"
   },
   {
    "duration": 210,
    "start_time": "2024-08-04T14:33:16.358Z"
   },
   {
    "duration": 7,
    "start_time": "2024-08-04T14:33:16.570Z"
   },
   {
    "duration": 71,
    "start_time": "2024-08-04T14:33:16.582Z"
   },
   {
    "duration": 22,
    "start_time": "2024-08-04T14:33:16.655Z"
   },
   {
    "duration": 49,
    "start_time": "2024-08-04T14:33:16.680Z"
   },
   {
    "duration": 17,
    "start_time": "2024-08-04T14:33:16.732Z"
   },
   {
    "duration": 112,
    "start_time": "2024-08-04T14:33:16.752Z"
   },
   {
    "duration": 136,
    "start_time": "2024-08-04T14:33:16.866Z"
   },
   {
    "duration": 42,
    "start_time": "2024-08-04T14:33:17.006Z"
   },
   {
    "duration": 8,
    "start_time": "2024-08-04T14:33:17.050Z"
   },
   {
    "duration": 298,
    "start_time": "2024-08-04T14:33:17.061Z"
   },
   {
    "duration": 26,
    "start_time": "2024-08-04T14:34:17.428Z"
   },
   {
    "duration": 89,
    "start_time": "2024-08-04T14:45:47.647Z"
   },
   {
    "duration": 21,
    "start_time": "2024-08-04T14:45:48.124Z"
   },
   {
    "duration": 35,
    "start_time": "2024-08-04T14:45:48.538Z"
   },
   {
    "duration": 26,
    "start_time": "2024-08-04T14:45:49.086Z"
   },
   {
    "duration": 102,
    "start_time": "2024-08-04T14:45:49.547Z"
   },
   {
    "duration": 123,
    "start_time": "2024-08-04T14:45:49.966Z"
   },
   {
    "duration": 39,
    "start_time": "2024-08-04T14:45:50.890Z"
   },
   {
    "duration": 35,
    "start_time": "2024-08-04T14:45:51.414Z"
   },
   {
    "duration": 245,
    "start_time": "2024-08-04T14:45:52.176Z"
   },
   {
    "duration": 273,
    "start_time": "2024-08-04T14:51:35.392Z"
   },
   {
    "duration": 270,
    "start_time": "2024-08-04T14:51:40.641Z"
   },
   {
    "duration": 253,
    "start_time": "2024-08-04T15:00:30.641Z"
   },
   {
    "duration": 756,
    "start_time": "2024-08-04T15:01:31.611Z"
   },
   {
    "duration": 865,
    "start_time": "2024-08-04T15:10:49.415Z"
   },
   {
    "duration": 80,
    "start_time": "2024-08-04T15:10:59.748Z"
   },
   {
    "duration": 25,
    "start_time": "2024-08-04T15:12:40.471Z"
   },
   {
    "duration": 312,
    "start_time": "2024-08-04T15:13:07.039Z"
   },
   {
    "duration": 323,
    "start_time": "2024-08-04T15:16:37.909Z"
   },
   {
    "duration": 27,
    "start_time": "2024-08-04T15:23:21.759Z"
   },
   {
    "duration": 20,
    "start_time": "2024-08-04T15:24:26.140Z"
   },
   {
    "duration": 348,
    "start_time": "2024-08-04T15:25:17.491Z"
   },
   {
    "duration": 12,
    "start_time": "2024-08-04T15:27:21.824Z"
   },
   {
    "duration": 13,
    "start_time": "2024-08-04T15:27:25.040Z"
   },
   {
    "duration": 4,
    "start_time": "2024-08-04T15:27:42.251Z"
   },
   {
    "duration": 169,
    "start_time": "2024-08-04T15:27:42.259Z"
   },
   {
    "duration": 11,
    "start_time": "2024-08-04T15:27:42.431Z"
   },
   {
    "duration": 4,
    "start_time": "2024-08-04T15:27:42.445Z"
   },
   {
    "duration": 118,
    "start_time": "2024-08-04T15:27:42.454Z"
   },
   {
    "duration": 17,
    "start_time": "2024-08-04T15:27:42.575Z"
   },
   {
    "duration": 51,
    "start_time": "2024-08-04T15:27:42.595Z"
   },
   {
    "duration": 34,
    "start_time": "2024-08-04T15:27:42.649Z"
   },
   {
    "duration": 127,
    "start_time": "2024-08-04T15:27:42.687Z"
   },
   {
    "duration": 132,
    "start_time": "2024-08-04T15:27:42.817Z"
   },
   {
    "duration": 36,
    "start_time": "2024-08-04T15:27:42.952Z"
   },
   {
    "duration": 51,
    "start_time": "2024-08-04T15:27:42.991Z"
   },
   {
    "duration": 283,
    "start_time": "2024-08-04T15:27:43.046Z"
   },
   {
    "duration": 327,
    "start_time": "2024-08-04T15:27:43.335Z"
   },
   {
    "duration": 20,
    "start_time": "2024-08-04T15:27:43.665Z"
   },
   {
    "duration": 205,
    "start_time": "2024-08-04T15:27:43.688Z"
   },
   {
    "duration": 13,
    "start_time": "2024-08-04T15:32:59.842Z"
   },
   {
    "duration": 34,
    "start_time": "2024-08-04T15:39:39.334Z"
   },
   {
    "duration": 31,
    "start_time": "2024-08-04T15:40:13.837Z"
   },
   {
    "duration": 64,
    "start_time": "2024-08-04T15:40:27.202Z"
   },
   {
    "duration": 76,
    "start_time": "2024-08-04T15:41:13.955Z"
   },
   {
    "duration": 68,
    "start_time": "2024-08-04T15:41:20.394Z"
   },
   {
    "duration": 25,
    "start_time": "2024-08-04T15:42:55.816Z"
   },
   {
    "duration": 190,
    "start_time": "2024-08-04T15:43:04.463Z"
   },
   {
    "duration": 81,
    "start_time": "2024-08-04T15:43:22.379Z"
   },
   {
    "duration": 79,
    "start_time": "2024-08-04T15:46:34.379Z"
   },
   {
    "duration": 77,
    "start_time": "2024-08-04T16:10:13.671Z"
   },
   {
    "duration": 76,
    "start_time": "2024-08-04T16:11:53.287Z"
   },
   {
    "duration": 97,
    "start_time": "2024-08-04T16:12:31.329Z"
   },
   {
    "duration": 82,
    "start_time": "2024-08-04T16:12:40.864Z"
   },
   {
    "duration": 139,
    "start_time": "2024-08-04T16:12:52.395Z"
   },
   {
    "duration": 64,
    "start_time": "2024-08-04T16:13:03.948Z"
   },
   {
    "duration": 76,
    "start_time": "2024-08-04T16:15:31.287Z"
   },
   {
    "duration": 11,
    "start_time": "2024-08-04T16:20:15.458Z"
   },
   {
    "duration": 119,
    "start_time": "2024-08-04T16:22:27.419Z"
   },
   {
    "duration": 497,
    "start_time": "2024-08-04T16:23:08.358Z"
   },
   {
    "duration": 2636,
    "start_time": "2024-08-05T17:43:16.199Z"
   },
   {
    "duration": 476,
    "start_time": "2024-08-05T17:43:18.841Z"
   },
   {
    "duration": 5,
    "start_time": "2024-08-05T17:43:19.320Z"
   },
   {
    "duration": 282,
    "start_time": "2024-08-05T17:43:19.330Z"
   },
   {
    "duration": 22,
    "start_time": "2024-08-05T17:43:19.617Z"
   },
   {
    "duration": 101,
    "start_time": "2024-08-05T17:43:19.643Z"
   },
   {
    "duration": 80,
    "start_time": "2024-08-05T17:43:19.748Z"
   },
   {
    "duration": 285,
    "start_time": "2024-08-05T17:43:19.831Z"
   },
   {
    "duration": 298,
    "start_time": "2024-08-05T17:43:20.120Z"
   },
   {
    "duration": 103,
    "start_time": "2024-08-05T17:43:20.426Z"
   },
   {
    "duration": 94,
    "start_time": "2024-08-05T17:43:20.532Z"
   },
   {
    "duration": 446,
    "start_time": "2024-08-05T17:43:20.629Z"
   },
   {
    "duration": 313,
    "start_time": "2024-08-05T17:43:21.078Z"
   },
   {
    "duration": 33,
    "start_time": "2024-08-05T17:43:21.397Z"
   },
   {
    "duration": 12,
    "start_time": "2024-08-05T17:43:21.434Z"
   },
   {
    "duration": 65,
    "start_time": "2024-08-05T17:43:21.449Z"
   },
   {
    "duration": 69,
    "start_time": "2024-08-05T17:43:21.518Z"
   },
   {
    "duration": 92,
    "start_time": "2024-08-05T17:43:21.590Z"
   },
   {
    "duration": 91,
    "start_time": "2024-08-05T17:43:21.685Z"
   },
   {
    "duration": 576,
    "start_time": "2024-08-05T17:43:21.779Z"
   },
   {
    "duration": 3,
    "start_time": "2024-08-05T17:44:58.745Z"
   },
   {
    "duration": 1261,
    "start_time": "2024-08-05T17:52:36.571Z"
   },
   {
    "duration": 67,
    "start_time": "2024-08-05T17:53:11.963Z"
   },
   {
    "duration": 66,
    "start_time": "2024-08-05T17:53:24.294Z"
   },
   {
    "duration": 337,
    "start_time": "2024-08-05T17:55:35.936Z"
   },
   {
    "duration": 42,
    "start_time": "2024-08-05T17:58:02.971Z"
   },
   {
    "duration": 9,
    "start_time": "2024-08-05T17:59:08.223Z"
   },
   {
    "duration": 7,
    "start_time": "2024-08-05T17:59:34.918Z"
   },
   {
    "duration": 46,
    "start_time": "2024-08-05T18:02:36.231Z"
   },
   {
    "duration": 106,
    "start_time": "2024-08-05T18:02:49.406Z"
   },
   {
    "duration": 91,
    "start_time": "2024-08-05T18:11:16.978Z"
   },
   {
    "duration": 114,
    "start_time": "2024-08-05T18:12:42.953Z"
   },
   {
    "duration": 69,
    "start_time": "2024-08-05T18:13:41.409Z"
   },
   {
    "duration": 49,
    "start_time": "2024-08-05T18:15:54.254Z"
   },
   {
    "duration": 94,
    "start_time": "2024-08-05T18:20:47.642Z"
   },
   {
    "duration": 360,
    "start_time": "2024-08-05T18:23:51.636Z"
   },
   {
    "duration": 77,
    "start_time": "2024-08-05T18:24:08.434Z"
   },
   {
    "duration": 78,
    "start_time": "2024-08-05T18:24:24.080Z"
   },
   {
    "duration": 78,
    "start_time": "2024-08-05T18:25:21.984Z"
   },
   {
    "duration": 68,
    "start_time": "2024-08-05T18:27:59.370Z"
   },
   {
    "duration": 13,
    "start_time": "2024-08-05T18:43:24.836Z"
   },
   {
    "duration": 173,
    "start_time": "2024-08-05T18:43:57.617Z"
   },
   {
    "duration": 4,
    "start_time": "2024-08-05T18:43:59.519Z"
   },
   {
    "duration": 90,
    "start_time": "2024-08-05T18:43:59.887Z"
   },
   {
    "duration": 16,
    "start_time": "2024-08-05T18:44:00.423Z"
   },
   {
    "duration": 33,
    "start_time": "2024-08-05T18:44:09.438Z"
   },
   {
    "duration": 5,
    "start_time": "2024-08-05T18:44:24.102Z"
   },
   {
    "duration": 190,
    "start_time": "2024-08-05T18:44:24.110Z"
   },
   {
    "duration": 9,
    "start_time": "2024-08-05T18:44:24.303Z"
   },
   {
    "duration": 106,
    "start_time": "2024-08-05T18:44:24.315Z"
   },
   {
    "duration": 17,
    "start_time": "2024-08-05T18:44:24.424Z"
   },
   {
    "duration": 34,
    "start_time": "2024-08-05T18:44:24.444Z"
   },
   {
    "duration": 55,
    "start_time": "2024-08-05T18:44:24.481Z"
   },
   {
    "duration": 116,
    "start_time": "2024-08-05T18:44:24.539Z"
   },
   {
    "duration": 125,
    "start_time": "2024-08-05T18:44:24.658Z"
   },
   {
    "duration": 39,
    "start_time": "2024-08-05T18:44:24.786Z"
   },
   {
    "duration": 35,
    "start_time": "2024-08-05T18:44:24.828Z"
   },
   {
    "duration": 306,
    "start_time": "2024-08-05T18:44:24.866Z"
   },
   {
    "duration": 312,
    "start_time": "2024-08-05T18:44:25.175Z"
   },
   {
    "duration": 33,
    "start_time": "2024-08-05T18:44:25.492Z"
   },
   {
    "duration": 12,
    "start_time": "2024-08-05T18:44:25.528Z"
   },
   {
    "duration": 30,
    "start_time": "2024-08-05T18:44:25.543Z"
   },
   {
    "duration": 95,
    "start_time": "2024-08-05T18:44:25.576Z"
   },
   {
    "duration": 84,
    "start_time": "2024-08-05T18:44:25.674Z"
   },
   {
    "duration": 85,
    "start_time": "2024-08-05T18:44:25.763Z"
   },
   {
    "duration": 497,
    "start_time": "2024-08-05T18:44:25.851Z"
   },
   {
    "duration": 79,
    "start_time": "2024-08-05T18:44:26.351Z"
   },
   {
    "duration": 39,
    "start_time": "2024-08-05T18:44:26.432Z"
   },
   {
    "duration": 73,
    "start_time": "2024-08-05T18:44:26.474Z"
   },
   {
    "duration": 26,
    "start_time": "2024-08-05T18:44:26.550Z"
   },
   {
    "duration": 0,
    "start_time": "2024-08-05T18:44:26.579Z"
   },
   {
    "duration": 10,
    "start_time": "2024-08-05T18:45:59.495Z"
   },
   {
    "duration": 20,
    "start_time": "2024-08-05T18:46:01.720Z"
   },
   {
    "duration": 43,
    "start_time": "2024-08-05T18:46:02.588Z"
   },
   {
    "duration": 4,
    "start_time": "2024-08-05T18:46:07.975Z"
   },
   {
    "duration": 169,
    "start_time": "2024-08-05T18:46:07.984Z"
   },
   {
    "duration": 4,
    "start_time": "2024-08-05T18:46:08.156Z"
   },
   {
    "duration": 112,
    "start_time": "2024-08-05T18:46:08.163Z"
   },
   {
    "duration": 11,
    "start_time": "2024-08-05T18:46:08.279Z"
   },
   {
    "duration": 34,
    "start_time": "2024-08-05T18:46:08.292Z"
   },
   {
    "duration": 42,
    "start_time": "2024-08-05T18:46:08.329Z"
   },
   {
    "duration": 61,
    "start_time": "2024-08-05T18:46:08.374Z"
   },
   {
    "duration": 132,
    "start_time": "2024-08-05T18:46:08.439Z"
   },
   {
    "duration": 154,
    "start_time": "2024-08-05T18:46:08.575Z"
   },
   {
    "duration": 37,
    "start_time": "2024-08-05T18:46:08.732Z"
   },
   {
    "duration": 57,
    "start_time": "2024-08-05T18:46:08.772Z"
   },
   {
    "duration": 290,
    "start_time": "2024-08-05T18:46:08.832Z"
   },
   {
    "duration": 317,
    "start_time": "2024-08-05T18:46:09.129Z"
   },
   {
    "duration": 20,
    "start_time": "2024-08-05T18:46:09.449Z"
   },
   {
    "duration": 47,
    "start_time": "2024-08-05T18:46:09.472Z"
   },
   {
    "duration": 31,
    "start_time": "2024-08-05T18:46:09.521Z"
   },
   {
    "duration": 87,
    "start_time": "2024-08-05T18:46:09.555Z"
   },
   {
    "duration": 79,
    "start_time": "2024-08-05T18:46:09.645Z"
   },
   {
    "duration": 88,
    "start_time": "2024-08-05T18:46:09.726Z"
   },
   {
    "duration": 504,
    "start_time": "2024-08-05T18:46:09.817Z"
   },
   {
    "duration": 70,
    "start_time": "2024-08-05T18:46:10.324Z"
   },
   {
    "duration": 48,
    "start_time": "2024-08-05T18:46:10.412Z"
   },
   {
    "duration": 83,
    "start_time": "2024-08-05T18:46:10.463Z"
   },
   {
    "duration": 71,
    "start_time": "2024-08-05T18:46:10.549Z"
   },
   {
    "duration": 0,
    "start_time": "2024-08-05T18:46:10.623Z"
   },
   {
    "duration": 26,
    "start_time": "2024-08-05T18:46:25.932Z"
   },
   {
    "duration": 5,
    "start_time": "2024-08-05T18:47:27.358Z"
   },
   {
    "duration": 4,
    "start_time": "2024-08-05T18:47:30.505Z"
   },
   {
    "duration": 191,
    "start_time": "2024-08-05T18:47:30.513Z"
   },
   {
    "duration": 6,
    "start_time": "2024-08-05T18:47:30.707Z"
   },
   {
    "duration": 107,
    "start_time": "2024-08-05T18:47:30.717Z"
   },
   {
    "duration": 12,
    "start_time": "2024-08-05T18:47:30.827Z"
   },
   {
    "duration": 18,
    "start_time": "2024-08-05T18:47:30.842Z"
   },
   {
    "duration": 78,
    "start_time": "2024-08-05T18:47:30.863Z"
   },
   {
    "duration": 43,
    "start_time": "2024-08-05T18:47:30.946Z"
   },
   {
    "duration": 136,
    "start_time": "2024-08-05T18:47:30.995Z"
   },
   {
    "duration": 142,
    "start_time": "2024-08-05T18:47:31.134Z"
   },
   {
    "duration": 49,
    "start_time": "2024-08-05T18:47:31.278Z"
   },
   {
    "duration": 36,
    "start_time": "2024-08-05T18:47:31.330Z"
   },
   {
    "duration": 301,
    "start_time": "2024-08-05T18:47:31.370Z"
   },
   {
    "duration": 320,
    "start_time": "2024-08-05T18:47:31.675Z"
   },
   {
    "duration": 31,
    "start_time": "2024-08-05T18:47:31.998Z"
   },
   {
    "duration": 23,
    "start_time": "2024-08-05T18:47:32.032Z"
   },
   {
    "duration": 59,
    "start_time": "2024-08-05T18:47:32.058Z"
   },
   {
    "duration": 62,
    "start_time": "2024-08-05T18:47:32.120Z"
   },
   {
    "duration": 90,
    "start_time": "2024-08-05T18:47:32.185Z"
   },
   {
    "duration": 95,
    "start_time": "2024-08-05T18:47:32.278Z"
   },
   {
    "duration": 497,
    "start_time": "2024-08-05T18:47:32.376Z"
   },
   {
    "duration": 80,
    "start_time": "2024-08-05T18:47:32.876Z"
   },
   {
    "duration": 75,
    "start_time": "2024-08-05T18:47:32.959Z"
   },
   {
    "duration": 71,
    "start_time": "2024-08-05T18:47:33.042Z"
   },
   {
    "duration": 61,
    "start_time": "2024-08-05T18:47:33.116Z"
   },
   {
    "duration": 0,
    "start_time": "2024-08-05T18:47:33.181Z"
   },
   {
    "duration": 8,
    "start_time": "2024-08-05T18:47:37.956Z"
   },
   {
    "duration": 11,
    "start_time": "2024-08-05T19:12:14.722Z"
   },
   {
    "duration": 17,
    "start_time": "2024-08-05T19:23:00.737Z"
   },
   {
    "duration": 6,
    "start_time": "2024-08-05T19:23:19.223Z"
   },
   {
    "duration": 14,
    "start_time": "2024-08-05T19:24:09.730Z"
   },
   {
    "duration": 5007,
    "start_time": "2024-08-06T17:08:32.773Z"
   },
   {
    "duration": 220,
    "start_time": "2024-08-06T17:08:37.784Z"
   },
   {
    "duration": 5,
    "start_time": "2024-08-06T17:08:38.007Z"
   },
   {
    "duration": 119,
    "start_time": "2024-08-06T17:08:38.017Z"
   },
   {
    "duration": 15,
    "start_time": "2024-08-06T17:08:38.139Z"
   },
   {
    "duration": 46,
    "start_time": "2024-08-06T17:08:38.157Z"
   },
   {
    "duration": 54,
    "start_time": "2024-08-06T17:08:38.207Z"
   },
   {
    "duration": 57,
    "start_time": "2024-08-06T17:08:38.265Z"
   },
   {
    "duration": 129,
    "start_time": "2024-08-06T17:08:38.326Z"
   },
   {
    "duration": 158,
    "start_time": "2024-08-06T17:08:38.462Z"
   },
   {
    "duration": 39,
    "start_time": "2024-08-06T17:08:38.623Z"
   },
   {
    "duration": 54,
    "start_time": "2024-08-06T17:08:38.665Z"
   },
   {
    "duration": 313,
    "start_time": "2024-08-06T17:08:38.722Z"
   },
   {
    "duration": 330,
    "start_time": "2024-08-06T17:08:39.039Z"
   },
   {
    "duration": 36,
    "start_time": "2024-08-06T17:08:39.373Z"
   },
   {
    "duration": 24,
    "start_time": "2024-08-06T17:08:39.412Z"
   },
   {
    "duration": 65,
    "start_time": "2024-08-06T17:08:39.439Z"
   },
   {
    "duration": 66,
    "start_time": "2024-08-06T17:08:39.508Z"
   },
   {
    "duration": 92,
    "start_time": "2024-08-06T17:08:39.577Z"
   },
   {
    "duration": 90,
    "start_time": "2024-08-06T17:08:39.672Z"
   },
   {
    "duration": 548,
    "start_time": "2024-08-06T17:08:39.765Z"
   },
   {
    "duration": 87,
    "start_time": "2024-08-06T17:08:40.316Z"
   },
   {
    "duration": 53,
    "start_time": "2024-08-06T17:08:40.406Z"
   },
   {
    "duration": 93,
    "start_time": "2024-08-06T17:08:40.462Z"
   },
   {
    "duration": 519,
    "start_time": "2024-08-06T17:08:40.558Z"
   },
   {
    "duration": 0,
    "start_time": "2024-08-06T17:08:41.080Z"
   },
   {
    "duration": 0,
    "start_time": "2024-08-06T17:08:41.082Z"
   },
   {
    "duration": 0,
    "start_time": "2024-08-06T17:08:41.084Z"
   },
   {
    "duration": 0,
    "start_time": "2024-08-06T17:08:41.102Z"
   },
   {
    "duration": 0,
    "start_time": "2024-08-06T17:08:41.104Z"
   },
   {
    "duration": 114,
    "start_time": "2024-08-06T17:11:41.249Z"
   },
   {
    "duration": 8,
    "start_time": "2024-08-06T17:11:45.524Z"
   },
   {
    "duration": 9,
    "start_time": "2024-08-06T17:11:46.656Z"
   },
   {
    "duration": 6,
    "start_time": "2024-08-06T17:11:47.373Z"
   },
   {
    "duration": 14,
    "start_time": "2024-08-06T17:11:48.223Z"
   },
   {
    "duration": 5,
    "start_time": "2024-08-06T17:11:55.537Z"
   },
   {
    "duration": 14,
    "start_time": "2024-08-06T17:14:32.693Z"
   },
   {
    "duration": 9,
    "start_time": "2024-08-06T17:14:44.599Z"
   },
   {
    "duration": 6,
    "start_time": "2024-08-06T17:15:16.199Z"
   },
   {
    "duration": 11,
    "start_time": "2024-08-06T17:15:57.641Z"
   },
   {
    "duration": 7,
    "start_time": "2024-08-06T17:16:21.202Z"
   },
   {
    "duration": 31,
    "start_time": "2024-08-06T17:20:56.603Z"
   },
   {
    "duration": 108,
    "start_time": "2024-08-06T17:21:53.734Z"
   },
   {
    "duration": 88,
    "start_time": "2024-08-06T17:22:08.851Z"
   },
   {
    "duration": 18,
    "start_time": "2024-08-06T17:22:26.694Z"
   },
   {
    "duration": 7,
    "start_time": "2024-08-06T17:34:26.170Z"
   },
   {
    "duration": 7,
    "start_time": "2024-08-06T17:34:27.585Z"
   },
   {
    "duration": 100,
    "start_time": "2024-08-06T17:34:28.221Z"
   },
   {
    "duration": 430,
    "start_time": "2024-08-06T17:34:29.004Z"
   },
   {
    "duration": 11,
    "start_time": "2024-08-06T17:39:38.570Z"
   },
   {
    "duration": 103,
    "start_time": "2024-08-06T17:39:38.928Z"
   },
   {
    "duration": 7,
    "start_time": "2024-08-06T17:39:45.582Z"
   },
   {
    "duration": 100,
    "start_time": "2024-08-06T17:39:47.365Z"
   },
   {
    "duration": 430,
    "start_time": "2024-08-06T17:39:47.549Z"
   },
   {
    "duration": 423,
    "start_time": "2024-08-06T17:40:29.803Z"
   },
   {
    "duration": 64,
    "start_time": "2024-08-06T17:40:41.160Z"
   },
   {
    "duration": 4,
    "start_time": "2024-08-06T18:31:23.073Z"
   },
   {
    "duration": 5,
    "start_time": "2024-08-06T18:31:28.394Z"
   },
   {
    "duration": 1347,
    "start_time": "2024-08-06T18:31:38.971Z"
   },
   {
    "duration": 210,
    "start_time": "2024-08-06T18:31:40.323Z"
   },
   {
    "duration": 5,
    "start_time": "2024-08-06T18:31:40.536Z"
   },
   {
    "duration": 117,
    "start_time": "2024-08-06T18:31:40.544Z"
   },
   {
    "duration": 13,
    "start_time": "2024-08-06T18:31:40.665Z"
   },
   {
    "duration": 38,
    "start_time": "2024-08-06T18:31:40.683Z"
   },
   {
    "duration": 50,
    "start_time": "2024-08-06T18:31:40.725Z"
   },
   {
    "duration": 37,
    "start_time": "2024-08-06T18:31:40.801Z"
   },
   {
    "duration": 171,
    "start_time": "2024-08-06T18:31:40.842Z"
   },
   {
    "duration": 182,
    "start_time": "2024-08-06T18:31:41.016Z"
   },
   {
    "duration": 53,
    "start_time": "2024-08-06T18:31:41.203Z"
   },
   {
    "duration": 68,
    "start_time": "2024-08-06T18:31:41.258Z"
   },
   {
    "duration": 374,
    "start_time": "2024-08-06T18:31:41.330Z"
   },
   {
    "duration": 338,
    "start_time": "2024-08-06T18:31:41.711Z"
   },
   {
    "duration": 24,
    "start_time": "2024-08-06T18:31:42.054Z"
   },
   {
    "duration": 23,
    "start_time": "2024-08-06T18:31:42.101Z"
   },
   {
    "duration": 32,
    "start_time": "2024-08-06T18:31:42.127Z"
   },
   {
    "duration": 95,
    "start_time": "2024-08-06T18:31:42.162Z"
   },
   {
    "duration": 88,
    "start_time": "2024-08-06T18:31:42.259Z"
   },
   {
    "duration": 92,
    "start_time": "2024-08-06T18:31:42.351Z"
   },
   {
    "duration": 703,
    "start_time": "2024-08-06T18:31:42.446Z"
   },
   {
    "duration": 84,
    "start_time": "2024-08-06T18:31:43.152Z"
   },
   {
    "duration": 68,
    "start_time": "2024-08-06T18:31:43.240Z"
   },
   {
    "duration": 30,
    "start_time": "2024-08-06T18:31:43.315Z"
   },
   {
    "duration": 100,
    "start_time": "2024-08-06T18:31:43.348Z"
   },
   {
    "duration": 10,
    "start_time": "2024-08-06T18:31:43.451Z"
   },
   {
    "duration": 8,
    "start_time": "2024-08-06T18:31:43.464Z"
   },
   {
    "duration": 100,
    "start_time": "2024-08-06T18:31:43.503Z"
   },
   {
    "duration": 439,
    "start_time": "2024-08-06T18:31:43.606Z"
   },
   {
    "duration": 80,
    "start_time": "2024-08-06T18:31:44.048Z"
   },
   {
    "duration": 4,
    "start_time": "2024-08-06T18:31:44.132Z"
   },
   {
    "duration": 45,
    "start_time": "2024-08-06T19:59:06.402Z"
   },
   {
    "duration": 7,
    "start_time": "2024-08-06T20:14:38.226Z"
   },
   {
    "duration": 4831,
    "start_time": "2024-08-07T09:02:52.553Z"
   },
   {
    "duration": 229,
    "start_time": "2024-08-07T09:02:57.388Z"
   },
   {
    "duration": 5,
    "start_time": "2024-08-07T09:02:57.620Z"
   },
   {
    "duration": 117,
    "start_time": "2024-08-07T09:02:57.630Z"
   },
   {
    "duration": 16,
    "start_time": "2024-08-07T09:02:57.749Z"
   },
   {
    "duration": 42,
    "start_time": "2024-08-07T09:02:57.768Z"
   },
   {
    "duration": 46,
    "start_time": "2024-08-07T09:02:57.814Z"
   },
   {
    "duration": 68,
    "start_time": "2024-08-07T09:02:57.863Z"
   },
   {
    "duration": 137,
    "start_time": "2024-08-07T09:02:57.935Z"
   },
   {
    "duration": 156,
    "start_time": "2024-08-07T09:02:58.078Z"
   },
   {
    "duration": 42,
    "start_time": "2024-08-07T09:02:58.237Z"
   },
   {
    "duration": 54,
    "start_time": "2024-08-07T09:02:58.282Z"
   },
   {
    "duration": 327,
    "start_time": "2024-08-07T09:02:58.339Z"
   },
   {
    "duration": 323,
    "start_time": "2024-08-07T09:02:58.669Z"
   },
   {
    "duration": 23,
    "start_time": "2024-08-07T09:02:59.006Z"
   },
   {
    "duration": 29,
    "start_time": "2024-08-07T09:02:59.032Z"
   },
   {
    "duration": 59,
    "start_time": "2024-08-07T09:02:59.063Z"
   },
   {
    "duration": 82,
    "start_time": "2024-08-07T09:02:59.125Z"
   },
   {
    "duration": 71,
    "start_time": "2024-08-07T09:02:59.210Z"
   },
   {
    "duration": 98,
    "start_time": "2024-08-07T09:02:59.284Z"
   },
   {
    "duration": 524,
    "start_time": "2024-08-07T09:02:59.385Z"
   },
   {
    "duration": 71,
    "start_time": "2024-08-07T09:02:59.913Z"
   },
   {
    "duration": 67,
    "start_time": "2024-08-07T09:02:59.987Z"
   },
   {
    "duration": 29,
    "start_time": "2024-08-07T09:03:00.057Z"
   },
   {
    "duration": 78,
    "start_time": "2024-08-07T09:03:00.108Z"
   },
   {
    "duration": 24,
    "start_time": "2024-08-07T09:03:00.189Z"
   },
   {
    "duration": 8,
    "start_time": "2024-08-07T09:03:00.216Z"
   },
   {
    "duration": 119,
    "start_time": "2024-08-07T09:03:00.231Z"
   },
   {
    "duration": 431,
    "start_time": "2024-08-07T09:03:00.352Z"
   },
   {
    "duration": 76,
    "start_time": "2024-08-07T09:03:00.786Z"
   },
   {
    "duration": 1384,
    "start_time": "2024-08-07T09:09:41.864Z"
   },
   {
    "duration": 184,
    "start_time": "2024-08-07T09:12:15.078Z"
   },
   {
    "duration": 89,
    "start_time": "2024-08-07T09:13:15.477Z"
   },
   {
    "duration": 91,
    "start_time": "2024-08-07T09:13:16.620Z"
   },
   {
    "duration": 403,
    "start_time": "2024-08-07T09:13:17.135Z"
   },
   {
    "duration": 62,
    "start_time": "2024-08-07T09:13:21.197Z"
   },
   {
    "duration": 8,
    "start_time": "2024-08-07T09:17:29.261Z"
   },
   {
    "duration": 9,
    "start_time": "2024-08-07T09:17:38.086Z"
   },
   {
    "duration": 14,
    "start_time": "2024-08-07T09:18:10.048Z"
   },
   {
    "duration": 38,
    "start_time": "2024-08-07T09:18:34.002Z"
   },
   {
    "duration": 42,
    "start_time": "2024-08-07T09:19:36.789Z"
   },
   {
    "duration": 54,
    "start_time": "2024-08-07T10:27:49.470Z"
   },
   {
    "duration": 9,
    "start_time": "2024-08-07T10:36:56.137Z"
   },
   {
    "duration": 7,
    "start_time": "2024-08-07T10:37:17.990Z"
   },
   {
    "duration": 7,
    "start_time": "2024-08-07T10:37:52.867Z"
   },
   {
    "duration": 6,
    "start_time": "2024-08-07T10:38:04.713Z"
   },
   {
    "duration": 14,
    "start_time": "2024-08-07T10:38:44.893Z"
   },
   {
    "duration": 29,
    "start_time": "2024-08-07T10:57:48.656Z"
   },
   {
    "duration": 69,
    "start_time": "2024-08-07T10:57:59.434Z"
   },
   {
    "duration": 46,
    "start_time": "2024-08-07T10:58:26.205Z"
   },
   {
    "duration": 9,
    "start_time": "2024-08-07T11:18:18.664Z"
   },
   {
    "duration": 10,
    "start_time": "2024-08-07T11:18:22.718Z"
   },
   {
    "duration": 4,
    "start_time": "2024-08-07T11:18:33.016Z"
   },
   {
    "duration": 202,
    "start_time": "2024-08-07T11:18:33.026Z"
   },
   {
    "duration": 4,
    "start_time": "2024-08-07T11:18:33.231Z"
   },
   {
    "duration": 107,
    "start_time": "2024-08-07T11:18:33.237Z"
   },
   {
    "duration": 10,
    "start_time": "2024-08-07T11:18:33.349Z"
   },
   {
    "duration": 17,
    "start_time": "2024-08-07T11:18:33.362Z"
   },
   {
    "duration": 43,
    "start_time": "2024-08-07T11:18:33.407Z"
   },
   {
    "duration": 57,
    "start_time": "2024-08-07T11:18:33.453Z"
   },
   {
    "duration": 121,
    "start_time": "2024-08-07T11:18:33.513Z"
   },
   {
    "duration": 144,
    "start_time": "2024-08-07T11:18:33.638Z"
   },
   {
    "duration": 45,
    "start_time": "2024-08-07T11:18:33.785Z"
   },
   {
    "duration": 36,
    "start_time": "2024-08-07T11:18:33.833Z"
   },
   {
    "duration": 303,
    "start_time": "2024-08-07T11:18:33.872Z"
   },
   {
    "duration": 331,
    "start_time": "2024-08-07T11:18:34.182Z"
   },
   {
    "duration": 20,
    "start_time": "2024-08-07T11:18:34.515Z"
   },
   {
    "duration": 22,
    "start_time": "2024-08-07T11:18:34.538Z"
   },
   {
    "duration": 59,
    "start_time": "2024-08-07T11:18:34.563Z"
   },
   {
    "duration": 82,
    "start_time": "2024-08-07T11:18:34.625Z"
   },
   {
    "duration": 69,
    "start_time": "2024-08-07T11:18:34.710Z"
   },
   {
    "duration": 90,
    "start_time": "2024-08-07T11:18:34.782Z"
   },
   {
    "duration": 495,
    "start_time": "2024-08-07T11:18:34.875Z"
   },
   {
    "duration": 78,
    "start_time": "2024-08-07T11:18:35.373Z"
   },
   {
    "duration": 69,
    "start_time": "2024-08-07T11:18:35.454Z"
   },
   {
    "duration": 30,
    "start_time": "2024-08-07T11:18:35.526Z"
   },
   {
    "duration": 100,
    "start_time": "2024-08-07T11:18:35.559Z"
   },
   {
    "duration": 9,
    "start_time": "2024-08-07T11:18:35.662Z"
   },
   {
    "duration": 31,
    "start_time": "2024-08-07T11:18:35.675Z"
   },
   {
    "duration": 12,
    "start_time": "2024-08-07T11:18:35.709Z"
   },
   {
    "duration": 12,
    "start_time": "2024-08-07T11:18:35.725Z"
   },
   {
    "duration": 119,
    "start_time": "2024-08-07T11:18:35.740Z"
   },
   {
    "duration": 444,
    "start_time": "2024-08-07T11:18:35.861Z"
   },
   {
    "duration": 68,
    "start_time": "2024-08-07T11:18:36.307Z"
   },
   {
    "duration": 4877,
    "start_time": "2024-08-07T15:54:20.004Z"
   },
   {
    "duration": 212,
    "start_time": "2024-08-07T15:54:24.886Z"
   },
   {
    "duration": 6,
    "start_time": "2024-08-07T15:54:25.100Z"
   },
   {
    "duration": 106,
    "start_time": "2024-08-07T15:54:25.110Z"
   },
   {
    "duration": 12,
    "start_time": "2024-08-07T15:54:25.220Z"
   },
   {
    "duration": 21,
    "start_time": "2024-08-07T15:54:25.237Z"
   },
   {
    "duration": 72,
    "start_time": "2024-08-07T15:54:25.262Z"
   },
   {
    "duration": 36,
    "start_time": "2024-08-07T15:54:25.337Z"
   },
   {
    "duration": 141,
    "start_time": "2024-08-07T15:54:25.376Z"
   },
   {
    "duration": 153,
    "start_time": "2024-08-07T15:54:25.520Z"
   },
   {
    "duration": 47,
    "start_time": "2024-08-07T15:54:25.676Z"
   },
   {
    "duration": 36,
    "start_time": "2024-08-07T15:54:25.726Z"
   },
   {
    "duration": 323,
    "start_time": "2024-08-07T15:54:25.764Z"
   },
   {
    "duration": 332,
    "start_time": "2024-08-07T15:54:26.108Z"
   },
   {
    "duration": 22,
    "start_time": "2024-08-07T15:54:26.443Z"
   },
   {
    "duration": 44,
    "start_time": "2024-08-07T15:54:26.468Z"
   },
   {
    "duration": 33,
    "start_time": "2024-08-07T15:54:26.515Z"
   },
   {
    "duration": 96,
    "start_time": "2024-08-07T15:54:26.551Z"
   },
   {
    "duration": 77,
    "start_time": "2024-08-07T15:54:26.650Z"
   },
   {
    "duration": 91,
    "start_time": "2024-08-07T15:54:26.731Z"
   },
   {
    "duration": 527,
    "start_time": "2024-08-07T15:54:26.826Z"
   },
   {
    "duration": 79,
    "start_time": "2024-08-07T15:54:27.356Z"
   },
   {
    "duration": 51,
    "start_time": "2024-08-07T15:54:27.440Z"
   },
   {
    "duration": 29,
    "start_time": "2024-08-07T15:54:27.506Z"
   },
   {
    "duration": 98,
    "start_time": "2024-08-07T15:54:27.538Z"
   },
   {
    "duration": 8,
    "start_time": "2024-08-07T15:54:27.639Z"
   },
   {
    "duration": 6,
    "start_time": "2024-08-07T15:54:27.650Z"
   },
   {
    "duration": 46,
    "start_time": "2024-08-07T15:54:27.660Z"
   },
   {
    "duration": 74,
    "start_time": "2024-08-07T15:54:27.709Z"
   },
   {
    "duration": 109,
    "start_time": "2024-08-07T15:54:27.787Z"
   },
   {
    "duration": 427,
    "start_time": "2024-08-07T15:54:27.906Z"
   },
   {
    "duration": 82,
    "start_time": "2024-08-07T15:54:28.336Z"
   },
   {
    "duration": 14,
    "start_time": "2024-08-13T17:02:28.407Z"
   },
   {
    "duration": 6,
    "start_time": "2024-08-13T17:03:07.975Z"
   },
   {
    "duration": 7,
    "start_time": "2024-08-13T17:17:29.232Z"
   },
   {
    "duration": 4826,
    "start_time": "2024-08-13T17:17:44.661Z"
   },
   {
    "duration": 211,
    "start_time": "2024-08-13T17:17:49.491Z"
   },
   {
    "duration": 4,
    "start_time": "2024-08-13T17:17:49.705Z"
   },
   {
    "duration": 104,
    "start_time": "2024-08-13T17:17:49.713Z"
   },
   {
    "duration": 21,
    "start_time": "2024-08-13T17:17:49.819Z"
   },
   {
    "duration": 22,
    "start_time": "2024-08-13T17:17:49.843Z"
   },
   {
    "duration": 72,
    "start_time": "2024-08-13T17:17:49.868Z"
   },
   {
    "duration": 36,
    "start_time": "2024-08-13T17:17:49.943Z"
   },
   {
    "duration": 150,
    "start_time": "2024-08-13T17:17:49.982Z"
   },
   {
    "duration": 157,
    "start_time": "2024-08-13T17:17:50.138Z"
   },
   {
    "duration": 47,
    "start_time": "2024-08-13T17:17:50.298Z"
   },
   {
    "duration": 35,
    "start_time": "2024-08-13T17:17:50.348Z"
   },
   {
    "duration": 312,
    "start_time": "2024-08-13T17:17:50.386Z"
   },
   {
    "duration": 315,
    "start_time": "2024-08-13T17:17:50.701Z"
   },
   {
    "duration": 30,
    "start_time": "2024-08-13T17:17:51.019Z"
   },
   {
    "duration": 24,
    "start_time": "2024-08-13T17:17:51.052Z"
   },
   {
    "duration": 66,
    "start_time": "2024-08-13T17:17:51.079Z"
   },
   {
    "duration": 64,
    "start_time": "2024-08-13T17:17:51.149Z"
   },
   {
    "duration": 70,
    "start_time": "2024-08-13T17:17:51.230Z"
   },
   {
    "duration": 85,
    "start_time": "2024-08-13T17:17:51.303Z"
   },
   {
    "duration": 517,
    "start_time": "2024-08-13T17:17:51.392Z"
   },
   {
    "duration": 73,
    "start_time": "2024-08-13T17:17:51.913Z"
   },
   {
    "duration": 75,
    "start_time": "2024-08-13T17:17:51.989Z"
   },
   {
    "duration": 28,
    "start_time": "2024-08-13T17:17:52.067Z"
   },
   {
    "duration": 101,
    "start_time": "2024-08-13T17:17:52.098Z"
   },
   {
    "duration": 8,
    "start_time": "2024-08-13T17:17:52.202Z"
   },
   {
    "duration": 8,
    "start_time": "2024-08-13T17:17:52.233Z"
   },
   {
    "duration": 13,
    "start_time": "2024-08-13T17:17:52.249Z"
   },
   {
    "duration": 10,
    "start_time": "2024-08-13T17:17:52.265Z"
   },
   {
    "duration": 128,
    "start_time": "2024-08-13T17:17:52.278Z"
   },
   {
    "duration": 425,
    "start_time": "2024-08-13T17:17:52.409Z"
   },
   {
    "duration": 11,
    "start_time": "2024-08-13T17:17:52.839Z"
   },
   {
    "duration": 88,
    "start_time": "2024-08-13T17:17:52.854Z"
   }
  ],
  "kernelspec": {
   "display_name": "Python 3 (ipykernel)",
   "language": "python",
   "name": "python3"
  },
  "language_info": {
   "codemirror_mode": {
    "name": "ipython",
    "version": 3
   },
   "file_extension": ".py",
   "mimetype": "text/x-python",
   "name": "python",
   "nbconvert_exporter": "python",
   "pygments_lexer": "ipython3",
   "version": "3.9.19"
  },
  "toc": {
   "base_numbering": 1,
   "nav_menu": {},
   "number_sections": true,
   "sideBar": true,
   "skip_h1_title": true,
   "title_cell": "Table of Contents",
   "title_sidebar": "Contents",
   "toc_cell": false,
   "toc_position": {},
   "toc_section_display": true,
   "toc_window_display": false
  }
 },
 "nbformat": 4,
 "nbformat_minor": 2
}
